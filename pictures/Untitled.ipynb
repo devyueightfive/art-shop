{
 "cells": [
  {
   "cell_type": "code",
   "execution_count": 1,
   "id": "db7d9222",
   "metadata": {},
   "outputs": [],
   "source": [
    "from PIL import Image\n",
    "import os\n",
    "import re\n",
    "import csv\n",
    "\n",
    "from tqdm import tqdm\n",
    "\n",
    "from pprint import pprint"
   ]
  },
  {
   "cell_type": "markdown",
   "id": "7b64c0f7",
   "metadata": {},
   "source": [
    "# WEBP"
   ]
  },
  {
   "cell_type": "markdown",
   "id": "0fa0ab45",
   "metadata": {},
   "source": [
    "Convert pictures to .webp"
   ]
  },
  {
   "cell_type": "markdown",
   "id": "c5a6c560",
   "metadata": {},
   "source": [
    "!pip install pillow"
   ]
  },
  {
   "cell_type": "code",
   "execution_count": 2,
   "id": "ce68b388",
   "metadata": {},
   "outputs": [
    {
     "name": "stdout",
     "output_type": "stream",
     "text": [
      "Name: pillow\r\n",
      "Version: 11.0.0\r\n",
      "Summary: Python Imaging Library (Fork)\r\n",
      "Home-page: \r\n",
      "Author: \r\n",
      "Author-email: \"Jeffrey A. Clark\" <aclark@aclark.net>\r\n",
      "License: MIT-CMU\r\n",
      "Location: /home/maestro/miniconda3/lib/python3.11/site-packages\r\n",
      "Requires: \r\n",
      "Required-by: \r\n"
     ]
    }
   ],
   "source": [
    "!pip show pillow"
   ]
  },
  {
   "cell_type": "code",
   "execution_count": 3,
   "id": "735fe42d",
   "metadata": {},
   "outputs": [
    {
     "name": "stderr",
     "output_type": "stream",
     "text": [
      "  0%|                                           | 1/358 [00:00<04:38,  1.28it/s]"
     ]
    },
    {
     "name": "stdout",
     "output_type": "stream",
     "text": [
      "Converted and resized: Дождливые облака_2014_Бум_акв_70х100 (3).jpg -> ./webp/Дождливые облака_2014_Бум_акв_70х100 (3).webp\n"
     ]
    },
    {
     "name": "stderr",
     "output_type": "stream",
     "text": [
      "\r",
      "  1%|▏                                          | 2/358 [00:01<03:58,  1.49it/s]"
     ]
    },
    {
     "name": "stdout",
     "output_type": "stream",
     "text": [
      "Converted and resized: Море и небо_2017_Бум_акв_70х100 (1).jpg -> ./webp/Море и небо_2017_Бум_акв_70х100 (1).webp\n"
     ]
    },
    {
     "name": "stderr",
     "output_type": "stream",
     "text": [
      "\r",
      "  1%|▎                                          | 3/358 [00:02<03:52,  1.52it/s]"
     ]
    },
    {
     "name": "stdout",
     "output_type": "stream",
     "text": [
      "Converted and resized: Ямал_Иван чай_2023_Бум_акв_70х100 (2).jpg -> ./webp/Ямал_Иван чай_2023_Бум_акв_70х100 (2).webp\n"
     ]
    },
    {
     "name": "stderr",
     "output_type": "stream",
     "text": [
      "\r",
      "  1%|▍                                          | 4/358 [00:02<03:21,  1.75it/s]"
     ]
    },
    {
     "name": "stdout",
     "output_type": "stream",
     "text": [
      "Converted and resized: Ямал. Долина реки Лангота_2013_Бум_акв_70х150 (2).jpg -> ./webp/Ямал. Долина реки Лангота_2013_Бум_акв_70х150 (2).webp\n"
     ]
    },
    {
     "name": "stderr",
     "output_type": "stream",
     "text": [
      "\r",
      "  1%|▌                                          | 5/358 [00:03<03:27,  1.70it/s]"
     ]
    },
    {
     "name": "stdout",
     "output_type": "stream",
     "text": [
      "Converted and resized: Белое море_Рыбацкий остров_2006_Бум_акв_52х86 (3).jpg -> ./webp/Белое море_Рыбацкий остров_2006_Бум_акв_52х86 (3).webp\n"
     ]
    },
    {
     "name": "stderr",
     "output_type": "stream",
     "text": [
      "\r",
      "  2%|▋                                          | 6/358 [00:03<03:25,  1.71it/s]"
     ]
    },
    {
     "name": "stdout",
     "output_type": "stream",
     "text": [
      "Converted and resized: Просторы Белого моря_Кузова_2015_Бум_акв_100х280 (4).jpg -> ./webp/Просторы Белого моря_Кузова_2015_Бум_акв_100х280 (4).webp\n"
     ]
    },
    {
     "name": "stderr",
     "output_type": "stream",
     "text": [
      "\r",
      "  2%|▊                                          | 7/358 [00:04<03:22,  1.74it/s]"
     ]
    },
    {
     "name": "stdout",
     "output_type": "stream",
     "text": [
      "Converted and resized: Ямал_Золотая осень_2009_Бум_акв_70х100 (1).jpg -> ./webp/Ямал_Золотая осень_2009_Бум_акв_70х100 (1).webp\n"
     ]
    },
    {
     "name": "stderr",
     "output_type": "stream",
     "text": [
      "\r",
      "  2%|▉                                          | 8/358 [00:04<03:28,  1.68it/s]"
     ]
    },
    {
     "name": "stdout",
     "output_type": "stream",
     "text": [
      "Converted and resized: На Белом море_Зима уходит_2007_Бум_акв_61х85 (1).jpg -> ./webp/На Белом море_Зима уходит_2007_Бум_акв_61х85 (1).webp\n"
     ]
    },
    {
     "name": "stderr",
     "output_type": "stream",
     "text": [
      "\r",
      "  3%|█                                          | 9/358 [00:05<03:30,  1.66it/s]"
     ]
    },
    {
     "name": "stdout",
     "output_type": "stream",
     "text": [
      "Converted and resized: На закате_2009_Бум_акв_70х100 (2).jpg -> ./webp/На закате_2009_Бум_акв_70х100 (2).webp\n"
     ]
    },
    {
     "name": "stderr",
     "output_type": "stream",
     "text": [
      "\r",
      "  3%|█▏                                        | 10/358 [00:06<03:24,  1.70it/s]"
     ]
    },
    {
     "name": "stdout",
     "output_type": "stream",
     "text": [
      "Converted and resized: Полярный Урал_Долина реки Собь_2009_Бум_акв_70х100 (4).jpg -> ./webp/Полярный Урал_Долина реки Собь_2009_Бум_акв_70х100 (4).webp\n"
     ]
    },
    {
     "name": "stderr",
     "output_type": "stream",
     "text": [
      "\r",
      "  3%|█▎                                        | 11/358 [00:06<03:19,  1.74it/s]"
     ]
    },
    {
     "name": "stdout",
     "output_type": "stream",
     "text": [
      "Converted and resized: Дождливый день_Карелия_2009_Бум_акв_60х86 (1).jpg -> ./webp/Дождливый день_Карелия_2009_Бум_акв_60х86 (1).webp\n"
     ]
    },
    {
     "name": "stderr",
     "output_type": "stream",
     "text": [
      "\r",
      "  3%|█▍                                        | 12/358 [00:07<03:08,  1.84it/s]"
     ]
    },
    {
     "name": "stdout",
     "output_type": "stream",
     "text": [
      "Converted and resized: Речной порт в Салехарде_2012_Бум_акв_40х86 (1).jpg -> ./webp/Речной порт в Салехарде_2012_Бум_акв_40х86 (1).webp\n"
     ]
    },
    {
     "name": "stderr",
     "output_type": "stream",
     "text": [
      "\r",
      "  4%|█▌                                        | 13/358 [00:07<03:16,  1.76it/s]"
     ]
    },
    {
     "name": "stdout",
     "output_type": "stream",
     "text": [
      "Converted and resized: Ямал_Туманное утро на реке Харбей_2012_Бум_акв_70х100 (1).jpg -> ./webp/Ямал_Туманное утро на реке Харбей_2012_Бум_акв_70х100 (1).webp\n"
     ]
    },
    {
     "name": "stderr",
     "output_type": "stream",
     "text": [
      "\r",
      "  4%|█▋                                        | 14/358 [00:08<03:20,  1.72it/s]"
     ]
    },
    {
     "name": "stdout",
     "output_type": "stream",
     "text": [
      "Converted and resized: Речной порт в Салехарде_2012_Бум_акв_40х86 (2).jpg -> ./webp/Речной порт в Салехарде_2012_Бум_акв_40х86 (2).webp\n"
     ]
    },
    {
     "name": "stderr",
     "output_type": "stream",
     "text": [
      "\r",
      "  4%|█▊                                        | 15/358 [00:08<03:04,  1.86it/s]"
     ]
    },
    {
     "name": "stdout",
     "output_type": "stream",
     "text": [
      "Converted and resized: Дождливый день_Карелия_2009_Бум_акв_60х86 (2).jpg -> ./webp/Дождливый день_Карелия_2009_Бум_акв_60х86 (2).webp\n"
     ]
    },
    {
     "name": "stderr",
     "output_type": "stream",
     "text": [
      "\r",
      "  4%|█▉                                        | 16/358 [00:09<03:11,  1.78it/s]"
     ]
    },
    {
     "name": "stdout",
     "output_type": "stream",
     "text": [
      "Converted and resized: Ямал_Сентябрь_2008_Бум_акв_52х100 (3).jpg -> ./webp/Ямал_Сентябрь_2008_Бум_акв_52х100 (3).webp\n"
     ]
    },
    {
     "name": "stderr",
     "output_type": "stream",
     "text": [
      "\r",
      "  5%|█▉                                        | 17/358 [00:09<03:16,  1.74it/s]"
     ]
    },
    {
     "name": "stdout",
     "output_type": "stream",
     "text": [
      "Converted and resized: Полярный Урал_Снежные вершины_2015_Бум_акв_100х270 (3).jpg -> ./webp/Полярный Урал_Снежные вершины_2015_Бум_акв_100х270 (3).webp\n"
     ]
    },
    {
     "name": "stderr",
     "output_type": "stream",
     "text": [
      "\r",
      "  5%|██                                        | 18/358 [00:10<03:17,  1.72it/s]"
     ]
    },
    {
     "name": "stdout",
     "output_type": "stream",
     "text": [
      "Converted and resized: Заполярный Урал_Озеро Хадата_2023_Бум_акв_34х94 (2).jpg -> ./webp/Заполярный Урал_Озеро Хадата_2023_Бум_акв_34х94 (2).webp\n"
     ]
    },
    {
     "name": "stderr",
     "output_type": "stream",
     "text": [
      "\r",
      "  5%|██▏                                       | 19/358 [00:11<03:31,  1.60it/s]"
     ]
    },
    {
     "name": "stdout",
     "output_type": "stream",
     "text": [
      "Converted and resized: Ямал_Заросшее озеро_2006_Бум_акв_60х86 (1).jpg -> ./webp/Ямал_Заросшее озеро_2006_Бум_акв_60х86 (1).webp\n"
     ]
    },
    {
     "name": "stderr",
     "output_type": "stream",
     "text": [
      "\r",
      "  6%|██▎                                       | 20/358 [00:11<03:27,  1.63it/s]"
     ]
    },
    {
     "name": "stdout",
     "output_type": "stream",
     "text": [
      "Converted and resized: Ямал_Река Полуй_2008_Бум_акв_70х100 (2).jpg -> ./webp/Ямал_Река Полуй_2008_Бум_акв_70х100 (2).webp\n"
     ]
    },
    {
     "name": "stderr",
     "output_type": "stream",
     "text": [
      "\r",
      "  6%|██▍                                       | 21/358 [00:12<03:30,  1.60it/s]"
     ]
    },
    {
     "name": "stdout",
     "output_type": "stream",
     "text": [
      "Converted and resized: Здесь начинается река Собь. Полярный Урал_ 2015_Бум_акв_70х100 (1).jpg -> ./webp/Здесь начинается река Собь. Полярный Урал_ 2015_Бум_акв_70х100 (1).webp\n"
     ]
    },
    {
     "name": "stderr",
     "output_type": "stream",
     "text": [
      "\r",
      "  6%|██▌                                       | 22/358 [00:13<03:34,  1.56it/s]"
     ]
    },
    {
     "name": "stdout",
     "output_type": "stream",
     "text": [
      "Converted and resized: Франция_Нормандия_Виль ля Роз_2019_Бум_акв_40х60 (3).jpg -> ./webp/Франция_Нормандия_Виль ля Роз_2019_Бум_акв_40х60 (3).webp\n"
     ]
    },
    {
     "name": "stderr",
     "output_type": "stream",
     "text": [
      "\r",
      "  6%|██▋                                       | 23/358 [00:13<03:35,  1.55it/s]"
     ]
    },
    {
     "name": "stdout",
     "output_type": "stream",
     "text": [
      "Converted and resized: Камни и море_2019_Бум_акв_40х60 (2).jpg -> ./webp/Камни и море_2019_Бум_акв_40х60 (2).webp\n"
     ]
    },
    {
     "name": "stderr",
     "output_type": "stream",
     "text": [
      "\r",
      "  7%|██▊                                       | 24/358 [00:14<03:37,  1.53it/s]"
     ]
    },
    {
     "name": "stdout",
     "output_type": "stream",
     "text": [
      "Converted and resized: На закате_2009_Бум_акв_70х100 (1).jpg -> ./webp/На закате_2009_Бум_акв_70х100 (1).webp\n"
     ]
    },
    {
     "name": "stderr",
     "output_type": "stream",
     "text": [
      "\r",
      "  7%|██▉                                       | 25/358 [00:14<03:13,  1.72it/s]"
     ]
    },
    {
     "name": "stdout",
     "output_type": "stream",
     "text": [
      "Converted and resized: Ямал_Река Кэр Доман-Шор_2022_Бум_акв_45х67 (2).jpg -> ./webp/Ямал_Река Кэр Доман-Шор_2022_Бум_акв_45х67 (2).webp\n"
     ]
    },
    {
     "name": "stderr",
     "output_type": "stream",
     "text": [
      "\r",
      "  7%|███                                       | 26/358 [00:15<03:16,  1.69it/s]"
     ]
    },
    {
     "name": "stdout",
     "output_type": "stream",
     "text": [
      "Converted and resized: Берега озера Хадата_2018_Бум_акв_70х100 (1).jpg -> ./webp/Берега озера Хадата_2018_Бум_акв_70х100 (1).webp\n"
     ]
    },
    {
     "name": "stderr",
     "output_type": "stream",
     "text": [
      "\r",
      "  8%|███▏                                      | 27/358 [00:16<03:07,  1.77it/s]"
     ]
    },
    {
     "name": "stdout",
     "output_type": "stream",
     "text": [
      "Converted and resized: Ямал_Сентябрь_2008_Бум_акв_52х100 (1).jpg -> ./webp/Ямал_Сентябрь_2008_Бум_акв_52х100 (1).webp\n"
     ]
    },
    {
     "name": "stderr",
     "output_type": "stream",
     "text": [
      "\r",
      "  8%|███▎                                      | 28/358 [00:16<03:20,  1.65it/s]"
     ]
    },
    {
     "name": "stdout",
     "output_type": "stream",
     "text": [
      "Converted and resized: Заполярный Урал_Озеро Хадата_2018_Бум_акв_100х360 (3).jpg -> ./webp/Заполярный Урал_Озеро Хадата_2018_Бум_акв_100х360 (3).webp\n"
     ]
    },
    {
     "name": "stderr",
     "output_type": "stream",
     "text": [
      "\r",
      "  8%|███▍                                      | 29/358 [00:17<03:38,  1.50it/s]"
     ]
    },
    {
     "name": "stdout",
     "output_type": "stream",
     "text": [
      "Converted and resized: Заполярный Урал_Озеро Хадата_2021_Бум_акв_35х70 (1).jpg -> ./webp/Заполярный Урал_Озеро Хадата_2021_Бум_акв_35х70 (1).webp\n"
     ]
    },
    {
     "name": "stderr",
     "output_type": "stream",
     "text": [
      "\r",
      "  8%|███▌                                      | 30/358 [00:18<03:41,  1.48it/s]"
     ]
    },
    {
     "name": "stdout",
     "output_type": "stream",
     "text": [
      "Converted and resized: Архипелаг_Кузова_на Белом море_2006_Бум_акв_35х86 (2).jpg -> ./webp/Архипелаг_Кузова_на Белом море_2006_Бум_акв_35х86 (2).webp\n"
     ]
    },
    {
     "name": "stderr",
     "output_type": "stream",
     "text": [
      "\r",
      "  9%|███▋                                      | 31/358 [00:18<03:28,  1.57it/s]"
     ]
    },
    {
     "name": "stdout",
     "output_type": "stream",
     "text": [
      "Converted and resized: Диптих_Полярный Урал_Долина реки Собь_левый_2012_Бум_акв_70х100 (1).jpg -> ./webp/Диптих_Полярный Урал_Долина реки Собь_левый_2012_Бум_акв_70х100 (1).webp\n"
     ]
    },
    {
     "name": "stderr",
     "output_type": "stream",
     "text": [
      "\r",
      "  9%|███▊                                      | 32/358 [00:19<03:23,  1.60it/s]"
     ]
    },
    {
     "name": "stdout",
     "output_type": "stream",
     "text": [
      "Converted and resized: Золотая осень на Полярном Урале_2021_Бум_акв_20х50 (2).jpg -> ./webp/Золотая осень на Полярном Урале_2021_Бум_акв_20х50 (2).webp\n"
     ]
    },
    {
     "name": "stderr",
     "output_type": "stream",
     "text": [
      "\r",
      "  9%|███▊                                      | 33/358 [00:20<03:25,  1.58it/s]"
     ]
    },
    {
     "name": "stdout",
     "output_type": "stream",
     "text": [
      "Converted and resized: Баня геологов_2006_Бум_акв_50х67 (2).jpg -> ./webp/Баня геологов_2006_Бум_акв_50х67 (2).webp\n"
     ]
    },
    {
     "name": "stderr",
     "output_type": "stream",
     "text": [
      "\r",
      "  9%|███▉                                      | 34/358 [00:20<03:22,  1.60it/s]"
     ]
    },
    {
     "name": "stdout",
     "output_type": "stream",
     "text": [
      "Converted and resized: Байкал_Берега_2012_Бум_акв_70х100 (2).jpg -> ./webp/Байкал_Берега_2012_Бум_акв_70х100 (2).webp\n"
     ]
    },
    {
     "name": "stderr",
     "output_type": "stream",
     "text": [
      "\r",
      " 10%|████                                      | 35/358 [00:21<03:16,  1.64it/s]"
     ]
    },
    {
     "name": "stdout",
     "output_type": "stream",
     "text": [
      "Converted and resized: Полярный Урал_Долина реки Собь_2009_Бум_акв_70х100 (1).jpg -> ./webp/Полярный Урал_Долина реки Собь_2009_Бум_акв_70х100 (1).webp\n"
     ]
    },
    {
     "name": "stderr",
     "output_type": "stream",
     "text": [
      "\r",
      " 10%|████▏                                     | 36/358 [00:21<03:09,  1.70it/s]"
     ]
    },
    {
     "name": "stdout",
     "output_type": "stream",
     "text": [
      "Converted and resized: Небо и море_2013_Бум_акв_70х100 (3).jpg -> ./webp/Небо и море_2013_Бум_акв_70х100 (3).webp\n"
     ]
    },
    {
     "name": "stderr",
     "output_type": "stream",
     "text": [
      "\r",
      " 10%|████▎                                     | 37/358 [00:22<02:57,  1.81it/s]"
     ]
    },
    {
     "name": "stdout",
     "output_type": "stream",
     "text": [
      "Converted and resized: Заполярный Урал_Щучье озеро_2018_Бум_акв_41х100 (1).jpg -> ./webp/Заполярный Урал_Щучье озеро_2018_Бум_акв_41х100 (1).webp\n"
     ]
    },
    {
     "name": "stderr",
     "output_type": "stream",
     "text": [
      "\r",
      " 11%|████▍                                     | 38/358 [00:22<03:10,  1.68it/s]"
     ]
    },
    {
     "name": "stdout",
     "output_type": "stream",
     "text": [
      "Converted and resized: Архыз_2023_Бум_акв_70х100 (3).jpg -> ./webp/Архыз_2023_Бум_акв_70х100 (3).webp\n"
     ]
    },
    {
     "name": "stderr",
     "output_type": "stream",
     "text": [
      "\r",
      " 11%|████▌                                     | 39/358 [00:23<03:11,  1.66it/s]"
     ]
    },
    {
     "name": "stdout",
     "output_type": "stream",
     "text": [
      "Converted and resized: Карелия_Остров Сосновец_2007_Бум_акв_70х100 (1).jpg -> ./webp/Карелия_Остров Сосновец_2007_Бум_акв_70х100 (1).webp\n"
     ]
    },
    {
     "name": "stderr",
     "output_type": "stream",
     "text": [
      "\r",
      " 11%|████▋                                     | 40/358 [00:24<03:07,  1.70it/s]"
     ]
    },
    {
     "name": "stdout",
     "output_type": "stream",
     "text": [
      "Converted and resized: Полярный Урал_Гора Сфинкс_2012_Бум_акв_70х100 (1).jpg -> ./webp/Полярный Урал_Гора Сфинкс_2012_Бум_акв_70х100 (1).webp\n"
     ]
    },
    {
     "name": "stderr",
     "output_type": "stream",
     "text": [
      "\r",
      " 11%|████▊                                     | 41/358 [00:24<03:07,  1.69it/s]"
     ]
    },
    {
     "name": "stdout",
     "output_type": "stream",
     "text": [
      "Converted and resized: Водопад в облаках_2012_Бум_ак_100х70 (3).jpg -> ./webp/Водопад в облаках_2012_Бум_ак_100х70 (3).webp\n"
     ]
    },
    {
     "name": "stderr",
     "output_type": "stream",
     "text": [
      "\r",
      " 12%|████▉                                     | 42/358 [00:25<03:09,  1.67it/s]"
     ]
    },
    {
     "name": "stdout",
     "output_type": "stream",
     "text": [
      "Converted and resized: Водопад в облаках_2012_Бум_ак_100х70 (2).jpg -> ./webp/Водопад в облаках_2012_Бум_ак_100х70 (2).webp\n"
     ]
    },
    {
     "name": "stderr",
     "output_type": "stream",
     "text": [
      "\r",
      " 12%|█████                                     | 43/358 [00:25<03:08,  1.67it/s]"
     ]
    },
    {
     "name": "stdout",
     "output_type": "stream",
     "text": [
      "Converted and resized: Диптих_Полярный Урал_Долина реки Собь_правый_2012_Бум_акв_70х100 (3).jpg -> ./webp/Диптих_Полярный Урал_Долина реки Собь_правый_2012_Бум_акв_70х100 (3).webp\n"
     ]
    },
    {
     "name": "stderr",
     "output_type": "stream",
     "text": [
      "\r",
      " 12%|█████▏                                    | 44/358 [00:26<02:53,  1.81it/s]"
     ]
    },
    {
     "name": "stdout",
     "output_type": "stream",
     "text": [
      "Converted and resized: Здесь начинается река Собь. Полярный Урал_ 2015_Бум_акв_70х100 (2).jpg -> ./webp/Здесь начинается река Собь. Полярный Урал_ 2015_Бум_акв_70х100 (2).webp\n"
     ]
    },
    {
     "name": "stderr",
     "output_type": "stream",
     "text": [
      "\r",
      " 13%|█████▎                                    | 45/358 [00:26<03:01,  1.73it/s]"
     ]
    },
    {
     "name": "stdout",
     "output_type": "stream",
     "text": [
      "Converted and resized: Облака над Полярныи Уралом_2010_Бум_акв_70х100 (2).jpg -> ./webp/Облака над Полярныи Уралом_2010_Бум_акв_70х100 (2).webp\n"
     ]
    },
    {
     "name": "stderr",
     "output_type": "stream",
     "text": [
      "\r",
      " 13%|█████▍                                    | 46/358 [00:27<03:03,  1.70it/s]"
     ]
    },
    {
     "name": "stdout",
     "output_type": "stream",
     "text": [
      "Converted and resized: Полярный Урал_Исток реки Собь_2015_Бум_акв_100х340 (2).jpg -> ./webp/Полярный Урал_Исток реки Собь_2015_Бум_акв_100х340 (2).webp\n"
     ]
    },
    {
     "name": "stderr",
     "output_type": "stream",
     "text": [
      "\r",
      " 13%|█████▌                                    | 47/358 [00:28<02:54,  1.79it/s]"
     ]
    },
    {
     "name": "stdout",
     "output_type": "stream",
     "text": [
      "Converted and resized: Ямал_Август_2008_Бум_акв_50х100 (1).jpg -> ./webp/Ямал_Август_2008_Бум_акв_50х100 (1).webp\n"
     ]
    },
    {
     "name": "stderr",
     "output_type": "stream",
     "text": [
      "\r",
      " 13%|█████▋                                    | 48/358 [00:28<02:59,  1.73it/s]"
     ]
    },
    {
     "name": "stdout",
     "output_type": "stream",
     "text": [
      "Converted and resized: Шторм на Белом море_2006_Бум_акв_50х70 (2).jpg -> ./webp/Шторм на Белом море_2006_Бум_акв_50х70 (2).webp\n"
     ]
    },
    {
     "name": "stderr",
     "output_type": "stream",
     "text": [
      "\r",
      " 14%|█████▋                                    | 49/358 [00:29<03:03,  1.68it/s]"
     ]
    },
    {
     "name": "stdout",
     "output_type": "stream",
     "text": [
      "Converted and resized: Ямал_Золотая осень_2009_Бум_акв_70х100 (3).jpg -> ./webp/Ямал_Золотая осень_2009_Бум_акв_70х100 (3).webp\n"
     ]
    },
    {
     "name": "stderr",
     "output_type": "stream",
     "text": [
      "\r",
      " 14%|█████▊                                    | 50/358 [00:30<03:13,  1.59it/s]"
     ]
    },
    {
     "name": "stdout",
     "output_type": "stream",
     "text": [
      "Converted and resized: Водопады на горе Рай Из_2013_Бум_акв_70х100 (2).jpg -> ./webp/Водопады на горе Рай Из_2013_Бум_акв_70х100 (2).webp\n"
     ]
    },
    {
     "name": "stderr",
     "output_type": "stream",
     "text": [
      "\r",
      " 14%|█████▉                                    | 51/358 [00:30<03:25,  1.50it/s]"
     ]
    },
    {
     "name": "stdout",
     "output_type": "stream",
     "text": [
      "Converted and resized: Полярный Урал. Гора Рай Из_2010_Бум_акв_70х100 (3).jpg -> ./webp/Полярный Урал. Гора Рай Из_2010_Бум_акв_70х100 (3).webp\n"
     ]
    },
    {
     "name": "stderr",
     "output_type": "stream",
     "text": [
      "\r",
      " 15%|██████                                    | 52/358 [00:31<03:07,  1.63it/s]"
     ]
    },
    {
     "name": "stdout",
     "output_type": "stream",
     "text": [
      "Converted and resized: Заполярный_Урал_Озеро Хадата_2019. Бум_акв_46х61 (2).jpg -> ./webp/Заполярный_Урал_Озеро Хадата_2019. Бум_акв_46х61 (2).webp\n"
     ]
    },
    {
     "name": "stderr",
     "output_type": "stream",
     "text": [
      "\r",
      " 15%|██████▏                                   | 53/358 [00:31<03:01,  1.68it/s]"
     ]
    },
    {
     "name": "stdout",
     "output_type": "stream",
     "text": [
      "Converted and resized: Берег Белого моря_ 2007_Бум_акв_60х75 (1).jpg -> ./webp/Берег Белого моря_ 2007_Бум_акв_60х75 (1).webp\n"
     ]
    },
    {
     "name": "stderr",
     "output_type": "stream",
     "text": [
      "\r",
      " 15%|██████▎                                   | 54/358 [00:32<03:07,  1.62it/s]"
     ]
    },
    {
     "name": "stdout",
     "output_type": "stream",
     "text": [
      "Converted and resized: Ямал_Хмурый день_2018_Бум_акв_60х100 (3).jpg -> ./webp/Ямал_Хмурый день_2018_Бум_акв_60х100 (3).webp\n"
     ]
    },
    {
     "name": "stderr",
     "output_type": "stream",
     "text": [
      "\r",
      " 15%|██████▍                                   | 55/358 [00:33<03:00,  1.68it/s]"
     ]
    },
    {
     "name": "stdout",
     "output_type": "stream",
     "text": [
      "Converted and resized: Преображенский собор Соловецкого монастыря_2007_Бум_акв_61х85 (1).jpg -> ./webp/Преображенский собор Соловецкого монастыря_2007_Бум_акв_61х85 (1).webp\n"
     ]
    },
    {
     "name": "stderr",
     "output_type": "stream",
     "text": [
      "\r",
      " 16%|██████▌                                   | 56/358 [00:33<02:56,  1.71it/s]"
     ]
    },
    {
     "name": "stdout",
     "output_type": "stream",
     "text": [
      "Converted and resized: Просторы Белого моря_Кузова_2015_Бум_акв_100х280 (3).jpg -> ./webp/Просторы Белого моря_Кузова_2015_Бум_акв_100х280 (3).webp\n"
     ]
    },
    {
     "name": "stderr",
     "output_type": "stream",
     "text": [
      "\r",
      " 16%|██████▋                                   | 57/358 [00:34<02:55,  1.72it/s]"
     ]
    },
    {
     "name": "stdout",
     "output_type": "stream",
     "text": [
      "Converted and resized: Полярный Урал. Гора Рай Из_2010_Бум_акв_70х100 (1).jpg -> ./webp/Полярный Урал. Гора Рай Из_2010_Бум_акв_70х100 (1).webp\n"
     ]
    },
    {
     "name": "stderr",
     "output_type": "stream",
     "text": [
      "\r",
      " 16%|██████▊                                   | 58/358 [00:34<03:08,  1.59it/s]"
     ]
    },
    {
     "name": "stdout",
     "output_type": "stream",
     "text": [
      "Converted and resized: Байкал_Берега_2012_Бум_акв_70х100 (3).jpg -> ./webp/Байкал_Берега_2012_Бум_акв_70х100 (3).webp\n"
     ]
    },
    {
     "name": "stderr",
     "output_type": "stream",
     "text": [
      "\r",
      " 16%|██████▉                                   | 59/358 [00:35<03:07,  1.59it/s]"
     ]
    },
    {
     "name": "stdout",
     "output_type": "stream",
     "text": [
      "Converted and resized: Осень на Елагином острове_2014_Бум_акв_70х100 (2).jpg -> ./webp/Осень на Елагином острове_2014_Бум_акв_70х100 (2).webp\n"
     ]
    },
    {
     "name": "stderr",
     "output_type": "stream",
     "text": [
      "\r",
      " 17%|███████                                   | 60/358 [00:36<03:02,  1.63it/s]"
     ]
    },
    {
     "name": "stdout",
     "output_type": "stream",
     "text": [
      "Converted and resized: На берегу озера Хадата_2018_Бум_акв_100х360 (2).jpg -> ./webp/На берегу озера Хадата_2018_Бум_акв_100х360 (2).webp\n"
     ]
    },
    {
     "name": "stderr",
     "output_type": "stream",
     "text": [
      "\r",
      " 17%|███████▏                                  | 61/358 [00:36<02:54,  1.70it/s]"
     ]
    },
    {
     "name": "stdout",
     "output_type": "stream",
     "text": [
      "Converted and resized: Белое море. Утро на Кузовах_2013_Бум_акв_70х100 (1).jpg -> ./webp/Белое море. Утро на Кузовах_2013_Бум_акв_70х100 (1).webp\n"
     ]
    },
    {
     "name": "stderr",
     "output_type": "stream",
     "text": [
      "\r",
      " 17%|███████▎                                  | 62/358 [00:37<02:37,  1.87it/s]"
     ]
    },
    {
     "name": "stdout",
     "output_type": "stream",
     "text": [
      "Converted and resized: Белое море_Облака_2012_Бум_акв_70х100 (2).jpg -> ./webp/Белое море_Облака_2012_Бум_акв_70х100 (2).webp\n"
     ]
    },
    {
     "name": "stderr",
     "output_type": "stream",
     "text": [
      "\r",
      " 18%|███████▍                                  | 63/358 [00:37<02:39,  1.85it/s]"
     ]
    },
    {
     "name": "stdout",
     "output_type": "stream",
     "text": [
      "Converted and resized: Водопады на горе Рай Из_2013_Бум_акв_70х100 (1).jpg -> ./webp/Водопады на горе Рай Из_2013_Бум_акв_70х100 (1).webp\n"
     ]
    },
    {
     "name": "stderr",
     "output_type": "stream",
     "text": [
      "\r",
      " 18%|███████▌                                  | 64/358 [00:38<02:42,  1.81it/s]"
     ]
    },
    {
     "name": "stdout",
     "output_type": "stream",
     "text": [
      "Converted and resized: Полярный Урал_Горное озеро_2012_Бум_акв_70х100 (2).jpg -> ./webp/Полярный Урал_Горное озеро_2012_Бум_акв_70х100 (2).webp\n"
     ]
    },
    {
     "name": "stderr",
     "output_type": "stream",
     "text": [
      "\r",
      " 18%|███████▋                                  | 65/358 [00:38<02:40,  1.83it/s]"
     ]
    },
    {
     "name": "stdout",
     "output_type": "stream",
     "text": [
      "Converted and resized: Ямал_Морозный день_2023_Бум_акв_25х40 (2).jpg -> ./webp/Ямал_Морозный день_2023_Бум_акв_25х40 (2).webp\n"
     ]
    },
    {
     "name": "stderr",
     "output_type": "stream",
     "text": [
      "\r",
      " 19%|███████▊                                  | 67/358 [00:39<02:00,  2.41it/s]"
     ]
    },
    {
     "name": "stdout",
     "output_type": "stream",
     "text": [
      "Converted and resized: Полярный Урал_Озеро Макар-Рузь_2015_Бум_акв_100х340 (4).jpg -> ./webp/Полярный Урал_Озеро Макар-Рузь_2015_Бум_акв_100х340 (4).webp\n"
     ]
    },
    {
     "name": "stderr",
     "output_type": "stream",
     "text": [
      "\r",
      " 19%|███████▉                                  | 68/358 [00:39<02:09,  2.23it/s]"
     ]
    },
    {
     "name": "stdout",
     "output_type": "stream",
     "text": [
      "Converted and resized: Ангара_Иван чай цветет_2023_Бум_акв_50х70 (1).jpg -> ./webp/Ангара_Иван чай цветет_2023_Бум_акв_50х70 (1).webp\n"
     ]
    },
    {
     "name": "stderr",
     "output_type": "stream",
     "text": [
      "\r",
      " 19%|████████                                  | 69/358 [00:40<02:18,  2.08it/s]"
     ]
    },
    {
     "name": "stdout",
     "output_type": "stream",
     "text": [
      "Converted and resized: Ямал_Конец августа_2008_Бум_акв_59х100 (2).jpg -> ./webp/Ямал_Конец августа_2008_Бум_акв_59х100 (2).webp\n"
     ]
    },
    {
     "name": "stderr",
     "output_type": "stream",
     "text": [
      "\r",
      " 20%|████████▏                                 | 70/358 [00:40<02:12,  2.17it/s]"
     ]
    },
    {
     "name": "stdout",
     "output_type": "stream",
     "text": [
      "Converted and resized: Ямал_Осень на Оби_2009_Бум_акв_35х100 (1).jpg -> ./webp/Ямал_Осень на Оби_2009_Бум_акв_35х100 (1).webp\n"
     ]
    },
    {
     "name": "stderr",
     "output_type": "stream",
     "text": [
      "\r",
      " 20%|████████▎                                 | 71/358 [00:41<02:22,  2.01it/s]"
     ]
    },
    {
     "name": "stdout",
     "output_type": "stream",
     "text": [
      "Converted and resized: Нарьян Мар_Река Куя_2013_Бум_акв_55х75 (3).jpg -> ./webp/Нарьян Мар_Река Куя_2013_Бум_акв_55х75 (3).webp\n"
     ]
    },
    {
     "name": "stderr",
     "output_type": "stream",
     "text": [
      "\r",
      " 20%|████████▍                                 | 72/358 [00:41<02:29,  1.91it/s]"
     ]
    },
    {
     "name": "stdout",
     "output_type": "stream",
     "text": [
      "Converted and resized: Заполярный Урал_Озеро Хадата_2018_Бум_акв_100х360 (4).jpg -> ./webp/Заполярный Урал_Озеро Хадата_2018_Бум_акв_100х360 (4).webp\n"
     ]
    },
    {
     "name": "stderr",
     "output_type": "stream",
     "text": [
      "\r",
      " 20%|████████▌                                 | 73/358 [00:42<02:31,  1.88it/s]"
     ]
    },
    {
     "name": "stdout",
     "output_type": "stream",
     "text": [
      "Converted and resized: Полярный Урал_Ущелье Конгор_2015_Бум_акв_100х340 (4).jpg -> ./webp/Полярный Урал_Ущелье Конгор_2015_Бум_акв_100х340 (4).webp\n"
     ]
    },
    {
     "name": "stderr",
     "output_type": "stream",
     "text": [
      "\r",
      " 21%|████████▋                                 | 74/358 [00:43<02:32,  1.86it/s]"
     ]
    },
    {
     "name": "stdout",
     "output_type": "stream",
     "text": [
      "Converted and resized: Диптих_Полярный Урал_Долина реки Собь_правый_2012_Бум_акв_70х100 (1).jpg -> ./webp/Диптих_Полярный Урал_Долина реки Собь_правый_2012_Бум_акв_70х100 (1).webp\n"
     ]
    },
    {
     "name": "stderr",
     "output_type": "stream",
     "text": [
      "\r",
      " 21%|████████▊                                 | 75/358 [00:43<02:35,  1.82it/s]"
     ]
    },
    {
     "name": "stdout",
     "output_type": "stream",
     "text": [
      "Converted and resized: Мамомнты на Ямале_2020_Бум_акв_20х30 (1).jpg -> ./webp/Мамомнты на Ямале_2020_Бум_акв_20х30 (1).webp\n"
     ]
    },
    {
     "name": "stderr",
     "output_type": "stream",
     "text": [
      "\r",
      " 21%|████████▉                                 | 76/358 [00:44<02:33,  1.83it/s]"
     ]
    },
    {
     "name": "stdout",
     "output_type": "stream",
     "text": [
      "Converted and resized: Полярный Урал_Снежные вершины_2015_Бум_акв_100х270 (2).jpg -> ./webp/Полярный Урал_Снежные вершины_2015_Бум_акв_100х270 (2).webp\n"
     ]
    },
    {
     "name": "stderr",
     "output_type": "stream",
     "text": [
      "\r",
      " 22%|█████████                                 | 77/358 [00:44<02:36,  1.79it/s]"
     ]
    },
    {
     "name": "stdout",
     "output_type": "stream",
     "text": [
      "Converted and resized: Карелия. Водопад_Куми порог_Пошёл июльский снег_2009_Бум_акв_70х100 (2).jpg -> ./webp/Карелия. Водопад_Куми порог_Пошёл июльский снег_2009_Бум_акв_70х100 (2).webp\n"
     ]
    },
    {
     "name": "stderr",
     "output_type": "stream",
     "text": [
      "\r",
      " 22%|█████████▏                                | 78/358 [00:45<02:37,  1.78it/s]"
     ]
    },
    {
     "name": "stdout",
     "output_type": "stream",
     "text": [
      "Converted and resized: Капли дождя_2010_Бум_акв_50х70 (1).jpg -> ./webp/Капли дождя_2010_Бум_акв_50х70 (1).webp\n"
     ]
    },
    {
     "name": "stderr",
     "output_type": "stream",
     "text": [
      "\r",
      " 22%|█████████▎                                | 79/358 [00:45<02:28,  1.88it/s]"
     ]
    },
    {
     "name": "stdout",
     "output_type": "stream",
     "text": [
      "Converted and resized: Морской простор_2020_Бум_акв_100х300 (1).jpg -> ./webp/Морской простор_2020_Бум_акв_100х300 (1).webp\n"
     ]
    },
    {
     "name": "stderr",
     "output_type": "stream",
     "text": [
      "\r",
      " 22%|█████████▍                                | 80/358 [00:46<02:32,  1.82it/s]"
     ]
    },
    {
     "name": "stdout",
     "output_type": "stream",
     "text": [
      "Converted and resized: Осень_На лесной поляне_2023_Бум_акв_50х70 (2).jpg -> ./webp/Осень_На лесной поляне_2023_Бум_акв_50х70 (2).webp\n"
     ]
    },
    {
     "name": "stderr",
     "output_type": "stream",
     "text": [
      "\r",
      " 23%|█████████▌                                | 81/358 [00:47<02:38,  1.75it/s]"
     ]
    },
    {
     "name": "stdout",
     "output_type": "stream",
     "text": [
      "Converted and resized: Дождливый день_Карелия_2009_Бум_акв_60х86 (3).jpg -> ./webp/Дождливый день_Карелия_2009_Бум_акв_60х86 (3).webp\n"
     ]
    },
    {
     "name": "stderr",
     "output_type": "stream",
     "text": [
      "\r",
      " 23%|█████████▌                                | 82/358 [00:47<02:40,  1.72it/s]"
     ]
    },
    {
     "name": "stdout",
     "output_type": "stream",
     "text": [
      "Converted and resized: Тучи надвигаются_2015_Бум_акв_70х100 (1).jpg -> ./webp/Тучи надвигаются_2015_Бум_акв_70х100 (1).webp\n"
     ]
    },
    {
     "name": "stderr",
     "output_type": "stream",
     "text": [
      "\r",
      " 23%|█████████▋                                | 83/358 [00:48<02:38,  1.73it/s]"
     ]
    },
    {
     "name": "stdout",
     "output_type": "stream",
     "text": [
      "Converted and resized: Берег Белого моря_ 2007_Бум_акв_60х75 (3).jpg -> ./webp/Берег Белого моря_ 2007_Бум_акв_60х75 (3).webp\n"
     ]
    },
    {
     "name": "stderr",
     "output_type": "stream",
     "text": [
      "\r",
      " 23%|█████████▊                                | 84/358 [00:48<02:35,  1.77it/s]"
     ]
    },
    {
     "name": "stdout",
     "output_type": "stream",
     "text": [
      "Converted and resized: Полярный Урал_Озеро Макар-Рузь_2015_Бум_акв_100х340 (2).jpg -> ./webp/Полярный Урал_Озеро Макар-Рузь_2015_Бум_акв_100х340 (2).webp\n"
     ]
    },
    {
     "name": "stderr",
     "output_type": "stream",
     "text": [
      "\r",
      " 24%|█████████▉                                | 85/358 [00:49<02:36,  1.74it/s]"
     ]
    },
    {
     "name": "stdout",
     "output_type": "stream",
     "text": [
      "Converted and resized: Заполярный Урал_Озеро Хадата_2021_Бум_акв_35х70 (2).jpg -> ./webp/Заполярный Урал_Озеро Хадата_2021_Бум_акв_35х70 (2).webp\n"
     ]
    },
    {
     "name": "stderr",
     "output_type": "stream",
     "text": [
      "\r",
      " 24%|██████████                                | 86/358 [00:49<02:42,  1.67it/s]"
     ]
    },
    {
     "name": "stdout",
     "output_type": "stream",
     "text": [
      "Converted and resized: Зима на Рай Из_2023_Бум_акв_23х40 (2).jpg -> ./webp/Зима на Рай Из_2023_Бум_акв_23х40 (2).webp\n"
     ]
    },
    {
     "name": "stderr",
     "output_type": "stream",
     "text": [
      "\r",
      " 24%|██████████▏                               | 87/358 [00:50<02:44,  1.65it/s]"
     ]
    },
    {
     "name": "stdout",
     "output_type": "stream",
     "text": [
      "Converted and resized: Архыз_Солнечный день_2023_Бум_акв_23х40 (3).jpg -> ./webp/Архыз_Солнечный день_2023_Бум_акв_23х40 (3).webp\n"
     ]
    },
    {
     "name": "stderr",
     "output_type": "stream",
     "text": [
      "\r",
      " 25%|██████████▎                               | 88/358 [00:51<02:40,  1.69it/s]"
     ]
    },
    {
     "name": "stdout",
     "output_type": "stream",
     "text": [
      "Converted and resized: Карелия_Сумской порог_2010_Бум_акв_70х100 (2).jpg -> ./webp/Карелия_Сумской порог_2010_Бум_акв_70х100 (2).webp\n"
     ]
    },
    {
     "name": "stderr",
     "output_type": "stream",
     "text": [
      "\r",
      " 25%|██████████▍                               | 89/358 [00:51<02:35,  1.73it/s]"
     ]
    },
    {
     "name": "stdout",
     "output_type": "stream",
     "text": [
      "Converted and resized: Бухта Севастополя_2019__Бум_акв_54х83 (2).jpg -> ./webp/Бухта Севастополя_2019__Бум_акв_54х83 (2).webp\n"
     ]
    },
    {
     "name": "stderr",
     "output_type": "stream",
     "text": [
      "\r",
      " 25%|██████████▌                               | 90/358 [00:52<02:35,  1.72it/s]"
     ]
    },
    {
     "name": "stdout",
     "output_type": "stream",
     "text": [
      "Converted and resized: Морозное осеннее утро_2008_Бум_акв_70х100 (2).jpg -> ./webp/Морозное осеннее утро_2008_Бум_акв_70х100 (2).webp\n"
     ]
    },
    {
     "name": "stderr",
     "output_type": "stream",
     "text": [
      "\r",
      " 25%|██████████▋                               | 91/358 [00:52<02:27,  1.81it/s]"
     ]
    },
    {
     "name": "stdout",
     "output_type": "stream",
     "text": [
      "Converted and resized: Ямал. Долина реки Лангота_2013_Бум_акв_70х150 (1).jpg -> ./webp/Ямал. Долина реки Лангота_2013_Бум_акв_70х150 (1).webp\n"
     ]
    },
    {
     "name": "stderr",
     "output_type": "stream",
     "text": [
      "\r",
      " 26%|██████████▊                               | 92/358 [00:53<02:30,  1.77it/s]"
     ]
    },
    {
     "name": "stdout",
     "output_type": "stream",
     "text": [
      "Converted and resized: Осень. На лесной поляне_2023_Бум_акв_50х70 (2).jpg -> ./webp/Осень. На лесной поляне_2023_Бум_акв_50х70 (2).webp\n"
     ]
    },
    {
     "name": "stderr",
     "output_type": "stream",
     "text": [
      "\r",
      " 26%|██████████▉                               | 93/358 [00:54<02:34,  1.71it/s]"
     ]
    },
    {
     "name": "stdout",
     "output_type": "stream",
     "text": [
      "Converted and resized: На берегу озера Хадата_2018_Бум_акв_100х360 (3).jpg -> ./webp/На берегу озера Хадата_2018_Бум_акв_100х360 (3).webp\n"
     ]
    },
    {
     "name": "stderr",
     "output_type": "stream",
     "text": [
      "\r",
      " 26%|███████████                               | 94/358 [00:54<02:23,  1.84it/s]"
     ]
    },
    {
     "name": "stdout",
     "output_type": "stream",
     "text": [
      "Converted and resized: Сумской порог_Карелия_2009_Бум_ акв_86х60 (1).jpg -> ./webp/Сумской порог_Карелия_2009_Бум_ акв_86х60 (1).webp\n"
     ]
    },
    {
     "name": "stderr",
     "output_type": "stream",
     "text": [
      "\r",
      " 27%|███████████▏                              | 95/358 [00:55<02:22,  1.85it/s]"
     ]
    },
    {
     "name": "stdout",
     "output_type": "stream",
     "text": [
      "Converted and resized: Полярный Урал_2010_Бум_акв_60х86 (1).jpg -> ./webp/Полярный Урал_2010_Бум_акв_60х86 (1).webp\n"
     ]
    },
    {
     "name": "stderr",
     "output_type": "stream",
     "text": [
      "\r",
      " 27%|███████████▍                              | 97/358 [00:55<01:48,  2.41it/s]"
     ]
    },
    {
     "name": "stdout",
     "output_type": "stream",
     "text": [
      "Converted and resized: Бухта Севастополя_2019__Бум_акв_54х83 (1).jpg -> ./webp/Бухта Севастополя_2019__Бум_акв_54х83 (1).webp\n"
     ]
    },
    {
     "name": "stderr",
     "output_type": "stream",
     "text": [
      "\r",
      " 28%|███████████▌                              | 99/358 [00:56<01:33,  2.76it/s]"
     ]
    },
    {
     "name": "stdout",
     "output_type": "stream",
     "text": [
      "Converted and resized: Август на Ямале_2009_Бум_акв_61х86 (1).jpg -> ./webp/Август на Ямале_2009_Бум_акв_61х86 (1).webp\n"
     ]
    },
    {
     "name": "stderr",
     "output_type": "stream",
     "text": [
      "\r",
      " 28%|███████████▍                             | 100/358 [00:56<01:45,  2.44it/s]"
     ]
    },
    {
     "name": "stdout",
     "output_type": "stream",
     "text": [
      "Converted and resized: Ямал_Иванчай отцвёл_2009_Бум_акв_70х100 (1).jpg -> ./webp/Ямал_Иванчай отцвёл_2009_Бум_акв_70х100 (1).webp\n"
     ]
    },
    {
     "name": "stderr",
     "output_type": "stream",
     "text": [
      "\r",
      " 28%|███████████▌                             | 101/358 [00:57<01:57,  2.19it/s]"
     ]
    },
    {
     "name": "stdout",
     "output_type": "stream",
     "text": [
      "Converted and resized: Урал_Гора Рай Из_2012_Бум_акв__70х100 (2).jpg -> ./webp/Урал_Гора Рай Из_2012_Бум_акв__70х100 (2).webp\n"
     ]
    },
    {
     "name": "stderr",
     "output_type": "stream",
     "text": [
      "\r",
      " 28%|███████████▋                             | 102/358 [00:57<02:05,  2.04it/s]"
     ]
    },
    {
     "name": "stdout",
     "output_type": "stream",
     "text": [
      "Converted and resized: Ямал_Осень на Оби_2009_Бум_акв_35х100 (2).jpg -> ./webp/Ямал_Осень на Оби_2009_Бум_акв_35х100 (2).webp\n"
     ]
    },
    {
     "name": "stderr",
     "output_type": "stream",
     "text": [
      "\r",
      " 29%|███████████▊                             | 103/358 [00:58<02:13,  1.92it/s]"
     ]
    },
    {
     "name": "stdout",
     "output_type": "stream",
     "text": [
      "Converted and resized: Норвегия_Закат_2010_Бум_акв_70х100 (1).jpg -> ./webp/Норвегия_Закат_2010_Бум_акв_70х100 (1).webp\n"
     ]
    },
    {
     "name": "stderr",
     "output_type": "stream",
     "text": [
      "\r",
      " 29%|███████████▉                             | 104/358 [00:59<02:17,  1.85it/s]"
     ]
    },
    {
     "name": "stdout",
     "output_type": "stream",
     "text": [
      "Converted and resized: Диптих_Полярный Урал_Долина реки Собь_правый_2012_Бум_акв_70х100 (2).jpg -> ./webp/Диптих_Полярный Урал_Долина реки Собь_правый_2012_Бум_акв_70х100 (2).webp\n"
     ]
    },
    {
     "name": "stderr",
     "output_type": "stream",
     "text": [
      "\r",
      " 29%|████████████                             | 105/358 [00:59<02:19,  1.81it/s]"
     ]
    },
    {
     "name": "stdout",
     "output_type": "stream",
     "text": [
      "Converted and resized: Осень в парке_2023_Бум_акв_25х40 (1).jpg -> ./webp/Осень в парке_2023_Бум_акв_25х40 (1).webp\n"
     ]
    },
    {
     "name": "stderr",
     "output_type": "stream",
     "text": [
      "\r",
      " 30%|████████████▏                            | 106/358 [01:00<02:21,  1.79it/s]"
     ]
    },
    {
     "name": "stdout",
     "output_type": "stream",
     "text": [
      "Converted and resized: Соловецкий монастырь_2006_Бум_акв_61х86 (3).jpg -> ./webp/Соловецкий монастырь_2006_Бум_акв_61х86 (3).webp\n"
     ]
    },
    {
     "name": "stderr",
     "output_type": "stream",
     "text": [
      "\r",
      " 30%|████████████▎                            | 107/358 [01:00<02:20,  1.79it/s]"
     ]
    },
    {
     "name": "stdout",
     "output_type": "stream",
     "text": [
      "Converted and resized: Полярный Урал_Ущелье Конгор_2015_Бум_акв_100х340 (3).jpg -> ./webp/Полярный Урал_Ущелье Конгор_2015_Бум_акв_100х340 (3).webp\n"
     ]
    },
    {
     "name": "stderr",
     "output_type": "stream",
     "text": [
      "\r",
      " 30%|████████████▎                            | 108/358 [01:01<02:09,  1.93it/s]"
     ]
    },
    {
     "name": "stdout",
     "output_type": "stream",
     "text": [
      "Converted and resized: Полярный Урал_Изумрудное озеро_ 2015_Бум_акв_70х100 (2).jpg -> ./webp/Полярный Урал_Изумрудное озеро_ 2015_Бум_акв_70х100 (2).webp\n"
     ]
    },
    {
     "name": "stderr",
     "output_type": "stream",
     "text": [
      "\r",
      " 30%|████████████▍                            | 109/358 [01:01<02:16,  1.83it/s]"
     ]
    },
    {
     "name": "stdout",
     "output_type": "stream",
     "text": [
      "Converted and resized: Заполярный Урал_Облака над Щучьем озером_2018_Бум_акв_70х100 (1).jpg -> ./webp/Заполярный Урал_Облака над Щучьем озером_2018_Бум_акв_70х100 (1).webp\n"
     ]
    },
    {
     "name": "stderr",
     "output_type": "stream",
     "text": [
      "\r",
      " 31%|████████████▌                            | 110/358 [01:02<02:22,  1.74it/s]"
     ]
    },
    {
     "name": "stdout",
     "output_type": "stream",
     "text": [
      "Converted and resized: Белое море_2007_Бум_акв_ 61х86 (2).jpg -> ./webp/Белое море_2007_Бум_акв_ 61х86 (2).webp\n"
     ]
    },
    {
     "name": "stderr",
     "output_type": "stream",
     "text": [
      "\r",
      " 31%|████████████▋                            | 111/358 [01:03<02:27,  1.68it/s]"
     ]
    },
    {
     "name": "stdout",
     "output_type": "stream",
     "text": [
      "Converted and resized: Софийский ледник_Архыз_2023_Бум_акв_31х41 (2).jpg -> ./webp/Софийский ледник_Архыз_2023_Бум_акв_31х41 (2).webp\n"
     ]
    },
    {
     "name": "stderr",
     "output_type": "stream",
     "text": [
      "\r",
      " 32%|████████████▉                            | 113/358 [01:03<01:54,  2.14it/s]"
     ]
    },
    {
     "name": "stdout",
     "output_type": "stream",
     "text": [
      "Converted and resized: Полярный Урал_Долина реки Собь_2009_Бум_акв_70х100 (2).jpg -> ./webp/Полярный Урал_Долина реки Собь_2009_Бум_акв_70х100 (2).webp\n"
     ]
    },
    {
     "name": "stderr",
     "output_type": "stream",
     "text": [
      "\r",
      " 32%|█████████████                            | 114/358 [01:04<02:01,  2.00it/s]"
     ]
    },
    {
     "name": "stdout",
     "output_type": "stream",
     "text": [
      "Converted and resized: Архыз_2023_Бум_акв_70х100 (1).jpg -> ./webp/Архыз_2023_Бум_акв_70х100 (1).webp\n"
     ]
    },
    {
     "name": "stderr",
     "output_type": "stream",
     "text": [
      "\r",
      " 32%|█████████████▏                           | 115/358 [01:04<02:09,  1.88it/s]"
     ]
    },
    {
     "name": "stdout",
     "output_type": "stream",
     "text": [
      "Converted and resized: Ямал_Хмурый день_2018_Бум_акв_60х100 (2).jpg -> ./webp/Ямал_Хмурый день_2018_Бум_акв_60х100 (2).webp\n"
     ]
    },
    {
     "name": "stderr",
     "output_type": "stream",
     "text": [
      "\r",
      " 32%|█████████████▎                           | 116/358 [01:05<02:10,  1.86it/s]"
     ]
    },
    {
     "name": "stdout",
     "output_type": "stream",
     "text": [
      "Converted and resized: Карелия_Сумской порог_2010_Бум_акв_70х100 (1).jpg -> ./webp/Карелия_Сумской порог_2010_Бум_акв_70х100 (1).webp\n"
     ]
    },
    {
     "name": "stderr",
     "output_type": "stream",
     "text": [
      "\r",
      " 33%|█████████████▍                           | 117/358 [01:06<02:11,  1.83it/s]"
     ]
    },
    {
     "name": "stdout",
     "output_type": "stream",
     "text": [
      "Converted and resized: На берегу озера Хадата_2018_Бум_акв_100х360 (4).jpg -> ./webp/На берегу озера Хадата_2018_Бум_акв_100х360 (4).webp\n"
     ]
    },
    {
     "name": "stderr",
     "output_type": "stream",
     "text": [
      "\r",
      " 33%|█████████████▌                           | 118/358 [01:06<02:14,  1.79it/s]"
     ]
    },
    {
     "name": "stdout",
     "output_type": "stream",
     "text": [
      "Converted and resized: Ямал_Осень на реке Собь_2007_Бум_акв_60х86 (1).jpg -> ./webp/Ямал_Осень на реке Собь_2007_Бум_акв_60х86 (1).webp\n"
     ]
    },
    {
     "name": "stderr",
     "output_type": "stream",
     "text": [
      "\r",
      " 33%|█████████████▋                           | 119/358 [01:07<02:22,  1.67it/s]"
     ]
    },
    {
     "name": "stdout",
     "output_type": "stream",
     "text": [
      "Converted and resized: Ямал_Туманное утро на реке Харбей_2012_Бум_акв_70х100 (2).jpg -> ./webp/Ямал_Туманное утро на реке Харбей_2012_Бум_акв_70х100 (2).webp\n"
     ]
    },
    {
     "name": "stderr",
     "output_type": "stream",
     "text": [
      "\r",
      " 34%|█████████████▋                           | 120/358 [01:07<02:23,  1.65it/s]"
     ]
    },
    {
     "name": "stdout",
     "output_type": "stream",
     "text": [
      "Converted and resized: Полярный Урал_Горное озеро_2012_Бум_акв_70х100 (1).jpg -> ./webp/Полярный Урал_Горное озеро_2012_Бум_акв_70х100 (1).webp\n"
     ]
    },
    {
     "name": "stderr",
     "output_type": "stream",
     "text": [
      "\r",
      " 34%|█████████████▊                           | 121/358 [01:08<02:22,  1.66it/s]"
     ]
    },
    {
     "name": "stdout",
     "output_type": "stream",
     "text": [
      "Converted and resized: Полярный Урал_Долина реки Собь_2009_Бум_акв_70х100 (3).jpg -> ./webp/Полярный Урал_Долина реки Собь_2009_Бум_акв_70х100 (3).webp\n"
     ]
    },
    {
     "name": "stderr",
     "output_type": "stream",
     "text": [
      "\r",
      " 34%|█████████████▉                           | 122/358 [01:09<02:20,  1.68it/s]"
     ]
    },
    {
     "name": "stdout",
     "output_type": "stream",
     "text": [
      "Converted and resized: Диптих_Полярный Урал_Долина реки Собь_левый_2012_Бум_акв_70х100 (2).jpg -> ./webp/Диптих_Полярный Урал_Долина реки Собь_левый_2012_Бум_акв_70х100 (2).webp\n"
     ]
    },
    {
     "name": "stderr",
     "output_type": "stream",
     "text": [
      "\r",
      " 34%|██████████████                           | 123/358 [01:09<02:18,  1.70it/s]"
     ]
    },
    {
     "name": "stdout",
     "output_type": "stream",
     "text": [
      "Converted and resized: Ямал_Иван чай_2023_Бум_акв_70х100 (1).jpg -> ./webp/Ямал_Иван чай_2023_Бум_акв_70х100 (1).webp\n"
     ]
    },
    {
     "name": "stderr",
     "output_type": "stream",
     "text": [
      "\r",
      " 35%|██████████████▏                          | 124/358 [01:10<02:17,  1.70it/s]"
     ]
    },
    {
     "name": "stdout",
     "output_type": "stream",
     "text": [
      "Converted and resized: Нарьян Мар_Река Куя_2013_Бум_акв_55х75 (1).jpg -> ./webp/Нарьян Мар_Река Куя_2013_Бум_акв_55х75 (1).webp\n"
     ]
    },
    {
     "name": "stderr",
     "output_type": "stream",
     "text": [
      "\r",
      " 35%|██████████████▎                          | 125/358 [01:10<02:17,  1.70it/s]"
     ]
    },
    {
     "name": "stdout",
     "output_type": "stream",
     "text": [
      "Converted and resized: Ямал_Река Бурхойла_Сентябрь_2021_Бум_ акв_70х100 (1).jpg -> ./webp/Ямал_Река Бурхойла_Сентябрь_2021_Бум_ акв_70х100 (1).webp\n"
     ]
    },
    {
     "name": "stderr",
     "output_type": "stream",
     "text": [
      "\r",
      " 35%|██████████████▍                          | 126/358 [01:11<02:04,  1.86it/s]"
     ]
    },
    {
     "name": "stdout",
     "output_type": "stream",
     "text": [
      "Converted and resized: Водопад_Две сестры_Полярный Урал_2015_Бум_акв_70х100 (2).jpg -> ./webp/Водопад_Две сестры_Полярный Урал_2015_Бум_акв_70х100 (2).webp\n"
     ]
    },
    {
     "name": "stderr",
     "output_type": "stream",
     "text": [
      "\r",
      " 35%|██████████████▌                          | 127/358 [01:11<02:11,  1.76it/s]"
     ]
    },
    {
     "name": "stdout",
     "output_type": "stream",
     "text": [
      "Converted and resized: Уральский водопад_2015_Бум_акв_70х100 (2).jpg -> ./webp/Уральский водопад_2015_Бум_акв_70х100 (2).webp\n"
     ]
    },
    {
     "name": "stderr",
     "output_type": "stream",
     "text": [
      "\r",
      " 36%|██████████████▋                          | 128/358 [01:12<02:18,  1.66it/s]"
     ]
    },
    {
     "name": "stdout",
     "output_type": "stream",
     "text": [
      "Converted and resized: Ямал_Морозный день_2023_Бум_акв_50х100 (3).jpg -> ./webp/Ямал_Морозный день_2023_Бум_акв_50х100 (3).webp\n"
     ]
    },
    {
     "name": "stderr",
     "output_type": "stream",
     "text": [
      "\r",
      " 36%|██████████████▊                          | 129/358 [01:13<02:18,  1.66it/s]"
     ]
    },
    {
     "name": "stdout",
     "output_type": "stream",
     "text": [
      "Converted and resized: Ямал_Осенняя тундра_2008_Бум_акв_60х86 (1).jpg -> ./webp/Ямал_Осенняя тундра_2008_Бум_акв_60х86 (1).webp\n"
     ]
    },
    {
     "name": "stderr",
     "output_type": "stream",
     "text": [
      "\r",
      " 36%|██████████████▉                          | 130/358 [01:13<02:21,  1.61it/s]"
     ]
    },
    {
     "name": "stdout",
     "output_type": "stream",
     "text": [
      "Converted and resized: Карелия. Водопад_Куми порог_Пошёл июльский снег_2009_Бум_акв_70х100 (1).jpg -> ./webp/Карелия. Водопад_Куми порог_Пошёл июльский снег_2009_Бум_акв_70х100 (1).webp\n"
     ]
    },
    {
     "name": "stderr",
     "output_type": "stream",
     "text": [
      "\r",
      " 37%|███████████████                          | 131/358 [01:14<02:09,  1.75it/s]"
     ]
    },
    {
     "name": "stdout",
     "output_type": "stream",
     "text": [
      "Converted and resized: Ямал_Осенняя тундра_2008_Бум_акв_60х86 (2).jpg -> ./webp/Ямал_Осенняя тундра_2008_Бум_акв_60х86 (2).webp\n"
     ]
    },
    {
     "name": "stderr",
     "output_type": "stream",
     "text": [
      "\r",
      " 37%|███████████████                          | 132/358 [01:15<02:12,  1.71it/s]"
     ]
    },
    {
     "name": "stdout",
     "output_type": "stream",
     "text": [
      "Converted and resized: Ямал_Сентябрь_2008_Бум_акв_52х100 (2).jpg -> ./webp/Ямал_Сентябрь_2008_Бум_акв_52х100 (2).webp\n"
     ]
    },
    {
     "name": "stderr",
     "output_type": "stream",
     "text": [
      "\r",
      " 37%|███████████████▏                         | 133/358 [01:15<02:12,  1.70it/s]"
     ]
    },
    {
     "name": "stdout",
     "output_type": "stream",
     "text": [
      "Converted and resized: Белое море_Туманное утро_2007_Бум_акв_60х80 (1).jpg -> ./webp/Белое море_Туманное утро_2007_Бум_акв_60х80 (1).webp\n"
     ]
    },
    {
     "name": "stderr",
     "output_type": "stream",
     "text": [
      "\r",
      " 37%|███████████████▎                         | 134/358 [01:16<02:16,  1.64it/s]"
     ]
    },
    {
     "name": "stdout",
     "output_type": "stream",
     "text": [
      "Converted and resized: Август на Ямале_2006_Бум_акв_60х86 (2).jpg -> ./webp/Август на Ямале_2006_Бум_акв_60х86 (2).webp\n"
     ]
    },
    {
     "name": "stderr",
     "output_type": "stream",
     "text": [
      "\r",
      " 38%|███████████████▍                         | 135/358 [01:17<02:30,  1.48it/s]"
     ]
    },
    {
     "name": "stdout",
     "output_type": "stream",
     "text": [
      "Converted and resized: Зима на Рай Из_2023_Бум_акв_23х40 (1).jpg -> ./webp/Зима на Рай Из_2023_Бум_акв_23х40 (1).webp\n"
     ]
    },
    {
     "name": "stderr",
     "output_type": "stream",
     "text": [
      "\r",
      " 38%|███████████████▌                         | 136/358 [01:17<02:14,  1.65it/s]"
     ]
    },
    {
     "name": "stdout",
     "output_type": "stream",
     "text": [
      "Converted and resized: Архипелаг_Кузова_на Белом море_2006_Бум_акв_35х86 (1).jpg -> ./webp/Архипелаг_Кузова_на Белом море_2006_Бум_акв_35х86 (1).webp\n"
     ]
    },
    {
     "name": "stderr",
     "output_type": "stream",
     "text": [
      "\r",
      " 38%|███████████████▋                         | 137/358 [01:18<02:07,  1.73it/s]"
     ]
    },
    {
     "name": "stdout",
     "output_type": "stream",
     "text": [
      "Converted and resized: Ямал_Дельта реки Обь_2009_Бум_акв_35х100 (1).jpg -> ./webp/Ямал_Дельта реки Обь_2009_Бум_акв_35х100 (1).webp\n"
     ]
    },
    {
     "name": "stderr",
     "output_type": "stream",
     "text": [
      "\r",
      " 39%|███████████████▊                         | 138/358 [01:18<02:01,  1.81it/s]"
     ]
    },
    {
     "name": "stdout",
     "output_type": "stream",
     "text": [
      "Converted and resized: Белое море_2013. Бум_акв_70х100 (2).jpg -> ./webp/Белое море_2013. Бум_акв_70х100 (2).webp\n"
     ]
    },
    {
     "name": "stderr",
     "output_type": "stream",
     "text": [
      "\r",
      " 39%|███████████████▉                         | 139/358 [01:19<02:09,  1.70it/s]"
     ]
    },
    {
     "name": "stdout",
     "output_type": "stream",
     "text": [
      "Converted and resized: Ангара_Иван чай цветет_2023_Бум_акв_50х70 (2).jpg -> ./webp/Ангара_Иван чай цветет_2023_Бум_акв_50х70 (2).webp\n"
     ]
    },
    {
     "name": "stderr",
     "output_type": "stream",
     "text": [
      "\r",
      " 39%|████████████████                         | 140/358 [01:19<02:11,  1.66it/s]"
     ]
    },
    {
     "name": "stdout",
     "output_type": "stream",
     "text": [
      "Converted and resized: Ямал_Лиловый восход_2023_Бум_акв_23х40 (1).jpg -> ./webp/Ямал_Лиловый восход_2023_Бум_акв_23х40 (1).webp\n"
     ]
    },
    {
     "name": "stderr",
     "output_type": "stream",
     "text": [
      "\r",
      " 39%|████████████████▏                        | 141/358 [01:20<02:13,  1.63it/s]"
     ]
    },
    {
     "name": "stdout",
     "output_type": "stream",
     "text": [
      "Converted and resized: Ямал_Лиловый восход_2023_Бум_акв_23х40 (2).jpg -> ./webp/Ямал_Лиловый восход_2023_Бум_акв_23х40 (2).webp\n"
     ]
    },
    {
     "name": "stderr",
     "output_type": "stream",
     "text": [
      "\r",
      " 40%|████████████████▎                        | 142/358 [01:21<02:12,  1.63it/s]"
     ]
    },
    {
     "name": "stdout",
     "output_type": "stream",
     "text": [
      "Converted and resized: Нормандия_Дождливый день_2019_Бум_акв_40х60 (2).jpg -> ./webp/Нормандия_Дождливый день_2019_Бум_акв_40х60 (2).webp\n"
     ]
    },
    {
     "name": "stderr",
     "output_type": "stream",
     "text": [
      "\r",
      " 40%|████████████████▍                        | 143/358 [01:21<02:22,  1.51it/s]"
     ]
    },
    {
     "name": "stdout",
     "output_type": "stream",
     "text": [
      "Converted and resized: Август на Ямале_2009_Бум_акв_61х86 (3).jpg -> ./webp/Август на Ямале_2009_Бум_акв_61х86 (3).webp\n"
     ]
    },
    {
     "name": "stderr",
     "output_type": "stream",
     "text": [
      "\r",
      " 40%|████████████████▍                        | 144/358 [01:22<02:08,  1.66it/s]"
     ]
    },
    {
     "name": "stdout",
     "output_type": "stream",
     "text": [
      "Converted and resized: Белое море_Рыбацкий остров_2006_Бум_акв_52х86 (2).jpg -> ./webp/Белое море_Рыбацкий остров_2006_Бум_акв_52х86 (2).webp\n"
     ]
    },
    {
     "name": "stderr",
     "output_type": "stream",
     "text": [
      "\r",
      " 41%|████████████████▌                        | 145/358 [01:22<02:11,  1.61it/s]"
     ]
    },
    {
     "name": "stdout",
     "output_type": "stream",
     "text": [
      "Converted and resized: Ямал_Река Харбей_2019_Бум_акв_50х70 (1).jpg -> ./webp/Ямал_Река Харбей_2019_Бум_акв_50х70 (1).webp\n"
     ]
    },
    {
     "name": "stderr",
     "output_type": "stream",
     "text": [
      "\r",
      " 41%|████████████████▋                        | 146/358 [01:23<02:09,  1.64it/s]"
     ]
    },
    {
     "name": "stdout",
     "output_type": "stream",
     "text": [
      "Converted and resized: Тучи надвигаются_2015_Бум_акв_70х100 (2).jpg -> ./webp/Тучи надвигаются_2015_Бум_акв_70х100 (2).webp\n"
     ]
    },
    {
     "name": "stderr",
     "output_type": "stream",
     "text": [
      "\r",
      " 41%|████████████████▊                        | 147/358 [01:24<02:06,  1.66it/s]"
     ]
    },
    {
     "name": "stdout",
     "output_type": "stream",
     "text": [
      "Converted and resized: Водопады на горе Рай Из_2013_Бум_акв_70х100 (3).jpg -> ./webp/Водопады на горе Рай Из_2013_Бум_акв_70х100 (3).webp\n"
     ]
    },
    {
     "name": "stderr",
     "output_type": "stream",
     "text": [
      "\r",
      " 41%|████████████████▉                        | 148/358 [01:24<01:59,  1.76it/s]"
     ]
    },
    {
     "name": "stdout",
     "output_type": "stream",
     "text": [
      "Converted and resized: Водопад на Полярном Урале_2022_Бум_акв_50х40 (1).jpg -> ./webp/Водопад на Полярном Урале_2022_Бум_акв_50х40 (1).webp\n"
     ]
    },
    {
     "name": "stderr",
     "output_type": "stream",
     "text": [
      "\r",
      " 42%|█████████████████                        | 149/358 [01:25<01:58,  1.77it/s]"
     ]
    },
    {
     "name": "stdout",
     "output_type": "stream",
     "text": [
      "Converted and resized: Диптих_На просторах устья реки Обь_ Ямал_левый_2012_Бум_акв_70х100 (1).jpg -> ./webp/Диптих_На просторах устья реки Обь_ Ямал_левый_2012_Бум_акв_70х100 (1).webp\n"
     ]
    },
    {
     "name": "stderr",
     "output_type": "stream",
     "text": [
      "\r",
      " 42%|█████████████████▏                       | 150/358 [01:25<01:50,  1.88it/s]"
     ]
    },
    {
     "name": "stdout",
     "output_type": "stream",
     "text": [
      "Converted and resized: Просторы Белого моря_Кузова_2015_Бум_акв_100х280 (1).jpg -> ./webp/Просторы Белого моря_Кузова_2015_Бум_акв_100х280 (1).webp\n"
     ]
    },
    {
     "name": "stderr",
     "output_type": "stream",
     "text": [
      "\r",
      " 42%|█████████████████▎                       | 151/358 [01:26<02:04,  1.66it/s]"
     ]
    },
    {
     "name": "stdout",
     "output_type": "stream",
     "text": [
      "Converted and resized: Белое море. Апрель_2007_Бум_акв_60х86  (2).jpg -> ./webp/Белое море. Апрель_2007_Бум_акв_60х86  (2).webp\n"
     ]
    },
    {
     "name": "stderr",
     "output_type": "stream",
     "text": [
      "\r",
      " 42%|█████████████████▍                       | 152/358 [01:27<02:04,  1.65it/s]"
     ]
    },
    {
     "name": "stdout",
     "output_type": "stream",
     "text": [
      "Converted and resized: Ямал_Река Бурхойла_Сентябрь_2021_Бум_ акв_70х100 (2).jpg -> ./webp/Ямал_Река Бурхойла_Сентябрь_2021_Бум_ акв_70х100 (2).webp\n"
     ]
    },
    {
     "name": "stderr",
     "output_type": "stream",
     "text": [
      "\r",
      " 43%|█████████████████▌                       | 153/358 [01:27<01:54,  1.78it/s]"
     ]
    },
    {
     "name": "stdout",
     "output_type": "stream",
     "text": [
      "Converted and resized: Ямал_Золотая осень_2021_Бум_акв_20х50 (1).jpg -> ./webp/Ямал_Золотая осень_2021_Бум_акв_20х50 (1).webp\n"
     ]
    },
    {
     "name": "stderr",
     "output_type": "stream",
     "text": [
      "\r",
      " 43%|█████████████████▋                       | 154/358 [01:28<01:58,  1.72it/s]"
     ]
    },
    {
     "name": "stdout",
     "output_type": "stream",
     "text": [
      "Converted and resized: Нормандия_Ла Манш_2019_Бум_акв_40х60 (2).jpg -> ./webp/Нормандия_Ла Манш_2019_Бум_акв_40х60 (2).webp\n"
     ]
    },
    {
     "name": "stderr",
     "output_type": "stream",
     "text": [
      "\r",
      " 43%|█████████████████▊                       | 155/358 [01:28<02:00,  1.68it/s]"
     ]
    },
    {
     "name": "stdout",
     "output_type": "stream",
     "text": [
      "Converted and resized: Урал_Гора Рай Из_2012_Бум_акв__70х100 (1).jpg -> ./webp/Урал_Гора Рай Из_2012_Бум_акв__70х100 (1).webp\n"
     ]
    },
    {
     "name": "stderr",
     "output_type": "stream",
     "text": [
      "\r",
      " 44%|█████████████████▊                       | 156/358 [01:29<01:50,  1.83it/s]"
     ]
    },
    {
     "name": "stdout",
     "output_type": "stream",
     "text": [
      "Converted and resized: Полярный Урал. Гора Рай Из_2010_Бум_акв_70х100 (2).jpg -> ./webp/Полярный Урал. Гора Рай Из_2010_Бум_акв_70х100 (2).webp\n"
     ]
    },
    {
     "name": "stderr",
     "output_type": "stream",
     "text": [
      "\r",
      " 44%|█████████████████▉                       | 157/358 [01:30<02:10,  1.54it/s]"
     ]
    },
    {
     "name": "stdout",
     "output_type": "stream",
     "text": [
      "Converted and resized: Берег Белого моря_ 2007_Бум_акв_60х75 (2).jpg -> ./webp/Берег Белого моря_ 2007_Бум_акв_60х75 (2).webp\n"
     ]
    },
    {
     "name": "stderr",
     "output_type": "stream",
     "text": [
      "\r",
      " 44%|██████████████████                       | 158/358 [01:30<02:04,  1.61it/s]"
     ]
    },
    {
     "name": "stdout",
     "output_type": "stream",
     "text": [
      "Converted and resized: Острова на Белом море_2007_Бум_акв_ 60х86 (1).jpg -> ./webp/Острова на Белом море_2007_Бум_акв_ 60х86 (1).webp\n"
     ]
    },
    {
     "name": "stderr",
     "output_type": "stream",
     "text": [
      "\r",
      " 44%|██████████████████▏                      | 159/358 [01:31<01:49,  1.81it/s]"
     ]
    },
    {
     "name": "stdout",
     "output_type": "stream",
     "text": [
      "Converted and resized: Заполярный Урал_Озеро Хадата_2023_Бум_акв_34х94 (1).jpg -> ./webp/Заполярный Урал_Озеро Хадата_2023_Бум_акв_34х94 (1).webp\n"
     ]
    },
    {
     "name": "stderr",
     "output_type": "stream",
     "text": [
      "\r",
      " 45%|██████████████████▎                      | 160/358 [01:31<01:52,  1.76it/s]"
     ]
    },
    {
     "name": "stdout",
     "output_type": "stream",
     "text": [
      "Converted and resized: Буйство красок Севера_2011_Бум_акв_70х100 (2).jpg -> ./webp/Буйство красок Севера_2011_Бум_акв_70х100 (2).webp\n"
     ]
    },
    {
     "name": "stderr",
     "output_type": "stream",
     "text": [
      "\r",
      " 45%|██████████████████▍                      | 161/358 [01:32<01:54,  1.72it/s]"
     ]
    },
    {
     "name": "stdout",
     "output_type": "stream",
     "text": [
      "Converted and resized: Белое море_Рыбацкие сети_2007_Бум_ акв_60х86  (1).jpg -> ./webp/Белое море_Рыбацкие сети_2007_Бум_ акв_60х86  (1).webp\n"
     ]
    },
    {
     "name": "stderr",
     "output_type": "stream",
     "text": [
      "\r",
      " 45%|██████████████████▌                      | 162/358 [01:32<01:49,  1.79it/s]"
     ]
    },
    {
     "name": "stdout",
     "output_type": "stream",
     "text": [
      "Converted and resized: Снежные вершины_2010_Бум_акв_57х86 (1).jpg -> ./webp/Снежные вершины_2010_Бум_акв_57х86 (1).webp\n"
     ]
    },
    {
     "name": "stderr",
     "output_type": "stream",
     "text": [
      "\r",
      " 46%|██████████████████▋                      | 163/358 [01:33<01:50,  1.77it/s]"
     ]
    },
    {
     "name": "stdout",
     "output_type": "stream",
     "text": [
      "Converted and resized: Белое море_Рыбацкие сети_2007_Бум_ акв_60х86  (2).jpg -> ./webp/Белое море_Рыбацкие сети_2007_Бум_ акв_60х86  (2).webp\n"
     ]
    },
    {
     "name": "stderr",
     "output_type": "stream",
     "text": [
      "\r",
      " 46%|██████████████████▊                      | 164/358 [01:33<01:49,  1.77it/s]"
     ]
    },
    {
     "name": "stdout",
     "output_type": "stream",
     "text": [
      "Converted and resized: Салехард_Обдорский острог_2009_Бум_акв_20х86 (2).jpg -> ./webp/Салехард_Обдорский острог_2009_Бум_акв_20х86 (2).webp\n"
     ]
    },
    {
     "name": "stderr",
     "output_type": "stream",
     "text": [
      "\r",
      " 46%|██████████████████▉                      | 165/358 [01:34<01:43,  1.87it/s]"
     ]
    },
    {
     "name": "stdout",
     "output_type": "stream",
     "text": [
      "Converted and resized: Соловецкий монастырь_2006_Бум_акв_61х86 (2).jpg -> ./webp/Соловецкий монастырь_2006_Бум_акв_61х86 (2).webp\n"
     ]
    },
    {
     "name": "stderr",
     "output_type": "stream",
     "text": [
      "\r",
      " 46%|███████████████████                      | 166/358 [01:35<01:50,  1.74it/s]"
     ]
    },
    {
     "name": "stdout",
     "output_type": "stream",
     "text": [
      "Converted and resized: Полярный Урал_Исток реки Собь_2015_Бум_акв_100х340 (3).jpg -> ./webp/Полярный Урал_Исток реки Собь_2015_Бум_акв_100х340 (3).webp\n"
     ]
    },
    {
     "name": "stderr",
     "output_type": "stream",
     "text": [
      "\r",
      " 47%|███████████████████▏                     | 167/358 [01:35<01:46,  1.80it/s]"
     ]
    },
    {
     "name": "stdout",
     "output_type": "stream",
     "text": [
      "Converted and resized: Дождливые облака_2014_Бум_акв_70х100 (2).jpg -> ./webp/Дождливые облака_2014_Бум_акв_70х100 (2).webp\n"
     ]
    },
    {
     "name": "stderr",
     "output_type": "stream",
     "text": [
      "\r",
      " 47%|███████████████████▏                     | 168/358 [01:36<01:50,  1.71it/s]"
     ]
    },
    {
     "name": "stdout",
     "output_type": "stream",
     "text": [
      "Converted and resized: Байкал_2012_Бум_акв_35х50 (1).jpg -> ./webp/Байкал_2012_Бум_акв_35х50 (1).webp\n"
     ]
    },
    {
     "name": "stderr",
     "output_type": "stream",
     "text": [
      "\r",
      " 47%|███████████████████▎                     | 169/358 [01:36<01:51,  1.70it/s]"
     ]
    },
    {
     "name": "stdout",
     "output_type": "stream",
     "text": [
      "Converted and resized: Полярный Урал. Дождь пошёл_2012_Бум_акв_70х100 (3).jpg -> ./webp/Полярный Урал. Дождь пошёл_2012_Бум_акв_70х100 (3).webp\n"
     ]
    },
    {
     "name": "stderr",
     "output_type": "stream",
     "text": [
      "\r",
      " 47%|███████████████████▍                     | 170/358 [01:37<01:44,  1.81it/s]"
     ]
    },
    {
     "name": "stdout",
     "output_type": "stream",
     "text": [
      "Converted and resized: Ямал_Ущелье реки Харбей_2012_Бум_акв_70х150 (4).jpg -> ./webp/Ямал_Ущелье реки Харбей_2012_Бум_акв_70х150 (4).webp\n"
     ]
    },
    {
     "name": "stderr",
     "output_type": "stream",
     "text": [
      "\r",
      " 48%|███████████████████▌                     | 171/358 [01:37<01:45,  1.77it/s]"
     ]
    },
    {
     "name": "stdout",
     "output_type": "stream",
     "text": [
      "Converted and resized: Ямал_Река Полуй_2008_Бум_акв_70х100 (1).jpg -> ./webp/Ямал_Река Полуй_2008_Бум_акв_70х100 (1).webp\n"
     ]
    },
    {
     "name": "stderr",
     "output_type": "stream",
     "text": [
      "\r",
      " 48%|███████████████████▋                     | 172/358 [01:38<01:46,  1.74it/s]"
     ]
    },
    {
     "name": "stdout",
     "output_type": "stream",
     "text": [
      "Converted and resized: Диптих_На просторах устья реки Обь_ Ямал_левый_2012_Бум_акв_70х100 (2).jpg -> ./webp/Диптих_На просторах устья реки Обь_ Ямал_левый_2012_Бум_акв_70х100 (2).webp\n"
     ]
    },
    {
     "name": "stderr",
     "output_type": "stream",
     "text": [
      "\r",
      " 48%|███████████████████▊                     | 173/358 [01:38<01:40,  1.84it/s]"
     ]
    },
    {
     "name": "stdout",
     "output_type": "stream",
     "text": [
      "Converted and resized: Пороги на реке Сума. Карелия_2009_Бум_акв_70х100 (2).jpg -> ./webp/Пороги на реке Сума. Карелия_2009_Бум_акв_70х100 (2).webp\n"
     ]
    },
    {
     "name": "stderr",
     "output_type": "stream",
     "text": [
      "\r",
      " 49%|███████████████████▉                     | 174/358 [01:39<01:43,  1.78it/s]"
     ]
    },
    {
     "name": "stdout",
     "output_type": "stream",
     "text": [
      "Converted and resized: Ямал_Морозный день_2023_Бум_акв_50х100 (2).jpg -> ./webp/Ямал_Морозный день_2023_Бум_акв_50х100 (2).webp\n"
     ]
    },
    {
     "name": "stderr",
     "output_type": "stream",
     "text": [
      "\r",
      " 49%|████████████████████                     | 175/358 [01:40<01:49,  1.67it/s]"
     ]
    },
    {
     "name": "stdout",
     "output_type": "stream",
     "text": [
      "Converted and resized: Дождливые облака_2014_Бум_акв_70х100 (1).jpg -> ./webp/Дождливые облака_2014_Бум_акв_70х100 (1).webp\n"
     ]
    },
    {
     "name": "stderr",
     "output_type": "stream",
     "text": [
      "\r",
      " 49%|████████████████████▏                    | 176/358 [01:40<01:44,  1.75it/s]"
     ]
    },
    {
     "name": "stdout",
     "output_type": "stream",
     "text": [
      "Converted and resized: Тишина_2012_Бум_акв_50х110 (2).jpg -> ./webp/Тишина_2012_Бум_акв_50х110 (2).webp\n"
     ]
    },
    {
     "name": "stderr",
     "output_type": "stream",
     "text": [
      "\r",
      " 49%|████████████████████▎                    | 177/358 [01:41<01:44,  1.74it/s]"
     ]
    },
    {
     "name": "stdout",
     "output_type": "stream",
     "text": [
      "Converted and resized: Осеннее утро. Ямал_2009_Бум_акв_50х70 (1).jpg -> ./webp/Осеннее утро. Ямал_2009_Бум_акв_50х70 (1).webp\n"
     ]
    },
    {
     "name": "stderr",
     "output_type": "stream",
     "text": [
      "\r",
      " 50%|████████████████████▍                    | 178/358 [01:42<01:53,  1.59it/s]"
     ]
    },
    {
     "name": "stdout",
     "output_type": "stream",
     "text": [
      "Converted and resized: Уральские горы_2006_Бум_акв_61х85 (2).jpg -> ./webp/Уральские горы_2006_Бум_акв_61х85 (2).webp\n"
     ]
    },
    {
     "name": "stderr",
     "output_type": "stream",
     "text": [
      "\r",
      " 50%|████████████████████▌                    | 179/358 [01:42<01:52,  1.59it/s]"
     ]
    },
    {
     "name": "stdout",
     "output_type": "stream",
     "text": [
      "Converted and resized: Диптих_На просторах устья реки Обь_Ямал_правый_2012_Бум_акв_70х100 (1).jpg -> ./webp/Диптих_На просторах устья реки Обь_Ямал_правый_2012_Бум_акв_70х100 (1).webp\n"
     ]
    },
    {
     "name": "stderr",
     "output_type": "stream",
     "text": [
      "\r",
      " 50%|████████████████████▌                    | 180/358 [01:43<01:52,  1.58it/s]"
     ]
    },
    {
     "name": "stdout",
     "output_type": "stream",
     "text": [
      "Converted and resized: Тундра_2009_Бум_акв_61х86 (2).jpg -> ./webp/Тундра_2009_Бум_акв_61х86 (2).webp\n"
     ]
    },
    {
     "name": "stderr",
     "output_type": "stream",
     "text": [
      "\r",
      " 51%|████████████████████▋                    | 181/358 [01:43<01:51,  1.59it/s]"
     ]
    },
    {
     "name": "stdout",
     "output_type": "stream",
     "text": [
      "Converted and resized: Полярный Урал_Долина реки Собь_ 2013_Бум_акв_100х150 (4).jpg -> ./webp/Полярный Урал_Долина реки Собь_ 2013_Бум_акв_100х150 (4).webp\n"
     ]
    },
    {
     "name": "stderr",
     "output_type": "stream",
     "text": [
      "\r",
      " 51%|████████████████████▊                    | 182/358 [01:44<01:35,  1.85it/s]"
     ]
    },
    {
     "name": "stdout",
     "output_type": "stream",
     "text": [
      "Converted and resized: Салехард_Обдорский острог_2009_Бум_акв_20х86 (1).jpg -> ./webp/Салехард_Обдорский острог_2009_Бум_акв_20х86 (1).webp\n"
     ]
    },
    {
     "name": "stderr",
     "output_type": "stream",
     "text": [
      "\r",
      " 51%|████████████████████▉                    | 183/358 [01:44<01:28,  1.98it/s]"
     ]
    },
    {
     "name": "stdout",
     "output_type": "stream",
     "text": [
      "Converted and resized: Полярный Урал_Озеро Макар-Рузь_2015_Бум_акв_100х340 (1).jpg -> ./webp/Полярный Урал_Озеро Макар-Рузь_2015_Бум_акв_100х340 (1).webp\n"
     ]
    },
    {
     "name": "stderr",
     "output_type": "stream",
     "text": [
      "\r",
      " 51%|█████████████████████                    | 184/358 [01:45<01:35,  1.82it/s]"
     ]
    },
    {
     "name": "stdout",
     "output_type": "stream",
     "text": [
      "Converted and resized: Белая ночь на Белом море_2008_Бум_акв_60х86 (2).jpg -> ./webp/Белая ночь на Белом море_2008_Бум_акв_60х86 (2).webp\n"
     ]
    },
    {
     "name": "stderr",
     "output_type": "stream",
     "text": [
      "\r",
      " 52%|█████████████████████▏                   | 185/358 [01:45<01:37,  1.77it/s]"
     ]
    },
    {
     "name": "stdout",
     "output_type": "stream",
     "text": [
      "Converted and resized: Белое море_Облака_2012_Бум_акв_70х100 (1).jpg -> ./webp/Белое море_Облака_2012_Бум_акв_70х100 (1).webp\n"
     ]
    },
    {
     "name": "stderr",
     "output_type": "stream",
     "text": [
      "\r",
      " 52%|█████████████████████▎                   | 186/358 [01:46<01:37,  1.77it/s]"
     ]
    },
    {
     "name": "stdout",
     "output_type": "stream",
     "text": [
      "Converted and resized: Карелия_Остров Сосновец_2007_Бум_акв_70х100 (2).jpg -> ./webp/Карелия_Остров Сосновец_2007_Бум_акв_70х100 (2).webp\n"
     ]
    },
    {
     "name": "stderr",
     "output_type": "stream",
     "text": [
      "\r",
      " 52%|█████████████████████▍                   | 187/358 [01:47<01:35,  1.78it/s]"
     ]
    },
    {
     "name": "stdout",
     "output_type": "stream",
     "text": [
      "Converted and resized: Морской простор_2020_Бум_акв_100х300 (3).jpg -> ./webp/Морской простор_2020_Бум_акв_100х300 (3).webp\n"
     ]
    },
    {
     "name": "stderr",
     "output_type": "stream",
     "text": [
      "\r",
      " 53%|█████████████████████▌                   | 188/358 [01:47<01:35,  1.77it/s]"
     ]
    },
    {
     "name": "stdout",
     "output_type": "stream",
     "text": [
      "Converted and resized: Архыз_2023_Бум_акв_70х100 (2).jpg -> ./webp/Архыз_2023_Бум_акв_70х100 (2).webp\n"
     ]
    },
    {
     "name": "stderr",
     "output_type": "stream",
     "text": [
      "\r",
      " 53%|█████████████████████▋                   | 189/358 [01:48<01:35,  1.77it/s]"
     ]
    },
    {
     "name": "stdout",
     "output_type": "stream",
     "text": [
      "Converted and resized: Седой Великан Урала_2018_Бум_ акв_70х100 (1).jpg -> ./webp/Седой Великан Урала_2018_Бум_ акв_70х100 (1).webp\n"
     ]
    },
    {
     "name": "stderr",
     "output_type": "stream",
     "text": [
      "\r",
      " 53%|█████████████████████▊                   | 190/358 [01:48<01:33,  1.79it/s]"
     ]
    },
    {
     "name": "stdout",
     "output_type": "stream",
     "text": [
      "Converted and resized: Полярный Урал_Гора Рай Из_2023_Бум_акв_100х170 (2).jpg -> ./webp/Полярный Урал_Гора Рай Из_2023_Бум_акв_100х170 (2).webp\n"
     ]
    },
    {
     "name": "stderr",
     "output_type": "stream",
     "text": [
      "\r",
      " 53%|█████████████████████▊                   | 191/358 [01:49<01:33,  1.78it/s]"
     ]
    },
    {
     "name": "stdout",
     "output_type": "stream",
     "text": [
      "Converted and resized: Острова на Белом море_2007_Бум_акв_ 60х86 (2).jpg -> ./webp/Острова на Белом море_2007_Бум_акв_ 60х86 (2).webp\n"
     ]
    },
    {
     "name": "stderr",
     "output_type": "stream",
     "text": [
      "\r",
      " 54%|█████████████████████▉                   | 192/358 [01:49<01:35,  1.74it/s]"
     ]
    },
    {
     "name": "stdout",
     "output_type": "stream",
     "text": [
      "Converted and resized: Водопад Куми порог_Карелия_2009_Бум_акв_70х100 (1).jpg -> ./webp/Водопад Куми порог_Карелия_2009_Бум_акв_70х100 (1).webp\n"
     ]
    },
    {
     "name": "stderr",
     "output_type": "stream",
     "text": [
      "\r",
      " 54%|██████████████████████                   | 193/358 [01:50<01:34,  1.74it/s]"
     ]
    },
    {
     "name": "stdout",
     "output_type": "stream",
     "text": [
      "Converted and resized: Ямал_Осенняя тундра_2009_Бум_акв_70х100 (1).jpg -> ./webp/Ямал_Осенняя тундра_2009_Бум_акв_70х100 (1).webp\n"
     ]
    },
    {
     "name": "stderr",
     "output_type": "stream",
     "text": [
      "\r",
      " 54%|██████████████████████▏                  | 194/358 [01:51<01:33,  1.75it/s]"
     ]
    },
    {
     "name": "stdout",
     "output_type": "stream",
     "text": [
      "Converted and resized: Ямал_Осень на реке Собь_2007_Бум_акв_60х86 (2).jpg -> ./webp/Ямал_Осень на реке Собь_2007_Бум_акв_60х86 (2).webp\n"
     ]
    },
    {
     "name": "stderr",
     "output_type": "stream",
     "text": [
      "\r",
      " 54%|██████████████████████▎                  | 195/358 [01:51<01:31,  1.77it/s]"
     ]
    },
    {
     "name": "stdout",
     "output_type": "stream",
     "text": [
      "Converted and resized: Небо_Море_Камни_2019_Бум_акв_70х100 (2).jpg -> ./webp/Небо_Море_Камни_2019_Бум_акв_70х100 (2).webp\n"
     ]
    },
    {
     "name": "stderr",
     "output_type": "stream",
     "text": [
      "\r",
      " 55%|██████████████████████▍                  | 196/358 [01:52<01:29,  1.80it/s]"
     ]
    },
    {
     "name": "stdout",
     "output_type": "stream",
     "text": [
      "Converted and resized: Морской простор_2020_Бум_акв_100х300 (2).jpg -> ./webp/Морской простор_2020_Бум_акв_100х300 (2).webp\n"
     ]
    },
    {
     "name": "stderr",
     "output_type": "stream",
     "text": [
      "\r",
      " 55%|██████████████████████▌                  | 197/358 [01:52<01:36,  1.67it/s]"
     ]
    },
    {
     "name": "stdout",
     "output_type": "stream",
     "text": [
      "Converted and resized: Байкал_2012_Бум_акв_70х100 (2).jpg -> ./webp/Байкал_2012_Бум_акв_70х100 (2).webp\n"
     ]
    },
    {
     "name": "stderr",
     "output_type": "stream",
     "text": [
      "\r",
      " 55%|██████████████████████▋                  | 198/358 [01:53<01:38,  1.62it/s]"
     ]
    },
    {
     "name": "stdout",
     "output_type": "stream",
     "text": [
      "Converted and resized: Полярный Урал_Гора Рай Из_2023_Бум_акв_100х170 (5).jpg -> ./webp/Полярный Урал_Гора Рай Из_2023_Бум_акв_100х170 (5).webp\n"
     ]
    },
    {
     "name": "stderr",
     "output_type": "stream",
     "text": [
      "\r",
      " 56%|██████████████████████▊                  | 199/358 [01:54<01:40,  1.59it/s]"
     ]
    },
    {
     "name": "stdout",
     "output_type": "stream",
     "text": [
      "Converted and resized: Уральский водопад_2015_Бум_акв_70х100 (1).jpg -> ./webp/Уральский водопад_2015_Бум_акв_70х100 (1).webp\n"
     ]
    },
    {
     "name": "stderr",
     "output_type": "stream",
     "text": [
      "\r",
      " 56%|██████████████████████▉                  | 200/358 [01:54<01:36,  1.63it/s]"
     ]
    },
    {
     "name": "stdout",
     "output_type": "stream",
     "text": [
      "Converted and resized: Ямал_Заросшее озеро_2006_Бум_акв_60х86 (2).jpg -> ./webp/Ямал_Заросшее озеро_2006_Бум_акв_60х86 (2).webp\n"
     ]
    },
    {
     "name": "stderr",
     "output_type": "stream",
     "text": [
      "\r",
      " 56%|███████████████████████                  | 201/358 [01:55<01:36,  1.64it/s]"
     ]
    },
    {
     "name": "stdout",
     "output_type": "stream",
     "text": [
      "Converted and resized: Ямал_Золотая осень_2021_Бум_акв_20х50 (2).jpg -> ./webp/Ямал_Золотая осень_2021_Бум_акв_20х50 (2).webp\n"
     ]
    },
    {
     "name": "stderr",
     "output_type": "stream",
     "text": [
      "\r",
      " 56%|███████████████████████▏                 | 202/358 [01:55<01:32,  1.69it/s]"
     ]
    },
    {
     "name": "stdout",
     "output_type": "stream",
     "text": [
      "Converted and resized: Перед рассветом_Белое море_2007_Бум_акв_70х100 (2).jpg -> ./webp/Перед рассветом_Белое море_2007_Бум_акв_70х100 (2).webp\n"
     ]
    },
    {
     "name": "stderr",
     "output_type": "stream",
     "text": [
      "\r",
      " 57%|███████████████████████▏                 | 203/358 [01:56<01:32,  1.67it/s]"
     ]
    },
    {
     "name": "stdout",
     "output_type": "stream",
     "text": [
      "Converted and resized: Тундра_2009_Бум_акв_61х86 (1).jpg -> ./webp/Тундра_2009_Бум_акв_61х86 (1).webp\n"
     ]
    },
    {
     "name": "stderr",
     "output_type": "stream",
     "text": [
      "\r",
      " 57%|███████████████████████▎                 | 204/358 [01:57<01:31,  1.67it/s]"
     ]
    },
    {
     "name": "stdout",
     "output_type": "stream",
     "text": [
      "Converted and resized: Вёль ле Роз_Отлив_2019_Бум_акв_35х60 (1).jpg -> ./webp/Вёль ле Роз_Отлив_2019_Бум_акв_35х60 (1).webp\n"
     ]
    },
    {
     "name": "stderr",
     "output_type": "stream",
     "text": [
      "\r",
      " 57%|███████████████████████▍                 | 205/358 [01:57<01:33,  1.63it/s]"
     ]
    },
    {
     "name": "stdout",
     "output_type": "stream",
     "text": [
      "Converted and resized: Заполярный Урал_Озеро Хадата_2018_Бум_акв_100х360 (2).jpg -> ./webp/Заполярный Урал_Озеро Хадата_2018_Бум_акв_100х360 (2).webp\n"
     ]
    },
    {
     "name": "stderr",
     "output_type": "stream",
     "text": [
      "\r",
      " 58%|███████████████████████▌                 | 206/358 [01:58<01:31,  1.66it/s]"
     ]
    },
    {
     "name": "stdout",
     "output_type": "stream",
     "text": [
      "Converted and resized: Ямал_Хмурый день_2018_Бум_акв_60х100 (1).jpg -> ./webp/Ямал_Хмурый день_2018_Бум_акв_60х100 (1).webp\n"
     ]
    },
    {
     "name": "stderr",
     "output_type": "stream",
     "text": [
      "\r",
      " 58%|███████████████████████▋                 | 207/358 [01:58<01:29,  1.69it/s]"
     ]
    },
    {
     "name": "stdout",
     "output_type": "stream",
     "text": [
      "Converted and resized: Полярный Урал. Дождь пошёл_2012_Бум_акв_70х100 (1).jpg -> ./webp/Полярный Урал. Дождь пошёл_2012_Бум_акв_70х100 (1).webp\n"
     ]
    },
    {
     "name": "stderr",
     "output_type": "stream",
     "text": [
      "\r",
      " 58%|███████████████████████▊                 | 208/358 [01:59<01:28,  1.70it/s]"
     ]
    },
    {
     "name": "stdout",
     "output_type": "stream",
     "text": [
      "Converted and resized: Гора Чертов палец_Ямал_2023_Бум_акв_23х40 (2).jpg -> ./webp/Гора Чертов палец_Ямал_2023_Бум_акв_23х40 (2).webp\n"
     ]
    },
    {
     "name": "stderr",
     "output_type": "stream",
     "text": [
      "\r",
      " 58%|███████████████████████▉                 | 209/358 [02:00<01:27,  1.71it/s]"
     ]
    },
    {
     "name": "stdout",
     "output_type": "stream",
     "text": [
      "Converted and resized: Ямал_Иванчай отцвёл_2009_Бум_акв_70х100 (2).jpg -> ./webp/Ямал_Иванчай отцвёл_2009_Бум_акв_70х100 (2).webp\n"
     ]
    },
    {
     "name": "stderr",
     "output_type": "stream",
     "text": [
      "\r",
      " 59%|████████████████████████                 | 210/358 [02:00<01:19,  1.87it/s]"
     ]
    },
    {
     "name": "stdout",
     "output_type": "stream",
     "text": [
      "Converted and resized: Карелия_Песчаное озеро_2010_Бум_акв_70х100 (2).jpg -> ./webp/Карелия_Песчаное озеро_2010_Бум_акв_70х100 (2).webp\n"
     ]
    },
    {
     "name": "stderr",
     "output_type": "stream",
     "text": [
      "\r",
      " 59%|████████████████████████▏                | 211/358 [02:01<01:24,  1.74it/s]"
     ]
    },
    {
     "name": "stdout",
     "output_type": "stream",
     "text": [
      "Converted and resized: Капли дождя_2010_Бум_акв_50х70 (2).jpg -> ./webp/Капли дождя_2010_Бум_акв_50х70 (2).webp\n"
     ]
    },
    {
     "name": "stderr",
     "output_type": "stream",
     "text": [
      "\r",
      " 59%|████████████████████████▎                | 212/358 [02:01<01:19,  1.83it/s]"
     ]
    },
    {
     "name": "stdout",
     "output_type": "stream",
     "text": [
      "Converted and resized: Нарьян Мар_Река Куя_2013_Бум_акв_55х75 (2).jpg -> ./webp/Нарьян Мар_Река Куя_2013_Бум_акв_55х75 (2).webp\n"
     ]
    },
    {
     "name": "stderr",
     "output_type": "stream",
     "text": [
      "\r",
      " 59%|████████████████████████▍                | 213/358 [02:02<01:28,  1.64it/s]"
     ]
    },
    {
     "name": "stdout",
     "output_type": "stream",
     "text": [
      "Converted and resized: Ямал_Ущелье реки Харбей_2012_Бум_акв_70х150 (3).jpg -> ./webp/Ямал_Ущелье реки Харбей_2012_Бум_акв_70х150 (3).webp\n"
     ]
    },
    {
     "name": "stderr",
     "output_type": "stream",
     "text": [
      "\r",
      " 60%|████████████████████████▌                | 214/358 [02:02<01:27,  1.65it/s]"
     ]
    },
    {
     "name": "stdout",
     "output_type": "stream",
     "text": [
      "Converted and resized: Сумской порог_Карелия_2009_Бум_ акв_86х60 (2).jpg -> ./webp/Сумской порог_Карелия_2009_Бум_ акв_86х60 (2).webp\n"
     ]
    },
    {
     "name": "stderr",
     "output_type": "stream",
     "text": [
      "\r",
      " 60%|████████████████████████▌                | 215/358 [02:03<01:25,  1.68it/s]"
     ]
    },
    {
     "name": "stdout",
     "output_type": "stream",
     "text": [
      "Converted and resized: Ямал_Осенняя тундра_2009_Бум_акв_70х100 (2).jpg -> ./webp/Ямал_Осенняя тундра_2009_Бум_акв_70х100 (2).webp\n"
     ]
    },
    {
     "name": "stderr",
     "output_type": "stream",
     "text": [
      "\r",
      " 60%|████████████████████████▋                | 216/358 [02:04<01:25,  1.67it/s]"
     ]
    },
    {
     "name": "stdout",
     "output_type": "stream",
     "text": [
      "Converted and resized: Норвегия_Лофотенские острова_2010_Бум_акв_70х100 (2).jpg -> ./webp/Норвегия_Лофотенские острова_2010_Бум_акв_70х100 (2).webp\n"
     ]
    },
    {
     "name": "stderr",
     "output_type": "stream",
     "text": [
      "\r",
      " 61%|████████████████████████▊                | 217/358 [02:04<01:30,  1.56it/s]"
     ]
    },
    {
     "name": "stdout",
     "output_type": "stream",
     "text": [
      "Converted and resized: Полярный Урал_Ямал_Снежные вершины_2022_Бум_акв_35х46 (1).jpg -> ./webp/Полярный Урал_Ямал_Снежные вершины_2022_Бум_акв_35х46 (1).webp\n"
     ]
    },
    {
     "name": "stderr",
     "output_type": "stream",
     "text": [
      "\r",
      " 61%|████████████████████████▉                | 218/358 [02:05<01:28,  1.58it/s]"
     ]
    },
    {
     "name": "stdout",
     "output_type": "stream",
     "text": [
      "Converted and resized: Норвегия_Лофотены_2010_Бум_акв_70х100 (2).jpg -> ./webp/Норвегия_Лофотены_2010_Бум_акв_70х100 (2).webp\n"
     ]
    },
    {
     "name": "stderr",
     "output_type": "stream",
     "text": [
      "\r",
      " 61%|█████████████████████████                | 219/358 [02:05<01:20,  1.73it/s]"
     ]
    },
    {
     "name": "stdout",
     "output_type": "stream",
     "text": [
      "Converted and resized: Полярный Урал_Снежные вершины_2015_Бум_акв_100х270 (1).jpg -> ./webp/Полярный Урал_Снежные вершины_2015_Бум_акв_100х270 (1).webp\n"
     ]
    },
    {
     "name": "stderr",
     "output_type": "stream",
     "text": [
      "\r",
      " 61%|█████████████████████████▏               | 220/358 [02:06<01:19,  1.73it/s]"
     ]
    },
    {
     "name": "stdout",
     "output_type": "stream",
     "text": [
      "Converted and resized: Мираж над Белым морем мороз дорисовал_2006_Бум_акв_61х86 (2).jpg -> ./webp/Мираж над Белым морем мороз дорисовал_2006_Бум_акв_61х86 (2).webp\n"
     ]
    },
    {
     "name": "stderr",
     "output_type": "stream",
     "text": [
      "\r",
      " 62%|█████████████████████████▎               | 221/358 [02:07<01:19,  1.73it/s]"
     ]
    },
    {
     "name": "stdout",
     "output_type": "stream",
     "text": [
      "Converted and resized: Полярный Урал_Гора Сфинкс_2012_Бум_акв_70х100 (2).jpg -> ./webp/Полярный Урал_Гора Сфинкс_2012_Бум_акв_70х100 (2).webp\n"
     ]
    },
    {
     "name": "stderr",
     "output_type": "stream",
     "text": [
      "\r",
      " 62%|█████████████████████████▍               | 222/358 [02:07<01:18,  1.73it/s]"
     ]
    },
    {
     "name": "stdout",
     "output_type": "stream",
     "text": [
      "Converted and resized: Ямал_Река Харбей_2012_Бум_акв_70х100 (1).jpg -> ./webp/Ямал_Река Харбей_2012_Бум_акв_70х100 (1).webp\n"
     ]
    },
    {
     "name": "stderr",
     "output_type": "stream",
     "text": [
      "\r",
      " 62%|█████████████████████████▌               | 223/358 [02:08<01:21,  1.66it/s]"
     ]
    },
    {
     "name": "stdout",
     "output_type": "stream",
     "text": [
      "Converted and resized: Норвегия_Закат_2010_Бум_акв_70х100 (2).jpg -> ./webp/Норвегия_Закат_2010_Бум_акв_70х100 (2).webp\n"
     ]
    },
    {
     "name": "stderr",
     "output_type": "stream",
     "text": [
      "\r",
      " 63%|█████████████████████████▋               | 224/358 [02:08<01:21,  1.65it/s]"
     ]
    },
    {
     "name": "stdout",
     "output_type": "stream",
     "text": [
      "Converted and resized: Белая ночь на Белом море_2008_Бум_акв_60х86 (1).jpg -> ./webp/Белая ночь на Белом море_2008_Бум_акв_60х86 (1).webp\n"
     ]
    },
    {
     "name": "stderr",
     "output_type": "stream",
     "text": [
      "\r",
      " 63%|█████████████████████████▊               | 225/358 [02:09<01:17,  1.71it/s]"
     ]
    },
    {
     "name": "stdout",
     "output_type": "stream",
     "text": [
      "Converted and resized: Белая ночь на Белом море_2007_Бум_акв_60х86 (1).jpg -> ./webp/Белая ночь на Белом море_2007_Бум_акв_60х86 (1).webp\n"
     ]
    },
    {
     "name": "stderr",
     "output_type": "stream",
     "text": [
      "\r",
      " 63%|█████████████████████████▉               | 226/358 [02:10<01:18,  1.69it/s]"
     ]
    },
    {
     "name": "stdout",
     "output_type": "stream",
     "text": [
      "Converted and resized: Белая ночь на Кузовах_2014_Бум_акв_70х100 (2).jpg -> ./webp/Белая ночь на Кузовах_2014_Бум_акв_70х100 (2).webp\n"
     ]
    },
    {
     "name": "stderr",
     "output_type": "stream",
     "text": [
      "\r",
      " 63%|█████████████████████████▉               | 227/358 [02:10<01:15,  1.73it/s]"
     ]
    },
    {
     "name": "stdout",
     "output_type": "stream",
     "text": [
      "Converted and resized: Заполярный Урал_Озеро Хадата_2018_Бум_акв_100х360 (1).jpg -> ./webp/Заполярный Урал_Озеро Хадата_2018_Бум_акв_100х360 (1).webp\n"
     ]
    },
    {
     "name": "stderr",
     "output_type": "stream",
     "text": [
      "\r",
      " 64%|██████████████████████████               | 228/358 [02:11<01:13,  1.77it/s]"
     ]
    },
    {
     "name": "stdout",
     "output_type": "stream",
     "text": [
      "Converted and resized: Тишина_2012_Бум_акв_50х110 (1).jpg -> ./webp/Тишина_2012_Бум_акв_50х110 (1).webp\n"
     ]
    },
    {
     "name": "stderr",
     "output_type": "stream",
     "text": [
      "\r",
      " 64%|██████████████████████████▎              | 230/358 [02:11<00:56,  2.26it/s]"
     ]
    },
    {
     "name": "stdout",
     "output_type": "stream",
     "text": [
      "Converted and resized: Норвегия_Лофотены_2010_Бум_акв_70х100 (1).jpg -> ./webp/Норвегия_Лофотены_2010_Бум_акв_70х100 (1).webp\n"
     ]
    },
    {
     "name": "stderr",
     "output_type": "stream",
     "text": [
      "\r",
      " 65%|██████████████████████████▍              | 231/358 [02:12<00:57,  2.21it/s]"
     ]
    },
    {
     "name": "stdout",
     "output_type": "stream",
     "text": [
      "Converted and resized: Осень на Ямале_2006_Бум_акв_34х70 (1).jpg -> ./webp/Осень на Ямале_2006_Бум_акв_34х70 (1).webp\n"
     ]
    },
    {
     "name": "stderr",
     "output_type": "stream",
     "text": [
      "\r",
      " 65%|██████████████████████████▌              | 232/358 [02:12<00:57,  2.20it/s]"
     ]
    },
    {
     "name": "stdout",
     "output_type": "stream",
     "text": [
      "Converted and resized: Осеннее утро. Ямал_2009_Бум_акв_50х70 (2).jpg -> ./webp/Осеннее утро. Ямал_2009_Бум_акв_50х70 (2).webp\n"
     ]
    },
    {
     "name": "stderr",
     "output_type": "stream",
     "text": [
      "\r",
      " 65%|██████████████████████████▋              | 233/358 [02:13<01:01,  2.03it/s]"
     ]
    },
    {
     "name": "stdout",
     "output_type": "stream",
     "text": [
      "Converted and resized: Облака над Полярныи Уралом_2010_Бум_акв_70х100 (1).jpg -> ./webp/Облака над Полярныи Уралом_2010_Бум_акв_70х100 (1).webp\n"
     ]
    },
    {
     "name": "stderr",
     "output_type": "stream",
     "text": [
      "\r",
      " 65%|██████████████████████████▊              | 234/358 [02:13<00:59,  2.08it/s]"
     ]
    },
    {
     "name": "stdout",
     "output_type": "stream",
     "text": [
      "Converted and resized: Преображенский собор Соловецкого монастыря_2007_Бум_акв_61х85 (2).jpg -> ./webp/Преображенский собор Соловецкого монастыря_2007_Бум_акв_61х85 (2).webp\n"
     ]
    },
    {
     "name": "stderr",
     "output_type": "stream",
     "text": [
      "\r",
      " 66%|██████████████████████████▉              | 235/358 [02:14<01:04,  1.90it/s]"
     ]
    },
    {
     "name": "stdout",
     "output_type": "stream",
     "text": [
      "Converted and resized: Полярный Урал_Долина реки Собь_ 2013_Бум_акв_100х150 (3).jpg -> ./webp/Полярный Урал_Долина реки Собь_ 2013_Бум_акв_100х150 (3).webp\n"
     ]
    },
    {
     "name": "stderr",
     "output_type": "stream",
     "text": [
      "\r",
      " 66%|███████████████████████████              | 236/358 [02:15<01:07,  1.82it/s]"
     ]
    },
    {
     "name": "stdout",
     "output_type": "stream",
     "text": [
      "Converted and resized: Полярный Урал_Розовое зимнее утро_2023_Бум_акв_50х100 (1).jpg -> ./webp/Полярный Урал_Розовое зимнее утро_2023_Бум_акв_50х100 (1).webp\n"
     ]
    },
    {
     "name": "stderr",
     "output_type": "stream",
     "text": [
      "\r",
      " 66%|███████████████████████████▏             | 237/358 [02:15<01:14,  1.63it/s]"
     ]
    },
    {
     "name": "stdout",
     "output_type": "stream",
     "text": [
      "Converted and resized: Ямал_Морозный день_2023_Бум_акв_50х100 (1).jpg -> ./webp/Ямал_Морозный день_2023_Бум_акв_50х100 (1).webp\n"
     ]
    },
    {
     "name": "stderr",
     "output_type": "stream",
     "text": [
      "\r",
      " 66%|███████████████████████████▎             | 238/358 [02:16<01:06,  1.79it/s]"
     ]
    },
    {
     "name": "stdout",
     "output_type": "stream",
     "text": [
      "Converted and resized: Седой Великан Урала_2018_Бум_ акв_70х100 (2).jpg -> ./webp/Седой Великан Урала_2018_Бум_ акв_70х100 (2).webp\n"
     ]
    },
    {
     "name": "stderr",
     "output_type": "stream",
     "text": [
      "\r",
      " 67%|███████████████████████████▎             | 239/358 [02:16<01:06,  1.79it/s]"
     ]
    },
    {
     "name": "stdout",
     "output_type": "stream",
     "text": [
      "Converted and resized: Горная река_Полярный Урал_2019_Бум_аква_46х61 (2).jpg -> ./webp/Горная река_Полярный Урал_2019_Бум_аква_46х61 (2).webp\n"
     ]
    },
    {
     "name": "stderr",
     "output_type": "stream",
     "text": [
      "\r",
      " 67%|███████████████████████████▍             | 240/358 [02:17<01:07,  1.74it/s]"
     ]
    },
    {
     "name": "stdout",
     "output_type": "stream",
     "text": [
      "Converted and resized: Август на Ямале_2006_Бум_акв_60х86 (1).jpg -> ./webp/Август на Ямале_2006_Бум_акв_60х86 (1).webp\n"
     ]
    },
    {
     "name": "stderr",
     "output_type": "stream",
     "text": [
      "\r",
      " 67%|███████████████████████████▌             | 241/358 [02:17<01:07,  1.74it/s]"
     ]
    },
    {
     "name": "stdout",
     "output_type": "stream",
     "text": [
      "Converted and resized: На Белом море_Зима уходит_2007_Бум_акв_61х85 (2).jpg -> ./webp/На Белом море_Зима уходит_2007_Бум_акв_61х85 (2).webp\n"
     ]
    },
    {
     "name": "stderr",
     "output_type": "stream",
     "text": [
      "\r",
      " 68%|███████████████████████████▋             | 242/358 [02:18<01:06,  1.73it/s]"
     ]
    },
    {
     "name": "stdout",
     "output_type": "stream",
     "text": [
      "Converted and resized: Буйство красок Севера_2011_Бум_акв_70х100 (1).jpg -> ./webp/Буйство красок Севера_2011_Бум_акв_70х100 (1).webp\n"
     ]
    },
    {
     "name": "stderr",
     "output_type": "stream",
     "text": [
      "\r",
      " 68%|███████████████████████████▊             | 243/358 [02:19<01:05,  1.76it/s]"
     ]
    },
    {
     "name": "stdout",
     "output_type": "stream",
     "text": [
      "Converted and resized: Уральские горы_2006_Бум_акв_61х85 (1).jpg -> ./webp/Уральские горы_2006_Бум_акв_61х85 (1).webp\n"
     ]
    },
    {
     "name": "stderr",
     "output_type": "stream",
     "text": [
      "\r",
      " 68%|███████████████████████████▉             | 244/358 [02:19<01:05,  1.75it/s]"
     ]
    },
    {
     "name": "stdout",
     "output_type": "stream",
     "text": [
      "Converted and resized: Тундра_2006_Бум_акв_61х85 (2).jpg -> ./webp/Тундра_2006_Бум_акв_61х85 (2).webp\n"
     ]
    },
    {
     "name": "stderr",
     "output_type": "stream",
     "text": [
      "\r",
      " 68%|████████████████████████████             | 245/358 [02:20<01:00,  1.87it/s]"
     ]
    },
    {
     "name": "stdout",
     "output_type": "stream",
     "text": [
      "Converted and resized: Полярный Урал. Дождь пошёл_2012_Бум_акв_70х100 (2).jpg -> ./webp/Полярный Урал. Дождь пошёл_2012_Бум_акв_70х100 (2).webp\n"
     ]
    },
    {
     "name": "stderr",
     "output_type": "stream",
     "text": [
      "\r",
      " 69%|████████████████████████████▏            | 246/358 [02:20<01:01,  1.81it/s]"
     ]
    },
    {
     "name": "stdout",
     "output_type": "stream",
     "text": [
      "Converted and resized: Полярный Урал_Ямал_Снежные вершины_2022_Бум_акв_35х46 (2).jpg -> ./webp/Полярный Урал_Ямал_Снежные вершины_2022_Бум_акв_35х46 (2).webp\n"
     ]
    },
    {
     "name": "stderr",
     "output_type": "stream",
     "text": [
      "\r",
      " 69%|████████████████████████████▎            | 247/358 [02:21<00:58,  1.89it/s]"
     ]
    },
    {
     "name": "stdout",
     "output_type": "stream",
     "text": [
      "Converted and resized: Ямал_Декабрь_2023_Бум_акв_35х110 (1).jpg -> ./webp/Ямал_Декабрь_2023_Бум_акв_35х110 (1).webp\n"
     ]
    },
    {
     "name": "stderr",
     "output_type": "stream",
     "text": [
      "\r",
      " 69%|████████████████████████████▍            | 248/358 [02:21<01:01,  1.77it/s]"
     ]
    },
    {
     "name": "stdout",
     "output_type": "stream",
     "text": [
      "Converted and resized: Полярный Урал_Долина реки Собь_ 2013_Бум_акв_100х150 (2).jpg -> ./webp/Полярный Урал_Долина реки Собь_ 2013_Бум_акв_100х150 (2).webp\n"
     ]
    },
    {
     "name": "stderr",
     "output_type": "stream",
     "text": [
      "\r",
      " 70%|████████████████████████████▌            | 249/358 [02:22<01:06,  1.63it/s]"
     ]
    },
    {
     "name": "stdout",
     "output_type": "stream",
     "text": [
      "Converted and resized: Морозное осеннее утро_2008_Бум_акв_70х100 (1).jpg -> ./webp/Морозное осеннее утро_2008_Бум_акв_70х100 (1).webp\n"
     ]
    },
    {
     "name": "stderr",
     "output_type": "stream",
     "text": [
      "\r",
      " 70%|████████████████████████████▋            | 250/358 [02:23<01:05,  1.64it/s]"
     ]
    },
    {
     "name": "stdout",
     "output_type": "stream",
     "text": [
      "Converted and resized: Ямал_Осенняя тундра_2008_Бум_акв_60х86 (3).jpg -> ./webp/Ямал_Осенняя тундра_2008_Бум_акв_60х86 (3).webp\n"
     ]
    },
    {
     "name": "stderr",
     "output_type": "stream",
     "text": [
      "\r",
      " 70%|████████████████████████████▋            | 251/358 [02:23<01:04,  1.66it/s]"
     ]
    },
    {
     "name": "stdout",
     "output_type": "stream",
     "text": [
      "Converted and resized: Речной порт в Салехарде_2012_Бум_акв_40х86 (3).jpg -> ./webp/Речной порт в Салехарде_2012_Бум_акв_40х86 (3).webp\n"
     ]
    },
    {
     "name": "stderr",
     "output_type": "stream",
     "text": [
      "\r",
      " 70%|████████████████████████████▊            | 252/358 [02:24<01:06,  1.59it/s]"
     ]
    },
    {
     "name": "stdout",
     "output_type": "stream",
     "text": [
      "Converted and resized: Берега озера Хадата_2018_Бум_акв_70х100 (3).jpg -> ./webp/Берега озера Хадата_2018_Бум_акв_70х100 (3).webp\n"
     ]
    },
    {
     "name": "stderr",
     "output_type": "stream",
     "text": [
      "\r",
      " 71%|████████████████████████████▉            | 253/358 [02:25<01:07,  1.55it/s]"
     ]
    },
    {
     "name": "stdout",
     "output_type": "stream",
     "text": [
      "Converted and resized: Осень_Берег реки_2023_Бум_акв_50х70 (1).jpg -> ./webp/Осень_Берег реки_2023_Бум_акв_50х70 (1).webp\n"
     ]
    },
    {
     "name": "stderr",
     "output_type": "stream",
     "text": [
      "\r",
      " 71%|█████████████████████████████            | 254/358 [02:25<01:00,  1.71it/s]"
     ]
    },
    {
     "name": "stdout",
     "output_type": "stream",
     "text": [
      "Converted and resized: Ямал_Иван чай_2023_Бум_акв_70х100 (3).jpg -> ./webp/Ямал_Иван чай_2023_Бум_акв_70х100 (3).webp\n"
     ]
    },
    {
     "name": "stderr",
     "output_type": "stream",
     "text": [
      "\r",
      " 71%|█████████████████████████████▏           | 255/358 [02:26<01:02,  1.64it/s]"
     ]
    },
    {
     "name": "stdout",
     "output_type": "stream",
     "text": [
      "Converted and resized: Полярный Урал_Озеро Макар-Рузь_2015_Бум_акв_100х340 (3).jpg -> ./webp/Полярный Урал_Озеро Макар-Рузь_2015_Бум_акв_100х340 (3).webp\n"
     ]
    },
    {
     "name": "stderr",
     "output_type": "stream",
     "text": [
      "\r",
      " 72%|█████████████████████████████▎           | 256/358 [02:26<01:04,  1.59it/s]"
     ]
    },
    {
     "name": "stdout",
     "output_type": "stream",
     "text": [
      "Converted and resized: Нормандия_Дождливый день_2019_Бум_акв_40х60 (1).jpg -> ./webp/Нормандия_Дождливый день_2019_Бум_акв_40х60 (1).webp\n"
     ]
    },
    {
     "name": "stderr",
     "output_type": "stream",
     "text": [
      "\r",
      " 72%|█████████████████████████████▍           | 257/358 [02:27<01:03,  1.60it/s]"
     ]
    },
    {
     "name": "stdout",
     "output_type": "stream",
     "text": [
      "Converted and resized: Облака над Белым морем_2008_Бум_акв_ 60х86 (1).jpg -> ./webp/Облака над Белым морем_2008_Бум_акв_ 60х86 (1).webp\n"
     ]
    },
    {
     "name": "stderr",
     "output_type": "stream",
     "text": [
      "\r",
      " 72%|█████████████████████████████▌           | 258/358 [02:28<01:00,  1.65it/s]"
     ]
    },
    {
     "name": "stdout",
     "output_type": "stream",
     "text": [
      "Converted and resized: Диптих_На просторах устья реки Обь_Ямал_правый_2012_Бум_акв_70х100 (2).jpg -> ./webp/Диптих_На просторах устья реки Обь_Ямал_правый_2012_Бум_акв_70х100 (2).webp\n"
     ]
    },
    {
     "name": "stderr",
     "output_type": "stream",
     "text": [
      "\r",
      " 72%|█████████████████████████████▋           | 259/358 [02:28<00:59,  1.67it/s]"
     ]
    },
    {
     "name": "stdout",
     "output_type": "stream",
     "text": [
      "Converted and resized: Ямал_Иванчай отцвёл_2009_Бум_акв_70х100 (3).jpg -> ./webp/Ямал_Иванчай отцвёл_2009_Бум_акв_70х100 (3).webp\n"
     ]
    },
    {
     "name": "stderr",
     "output_type": "stream",
     "text": [
      "\r",
      " 73%|█████████████████████████████▊           | 260/358 [02:29<00:59,  1.66it/s]"
     ]
    },
    {
     "name": "stdout",
     "output_type": "stream",
     "text": [
      "Converted and resized: Осень на Ямале_2006_Бум_акв_34х70 (2).jpg -> ./webp/Осень на Ямале_2006_Бум_акв_34х70 (2).webp\n"
     ]
    },
    {
     "name": "stderr",
     "output_type": "stream",
     "text": [
      "\r",
      " 73%|█████████████████████████████▉           | 261/358 [02:29<00:55,  1.74it/s]"
     ]
    },
    {
     "name": "stdout",
     "output_type": "stream",
     "text": [
      "Converted and resized: Ямал_Морозный день_2023_Бум_акв_25х40 (1).jpg -> ./webp/Ямал_Морозный день_2023_Бум_акв_25х40 (1).webp\n"
     ]
    },
    {
     "name": "stderr",
     "output_type": "stream",
     "text": [
      "\r",
      " 73%|██████████████████████████████           | 262/358 [02:30<00:54,  1.75it/s]"
     ]
    },
    {
     "name": "stdout",
     "output_type": "stream",
     "text": [
      "Converted and resized: Пороги на реке Сума. Карелия_2009_Бум_акв_70х100 (1).jpg -> ./webp/Пороги на реке Сума. Карелия_2009_Бум_акв_70х100 (1).webp\n"
     ]
    },
    {
     "name": "stderr",
     "output_type": "stream",
     "text": [
      "\r",
      " 73%|██████████████████████████████           | 263/358 [02:31<00:56,  1.68it/s]"
     ]
    },
    {
     "name": "stdout",
     "output_type": "stream",
     "text": [
      "Converted and resized: Водопад_Две сестры_Полярный Урал_2015_Бум_акв_70х100 (1).jpg -> ./webp/Водопад_Две сестры_Полярный Урал_2015_Бум_акв_70х100 (1).webp\n"
     ]
    },
    {
     "name": "stderr",
     "output_type": "stream",
     "text": [
      "\r",
      " 74%|██████████████████████████████▏          | 264/358 [02:31<00:55,  1.68it/s]"
     ]
    },
    {
     "name": "stdout",
     "output_type": "stream",
     "text": [
      "Converted and resized: Норвегия_Лофотенские острова_2010_Бум_акв_70х100 (1).jpg -> ./webp/Норвегия_Лофотенские острова_2010_Бум_акв_70х100 (1).webp\n"
     ]
    },
    {
     "name": "stderr",
     "output_type": "stream",
     "text": [
      "\r",
      " 74%|██████████████████████████████▎          | 265/358 [02:32<00:54,  1.69it/s]"
     ]
    },
    {
     "name": "stdout",
     "output_type": "stream",
     "text": [
      "Converted and resized: Ямал_Август_2008_Бум_акв_50х100 (2).jpg -> ./webp/Ямал_Август_2008_Бум_акв_50х100 (2).webp\n"
     ]
    },
    {
     "name": "stderr",
     "output_type": "stream",
     "text": [
      "\r",
      " 74%|██████████████████████████████▍          | 266/358 [02:32<00:52,  1.74it/s]"
     ]
    },
    {
     "name": "stdout",
     "output_type": "stream",
     "text": [
      "Converted and resized: Белая ночь на Кузовах_2014_Бум_акв_70х100 (1).jpg -> ./webp/Белая ночь на Кузовах_2014_Бум_акв_70х100 (1).webp\n"
     ]
    },
    {
     "name": "stderr",
     "output_type": "stream",
     "text": [
      "\r",
      " 75%|██████████████████████████████▌          | 267/358 [02:33<00:53,  1.70it/s]"
     ]
    },
    {
     "name": "stdout",
     "output_type": "stream",
     "text": [
      "Converted and resized: Вёль ле Роз_Отлив_2019_Бум_акв_35х60 (2).jpg -> ./webp/Вёль ле Роз_Отлив_2019_Бум_акв_35х60 (2).webp\n"
     ]
    },
    {
     "name": "stderr",
     "output_type": "stream",
     "text": [
      "\r",
      " 75%|██████████████████████████████▋          | 268/358 [02:33<00:54,  1.65it/s]"
     ]
    },
    {
     "name": "stdout",
     "output_type": "stream",
     "text": [
      "Converted and resized: Морской простор_2020_Бум_акв_100х300 (4).jpg -> ./webp/Морской простор_2020_Бум_акв_100х300 (4).webp\n"
     ]
    },
    {
     "name": "stderr",
     "output_type": "stream",
     "text": [
      "\r",
      " 75%|██████████████████████████████▊          | 269/358 [02:34<00:54,  1.63it/s]"
     ]
    },
    {
     "name": "stdout",
     "output_type": "stream",
     "text": [
      "Converted and resized: Архыз_Солнечный день_2023_Бум_акв_23х40 (1).jpg -> ./webp/Архыз_Солнечный день_2023_Бум_акв_23х40 (1).webp\n"
     ]
    },
    {
     "name": "stderr",
     "output_type": "stream",
     "text": [
      "\r",
      " 75%|██████████████████████████████▉          | 270/358 [02:35<00:53,  1.64it/s]"
     ]
    },
    {
     "name": "stdout",
     "output_type": "stream",
     "text": [
      "Converted and resized: Полярный Урал_Гора Рай Из_2023_Бум_акв_100х170 (1).jpg -> ./webp/Полярный Урал_Гора Рай Из_2023_Бум_акв_100х170 (1).webp\n"
     ]
    },
    {
     "name": "stderr",
     "output_type": "stream",
     "text": [
      "\r",
      " 76%|███████████████████████████████          | 271/358 [02:35<00:51,  1.67it/s]"
     ]
    },
    {
     "name": "stdout",
     "output_type": "stream",
     "text": [
      "Converted and resized: Мамомнты на Ямале_2020_Бум_акв_20х30 (2).jpg -> ./webp/Мамомнты на Ямале_2020_Бум_акв_20х30 (2).webp\n"
     ]
    },
    {
     "name": "stderr",
     "output_type": "stream",
     "text": [
      "\r",
      " 76%|███████████████████████████████▏         | 272/358 [02:36<00:51,  1.67it/s]"
     ]
    },
    {
     "name": "stdout",
     "output_type": "stream",
     "text": [
      "Converted and resized: Осень_Берег реки_2023_Бум_акв_50х70 (2).jpg -> ./webp/Осень_Берег реки_2023_Бум_акв_50х70 (2).webp\n"
     ]
    },
    {
     "name": "stderr",
     "output_type": "stream",
     "text": [
      "\r",
      " 76%|███████████████████████████████▎         | 273/358 [02:37<00:51,  1.66it/s]"
     ]
    },
    {
     "name": "stdout",
     "output_type": "stream",
     "text": [
      "Converted and resized: Осень в парке_2023_Бум_акв_25х40 (2).jpg -> ./webp/Осень в парке_2023_Бум_акв_25х40 (2).webp\n"
     ]
    },
    {
     "name": "stderr",
     "output_type": "stream",
     "text": [
      "\r",
      " 77%|███████████████████████████████▍         | 274/358 [02:37<00:51,  1.63it/s]"
     ]
    },
    {
     "name": "stdout",
     "output_type": "stream",
     "text": [
      "Converted and resized: Архыз_Солнечный день_2023_Бум_акв_23х40 (2).jpg -> ./webp/Архыз_Солнечный день_2023_Бум_акв_23х40 (2).webp\n"
     ]
    },
    {
     "name": "stderr",
     "output_type": "stream",
     "text": [
      "\r",
      " 77%|███████████████████████████████▍         | 275/358 [02:38<00:48,  1.71it/s]"
     ]
    },
    {
     "name": "stdout",
     "output_type": "stream",
     "text": [
      "Converted and resized: Заполярный Урал_Щучье озеро_2012_Бум_акв_50х100 (1).jpg -> ./webp/Заполярный Урал_Щучье озеро_2012_Бум_акв_50х100 (1).webp\n"
     ]
    },
    {
     "name": "stderr",
     "output_type": "stream",
     "text": [
      "\r",
      " 77%|███████████████████████████████▌         | 276/358 [02:38<00:50,  1.62it/s]"
     ]
    },
    {
     "name": "stdout",
     "output_type": "stream",
     "text": [
      "Converted and resized: Золотая осень на Полярном Урале_2021_Бум_акв_20х50 (1).jpg -> ./webp/Золотая осень на Полярном Урале_2021_Бум_акв_20х50 (1).webp\n"
     ]
    },
    {
     "name": "stderr",
     "output_type": "stream",
     "text": [
      "\r",
      " 77%|███████████████████████████████▋         | 277/358 [02:39<00:49,  1.64it/s]"
     ]
    },
    {
     "name": "stdout",
     "output_type": "stream",
     "text": [
      "Converted and resized: Соловецкий монастырь_2006_Бум_акв_61х86 (1).jpg -> ./webp/Соловецкий монастырь_2006_Бум_акв_61х86 (1).webp\n"
     ]
    },
    {
     "name": "stderr",
     "output_type": "stream",
     "text": [
      "\r",
      " 78%|███████████████████████████████▊         | 278/358 [02:40<00:48,  1.64it/s]"
     ]
    },
    {
     "name": "stdout",
     "output_type": "stream",
     "text": [
      "Converted and resized: Баня геологов_2006_Бум_акв_50х67 (1).jpg -> ./webp/Баня геологов_2006_Бум_акв_50х67 (1).webp\n"
     ]
    },
    {
     "name": "stderr",
     "output_type": "stream",
     "text": [
      "\r",
      " 78%|███████████████████████████████▉         | 279/358 [02:40<00:49,  1.61it/s]"
     ]
    },
    {
     "name": "stdout",
     "output_type": "stream",
     "text": [
      "Converted and resized: Ямал_Река Харбей_2012_Бум_акв_70х100 (2).jpg -> ./webp/Ямал_Река Харбей_2012_Бум_акв_70х100 (2).webp\n"
     ]
    },
    {
     "name": "stderr",
     "output_type": "stream",
     "text": [
      "\r",
      " 78%|████████████████████████████████         | 280/358 [02:41<00:52,  1.50it/s]"
     ]
    },
    {
     "name": "stdout",
     "output_type": "stream",
     "text": [
      "Converted and resized: Здесь начинается река Собь. Полярный Урал_ 2015_Бум_акв_70х100 (3).jpg -> ./webp/Здесь начинается река Собь. Полярный Урал_ 2015_Бум_акв_70х100 (3).webp\n"
     ]
    },
    {
     "name": "stderr",
     "output_type": "stream",
     "text": [
      "\r",
      " 78%|████████████████████████████████▏        | 281/358 [02:42<00:49,  1.56it/s]"
     ]
    },
    {
     "name": "stdout",
     "output_type": "stream",
     "text": [
      "Converted and resized: Ямал. Долина реки Лангота_2013_Бум_акв_70х150 (3).jpg -> ./webp/Ямал. Долина реки Лангота_2013_Бум_акв_70х150 (3).webp\n"
     ]
    },
    {
     "name": "stderr",
     "output_type": "stream",
     "text": [
      "\r",
      " 79%|████████████████████████████████▎        | 282/358 [02:42<00:47,  1.59it/s]"
     ]
    },
    {
     "name": "stdout",
     "output_type": "stream",
     "text": [
      "Converted and resized: Гора Чертов палец_Ямал_2023_Бум_акв_23х40 (1).jpg -> ./webp/Гора Чертов палец_Ямал_2023_Бум_акв_23х40 (1).webp\n"
     ]
    },
    {
     "name": "stderr",
     "output_type": "stream",
     "text": [
      "\r",
      " 79%|████████████████████████████████▍        | 283/358 [02:43<00:46,  1.62it/s]"
     ]
    },
    {
     "name": "stdout",
     "output_type": "stream",
     "text": [
      "Converted and resized: Снежные вершины_2010_Бум_акв_57х86 (2).jpg -> ./webp/Снежные вершины_2010_Бум_акв_57х86 (2).webp\n"
     ]
    },
    {
     "name": "stderr",
     "output_type": "stream",
     "text": [
      "\r",
      " 79%|████████████████████████████████▌        | 284/358 [02:43<00:44,  1.66it/s]"
     ]
    },
    {
     "name": "stdout",
     "output_type": "stream",
     "text": [
      "Converted and resized: Полярный Урал_Гора Рай Из_2023_Бум_акв_100х170 (4).jpg -> ./webp/Полярный Урал_Гора Рай Из_2023_Бум_акв_100х170 (4).webp\n"
     ]
    },
    {
     "name": "stderr",
     "output_type": "stream",
     "text": [
      "\r",
      " 80%|████████████████████████████████▋        | 285/358 [02:44<00:43,  1.69it/s]"
     ]
    },
    {
     "name": "stdout",
     "output_type": "stream",
     "text": [
      "Converted and resized: Водопад на Полярном Урале_2022_Бум_акв_50х40 (2).jpg -> ./webp/Водопад на Полярном Урале_2022_Бум_акв_50х40 (2).webp\n"
     ]
    },
    {
     "name": "stderr",
     "output_type": "stream",
     "text": [
      "\r",
      " 80%|████████████████████████████████▊        | 286/358 [02:44<00:40,  1.77it/s]"
     ]
    },
    {
     "name": "stdout",
     "output_type": "stream",
     "text": [
      "Converted and resized: Перед рассветом_Белое море_2007_Бум_акв_70х100 (1).jpg -> ./webp/Перед рассветом_Белое море_2007_Бум_акв_70х100 (1).webp\n"
     ]
    },
    {
     "name": "stderr",
     "output_type": "stream",
     "text": [
      "\r",
      " 80%|████████████████████████████████▊        | 287/358 [02:45<00:37,  1.88it/s]"
     ]
    },
    {
     "name": "stdout",
     "output_type": "stream",
     "text": [
      "Converted and resized: Полярный Урал_Гора Рай Из_2023_Бум_акв_100х170 (3).jpg -> ./webp/Полярный Урал_Гора Рай Из_2023_Бум_акв_100х170 (3).webp\n"
     ]
    },
    {
     "name": "stderr",
     "output_type": "stream",
     "text": [
      "\r",
      " 80%|████████████████████████████████▉        | 288/358 [02:45<00:39,  1.78it/s]"
     ]
    },
    {
     "name": "stdout",
     "output_type": "stream",
     "text": [
      "Converted and resized: Просторы Белого моря_Кузова_2015_Бум_акв_100х280 (2).jpg -> ./webp/Просторы Белого моря_Кузова_2015_Бум_акв_100х280 (2).webp\n"
     ]
    },
    {
     "name": "stderr",
     "output_type": "stream",
     "text": [
      "\r",
      " 81%|█████████████████████████████████        | 289/358 [02:46<00:40,  1.71it/s]"
     ]
    },
    {
     "name": "stdout",
     "output_type": "stream",
     "text": [
      "Converted and resized: Август на Ямале_2009_Бум_акв_61х86 (2).jpg -> ./webp/Август на Ямале_2009_Бум_акв_61х86 (2).webp\n"
     ]
    },
    {
     "name": "stderr",
     "output_type": "stream",
     "text": [
      "\r",
      " 81%|█████████████████████████████████▏       | 290/358 [02:47<00:40,  1.68it/s]"
     ]
    },
    {
     "name": "stdout",
     "output_type": "stream",
     "text": [
      "Converted and resized: Заполярный Урал_Щучье озеро_2018_Бум_акв_41х100 (2).jpg -> ./webp/Заполярный Урал_Щучье озеро_2018_Бум_акв_41х100 (2).webp\n"
     ]
    },
    {
     "name": "stderr",
     "output_type": "stream",
     "text": [
      "\r",
      " 81%|█████████████████████████████████▎       | 291/358 [02:47<00:36,  1.84it/s]"
     ]
    },
    {
     "name": "stdout",
     "output_type": "stream",
     "text": [
      "Converted and resized: Облака над Белым морем_2008_Бум_акв_ 60х86 (2).jpg -> ./webp/Облака над Белым морем_2008_Бум_акв_ 60х86 (2).webp\n"
     ]
    },
    {
     "name": "stderr",
     "output_type": "stream",
     "text": [
      "\r",
      " 82%|█████████████████████████████████▍       | 292/358 [02:48<00:37,  1.76it/s]"
     ]
    },
    {
     "name": "stdout",
     "output_type": "stream",
     "text": [
      "Converted and resized: Ямал_Дельта реки Обь_2009_Бум_акв_35х100 (2).jpg -> ./webp/Ямал_Дельта реки Обь_2009_Бум_акв_35х100 (2).webp\n"
     ]
    },
    {
     "name": "stderr",
     "output_type": "stream",
     "text": [
      "\r",
      " 82%|█████████████████████████████████▌       | 293/358 [02:48<00:38,  1.71it/s]"
     ]
    },
    {
     "name": "stdout",
     "output_type": "stream",
     "text": [
      "Converted and resized: Салехард_Обдорский острог_2009_Бум_акв_20х86 (3).jpg -> ./webp/Салехард_Обдорский острог_2009_Бум_акв_20х86 (3).webp\n"
     ]
    },
    {
     "name": "stderr",
     "output_type": "stream",
     "text": [
      "\r",
      " 82%|█████████████████████████████████▋       | 294/358 [02:49<00:37,  1.71it/s]"
     ]
    },
    {
     "name": "stdout",
     "output_type": "stream",
     "text": [
      "Converted and resized: Ямал_Ущелье реки Харбей_2012_Бум_акв_70х150 (1).jpg -> ./webp/Ямал_Ущелье реки Харбей_2012_Бум_акв_70х150 (1).webp\n"
     ]
    },
    {
     "name": "stderr",
     "output_type": "stream",
     "text": [
      "\r",
      " 82%|█████████████████████████████████▊       | 295/358 [02:50<00:41,  1.53it/s]"
     ]
    },
    {
     "name": "stdout",
     "output_type": "stream",
     "text": [
      "Converted and resized: Архыз_Софийские водопады_2023_Бум_акв_26х39 (2).jpg -> ./webp/Архыз_Софийские водопады_2023_Бум_акв_26х39 (2).webp\n"
     ]
    },
    {
     "name": "stderr",
     "output_type": "stream",
     "text": [
      "\r",
      " 83%|█████████████████████████████████▉       | 296/358 [02:50<00:39,  1.57it/s]"
     ]
    },
    {
     "name": "stdout",
     "output_type": "stream",
     "text": [
      "Converted and resized: Ямал_Золотая осень_2009_Бум_акв_70х100 (2).jpg -> ./webp/Ямал_Золотая осень_2009_Бум_акв_70х100 (2).webp\n"
     ]
    },
    {
     "name": "stderr",
     "output_type": "stream",
     "text": [
      "\r",
      " 83%|██████████████████████████████████       | 297/358 [02:51<00:37,  1.63it/s]"
     ]
    },
    {
     "name": "stdout",
     "output_type": "stream",
     "text": [
      "Converted and resized: Морозное осеннее утро_2008_Бум_акв_70х100 (3).jpg -> ./webp/Морозное осеннее утро_2008_Бум_акв_70х100 (3).webp\n"
     ]
    },
    {
     "name": "stderr",
     "output_type": "stream",
     "text": [
      "\r",
      " 84%|██████████████████████████████████▏      | 299/358 [02:52<00:27,  2.14it/s]"
     ]
    },
    {
     "name": "stdout",
     "output_type": "stream",
     "text": [
      "Converted and resized: Ямал_Река Харбей_2012_Бум_акв_70х100 (3).jpg -> ./webp/Ямал_Река Харбей_2012_Бум_акв_70х100 (3).webp\n"
     ]
    },
    {
     "name": "stderr",
     "output_type": "stream",
     "text": [
      "\r",
      " 84%|██████████████████████████████████▎      | 300/358 [02:52<00:29,  2.00it/s]"
     ]
    },
    {
     "name": "stdout",
     "output_type": "stream",
     "text": [
      "Converted and resized: Водопад Куми порог_Карелия_2009_Бум_акв_70х100 (2).jpg -> ./webp/Водопад Куми порог_Карелия_2009_Бум_акв_70х100 (2).webp\n"
     ]
    },
    {
     "name": "stderr",
     "output_type": "stream",
     "text": [
      "\r",
      " 84%|██████████████████████████████████▍      | 301/358 [02:53<00:29,  1.90it/s]"
     ]
    },
    {
     "name": "stdout",
     "output_type": "stream",
     "text": [
      "Converted and resized: Байкал_Берега_2012_Бум_акв_70х100 (1).jpg -> ./webp/Байкал_Берега_2012_Бум_акв_70х100 (1).webp\n"
     ]
    },
    {
     "name": "stderr",
     "output_type": "stream",
     "text": [
      "\r",
      " 84%|██████████████████████████████████▌      | 302/358 [02:53<00:32,  1.73it/s]"
     ]
    },
    {
     "name": "stdout",
     "output_type": "stream",
     "text": [
      "Converted and resized: Диптих_На просторах устья реки Обь_ Ямал_левый_2012_Бум_акв_70х100 (3).jpg -> ./webp/Диптих_На просторах устья реки Обь_ Ямал_левый_2012_Бум_акв_70х100 (3).webp\n"
     ]
    },
    {
     "name": "stderr",
     "output_type": "stream",
     "text": [
      "\r",
      " 85%|██████████████████████████████████▋      | 303/358 [02:54<00:35,  1.55it/s]"
     ]
    },
    {
     "name": "stdout",
     "output_type": "stream",
     "text": [
      "Converted and resized: Байкал_2012_Бум_акв_35х50 (2).jpg -> ./webp/Байкал_2012_Бум_акв_35х50 (2).webp\n"
     ]
    },
    {
     "name": "stderr",
     "output_type": "stream",
     "text": [
      "\r",
      " 85%|██████████████████████████████████▊      | 304/358 [02:55<00:34,  1.55it/s]"
     ]
    },
    {
     "name": "stdout",
     "output_type": "stream",
     "text": [
      "Converted and resized: Заполярный Урал_Облака над Щучьем озером_2018_Бум_акв_70х100 (2).jpg -> ./webp/Заполярный Урал_Облака над Щучьем озером_2018_Бум_акв_70х100 (2).webp\n"
     ]
    },
    {
     "name": "stderr",
     "output_type": "stream",
     "text": [
      "\r",
      " 85%|██████████████████████████████████▉      | 305/358 [02:56<00:33,  1.57it/s]"
     ]
    },
    {
     "name": "stdout",
     "output_type": "stream",
     "text": [
      "Converted and resized: Полярный Урал_Долина реки Собь_ 2013_Бум_акв_100х150 (1).jpg -> ./webp/Полярный Урал_Долина реки Собь_ 2013_Бум_акв_100х150 (1).webp\n"
     ]
    },
    {
     "name": "stderr",
     "output_type": "stream",
     "text": [
      "\r",
      " 85%|███████████████████████████████████      | 306/358 [02:56<00:30,  1.68it/s]"
     ]
    },
    {
     "name": "stdout",
     "output_type": "stream",
     "text": [
      "Converted and resized: Полярный Урал_Исток реки Собь_2015_Бум_акв_100х340 (1).jpg -> ./webp/Полярный Урал_Исток реки Собь_2015_Бум_акв_100х340 (1).webp\n"
     ]
    },
    {
     "name": "stderr",
     "output_type": "stream",
     "text": [
      "\r",
      " 86%|███████████████████████████████████▏     | 307/358 [02:57<00:32,  1.57it/s]"
     ]
    },
    {
     "name": "stdout",
     "output_type": "stream",
     "text": [
      "Converted and resized: Нормандия_Ла Манш_2019_Бум_акв_40х60 (1).jpg -> ./webp/Нормандия_Ла Манш_2019_Бум_акв_40х60 (1).webp\n"
     ]
    },
    {
     "name": "stderr",
     "output_type": "stream",
     "text": [
      "\r",
      " 86%|███████████████████████████████████▎     | 308/358 [02:57<00:31,  1.58it/s]"
     ]
    },
    {
     "name": "stdout",
     "output_type": "stream",
     "text": [
      "Converted and resized: Осень на Елагином острове_2014_Бум_акв_70х100 (1).jpg -> ./webp/Осень на Елагином острове_2014_Бум_акв_70х100 (1).webp\n"
     ]
    },
    {
     "name": "stderr",
     "output_type": "stream",
     "text": [
      "\r",
      " 86%|███████████████████████████████████▍     | 309/358 [02:58<00:30,  1.61it/s]"
     ]
    },
    {
     "name": "stdout",
     "output_type": "stream",
     "text": [
      "Converted and resized: Море и небо_2017_Бум_акв_70х100 (2).jpg -> ./webp/Море и небо_2017_Бум_акв_70х100 (2).webp\n"
     ]
    },
    {
     "name": "stderr",
     "output_type": "stream",
     "text": [
      "\r",
      " 87%|███████████████████████████████████▌     | 310/358 [02:59<00:28,  1.66it/s]"
     ]
    },
    {
     "name": "stdout",
     "output_type": "stream",
     "text": [
      "Converted and resized: Полярный Урал_Изумрудное озеро_ 2015_Бум_акв_70х100 (1).jpg -> ./webp/Полярный Урал_Изумрудное озеро_ 2015_Бум_акв_70х100 (1).webp\n"
     ]
    },
    {
     "name": "stderr",
     "output_type": "stream",
     "text": [
      "\r",
      " 87%|███████████████████████████████████▌     | 311/358 [02:59<00:26,  1.81it/s]"
     ]
    },
    {
     "name": "stdout",
     "output_type": "stream",
     "text": [
      "Converted and resized: Водопад в облаках_2012_Бум_ак_100х70 (1).jpg -> ./webp/Водопад в облаках_2012_Бум_ак_100х70 (1).webp\n"
     ]
    },
    {
     "name": "stderr",
     "output_type": "stream",
     "text": [
      "\r",
      " 87%|███████████████████████████████████▋     | 312/358 [03:00<00:25,  1.79it/s]"
     ]
    },
    {
     "name": "stdout",
     "output_type": "stream",
     "text": [
      "Converted and resized: Тундра_2006_Бум_акв_61х85 (1).jpg -> ./webp/Тундра_2006_Бум_акв_61х85 (1).webp\n"
     ]
    },
    {
     "name": "stderr",
     "output_type": "stream",
     "text": [
      "\r",
      " 87%|███████████████████████████████████▊     | 313/358 [03:00<00:24,  1.81it/s]"
     ]
    },
    {
     "name": "stdout",
     "output_type": "stream",
     "text": [
      "Converted and resized: Ямал_Река Кэр Доман-Шор_2022_Бум_акв_45х67 (1).jpg -> ./webp/Ямал_Река Кэр Доман-Шор_2022_Бум_акв_45х67 (1).webp\n"
     ]
    },
    {
     "name": "stderr",
     "output_type": "stream",
     "text": [
      "\r",
      " 88%|███████████████████████████████████▉     | 314/358 [03:01<00:24,  1.78it/s]"
     ]
    },
    {
     "name": "stdout",
     "output_type": "stream",
     "text": [
      "Converted and resized: Ямал_Конец августа_2008_Бум_акв_59х100 (1).jpg -> ./webp/Ямал_Конец августа_2008_Бум_акв_59х100 (1).webp\n"
     ]
    },
    {
     "name": "stderr",
     "output_type": "stream",
     "text": [
      "\r",
      " 88%|████████████████████████████████████     | 315/358 [03:01<00:24,  1.75it/s]"
     ]
    },
    {
     "name": "stdout",
     "output_type": "stream",
     "text": [
      "Converted and resized: Камни и море_2019_Бум_акв_40х60 (1).jpg -> ./webp/Камни и море_2019_Бум_акв_40х60 (1).webp\n"
     ]
    },
    {
     "name": "stderr",
     "output_type": "stream",
     "text": [
      "\r",
      " 88%|████████████████████████████████████▏    | 316/358 [03:02<00:24,  1.75it/s]"
     ]
    },
    {
     "name": "stdout",
     "output_type": "stream",
     "text": [
      "Converted and resized: Заполярный_Урал_Озеро Хадата_2019. Бум_акв_46х61 (1).jpg -> ./webp/Заполярный_Урал_Озеро Хадата_2019. Бум_акв_46х61 (1).webp\n"
     ]
    },
    {
     "name": "stderr",
     "output_type": "stream",
     "text": [
      "\r",
      " 89%|████████████████████████████████████▎    | 317/358 [03:02<00:22,  1.79it/s]"
     ]
    },
    {
     "name": "stdout",
     "output_type": "stream",
     "text": [
      "Converted and resized: Ямал_Декабрь_2023_Бум_акв_35х110 (2).jpg -> ./webp/Ямал_Декабрь_2023_Бум_акв_35х110 (2).webp\n"
     ]
    },
    {
     "name": "stderr",
     "output_type": "stream",
     "text": [
      "\r",
      " 89%|████████████████████████████████████▍    | 318/358 [03:03<00:22,  1.76it/s]"
     ]
    },
    {
     "name": "stdout",
     "output_type": "stream",
     "text": [
      "Converted and resized: Бухта Севастополя_2019__Бум_акв_54х83 (3).jpg -> ./webp/Бухта Севастополя_2019__Бум_акв_54х83 (3).webp\n"
     ]
    },
    {
     "name": "stderr",
     "output_type": "stream",
     "text": [
      "\r",
      " 89%|████████████████████████████████████▌    | 319/358 [03:04<00:22,  1.71it/s]"
     ]
    },
    {
     "name": "stdout",
     "output_type": "stream",
     "text": [
      "Converted and resized: Заполярный Урал_Щучье озеро_2018_Бум_акв_27х39 (2).jpg -> ./webp/Заполярный Урал_Щучье озеро_2018_Бум_акв_27х39 (2).webp\n"
     ]
    },
    {
     "name": "stderr",
     "output_type": "stream",
     "text": [
      "\r",
      " 89%|████████████████████████████████████▋    | 320/358 [03:04<00:21,  1.74it/s]"
     ]
    },
    {
     "name": "stdout",
     "output_type": "stream",
     "text": [
      "Converted and resized: Франция_Нормандия_Виль ля Роз_2019_Бум_акв_40х60 (1).jpg -> ./webp/Франция_Нормандия_Виль ля Роз_2019_Бум_акв_40х60 (1).webp\n"
     ]
    },
    {
     "name": "stderr",
     "output_type": "stream",
     "text": [
      "\r",
      " 90%|████████████████████████████████████▊    | 321/358 [03:05<00:21,  1.76it/s]"
     ]
    },
    {
     "name": "stdout",
     "output_type": "stream",
     "text": [
      "Converted and resized: Осень. На лесной поляне_2023_Бум_акв_50х70 (1).jpg -> ./webp/Осень. На лесной поляне_2023_Бум_акв_50х70 (1).webp\n"
     ]
    },
    {
     "name": "stderr",
     "output_type": "stream",
     "text": [
      "\r",
      " 90%|████████████████████████████████████▉    | 322/358 [03:05<00:21,  1.71it/s]"
     ]
    },
    {
     "name": "stdout",
     "output_type": "stream",
     "text": [
      "Converted and resized: Заросшее озеро_Ямал_2006_Бум_акв_60х86 (2).jpg -> ./webp/Заросшее озеро_Ямал_2006_Бум_акв_60х86 (2).webp\n"
     ]
    },
    {
     "name": "stderr",
     "output_type": "stream",
     "text": [
      "\r",
      " 90%|████████████████████████████████████▉    | 323/358 [03:06<00:20,  1.72it/s]"
     ]
    },
    {
     "name": "stdout",
     "output_type": "stream",
     "text": [
      "Converted and resized: Небо_Море_Камни_2019_Бум_акв_70х100 (1).jpg -> ./webp/Небо_Море_Камни_2019_Бум_акв_70х100 (1).webp\n"
     ]
    },
    {
     "name": "stderr",
     "output_type": "stream",
     "text": [
      "\r",
      " 91%|█████████████████████████████████████    | 324/358 [03:06<00:19,  1.73it/s]"
     ]
    },
    {
     "name": "stdout",
     "output_type": "stream",
     "text": [
      "Converted and resized: Осеннее утро. Ямал_2009_Бум_акв_50х70 (3).jpg -> ./webp/Осеннее утро. Ямал_2009_Бум_акв_50х70 (3).webp\n"
     ]
    },
    {
     "name": "stderr",
     "output_type": "stream",
     "text": [
      "\r",
      " 91%|█████████████████████████████████████▏   | 325/358 [03:07<00:19,  1.73it/s]"
     ]
    },
    {
     "name": "stdout",
     "output_type": "stream",
     "text": [
      "Converted and resized: Ангара_Иван чай цветет_2023_Бум_акв_50х70 (3).jpg -> ./webp/Ангара_Иван чай цветет_2023_Бум_акв_50х70 (3).webp\n"
     ]
    },
    {
     "name": "stderr",
     "output_type": "stream",
     "text": [
      "\r",
      " 91%|█████████████████████████████████████▎   | 326/358 [03:08<00:18,  1.73it/s]"
     ]
    },
    {
     "name": "stdout",
     "output_type": "stream",
     "text": [
      "Converted and resized: Ямал_Река Харбей_2019_Бум_акв_50х70 (2).jpg -> ./webp/Ямал_Река Харбей_2019_Бум_акв_50х70 (2).webp\n"
     ]
    },
    {
     "name": "stderr",
     "output_type": "stream",
     "text": [
      "\r",
      " 91%|█████████████████████████████████████▍   | 327/358 [03:08<00:17,  1.78it/s]"
     ]
    },
    {
     "name": "stdout",
     "output_type": "stream",
     "text": [
      "Converted and resized: Мираж над Белым морем мороз дорисовал_2006_Бум_акв_61х86 (1).jpg -> ./webp/Мираж над Белым морем мороз дорисовал_2006_Бум_акв_61х86 (1).webp\n"
     ]
    },
    {
     "name": "stderr",
     "output_type": "stream",
     "text": [
      "\r",
      " 92%|█████████████████████████████████████▌   | 328/358 [03:09<00:16,  1.82it/s]"
     ]
    },
    {
     "name": "stdout",
     "output_type": "stream",
     "text": [
      "Converted and resized: Полярный Урал_Розовое зимнее утро_2023_Бум_акв_50х100 (2).jpg -> ./webp/Полярный Урал_Розовое зимнее утро_2023_Бум_акв_50х100 (2).webp\n"
     ]
    },
    {
     "name": "stderr",
     "output_type": "stream",
     "text": [
      "\r",
      " 92%|█████████████████████████████████████▋   | 329/358 [03:09<00:16,  1.77it/s]"
     ]
    },
    {
     "name": "stdout",
     "output_type": "stream",
     "text": [
      "Converted and resized: Белое море_2013. Бум_акв_70х100 (1).jpg -> ./webp/Белое море_2013. Бум_акв_70х100 (1).webp\n"
     ]
    },
    {
     "name": "stderr",
     "output_type": "stream",
     "text": [
      "\r",
      " 92%|█████████████████████████████████████▊   | 330/358 [03:10<00:15,  1.78it/s]"
     ]
    },
    {
     "name": "stdout",
     "output_type": "stream",
     "text": [
      "Converted and resized: Белое море_Рыбацкий остров_2006_Бум_акв_52х86 (1).jpg -> ./webp/Белое море_Рыбацкий остров_2006_Бум_акв_52х86 (1).webp\n"
     ]
    },
    {
     "name": "stderr",
     "output_type": "stream",
     "text": [
      "\r",
      " 92%|█████████████████████████████████████▉   | 331/358 [03:10<00:13,  2.02it/s]"
     ]
    },
    {
     "name": "stdout",
     "output_type": "stream",
     "text": [
      "Converted and resized: Полярный Урал_Ущелье Конгор_2015_Бум_акв_100х340 (1).jpg -> ./webp/Полярный Урал_Ущелье Конгор_2015_Бум_акв_100х340 (1).webp\n"
     ]
    },
    {
     "name": "stderr",
     "output_type": "stream",
     "text": [
      "\r",
      " 93%|██████████████████████████████████████   | 332/358 [03:11<00:13,  1.94it/s]"
     ]
    },
    {
     "name": "stdout",
     "output_type": "stream",
     "text": [
      "Converted and resized: Карелия_Песчаное озеро_2010_Бум_акв_70х100 (1).jpg -> ./webp/Карелия_Песчаное озеро_2010_Бум_акв_70х100 (1).webp\n"
     ]
    },
    {
     "name": "stderr",
     "output_type": "stream",
     "text": [
      "\r",
      " 93%|██████████████████████████████████████▏  | 333/358 [03:11<00:13,  1.86it/s]"
     ]
    },
    {
     "name": "stdout",
     "output_type": "stream",
     "text": [
      "Converted and resized: Ямал_Осенняя тундра_2009_Бум_акв_70х100 (3).jpg -> ./webp/Ямал_Осенняя тундра_2009_Бум_акв_70х100 (3).webp\n"
     ]
    },
    {
     "name": "stderr",
     "output_type": "stream",
     "text": [
      "\r",
      " 93%|██████████████████████████████████████▎  | 334/358 [03:12<00:12,  1.85it/s]"
     ]
    },
    {
     "name": "stdout",
     "output_type": "stream",
     "text": [
      "Converted and resized: Шторм на Белом море_2006_Бум_акв_50х70 (1).jpg -> ./webp/Шторм на Белом море_2006_Бум_акв_50х70 (1).webp\n"
     ]
    },
    {
     "name": "stderr",
     "output_type": "stream",
     "text": [
      "\r",
      " 94%|██████████████████████████████████████▎  | 335/358 [03:12<00:12,  1.80it/s]"
     ]
    },
    {
     "name": "stdout",
     "output_type": "stream",
     "text": [
      "Converted and resized: Капли дождя_2010_Бум_акв_50х70 (3).jpg -> ./webp/Капли дождя_2010_Бум_акв_50х70 (3).webp\n"
     ]
    },
    {
     "name": "stderr",
     "output_type": "stream",
     "text": [
      "\r",
      " 94%|██████████████████████████████████████▍  | 336/358 [03:13<00:11,  1.83it/s]"
     ]
    },
    {
     "name": "stdout",
     "output_type": "stream",
     "text": [
      "Converted and resized: Небо и море_2013_Бум_акв_70х100 (1).jpg -> ./webp/Небо и море_2013_Бум_акв_70х100 (1).webp\n"
     ]
    },
    {
     "name": "stderr",
     "output_type": "stream",
     "text": [
      "\r",
      " 94%|██████████████████████████████████████▌  | 337/358 [03:13<00:11,  1.86it/s]"
     ]
    },
    {
     "name": "stdout",
     "output_type": "stream",
     "text": [
      "Converted and resized: Небо и море_2013_Бум_акв_70х100 (2).jpg -> ./webp/Небо и море_2013_Бум_акв_70х100 (2).webp\n"
     ]
    },
    {
     "name": "stderr",
     "output_type": "stream",
     "text": [
      "\r",
      " 94%|██████████████████████████████████████▋  | 338/358 [03:14<00:10,  1.86it/s]"
     ]
    },
    {
     "name": "stdout",
     "output_type": "stream",
     "text": [
      "Converted and resized: Полярный Урал_2010_Бум_акв_60х86 (2).jpg -> ./webp/Полярный Урал_2010_Бум_акв_60х86 (2).webp\n"
     ]
    },
    {
     "name": "stderr",
     "output_type": "stream",
     "text": [
      "\r",
      " 95%|██████████████████████████████████████▊  | 339/358 [03:15<00:10,  1.83it/s]"
     ]
    },
    {
     "name": "stdout",
     "output_type": "stream",
     "text": [
      "Converted and resized: Горная река_Полярный Урал_2019_Бум_аква_46х61 (1).jpg -> ./webp/Горная река_Полярный Урал_2019_Бум_аква_46х61 (1).webp\n"
     ]
    },
    {
     "name": "stderr",
     "output_type": "stream",
     "text": [
      "\r",
      " 95%|██████████████████████████████████████▉  | 340/358 [03:15<00:09,  1.84it/s]"
     ]
    },
    {
     "name": "stdout",
     "output_type": "stream",
     "text": [
      "Converted and resized: Белое море. Апрель_2007_Бум_акв_60х86  (1).jpg -> ./webp/Белое море. Апрель_2007_Бум_акв_60х86  (1).webp\n"
     ]
    },
    {
     "name": "stderr",
     "output_type": "stream",
     "text": [
      "\r",
      " 95%|███████████████████████████████████████  | 341/358 [03:16<00:09,  1.83it/s]"
     ]
    },
    {
     "name": "stdout",
     "output_type": "stream",
     "text": [
      "Converted and resized: Софийский ледник_Архыз_2023_Бум_акв_31х41 (1).jpg -> ./webp/Софийский ледник_Архыз_2023_Бум_акв_31х41 (1).webp\n"
     ]
    },
    {
     "name": "stderr",
     "output_type": "stream",
     "text": [
      "\r",
      " 96%|███████████████████████████████████████▏ | 342/358 [03:16<00:09,  1.75it/s]"
     ]
    },
    {
     "name": "stdout",
     "output_type": "stream",
     "text": [
      "Converted and resized: Заполярный Урал_Щучье озеро_2012_Бум_акв_50х100 (2).jpg -> ./webp/Заполярный Урал_Щучье озеро_2012_Бум_акв_50х100 (2).webp\n"
     ]
    },
    {
     "name": "stderr",
     "output_type": "stream",
     "text": [
      "\r",
      " 96%|███████████████████████████████████████▎ | 343/358 [03:17<00:08,  1.75it/s]"
     ]
    },
    {
     "name": "stdout",
     "output_type": "stream",
     "text": [
      "Converted and resized: Франция_Нормандия_Виль ля Роз_2019_Бум_акв_40х60 (2).jpg -> ./webp/Франция_Нормандия_Виль ля Роз_2019_Бум_акв_40х60 (2).webp\n"
     ]
    },
    {
     "name": "stderr",
     "output_type": "stream",
     "text": [
      "\r",
      " 96%|███████████████████████████████████████▍ | 344/358 [03:17<00:07,  1.76it/s]"
     ]
    },
    {
     "name": "stdout",
     "output_type": "stream",
     "text": [
      "Converted and resized: Белая ночь на Белом море_2007_Бум_акв_60х86 (2).jpg -> ./webp/Белая ночь на Белом море_2007_Бум_акв_60х86 (2).webp\n"
     ]
    },
    {
     "name": "stderr",
     "output_type": "stream",
     "text": [
      "\r",
      " 96%|███████████████████████████████████████▌ | 345/358 [03:18<00:06,  1.97it/s]"
     ]
    },
    {
     "name": "stdout",
     "output_type": "stream",
     "text": [
      "Converted and resized: На берегу озера Хадата_2018_Бум_акв_100х360 (1).jpg -> ./webp/На берегу озера Хадата_2018_Бум_акв_100х360 (1).webp\n"
     ]
    },
    {
     "name": "stderr",
     "output_type": "stream",
     "text": [
      "\r",
      " 97%|███████████████████████████████████████▋ | 346/358 [03:18<00:06,  1.88it/s]"
     ]
    },
    {
     "name": "stdout",
     "output_type": "stream",
     "text": [
      "Converted and resized: Нарьян Мар. Песчаная тундра_2013_Бум_акв_56х75 (1).jpg -> ./webp/Нарьян Мар. Песчаная тундра_2013_Бум_акв_56х75 (1).webp\n"
     ]
    },
    {
     "name": "stderr",
     "output_type": "stream",
     "text": [
      "\r",
      " 97%|███████████████████████████████████████▊ | 348/358 [03:19<00:04,  2.44it/s]"
     ]
    },
    {
     "name": "stdout",
     "output_type": "stream",
     "text": [
      "Converted and resized: Полярный Урал_Ущелье Конгор_2015_Бум_акв_100х340 (2).jpg -> ./webp/Полярный Урал_Ущелье Конгор_2015_Бум_акв_100х340 (2).webp\n"
     ]
    },
    {
     "name": "stderr",
     "output_type": "stream",
     "text": [
      "\r",
      " 97%|███████████████████████████████████████▉ | 349/358 [03:20<00:04,  2.18it/s]"
     ]
    },
    {
     "name": "stdout",
     "output_type": "stream",
     "text": [
      "Converted and resized: Берега озера Хадата_2018_Бум_акв_70х100 (2).jpg -> ./webp/Берега озера Хадата_2018_Бум_акв_70х100 (2).webp\n"
     ]
    },
    {
     "name": "stderr",
     "output_type": "stream",
     "text": [
      "\r",
      " 98%|████████████████████████████████████████ | 350/358 [03:20<00:03,  2.02it/s]"
     ]
    },
    {
     "name": "stdout",
     "output_type": "stream",
     "text": [
      "Converted and resized: Уральские горы_2006_Бум_акв_61х85 (3).jpg -> ./webp/Уральские горы_2006_Бум_акв_61х85 (3).webp\n"
     ]
    },
    {
     "name": "stderr",
     "output_type": "stream",
     "text": [
      "\r",
      " 98%|████████████████████████████████████████▏| 351/358 [03:21<00:03,  1.94it/s]"
     ]
    },
    {
     "name": "stdout",
     "output_type": "stream",
     "text": [
      "Converted and resized: Заросшее озеро_Ямал_2006_Бум_акв_60х86 (1).jpg -> ./webp/Заросшее озеро_Ямал_2006_Бум_акв_60х86 (1).webp\n"
     ]
    },
    {
     "name": "stderr",
     "output_type": "stream",
     "text": [
      "\r",
      " 98%|████████████████████████████████████████▎| 352/358 [03:21<00:03,  1.81it/s]"
     ]
    },
    {
     "name": "stdout",
     "output_type": "stream",
     "text": [
      "Converted and resized: Белое море_2007_Бум_акв_ 61х86 (1).jpg -> ./webp/Белое море_2007_Бум_акв_ 61х86 (1).webp\n"
     ]
    },
    {
     "name": "stderr",
     "output_type": "stream",
     "text": [
      "\r",
      " 99%|████████████████████████████████████████▍| 353/358 [03:22<00:02,  1.78it/s]"
     ]
    },
    {
     "name": "stdout",
     "output_type": "stream",
     "text": [
      "Converted and resized: Осень на Ямале_2006_Бум_акв_34х70 (3).jpg -> ./webp/Осень на Ямале_2006_Бум_акв_34х70 (3).webp\n"
     ]
    },
    {
     "name": "stderr",
     "output_type": "stream",
     "text": [
      "\r",
      " 99%|████████████████████████████████████████▌| 354/358 [03:23<00:02,  1.77it/s]"
     ]
    },
    {
     "name": "stdout",
     "output_type": "stream",
     "text": [
      "Converted and resized: Ямал_Ущелье реки Харбей_2012_Бум_акв_70х150 (2).jpg -> ./webp/Ямал_Ущелье реки Харбей_2012_Бум_акв_70х150 (2).webp\n"
     ]
    },
    {
     "name": "stderr",
     "output_type": "stream",
     "text": [
      "\r",
      " 99%|████████████████████████████████████████▋| 355/358 [03:23<00:01,  1.94it/s]"
     ]
    },
    {
     "name": "stdout",
     "output_type": "stream",
     "text": [
      "Converted and resized: Белое море_Туманное утро_2007_Бум_акв_60х80 (2).jpg -> ./webp/Белое море_Туманное утро_2007_Бум_акв_60х80 (2).webp\n"
     ]
    },
    {
     "name": "stderr",
     "output_type": "stream",
     "text": [
      "\r",
      " 99%|████████████████████████████████████████▊| 356/358 [03:24<00:01,  1.80it/s]"
     ]
    },
    {
     "name": "stdout",
     "output_type": "stream",
     "text": [
      "Converted and resized: Заполярный Урал_Щучье озеро_2018_Бум_акв_27х39 (1).jpg -> ./webp/Заполярный Урал_Щучье озеро_2018_Бум_акв_27х39 (1).webp\n"
     ]
    },
    {
     "name": "stderr",
     "output_type": "stream",
     "text": [
      "\r",
      "100%|████████████████████████████████████████▉| 357/358 [03:24<00:00,  1.71it/s]"
     ]
    },
    {
     "name": "stdout",
     "output_type": "stream",
     "text": [
      "Converted and resized: Байкал_2012_Бум_акв_70х100 (1).jpg -> ./webp/Байкал_2012_Бум_акв_70х100 (1).webp\n"
     ]
    },
    {
     "name": "stderr",
     "output_type": "stream",
     "text": [
      "100%|█████████████████████████████████████████| 358/358 [03:25<00:00,  1.74it/s]"
     ]
    },
    {
     "name": "stdout",
     "output_type": "stream",
     "text": [
      "Converted and resized: Архыз_Софийские водопады_2023_Бум_акв_26х39 (1).jpg -> ./webp/Архыз_Софийские водопады_2023_Бум_акв_26х39 (1).webp\n"
     ]
    },
    {
     "name": "stderr",
     "output_type": "stream",
     "text": [
      "\n"
     ]
    }
   ],
   "source": [
    "# Maximum dimensions\n",
    "MAX_WIDTH = 1920\n",
    "MAX_HEIGHT = 1024\n",
    "\n",
    "# Directory to save .webp files\n",
    "output_dir = \"./webp/\"\n",
    "\n",
    "# Ensure the output directory exists\n",
    "os.makedirs(output_dir, exist_ok=True)\n",
    "\n",
    "# Function to resize an image\n",
    "def resize_image(image, max_width, max_height):\n",
    "    # Get the current dimensions\n",
    "    width, height = image.size\n",
    "\n",
    "    # Calculate the scaling factor\n",
    "    scaling_factor = min(max_width / width, max_height / height)\n",
    "\n",
    "    # If scaling is needed\n",
    "    if scaling_factor < 1:\n",
    "        new_width = int(width * scaling_factor)\n",
    "        new_height = int(height * scaling_factor)\n",
    "        return image.resize((new_width, new_height), Image.Resampling.LANCZOS)\n",
    "    return image\n",
    "\n",
    "# Loop through all files in the current directory\n",
    "for file_name in tqdm(os.listdir(\".\")):    \n",
    "    if file_name.lower().endswith(\".jpg\"):  # Check for .jpg extension\n",
    "        new_file_name = os.path.splitext(file_name)[0] + \".webp\"\n",
    "        output_path = os.path.join(output_dir, new_file_name)\n",
    "        if not os.path.exists(output_path):        \n",
    "            # Open the image file\n",
    "            with Image.open(file_name) as img:\n",
    "                # Convert to RGB (if not already in RGB mode)\n",
    "                img = img.convert(\"RGB\")\n",
    "                # Resize the image\n",
    "                resized_img = resize_image(img, MAX_WIDTH, MAX_HEIGHT)\n",
    "                # Save as .webp in the output directory\n",
    "                resized_img.save(output_path, \"WEBP\", quality=90)  # Adjust quality if needed\n",
    "                print(f\"Converted and resized: {file_name} -> {output_path}\")\n",
    "\n",
    "            \n"
   ]
  },
  {
   "cell_type": "markdown",
   "id": "c4804975",
   "metadata": {},
   "source": [
    "# Parse picture file names"
   ]
  },
  {
   "cell_type": "markdown",
   "id": "c65caa89",
   "metadata": {},
   "source": [
    "Parse picture file names to extract data from them (picture_name, year, materials, size)"
   ]
  },
  {
   "cell_type": "code",
   "execution_count": 4,
   "id": "c1842a11",
   "metadata": {},
   "outputs": [],
   "source": [
    "def cyr_to_lat(text):\n",
    "    transliteration_table = {\n",
    "        'А': 'A', 'Б': 'B', 'В': 'V', 'Г': 'G', 'Д': 'D', 'Е': 'E', 'Ё': 'Yo',\n",
    "        'Ж': 'Zh', 'З': 'Z', 'И': 'I', 'Й': 'Y', 'К': 'K', 'Л': 'L', 'М': 'M',\n",
    "        'Н': 'N', 'О': 'O', 'П': 'P', 'Р': 'R', 'С': 'S', 'Т': 'T', 'У': 'U',\n",
    "        'Ф': 'F', 'Х': 'Kh', 'Ц': 'Ts', 'Ч': 'Ch', 'Ш': 'Sh', 'Щ': 'Shch',\n",
    "        'Ъ': '', 'Ы': 'Y', 'Ь': '', 'Э': 'E', 'Ю': 'Yu', 'Я': 'Ya',\n",
    "        'а': 'a', 'б': 'b', 'в': 'v', 'г': 'g', 'д': 'd', 'е': 'e', 'ё': 'yo',\n",
    "        'ж': 'zh', 'з': 'z', 'и': 'i', 'й': 'y', 'к': 'k', 'л': 'l', 'м': 'm',\n",
    "        'н': 'n', 'о': 'o', 'п': 'p', 'р': 'r', 'с': 's', 'т': 't', 'у': 'u',\n",
    "        'ф': 'f', 'х': 'kh', 'ц': 'ts', 'ч': 'ch', 'ш': 'sh', 'щ': 'shch',\n",
    "        'ъ': '', 'ы': 'y', 'ь': '', 'э': 'e', 'ю': 'yu', 'я': 'ya'\n",
    "    }\n",
    "\n",
    "    return ''.join(transliteration_table.get(char, char) for char in text)"
   ]
  },
  {
   "cell_type": "code",
   "execution_count": 5,
   "id": "abaff85f",
   "metadata": {},
   "outputs": [],
   "source": [
    "def get_files_from_the_current_directory():\n",
    "    \"\"\"\n",
    "    Returns a list of file names from the child dir ./webp/\n",
    "    \"\"\"\n",
    "    # Specify the directory you want to list files from\n",
    "    directory_path = \"./webp/\"\n",
    "\n",
    "    try:\n",
    "        # Get a list of all files and directories in the specified directory\n",
    "        files_and_dirs = os.listdir(directory_path)\n",
    "\n",
    "        # Filter out directories to get only files\n",
    "        files = [f for f in files_and_dirs if os.path.isfile(os.path.join(directory_path, f))]\n",
    "\n",
    "        return files\n",
    "\n",
    "    except FileNotFoundError:\n",
    "        print(\"The specified directory does not exist.\")\n",
    "    except PermissionError:\n",
    "        print(\"You do not have permission to access this directory.\")\n",
    "        \n",
    "\n",
    "def parse_filename(file_name):\n",
    "    \"\"\"\n",
    "    Extract data from the @file_name\n",
    "    \"\"\"\n",
    "    # Regular expression to extract components\n",
    "    pattern = r\"(.+?)_[\\s]*(\\d{4})[_|\\.\\s](.+?)[_|\\.\\s]+[\\s]*(.+?)_[\\s]*(\\d+)х(\\d+)[\\s]*\\((\\d+)\\)\"\n",
    "    match = re.search(pattern, file_name)\n",
    "\n",
    "    if match:\n",
    "        # Extract components\n",
    "        name = match.group(1)\n",
    "        name = correct_name(name)\n",
    "        year = match.group(2)\n",
    "        material = (match.group(3), match.group(4))\n",
    "        size = (match.group(5), match.group(6))\n",
    "        pos = match.group(7)\n",
    "        return name, year, material, size, pos\n",
    "    else:\n",
    "        return None\n",
    "    \n",
    "def correct_name(picture_name):\n",
    "    \"\"\"\n",
    "    Correct @picture_name of the picture: as sign'_' replace with '. '\n",
    "    \"\"\"\n",
    "    picture_name = str(picture_name).replace('_', '. ')\n",
    "    return picture_name\n",
    "\n",
    "def get_parsed_data():\n",
    "    \"\"\"\n",
    "    Returns a list of parsed data divided on two groups:\n",
    "    - valid (as the first element) and \n",
    "    - not valid (as the scond element)\n",
    "    \"\"\"\n",
    "    file_names = get_files_from_the_current_directory()\n",
    "    # Parse each file name\n",
    "    parsed_files = [parse_filename(file_name) for file_name in file_names]\n",
    "    parsed = [(data,file_name) for data, file_name in zip(parsed_files, file_names)]\n",
    "\n",
    "    not_valid = []\n",
    "    valid = []\n",
    "    for x in parsed:\n",
    "        if (not x[0]):\n",
    "            not_valid.append(x)\n",
    "        else:\n",
    "            valid.append(x)\n",
    "    return (not_valid, valid)"
   ]
  },
  {
   "cell_type": "code",
   "execution_count": 6,
   "id": "634effa6",
   "metadata": {},
   "outputs": [],
   "source": [
    "parsed_data_list = get_parsed_data()\n",
    "not_valid_data_list = parsed_data_list[0]\n",
    "valid_data_list = parsed_data_list[1]"
   ]
  },
  {
   "cell_type": "markdown",
   "id": "1a35218c",
   "metadata": {},
   "source": [
    "## Список не пропарсенных файлов"
   ]
  },
  {
   "cell_type": "code",
   "execution_count": 7,
   "id": "5110f5ef",
   "metadata": {},
   "outputs": [
    {
     "data": {
      "text/plain": [
       "[]"
      ]
     },
     "execution_count": 7,
     "metadata": {},
     "output_type": "execute_result"
    }
   ],
   "source": [
    "not_valid_data_list"
   ]
  },
  {
   "cell_type": "code",
   "execution_count": 8,
   "id": "feeb1483",
   "metadata": {},
   "outputs": [
    {
     "name": "stdout",
     "output_type": "stream",
     "text": [
      "351\n"
     ]
    },
    {
     "data": {
      "text/plain": [
       "[(('Полярный Урал', '2010', ('Бум', 'акв'), ('60', '86'), '1'),\n",
       "  'Полярный Урал_2010_Бум_акв_60х86 (1).webp'),\n",
       " (('Белое море. Апрель', '2007', ('Бум', 'акв'), ('60', '86'), '1'),\n",
       "  'Белое море. Апрель_2007_Бум_акв_60х86  (1).webp'),\n",
       " (('Белое море. Туманное утро', '2007', ('Бум', 'акв'), ('60', '80'), '2'),\n",
       "  'Белое море_Туманное утро_2007_Бум_акв_60х80 (2).webp'),\n",
       " (('Урал. Гора Рай Из', '2012', ('Бум', 'акв_'), ('70', '100'), '2'),\n",
       "  'Урал_Гора Рай Из_2012_Бум_акв__70х100 (2).webp'),\n",
       " (('Морозное осеннее утро', '2008', ('Бум', 'акв'), ('70', '100'), '3'),\n",
       "  'Морозное осеннее утро_2008_Бум_акв_70х100 (3).webp'),\n",
       " (('Белое море. Рыбацкие сети', '2007', ('Бум', 'акв'), ('60', '86'), '1'),\n",
       "  'Белое море_Рыбацкие сети_2007_Бум_ акв_60х86  (1).webp'),\n",
       " (('Небо. Море. Камни', '2019', ('Бум', 'акв'), ('70', '100'), '1'),\n",
       "  'Небо_Море_Камни_2019_Бум_акв_70х100 (1).webp'),\n",
       " (('Уральский водопад', '2015', ('Бум', 'акв'), ('70', '100'), '1'),\n",
       "  'Уральский водопад_2015_Бум_акв_70х100 (1).webp'),\n",
       " (('Ямал. Туманное утро на реке Харбей',\n",
       "   '2012',\n",
       "   ('Бум', 'акв'),\n",
       "   ('70', '100'),\n",
       "   '1'),\n",
       "  'Ямал_Туманное утро на реке Харбей_2012_Бум_акв_70х100 (1).webp'),\n",
       " (('Ямал. Ущелье реки Харбей', '2012', ('Бум', 'акв'), ('70', '150'), '2'),\n",
       "  'Ямал_Ущелье реки Харбей_2012_Бум_акв_70х150 (2).webp'),\n",
       " (('Берег Белого моря', '2007', ('Бум', 'акв'), ('60', '75'), '3'),\n",
       "  'Берег Белого моря_ 2007_Бум_акв_60х75 (3).webp'),\n",
       " (('Полярный Урал. Дождь пошёл', '2012', ('Бум', 'акв'), ('70', '100'), '3'),\n",
       "  'Полярный Урал. Дождь пошёл_2012_Бум_акв_70х100 (3).webp'),\n",
       " (('Осень на Елагином острове', '2014', ('Бум', 'акв'), ('70', '100'), '2'),\n",
       "  'Осень на Елагином острове_2014_Бум_акв_70х100 (2).webp'),\n",
       " (('Речной порт в Салехарде', '2012', ('Бум', 'акв'), ('40', '86'), '2'),\n",
       "  'Речной порт в Салехарде_2012_Бум_акв_40х86 (2).webp'),\n",
       " (('На закате', '2009', ('Бум', 'акв'), ('70', '100'), '1'),\n",
       "  'На закате_2009_Бум_акв_70х100 (1).webp'),\n",
       " (('Морской простор', '2020', ('Бум', 'акв'), ('100', '300'), '4'),\n",
       "  'Морской простор_2020_Бум_акв_100х300 (4).webp'),\n",
       " (('Август на Ямале', '2006', ('Бум', 'акв'), ('60', '86'), '2'),\n",
       "  'Август на Ямале_2006_Бум_акв_60х86 (2).webp'),\n",
       " (('Заполярный Урал. Озеро Хадата',\n",
       "   '2018',\n",
       "   ('Бум', 'акв'),\n",
       "   ('100', '360'),\n",
       "   '1'),\n",
       "  'Заполярный Урал_Озеро Хадата_2018_Бум_акв_100х360 (1).webp'),\n",
       " (('Заполярный Урал. Облака над Щучьем озером',\n",
       "   '2018',\n",
       "   ('Бум', 'акв'),\n",
       "   ('70', '100'),\n",
       "   '2'),\n",
       "  'Заполярный Урал_Облака над Щучьем озером_2018_Бум_акв_70х100 (2).webp'),\n",
       " (('Ямал. Река Харбей', '2019', ('Бум', 'акв'), ('50', '70'), '2'),\n",
       "  'Ямал_Река Харбей_2019_Бум_акв_50х70 (2).webp'),\n",
       " (('Карелия. Песчаное озеро', '2010', ('Бум', 'акв'), ('70', '100'), '2'),\n",
       "  'Карелия_Песчаное озеро_2010_Бум_акв_70х100 (2).webp'),\n",
       " (('Белое море. Облака', '2012', ('Бум', 'акв'), ('70', '100'), '2'),\n",
       "  'Белое море_Облака_2012_Бум_акв_70х100 (2).webp'),\n",
       " (('Соловецкий монастырь', '2006', ('Бум', 'акв'), ('61', '86'), '2'),\n",
       "  'Соловецкий монастырь_2006_Бум_акв_61х86 (2).webp'),\n",
       " (('Август на Ямале', '2006', ('Бум', 'акв'), ('60', '86'), '1'),\n",
       "  'Август на Ямале_2006_Бум_акв_60х86 (1).webp'),\n",
       " (('Ямал. Морозный день', '2023', ('Бум', 'акв'), ('50', '100'), '1'),\n",
       "  'Ямал_Морозный день_2023_Бум_акв_50х100 (1).webp'),\n",
       " (('Осень на Ямале', '2006', ('Бум', 'акв'), ('34', '70'), '2'),\n",
       "  'Осень на Ямале_2006_Бум_акв_34х70 (2).webp'),\n",
       " (('Салехард. Обдорский острог', '2009', ('Бум', 'акв'), ('20', '86'), '3'),\n",
       "  'Салехард_Обдорский острог_2009_Бум_акв_20х86 (3).webp'),\n",
       " (('Нормандия. Дождливый день', '2019', ('Бум', 'акв'), ('40', '60'), '2'),\n",
       "  'Нормандия_Дождливый день_2019_Бум_акв_40х60 (2).webp'),\n",
       " (('Буйство красок Севера', '2011', ('Бум', 'акв'), ('70', '100'), '1'),\n",
       "  'Буйство красок Севера_2011_Бум_акв_70х100 (1).webp'),\n",
       " (('Небо и море', '2013', ('Бум', 'акв'), ('70', '100'), '2'),\n",
       "  'Небо и море_2013_Бум_акв_70х100 (2).webp'),\n",
       " (('Дождливый день. Карелия', '2009', ('Бум', 'акв'), ('60', '86'), '1'),\n",
       "  'Дождливый день_Карелия_2009_Бум_акв_60х86 (1).webp'),\n",
       " (('Полярный Урал. Исток реки Собь',\n",
       "   '2015',\n",
       "   ('Бум', 'акв'),\n",
       "   ('100', '340'),\n",
       "   '3'),\n",
       "  'Полярный Урал_Исток реки Собь_2015_Бум_акв_100х340 (3).webp'),\n",
       " (('Ямал. Долина реки Лангота', '2013', ('Бум', 'акв'), ('70', '150'), '2'),\n",
       "  'Ямал. Долина реки Лангота_2013_Бум_акв_70х150 (2).webp'),\n",
       " (('Полярный Урал. Долина реки Собь',\n",
       "   '2013',\n",
       "   ('Бум', 'акв'),\n",
       "   ('100', '150'),\n",
       "   '3'),\n",
       "  'Полярный Урал_Долина реки Собь_ 2013_Бум_акв_100х150 (3).webp'),\n",
       " (('Норвегия. Лофотены', '2010', ('Бум', 'акв'), ('70', '100'), '2'),\n",
       "  'Норвегия_Лофотены_2010_Бум_акв_70х100 (2).webp'),\n",
       " (('Белое море. Рыбацкий остров', '2006', ('Бум', 'акв'), ('52', '86'), '1'),\n",
       "  'Белое море_Рыбацкий остров_2006_Бум_акв_52х86 (1).webp'),\n",
       " (('Морской простор', '2020', ('Бум', 'акв'), ('100', '300'), '2'),\n",
       "  'Морской простор_2020_Бум_акв_100х300 (2).webp'),\n",
       " (('Небо и море', '2013', ('Бум', 'акв'), ('70', '100'), '1'),\n",
       "  'Небо и море_2013_Бум_акв_70х100 (1).webp'),\n",
       " (('Полярный Урал. Ущелье Конгор',\n",
       "   '2015',\n",
       "   ('Бум', 'акв'),\n",
       "   ('100', '340'),\n",
       "   '2'),\n",
       "  'Полярный Урал_Ущелье Конгор_2015_Бум_акв_100х340 (2).webp'),\n",
       " (('Пороги на реке Сума. Карелия', '2009', ('Бум', 'акв'), ('70', '100'), '2'),\n",
       "  'Пороги на реке Сума. Карелия_2009_Бум_акв_70х100 (2).webp'),\n",
       " (('Водопад в облаках', '2012', ('Бум', 'ак'), ('100', '70'), '3'),\n",
       "  'Водопад в облаках_2012_Бум_ак_100х70 (3).webp'),\n",
       " (('На берегу озера Хадата', '2018', ('Бум', 'акв'), ('100', '360'), '4'),\n",
       "  'На берегу озера Хадата_2018_Бум_акв_100х360 (4).webp'),\n",
       " (('Ямал. Август', '2008', ('Бум', 'акв'), ('50', '100'), '1'),\n",
       "  'Ямал_Август_2008_Бум_акв_50х100 (1).webp'),\n",
       " (('Карелия. Сумской порог', '2010', ('Бум', 'акв'), ('70', '100'), '1'),\n",
       "  'Карелия_Сумской порог_2010_Бум_акв_70х100 (1).webp'),\n",
       " (('Преображенский собор Соловецкого монастыря',\n",
       "   '2007',\n",
       "   ('Бум', 'акв'),\n",
       "   ('61', '85'),\n",
       "   '2'),\n",
       "  'Преображенский собор Соловецкого монастыря_2007_Бум_акв_61х85 (2).webp'),\n",
       " (('Берег Белого моря', '2007', ('Бум', 'акв'), ('60', '75'), '2'),\n",
       "  'Берег Белого моря_ 2007_Бум_акв_60х75 (2).webp'),\n",
       " (('Баня геологов', '2006', ('Бум', 'акв'), ('50', '67'), '1'),\n",
       "  'Баня геологов_2006_Бум_акв_50х67 (1).webp'),\n",
       " (('Уральские горы', '2006', ('Бум', 'акв'), ('61', '85'), '3'),\n",
       "  'Уральские горы_2006_Бум_акв_61х85 (3).webp'),\n",
       " (('Соловецкий монастырь', '2006', ('Бум', 'акв'), ('61', '86'), '3'),\n",
       "  'Соловецкий монастырь_2006_Бум_акв_61х86 (3).webp'),\n",
       " (('Облака над Белым морем', '2008', ('Бум', 'акв'), ('60', '86'), '2'),\n",
       "  'Облака над Белым морем_2008_Бум_акв_ 60х86 (2).webp'),\n",
       " (('Просторы Белого моря. Кузова',\n",
       "   '2015',\n",
       "   ('Бум', 'акв'),\n",
       "   ('100', '280'),\n",
       "   '3'),\n",
       "  'Просторы Белого моря_Кузова_2015_Бум_акв_100х280 (3).webp'),\n",
       " (('Диптих. На просторах устья реки Обь. Ямал. правый',\n",
       "   '2012',\n",
       "   ('Бум', 'акв'),\n",
       "   ('70', '100'),\n",
       "   '2'),\n",
       "  'Диптих_На просторах устья реки Обь_Ямал_правый_2012_Бум_акв_70х100 (2).webp'),\n",
       " (('Ямал. Ущелье реки Харбей', '2012', ('Бум', 'акв'), ('70', '150'), '4'),\n",
       "  'Ямал_Ущелье реки Харбей_2012_Бум_акв_70х150 (4).webp'),\n",
       " (('Байкал', '2012', ('Бум', 'акв'), ('35', '50'), '2'),\n",
       "  'Байкал_2012_Бум_акв_35х50 (2).webp'),\n",
       " (('Карелия. Остров Сосновец', '2007', ('Бум', 'акв'), ('70', '100'), '1'),\n",
       "  'Карелия_Остров Сосновец_2007_Бум_акв_70х100 (1).webp'),\n",
       " (('Речной порт в Салехарде', '2012', ('Бум', 'акв'), ('40', '86'), '1'),\n",
       "  'Речной порт в Салехарде_2012_Бум_акв_40х86 (1).webp'),\n",
       " (('Морской простор', '2020', ('Бум', 'акв'), ('100', '300'), '1'),\n",
       "  'Морской простор_2020_Бум_акв_100х300 (1).webp'),\n",
       " (('Ямал. Заросшее озеро', '2006', ('Бум', 'акв'), ('60', '86'), '2'),\n",
       "  'Ямал_Заросшее озеро_2006_Бум_акв_60х86 (2).webp'),\n",
       " (('Ямал. Река Харбей', '2012', ('Бум', 'акв'), ('70', '100'), '3'),\n",
       "  'Ямал_Река Харбей_2012_Бум_акв_70х100 (3).webp'),\n",
       " (('На Белом море. Зима уходит', '2007', ('Бум', 'акв'), ('61', '85'), '1'),\n",
       "  'На Белом море_Зима уходит_2007_Бум_акв_61х85 (1).webp'),\n",
       " (('Ямал. Осенняя тундра', '2008', ('Бум', 'акв'), ('60', '86'), '2'),\n",
       "  'Ямал_Осенняя тундра_2008_Бум_акв_60х86 (2).webp'),\n",
       " (('Норвегия. Закат', '2010', ('Бум', 'акв'), ('70', '100'), '2'),\n",
       "  'Норвегия_Закат_2010_Бум_акв_70х100 (2).webp'),\n",
       " (('Бухта Севастополя', '2019', ('_Бум', 'акв'), ('54', '83'), '1'),\n",
       "  'Бухта Севастополя_2019__Бум_акв_54х83 (1).webp'),\n",
       " (('Водопад Куми порог. Карелия', '2009', ('Бум', 'акв'), ('70', '100'), '1'),\n",
       "  'Водопад Куми порог_Карелия_2009_Бум_акв_70х100 (1).webp'),\n",
       " (('На Белом море. Зима уходит', '2007', ('Бум', 'акв'), ('61', '85'), '2'),\n",
       "  'На Белом море_Зима уходит_2007_Бум_акв_61х85 (2).webp'),\n",
       " (('Байкал. Берега', '2012', ('Бум', 'акв'), ('70', '100'), '2'),\n",
       "  'Байкал_Берега_2012_Бум_акв_70х100 (2).webp'),\n",
       " (('Ямал. Хмурый день', '2018', ('Бум', 'акв'), ('60', '100'), '1'),\n",
       "  'Ямал_Хмурый день_2018_Бум_акв_60х100 (1).webp'),\n",
       " (('Тишина', '2012', ('Бум', 'акв'), ('50', '110'), '1'),\n",
       "  'Тишина_2012_Бум_акв_50х110 (1).webp'),\n",
       " (('Белое море', '2007', ('Бум', 'акв'), ('61', '86'), '1'),\n",
       "  'Белое море_2007_Бум_акв_ 61х86 (1).webp'),\n",
       " (('Дождливые облака', '2014', ('Бум', 'акв'), ('70', '100'), '2'),\n",
       "  'Дождливые облака_2014_Бум_акв_70х100 (2).webp'),\n",
       " (('Ямал. Иван чай', '2023', ('Бум', 'акв'), ('70', '100'), '1'),\n",
       "  'Ямал_Иван чай_2023_Бум_акв_70х100 (1).webp'),\n",
       " (('Франция. Нормандия. Виль ля Роз',\n",
       "   '2019',\n",
       "   ('Бум', 'акв'),\n",
       "   ('40', '60'),\n",
       "   '2'),\n",
       "  'Франция_Нормандия_Виль ля Роз_2019_Бум_акв_40х60 (2).webp'),\n",
       " (('Полярный Урал. Долина реки Собь',\n",
       "   '2013',\n",
       "   ('Бум', 'акв'),\n",
       "   ('100', '150'),\n",
       "   '2'),\n",
       "  'Полярный Урал_Долина реки Собь_ 2013_Бум_акв_100х150 (2).webp'),\n",
       " (('Мамомнты на Ямале', '2020', ('Бум', 'акв'), ('20', '30'), '1'),\n",
       "  'Мамомнты на Ямале_2020_Бум_акв_20х30 (1).webp'),\n",
       " (('Ямал. Ущелье реки Харбей', '2012', ('Бум', 'акв'), ('70', '150'), '3'),\n",
       "  'Ямал_Ущелье реки Харбей_2012_Бум_акв_70х150 (3).webp'),\n",
       " (('Снежные вершины', '2010', ('Бум', 'акв'), ('57', '86'), '2'),\n",
       "  'Снежные вершины_2010_Бум_акв_57х86 (2).webp'),\n",
       " (('Ямал. Долина реки Лангота', '2013', ('Бум', 'акв'), ('70', '150'), '3'),\n",
       "  'Ямал. Долина реки Лангота_2013_Бум_акв_70х150 (3).webp'),\n",
       " (('Ямал. Хмурый день', '2018', ('Бум', 'акв'), ('60', '100'), '3'),\n",
       "  'Ямал_Хмурый день_2018_Бум_акв_60х100 (3).webp'),\n",
       " (('Здесь начинается река Собь. Полярный Урал',\n",
       "   '2015',\n",
       "   ('Бум', 'акв'),\n",
       "   ('70', '100'),\n",
       "   '3'),\n",
       "  'Здесь начинается река Собь. Полярный Урал_ 2015_Бум_акв_70х100 (3).webp'),\n",
       " (('Дождливый день. Карелия', '2009', ('Бум', 'акв'), ('60', '86'), '2'),\n",
       "  'Дождливый день_Карелия_2009_Бум_акв_60х86 (2).webp'),\n",
       " (('Белое море. Апрель', '2007', ('Бум', 'акв'), ('60', '86'), '2'),\n",
       "  'Белое море. Апрель_2007_Бум_акв_60х86  (2).webp'),\n",
       " (('Ямал. Осенняя тундра', '2008', ('Бум', 'акв'), ('60', '86'), '1'),\n",
       "  'Ямал_Осенняя тундра_2008_Бум_акв_60х86 (1).webp'),\n",
       " (('Морозное осеннее утро', '2008', ('Бум', 'акв'), ('70', '100'), '1'),\n",
       "  'Морозное осеннее утро_2008_Бум_акв_70х100 (1).webp'),\n",
       " (('Сумской порог. Карелия', '2009', ('Бум', 'акв'), ('86', '60'), '1'),\n",
       "  'Сумской порог_Карелия_2009_Бум_ акв_86х60 (1).webp'),\n",
       " (('Полярный Урал. Долина реки Собь',\n",
       "   '2009',\n",
       "   ('Бум', 'акв'),\n",
       "   ('70', '100'),\n",
       "   '3'),\n",
       "  'Полярный Урал_Долина реки Собь_2009_Бум_акв_70х100 (3).webp'),\n",
       " (('Полярный Урал. Исток реки Собь',\n",
       "   '2015',\n",
       "   ('Бум', 'акв'),\n",
       "   ('100', '340'),\n",
       "   '1'),\n",
       "  'Полярный Урал_Исток реки Собь_2015_Бум_акв_100х340 (1).webp'),\n",
       " (('Байкал', '2012', ('Бум', 'акв'), ('70', '100'), '1'),\n",
       "  'Байкал_2012_Бум_акв_70х100 (1).webp'),\n",
       " (('Ямал. Лиловый восход', '2023', ('Бум', 'акв'), ('23', '40'), '1'),\n",
       "  'Ямал_Лиловый восход_2023_Бум_акв_23х40 (1).webp'),\n",
       " (('Осень. Берег реки', '2023', ('Бум', 'акв'), ('50', '70'), '2'),\n",
       "  'Осень_Берег реки_2023_Бум_акв_50х70 (2).webp'),\n",
       " (('Карелия. Водопад. Куми порог. Пошёл июльский снег',\n",
       "   '2009',\n",
       "   ('Бум', 'акв'),\n",
       "   ('70', '100'),\n",
       "   '2'),\n",
       "  'Карелия. Водопад_Куми порог_Пошёл июльский снег_2009_Бум_акв_70х100 (2).webp'),\n",
       " (('Преображенский собор Соловецкого монастыря',\n",
       "   '2007',\n",
       "   ('Бум', 'акв'),\n",
       "   ('61', '85'),\n",
       "   '1'),\n",
       "  'Преображенский собор Соловецкого монастыря_2007_Бум_акв_61х85 (1).webp'),\n",
       " (('Гора Чертов палец. Ямал', '2023', ('Бум', 'акв'), ('23', '40'), '1'),\n",
       "  'Гора Чертов палец_Ямал_2023_Бум_акв_23х40 (1).webp'),\n",
       " (('Перед рассветом. Белое море', '2007', ('Бум', 'акв'), ('70', '100'), '1'),\n",
       "  'Перед рассветом_Белое море_2007_Бум_акв_70х100 (1).webp'),\n",
       " (('Полярный Урал. Ущелье Конгор',\n",
       "   '2015',\n",
       "   ('Бум', 'акв'),\n",
       "   ('100', '340'),\n",
       "   '3'),\n",
       "  'Полярный Урал_Ущелье Конгор_2015_Бум_акв_100х340 (3).webp'),\n",
       " (('Ямал. Декабрь', '2023', ('Бум', 'акв'), ('35', '110'), '1'),\n",
       "  'Ямал_Декабрь_2023_Бум_акв_35х110 (1).webp'),\n",
       " (('Ямал. Река Полуй', '2008', ('Бум', 'акв'), ('70', '100'), '1'),\n",
       "  'Ямал_Река Полуй_2008_Бум_акв_70х100 (1).webp'),\n",
       " (('Ямал. Морозный день', '2023', ('Бум', 'акв'), ('50', '100'), '2'),\n",
       "  'Ямал_Морозный день_2023_Бум_акв_50х100 (2).webp'),\n",
       " (('Ямал. Осень на Оби', '2009', ('Бум', 'акв'), ('35', '100'), '1'),\n",
       "  'Ямал_Осень на Оби_2009_Бум_акв_35х100 (1).webp'),\n",
       " (('Архыз. Софийские водопады', '2023', ('Бум', 'акв'), ('26', '39'), '1'),\n",
       "  'Архыз_Софийские водопады_2023_Бум_акв_26х39 (1).webp'),\n",
       " (('Нарьян Мар. Песчаная тундра', '2013', ('Бум', 'акв'), ('56', '75'), '1'),\n",
       "  'Нарьян Мар. Песчаная тундра_2013_Бум_акв_56х75 (1).webp'),\n",
       " (('Байкал', '2012', ('Бум', 'акв'), ('35', '50'), '1'),\n",
       "  'Байкал_2012_Бум_акв_35х50 (1).webp'),\n",
       " (('Полярный Урал. Долина реки Собь',\n",
       "   '2013',\n",
       "   ('Бум', 'акв'),\n",
       "   ('100', '150'),\n",
       "   '1'),\n",
       "  'Полярный Урал_Долина реки Собь_ 2013_Бум_акв_100х150 (1).webp'),\n",
       " (('Карелия. Остров Сосновец', '2007', ('Бум', 'акв'), ('70', '100'), '2'),\n",
       "  'Карелия_Остров Сосновец_2007_Бум_акв_70х100 (2).webp'),\n",
       " (('Камни и море', '2019', ('Бум', 'акв'), ('40', '60'), '2'),\n",
       "  'Камни и море_2019_Бум_акв_40х60 (2).webp'),\n",
       " (('Полярный Урал. Ямал. Снежные вершины',\n",
       "   '2022',\n",
       "   ('Бум', 'акв'),\n",
       "   ('35', '46'),\n",
       "   '2'),\n",
       "  'Полярный Урал_Ямал_Снежные вершины_2022_Бум_акв_35х46 (2).webp'),\n",
       " (('Осень в парке', '2023', ('Бум', 'акв'), ('25', '40'), '1'),\n",
       "  'Осень в парке_2023_Бум_акв_25х40 (1).webp'),\n",
       " (('Полярный Урал. Гора Сфинкс', '2012', ('Бум', 'акв'), ('70', '100'), '2'),\n",
       "  'Полярный Урал_Гора Сфинкс_2012_Бум_акв_70х100 (2).webp'),\n",
       " (('Просторы Белого моря. Кузова',\n",
       "   '2015',\n",
       "   ('Бум', 'акв'),\n",
       "   ('100', '280'),\n",
       "   '1'),\n",
       "  'Просторы Белого моря_Кузова_2015_Бум_акв_100х280 (1).webp'),\n",
       " (('Облака над Полярныи Уралом', '2010', ('Бум', 'акв'), ('70', '100'), '2'),\n",
       "  'Облака над Полярныи Уралом_2010_Бум_акв_70х100 (2).webp'),\n",
       " (('Полярный Урал. Снежные вершины',\n",
       "   '2015',\n",
       "   ('Бум', 'акв'),\n",
       "   ('100', '270'),\n",
       "   '2'),\n",
       "  'Полярный Урал_Снежные вершины_2015_Бум_акв_100х270 (2).webp'),\n",
       " (('Ямал. Сентябрь', '2008', ('Бум', 'акв'), ('52', '100'), '2'),\n",
       "  'Ямал_Сентябрь_2008_Бум_акв_52х100 (2).webp'),\n",
       " (('Водопад. Две сестры. Полярный Урал',\n",
       "   '2015',\n",
       "   ('Бум', 'акв'),\n",
       "   ('70', '100'),\n",
       "   '2'),\n",
       "  'Водопад_Две сестры_Полярный Урал_2015_Бум_акв_70х100 (2).webp'),\n",
       " (('Золотая осень на Полярном Урале',\n",
       "   '2021',\n",
       "   ('Бум', 'акв'),\n",
       "   ('20', '50'),\n",
       "   '2'),\n",
       "  'Золотая осень на Полярном Урале_2021_Бум_акв_20х50 (2).webp'),\n",
       " (('Белое море. Туманное утро', '2007', ('Бум', 'акв'), ('60', '80'), '1'),\n",
       "  'Белое море_Туманное утро_2007_Бум_акв_60х80 (1).webp'),\n",
       " (('Уральские горы', '2006', ('Бум', 'акв'), ('61', '85'), '2'),\n",
       "  'Уральские горы_2006_Бум_акв_61х85 (2).webp'),\n",
       " (('Капли дождя', '2010', ('Бум', 'акв'), ('50', '70'), '3'),\n",
       "  'Капли дождя_2010_Бум_акв_50х70 (3).webp'),\n",
       " (('Облака над Белым морем', '2008', ('Бум', 'акв'), ('60', '86'), '1'),\n",
       "  'Облака над Белым морем_2008_Бум_акв_ 60х86 (1).webp'),\n",
       " (('Острова на Белом море', '2007', ('Бум', 'акв'), ('60', '86'), '1'),\n",
       "  'Острова на Белом море_2007_Бум_акв_ 60х86 (1).webp'),\n",
       " (('Полярный Урал. Долина реки Собь',\n",
       "   '2009',\n",
       "   ('Бум', 'акв'),\n",
       "   ('70', '100'),\n",
       "   '4'),\n",
       "  'Полярный Урал_Долина реки Собь_2009_Бум_акв_70х100 (4).webp'),\n",
       " (('Ангара. Иван чай цветет', '2023', ('Бум', 'акв'), ('50', '70'), '1'),\n",
       "  'Ангара_Иван чай цветет_2023_Бум_акв_50х70 (1).webp'),\n",
       " (('Полярный Урал. Озеро Макар-Рузь',\n",
       "   '2015',\n",
       "   ('Бум', 'акв'),\n",
       "   ('100', '340'),\n",
       "   '2'),\n",
       "  'Полярный Урал_Озеро Макар-Рузь_2015_Бум_акв_100х340 (2).webp'),\n",
       " (('Осень. На лесной поляне', '2023', ('Бум', 'акв'), ('50', '70'), '2'),\n",
       "  'Осень. На лесной поляне_2023_Бум_акв_50х70 (2).webp'),\n",
       " (('На берегу озера Хадата', '2018', ('Бум', 'акв'), ('100', '360'), '2'),\n",
       "  'На берегу озера Хадата_2018_Бум_акв_100х360 (2).webp'),\n",
       " (('Ямал. Золотая осень', '2009', ('Бум', 'акв'), ('70', '100'), '3'),\n",
       "  'Ямал_Золотая осень_2009_Бум_акв_70х100 (3).webp'),\n",
       " (('Уральские горы', '2006', ('Бум', 'акв'), ('61', '85'), '1'),\n",
       "  'Уральские горы_2006_Бум_акв_61х85 (1).webp'),\n",
       " (('Ямал. Иванчай отцвёл', '2009', ('Бум', 'акв'), ('70', '100'), '2'),\n",
       "  'Ямал_Иванчай отцвёл_2009_Бум_акв_70х100 (2).webp'),\n",
       " (('Ямал. Сентябрь', '2008', ('Бум', 'акв'), ('52', '100'), '3'),\n",
       "  'Ямал_Сентябрь_2008_Бум_акв_52х100 (3).webp'),\n",
       " (('Полярный Урал. Горное озеро', '2012', ('Бум', 'акв'), ('70', '100'), '2'),\n",
       "  'Полярный Урал_Горное озеро_2012_Бум_акв_70х100 (2).webp'),\n",
       " (('Шторм на Белом море', '2006', ('Бум', 'акв'), ('50', '70'), '2'),\n",
       "  'Шторм на Белом море_2006_Бум_акв_50х70 (2).webp'),\n",
       " (('Диптих. Полярный Урал. Долина реки Собь. левый',\n",
       "   '2012',\n",
       "   ('Бум', 'акв'),\n",
       "   ('70', '100'),\n",
       "   '2'),\n",
       "  'Диптих_Полярный Урал_Долина реки Собь_левый_2012_Бум_акв_70х100 (2).webp'),\n",
       " (('Норвегия. Лофотены', '2010', ('Бум', 'акв'), ('70', '100'), '1'),\n",
       "  'Норвегия_Лофотены_2010_Бум_акв_70х100 (1).webp'),\n",
       " (('Берег Белого моря', '2007', ('Бум', 'акв'), ('60', '75'), '1'),\n",
       "  'Берег Белого моря_ 2007_Бум_акв_60х75 (1).webp'),\n",
       " (('Дождливый день. Карелия', '2009', ('Бум', 'акв'), ('60', '86'), '3'),\n",
       "  'Дождливый день_Карелия_2009_Бум_акв_60х86 (3).webp'),\n",
       " (('Гора Чертов палец. Ямал', '2023', ('Бум', 'акв'), ('23', '40'), '2'),\n",
       "  'Гора Чертов палец_Ямал_2023_Бум_акв_23х40 (2).webp'),\n",
       " (('Просторы Белого моря. Кузова',\n",
       "   '2015',\n",
       "   ('Бум', 'акв'),\n",
       "   ('100', '280'),\n",
       "   '2'),\n",
       "  'Просторы Белого моря_Кузова_2015_Бум_акв_100х280 (2).webp'),\n",
       " (('Август на Ямале', '2009', ('Бум', 'акв'), ('61', '86'), '1'),\n",
       "  'Август на Ямале_2009_Бум_акв_61х86 (1).webp'),\n",
       " (('Заполярный Урал. Озеро Хадата',\n",
       "   '2018',\n",
       "   ('Бум', 'акв'),\n",
       "   ('100', '360'),\n",
       "   '2'),\n",
       "  'Заполярный Урал_Озеро Хадата_2018_Бум_акв_100х360 (2).webp'),\n",
       " (('Норвегия. Лофотенские острова',\n",
       "   '2010',\n",
       "   ('Бум', 'акв'),\n",
       "   ('70', '100'),\n",
       "   '2'),\n",
       "  'Норвегия_Лофотенские острова_2010_Бум_акв_70х100 (2).webp'),\n",
       " (('Ямал. Река Харбей', '2019', ('Бум', 'акв'), ('50', '70'), '1'),\n",
       "  'Ямал_Река Харбей_2019_Бум_акв_50х70 (1).webp'),\n",
       " (('Архипелаг. Кузова. на Белом море',\n",
       "   '2006',\n",
       "   ('Бум', 'акв'),\n",
       "   ('35', '86'),\n",
       "   '2'),\n",
       "  'Архипелаг_Кузова_на Белом море_2006_Бум_акв_35х86 (2).webp'),\n",
       " (('Капли дождя', '2010', ('Бум', 'акв'), ('50', '70'), '1'),\n",
       "  'Капли дождя_2010_Бум_акв_50х70 (1).webp'),\n",
       " (('Полярный Урал. Гора Рай Из', '2010', ('Бум', 'акв'), ('70', '100'), '1'),\n",
       "  'Полярный Урал. Гора Рай Из_2010_Бум_акв_70х100 (1).webp'),\n",
       " (('Водопады на горе Рай Из', '2013', ('Бум', 'акв'), ('70', '100'), '1'),\n",
       "  'Водопады на горе Рай Из_2013_Бум_акв_70х100 (1).webp'),\n",
       " (('Ямал. Осень на Оби', '2009', ('Бум', 'акв'), ('35', '100'), '2'),\n",
       "  'Ямал_Осень на Оби_2009_Бум_акв_35х100 (2).webp'),\n",
       " (('Седой Великан Урала', '2018', ('Бум', 'акв'), ('70', '100'), '1'),\n",
       "  'Седой Великан Урала_2018_Бум_ акв_70х100 (1).webp'),\n",
       " (('Зима на Рай Из', '2023', ('Бум', 'акв'), ('23', '40'), '2'),\n",
       "  'Зима на Рай Из_2023_Бум_акв_23х40 (2).webp'),\n",
       " (('Берега озера Хадата', '2018', ('Бум', 'акв'), ('70', '100'), '3'),\n",
       "  'Берега озера Хадата_2018_Бум_акв_70х100 (3).webp'),\n",
       " (('Ямал. Золотая осень', '2021', ('Бум', 'акв'), ('20', '50'), '1'),\n",
       "  'Ямал_Золотая осень_2021_Бум_акв_20х50 (1).webp'),\n",
       " (('Диптих. На просторах устья реки Обь. Ямал. правый',\n",
       "   '2012',\n",
       "   ('Бум', 'акв'),\n",
       "   ('70', '100'),\n",
       "   '1'),\n",
       "  'Диптих_На просторах устья реки Обь_Ямал_правый_2012_Бум_акв_70х100 (1).webp'),\n",
       " (('Полярный Урал. Долина реки Собь',\n",
       "   '2013',\n",
       "   ('Бум', 'акв'),\n",
       "   ('100', '150'),\n",
       "   '4'),\n",
       "  'Полярный Урал_Долина реки Собь_ 2013_Бум_акв_100х150 (4).webp'),\n",
       " (('Полярный Урал. Исток реки Собь',\n",
       "   '2015',\n",
       "   ('Бум', 'акв'),\n",
       "   ('100', '340'),\n",
       "   '2'),\n",
       "  'Полярный Урал_Исток реки Собь_2015_Бум_акв_100х340 (2).webp'),\n",
       " (('Архыз. Солнечный день', '2023', ('Бум', 'акв'), ('23', '40'), '1'),\n",
       "  'Архыз_Солнечный день_2023_Бум_акв_23х40 (1).webp'),\n",
       " (('Морозное осеннее утро', '2008', ('Бум', 'акв'), ('70', '100'), '2'),\n",
       "  'Морозное осеннее утро_2008_Бум_акв_70х100 (2).webp'),\n",
       " (('Ямал. Осень на реке Собь', '2007', ('Бум', 'акв'), ('60', '86'), '2'),\n",
       "  'Ямал_Осень на реке Собь_2007_Бум_акв_60х86 (2).webp'),\n",
       " (('Дождливые облака', '2014', ('Бум', 'акв'), ('70', '100'), '1'),\n",
       "  'Дождливые облака_2014_Бум_акв_70х100 (1).webp'),\n",
       " (('Франция. Нормандия. Виль ля Роз',\n",
       "   '2019',\n",
       "   ('Бум', 'акв'),\n",
       "   ('40', '60'),\n",
       "   '3'),\n",
       "  'Франция_Нормандия_Виль ля Роз_2019_Бум_акв_40х60 (3).webp'),\n",
       " (('Август на Ямале', '2009', ('Бум', 'акв'), ('61', '86'), '3'),\n",
       "  'Август на Ямале_2009_Бум_акв_61х86 (3).webp'),\n",
       " (('Осеннее утро. Ямал', '2009', ('Бум', 'акв'), ('50', '70'), '2'),\n",
       "  'Осеннее утро. Ямал_2009_Бум_акв_50х70 (2).webp'),\n",
       " (('Салехард. Обдорский острог', '2009', ('Бум', 'акв'), ('20', '86'), '2'),\n",
       "  'Салехард_Обдорский острог_2009_Бум_акв_20х86 (2).webp'),\n",
       " (('Белая ночь на Белом море', '2007', ('Бум', 'акв'), ('60', '86'), '2'),\n",
       "  'Белая ночь на Белом море_2007_Бум_акв_60х86 (2).webp'),\n",
       " (('Заполярный Урал. Озеро Хадата',\n",
       "   '2018',\n",
       "   ('Бум', 'акв'),\n",
       "   ('100', '360'),\n",
       "   '4'),\n",
       "  'Заполярный Урал_Озеро Хадата_2018_Бум_акв_100х360 (4).webp'),\n",
       " (('Полярный Урал. Гора Рай Из', '2023', ('Бум', 'акв'), ('100', '170'), '5'),\n",
       "  'Полярный Урал_Гора Рай Из_2023_Бум_акв_100х170 (5).webp'),\n",
       " (('Диптих. Полярный Урал. Долина реки Собь. правый',\n",
       "   '2012',\n",
       "   ('Бум', 'акв'),\n",
       "   ('70', '100'),\n",
       "   '2'),\n",
       "  'Диптих_Полярный Урал_Долина реки Собь_правый_2012_Бум_акв_70х100 (2).webp'),\n",
       " (('Тундра', '2006', ('Бум', 'акв'), ('61', '85'), '2'),\n",
       "  'Тундра_2006_Бум_акв_61х85 (2).webp'),\n",
       " (('Мираж над Белым морем мороз дорисовал',\n",
       "   '2006',\n",
       "   ('Бум', 'акв'),\n",
       "   ('61', '86'),\n",
       "   '2'),\n",
       "  'Мираж над Белым морем мороз дорисовал_2006_Бум_акв_61х86 (2).webp'),\n",
       " (('Полярный Урал. Изумрудное озеро',\n",
       "   '2015',\n",
       "   ('Бум', 'акв'),\n",
       "   ('70', '100'),\n",
       "   '2'),\n",
       "  'Полярный Урал_Изумрудное озеро_ 2015_Бум_акв_70х100 (2).webp'),\n",
       " (('Небо. Море. Камни', '2019', ('Бум', 'акв'), ('70', '100'), '2'),\n",
       "  'Небо_Море_Камни_2019_Бум_акв_70х100 (2).webp'),\n",
       " (('Заполярный Урал. Щучье озеро', '2012', ('Бум', 'акв'), ('50', '100'), '1'),\n",
       "  'Заполярный Урал_Щучье озеро_2012_Бум_акв_50х100 (1).webp'),\n",
       " (('Водопад в облаках', '2012', ('Бум', 'ак'), ('100', '70'), '2'),\n",
       "  'Водопад в облаках_2012_Бум_ак_100х70 (2).webp'),\n",
       " (('Тундра', '2009', ('Бум', 'акв'), ('61', '86'), '2'),\n",
       "  'Тундра_2009_Бум_акв_61х86 (2).webp'),\n",
       " (('Заросшее озеро. Ямал', '2006', ('Бум', 'акв'), ('60', '86'), '1'),\n",
       "  'Заросшее озеро_Ямал_2006_Бум_акв_60х86 (1).webp'),\n",
       " (('Полярный Урал. Розовое зимнее утро',\n",
       "   '2023',\n",
       "   ('Бум', 'акв'),\n",
       "   ('50', '100'),\n",
       "   '2'),\n",
       "  'Полярный Урал_Розовое зимнее утро_2023_Бум_акв_50х100 (2).webp'),\n",
       " (('Байкал', '2012', ('Бум', 'акв'), ('70', '100'), '2'),\n",
       "  'Байкал_2012_Бум_акв_70х100 (2).webp'),\n",
       " (('Ямал. Ущелье реки Харбей', '2012', ('Бум', 'акв'), ('70', '150'), '1'),\n",
       "  'Ямал_Ущелье реки Харбей_2012_Бум_акв_70х150 (1).webp'),\n",
       " (('Буйство красок Севера', '2011', ('Бум', 'акв'), ('70', '100'), '2'),\n",
       "  'Буйство красок Севера_2011_Бум_акв_70х100 (2).webp'),\n",
       " (('Диптих. На просторах устья реки Обь.  Ямал. левый',\n",
       "   '2012',\n",
       "   ('Бум', 'акв'),\n",
       "   ('70', '100'),\n",
       "   '1'),\n",
       "  'Диптих_На просторах устья реки Обь_ Ямал_левый_2012_Бум_акв_70х100 (1).webp'),\n",
       " (('Ямал. Морозный день', '2023', ('Бум', 'акв'), ('25', '40'), '2'),\n",
       "  'Ямал_Морозный день_2023_Бум_акв_25х40 (2).webp'),\n",
       " (('Водопады на горе Рай Из', '2013', ('Бум', 'акв'), ('70', '100'), '3'),\n",
       "  'Водопады на горе Рай Из_2013_Бум_акв_70х100 (3).webp'),\n",
       " (('На берегу озера Хадата', '2018', ('Бум', 'акв'), ('100', '360'), '1'),\n",
       "  'На берегу озера Хадата_2018_Бум_акв_100х360 (1).webp'),\n",
       " (('Ямал. Осенняя тундра', '2009', ('Бум', 'акв'), ('70', '100'), '3'),\n",
       "  'Ямал_Осенняя тундра_2009_Бум_акв_70х100 (3).webp'),\n",
       " (('Полярный Урал. Ямал. Снежные вершины',\n",
       "   '2022',\n",
       "   ('Бум', 'акв'),\n",
       "   ('35', '46'),\n",
       "   '1'),\n",
       "  'Полярный Урал_Ямал_Снежные вершины_2022_Бум_акв_35х46 (1).webp'),\n",
       " (('Полярный Урал. Долина реки Собь',\n",
       "   '2009',\n",
       "   ('Бум', 'акв'),\n",
       "   ('70', '100'),\n",
       "   '1'),\n",
       "  'Полярный Урал_Долина реки Собь_2009_Бум_акв_70х100 (1).webp'),\n",
       " (('Тишина', '2012', ('Бум', 'акв'), ('50', '110'), '2'),\n",
       "  'Тишина_2012_Бум_акв_50х110 (2).webp'),\n",
       " (('Софийский ледник. Архыз', '2023', ('Бум', 'акв'), ('31', '41'), '2'),\n",
       "  'Софийский ледник_Архыз_2023_Бум_акв_31х41 (2).webp'),\n",
       " (('Берега озера Хадата', '2018', ('Бум', 'акв'), ('70', '100'), '2'),\n",
       "  'Берега озера Хадата_2018_Бум_акв_70х100 (2).webp'),\n",
       " (('Ямал. Река Харбей', '2012', ('Бум', 'акв'), ('70', '100'), '2'),\n",
       "  'Ямал_Река Харбей_2012_Бум_акв_70х100 (2).webp'),\n",
       " (('Урал. Гора Рай Из', '2012', ('Бум', 'акв_'), ('70', '100'), '1'),\n",
       "  'Урал_Гора Рай Из_2012_Бум_акв__70х100 (1).webp'),\n",
       " (('Тучи надвигаются', '2015', ('Бум', 'акв'), ('70', '100'), '1'),\n",
       "  'Тучи надвигаются_2015_Бум_акв_70х100 (1).webp'),\n",
       " (('Ямал. Дельта реки Обь', '2009', ('Бум', 'акв'), ('35', '100'), '2'),\n",
       "  'Ямал_Дельта реки Обь_2009_Бум_акв_35х100 (2).webp'),\n",
       " (('Заполярный Урал. Щучье озеро', '2018', ('Бум', 'акв'), ('41', '100'), '2'),\n",
       "  'Заполярный Урал_Щучье озеро_2018_Бум_акв_41х100 (2).webp'),\n",
       " (('Тундра', '2006', ('Бум', 'акв'), ('61', '85'), '1'),\n",
       "  'Тундра_2006_Бум_акв_61х85 (1).webp'),\n",
       " (('Капли дождя', '2010', ('Бум', 'акв'), ('50', '70'), '2'),\n",
       "  'Капли дождя_2010_Бум_акв_50х70 (2).webp'),\n",
       " (('Полярный Урал. Гора Рай Из', '2023', ('Бум', 'акв'), ('100', '170'), '1'),\n",
       "  'Полярный Урал_Гора Рай Из_2023_Бум_акв_100х170 (1).webp'),\n",
       " (('Осень на Елагином острове', '2014', ('Бум', 'акв'), ('70', '100'), '1'),\n",
       "  'Осень на Елагином острове_2014_Бум_акв_70х100 (1).webp'),\n",
       " (('Ангара. Иван чай цветет', '2023', ('Бум', 'акв'), ('50', '70'), '2'),\n",
       "  'Ангара_Иван чай цветет_2023_Бум_акв_50х70 (2).webp'),\n",
       " (('Диптих. На просторах устья реки Обь.  Ямал. левый',\n",
       "   '2012',\n",
       "   ('Бум', 'акв'),\n",
       "   ('70', '100'),\n",
       "   '2'),\n",
       "  'Диптих_На просторах устья реки Обь_ Ямал_левый_2012_Бум_акв_70х100 (2).webp'),\n",
       " (('Заполярный Урал. Озеро Хадата', '2021', ('Бум', 'акв'), ('35', '70'), '1'),\n",
       "  'Заполярный Урал_Озеро Хадата_2021_Бум_акв_35х70 (1).webp'),\n",
       " (('Полярный Урал. Дождь пошёл', '2012', ('Бум', 'акв'), ('70', '100'), '1'),\n",
       "  'Полярный Урал. Дождь пошёл_2012_Бум_акв_70х100 (1).webp'),\n",
       " (('Белая ночь на Белом море', '2008', ('Бум', 'акв'), ('60', '86'), '2'),\n",
       "  'Белая ночь на Белом море_2008_Бум_акв_60х86 (2).webp'),\n",
       " (('Архыз', '2023', ('Бум', 'акв'), ('70', '100'), '3'),\n",
       "  'Архыз_2023_Бум_акв_70х100 (3).webp'),\n",
       " (('Ямал. Золотая осень', '2021', ('Бум', 'акв'), ('20', '50'), '2'),\n",
       "  'Ямал_Золотая осень_2021_Бум_акв_20х50 (2).webp'),\n",
       " (('Уральский водопад', '2015', ('Бум', 'акв'), ('70', '100'), '2'),\n",
       "  'Уральский водопад_2015_Бум_акв_70х100 (2).webp'),\n",
       " (('Камни и море', '2019', ('Бум', 'акв'), ('40', '60'), '1'),\n",
       "  'Камни и море_2019_Бум_акв_40х60 (1).webp'),\n",
       " (('Полярный Урал. Гора Сфинкс', '2012', ('Бум', 'акв'), ('70', '100'), '1'),\n",
       "  'Полярный Урал_Гора Сфинкс_2012_Бум_акв_70х100 (1).webp'),\n",
       " (('Осень на Ямале', '2006', ('Бум', 'акв'), ('34', '70'), '1'),\n",
       "  'Осень на Ямале_2006_Бум_акв_34х70 (1).webp'),\n",
       " (('Архыз. Солнечный день', '2023', ('Бум', 'акв'), ('23', '40'), '3'),\n",
       "  'Архыз_Солнечный день_2023_Бум_акв_23х40 (3).webp'),\n",
       " (('Заполярный Урал. Щучье озеро', '2012', ('Бум', 'акв'), ('50', '100'), '2'),\n",
       "  'Заполярный Урал_Щучье озеро_2012_Бум_акв_50х100 (2).webp'),\n",
       " (('Полярный Урал. Гора Рай Из', '2010', ('Бум', 'акв'), ('70', '100'), '2'),\n",
       "  'Полярный Урал. Гора Рай Из_2010_Бум_акв_70х100 (2).webp'),\n",
       " (('Белое море. Рыбацкий остров', '2006', ('Бум', 'акв'), ('52', '86'), '2'),\n",
       "  'Белое море_Рыбацкий остров_2006_Бум_акв_52х86 (2).webp'),\n",
       " (('Архыз. Солнечный день', '2023', ('Бум', 'акв'), ('23', '40'), '2'),\n",
       "  'Архыз_Солнечный день_2023_Бум_акв_23х40 (2).webp'),\n",
       " (('Шторм на Белом море', '2006', ('Бум', 'акв'), ('50', '70'), '1'),\n",
       "  'Шторм на Белом море_2006_Бум_акв_50х70 (1).webp'),\n",
       " (('Ямал. Река Кэр Доман-Шор', '2022', ('Бум', 'акв'), ('45', '67'), '1'),\n",
       "  'Ямал_Река Кэр Доман-Шор_2022_Бум_акв_45х67 (1).webp'),\n",
       " (('Ямал. Осенняя тундра', '2009', ('Бум', 'акв'), ('70', '100'), '1'),\n",
       "  'Ямал_Осенняя тундра_2009_Бум_акв_70х100 (1).webp'),\n",
       " (('Полярный Урал', '2010', ('Бум', 'акв'), ('60', '86'), '2'),\n",
       "  'Полярный Урал_2010_Бум_акв_60х86 (2).webp'),\n",
       " (('Водопад на Полярном Урале', '2022', ('Бум', 'акв'), ('50', '40'), '1'),\n",
       "  'Водопад на Полярном Урале_2022_Бум_акв_50х40 (1).webp'),\n",
       " (('Ангара. Иван чай цветет', '2023', ('Бум', 'акв'), ('50', '70'), '3'),\n",
       "  'Ангара_Иван чай цветет_2023_Бум_акв_50х70 (3).webp'),\n",
       " (('Осень на Ямале', '2006', ('Бум', 'акв'), ('34', '70'), '3'),\n",
       "  'Осень на Ямале_2006_Бум_акв_34х70 (3).webp'),\n",
       " (('Заполярный Урал. Щучье озеро', '2018', ('Бум', 'акв'), ('27', '39'), '2'),\n",
       "  'Заполярный Урал_Щучье озеро_2018_Бум_акв_27х39 (2).webp'),\n",
       " (('Диптих. Полярный Урал. Долина реки Собь. левый',\n",
       "   '2012',\n",
       "   ('Бум', 'акв'),\n",
       "   ('70', '100'),\n",
       "   '1'),\n",
       "  'Диптих_Полярный Урал_Долина реки Собь_левый_2012_Бум_акв_70х100 (1).webp'),\n",
       " (('Ямал. Иван чай', '2023', ('Бум', 'акв'), ('70', '100'), '2'),\n",
       "  'Ямал_Иван чай_2023_Бум_акв_70х100 (2).webp'),\n",
       " (('Норвегия. Лофотенские острова',\n",
       "   '2010',\n",
       "   ('Бум', 'акв'),\n",
       "   ('70', '100'),\n",
       "   '1'),\n",
       "  'Норвегия_Лофотенские острова_2010_Бум_акв_70х100 (1).webp'),\n",
       " (('Острова на Белом море', '2007', ('Бум', 'акв'), ('60', '86'), '2'),\n",
       "  'Острова на Белом море_2007_Бум_акв_ 60х86 (2).webp'),\n",
       " (('Заполярный Урал. Озеро Хадата', '2023', ('Бум', 'акв'), ('34', '94'), '2'),\n",
       "  'Заполярный Урал_Озеро Хадата_2023_Бум_акв_34х94 (2).webp'),\n",
       " (('Полярный Урал. Дождь пошёл', '2012', ('Бум', 'акв'), ('70', '100'), '2'),\n",
       "  'Полярный Урал. Дождь пошёл_2012_Бум_акв_70х100 (2).webp'),\n",
       " (('Седой Великан Урала', '2018', ('Бум', 'акв'), ('70', '100'), '2'),\n",
       "  'Седой Великан Урала_2018_Бум_ акв_70х100 (2).webp'),\n",
       " (('Нарьян Мар. Река Куя', '2013', ('Бум', 'акв'), ('55', '75'), '3'),\n",
       "  'Нарьян Мар_Река Куя_2013_Бум_акв_55х75 (3).webp'),\n",
       " (('Ямал. Морозный день', '2023', ('Бум', 'акв'), ('50', '100'), '3'),\n",
       "  'Ямал_Морозный день_2023_Бум_акв_50х100 (3).webp'),\n",
       " (('Белая ночь на Белом море', '2008', ('Бум', 'акв'), ('60', '86'), '1'),\n",
       "  'Белая ночь на Белом море_2008_Бум_акв_60х86 (1).webp'),\n",
       " (('Полярный Урал. Изумрудное озеро',\n",
       "   '2015',\n",
       "   ('Бум', 'акв'),\n",
       "   ('70', '100'),\n",
       "   '1'),\n",
       "  'Полярный Урал_Изумрудное озеро_ 2015_Бум_акв_70х100 (1).webp'),\n",
       " (('Полярный Урал. Озеро Макар-Рузь',\n",
       "   '2015',\n",
       "   ('Бум', 'акв'),\n",
       "   ('100', '340'),\n",
       "   '4'),\n",
       "  'Полярный Урал_Озеро Макар-Рузь_2015_Бум_акв_100х340 (4).webp'),\n",
       " (('Пороги на реке Сума. Карелия', '2009', ('Бум', 'акв'), ('70', '100'), '1'),\n",
       "  'Пороги на реке Сума. Карелия_2009_Бум_акв_70х100 (1).webp'),\n",
       " (('Ямал. Долина реки Лангота', '2013', ('Бум', 'акв'), ('70', '150'), '1'),\n",
       "  'Ямал. Долина реки Лангота_2013_Бум_акв_70х150 (1).webp'),\n",
       " (('Архыз', '2023', ('Бум', 'акв'), ('70', '100'), '2'),\n",
       "  'Архыз_2023_Бум_акв_70х100 (2).webp'),\n",
       " (('Морской простор', '2020', ('Бум', 'акв'), ('100', '300'), '3'),\n",
       "  'Морской простор_2020_Бум_акв_100х300 (3).webp'),\n",
       " (('Заполярный Урал. Озеро Хадата', '2021', ('Бум', 'акв'), ('35', '70'), '2'),\n",
       "  'Заполярный Урал_Озеро Хадата_2021_Бум_акв_35х70 (2).webp'),\n",
       " (('Речной порт в Салехарде', '2012', ('Бум', 'акв'), ('40', '86'), '3'),\n",
       "  'Речной порт в Салехарде_2012_Бум_акв_40х86 (3).webp'),\n",
       " (('Ямал. Осенняя тундра', '2008', ('Бум', 'акв'), ('60', '86'), '3'),\n",
       "  'Ямал_Осенняя тундра_2008_Бум_акв_60х86 (3).webp'),\n",
       " (('Нормандия. Дождливый день', '2019', ('Бум', 'акв'), ('40', '60'), '1'),\n",
       "  'Нормандия_Дождливый день_2019_Бум_акв_40х60 (1).webp'),\n",
       " (('Осень в парке', '2023', ('Бум', 'акв'), ('25', '40'), '2'),\n",
       "  'Осень в парке_2023_Бум_акв_25х40 (2).webp'),\n",
       " (('Полярный Урал. Ущелье Конгор',\n",
       "   '2015',\n",
       "   ('Бум', 'акв'),\n",
       "   ('100', '340'),\n",
       "   '1'),\n",
       "  'Полярный Урал_Ущелье Конгор_2015_Бум_акв_100х340 (1).webp'),\n",
       " (('Ямал. Конец августа', '2008', ('Бум', 'акв'), ('59', '100'), '1'),\n",
       "  'Ямал_Конец августа_2008_Бум_акв_59х100 (1).webp'),\n",
       " (('Белое море', '2007', ('Бум', 'акв'), ('61', '86'), '2'),\n",
       "  'Белое море_2007_Бум_акв_ 61х86 (2).webp'),\n",
       " (('Ямал. Иванчай отцвёл', '2009', ('Бум', 'акв'), ('70', '100'), '1'),\n",
       "  'Ямал_Иванчай отцвёл_2009_Бум_акв_70х100 (1).webp'),\n",
       " (('Август на Ямале', '2009', ('Бум', 'акв'), ('61', '86'), '2'),\n",
       "  'Август на Ямале_2009_Бум_акв_61х86 (2).webp'),\n",
       " (('Баня геологов', '2006', ('Бум', 'акв'), ('50', '67'), '2'),\n",
       "  'Баня геологов_2006_Бум_акв_50х67 (2).webp'),\n",
       " (('Нормандия. Ла Манш', '2019', ('Бум', 'акв'), ('40', '60'), '2'),\n",
       "  'Нормандия_Ла Манш_2019_Бум_акв_40х60 (2).webp'),\n",
       " (('Софийский ледник. Архыз', '2023', ('Бум', 'акв'), ('31', '41'), '1'),\n",
       "  'Софийский ледник_Архыз_2023_Бум_акв_31х41 (1).webp'),\n",
       " (('Архыз', '2023', ('Бум', 'акв'), ('70', '100'), '1'),\n",
       "  'Архыз_2023_Бум_акв_70х100 (1).webp'),\n",
       " (('Полярный Урал. Озеро Макар-Рузь',\n",
       "   '2015',\n",
       "   ('Бум', 'акв'),\n",
       "   ('100', '340'),\n",
       "   '3'),\n",
       "  'Полярный Урал_Озеро Макар-Рузь_2015_Бум_акв_100х340 (3).webp'),\n",
       " (('Горная река. Полярный Урал', '2019', ('Бум', 'аква'), ('46', '61'), '1'),\n",
       "  'Горная река_Полярный Урал_2019_Бум_аква_46х61 (1).webp'),\n",
       " (('Вёль ле Роз. Отлив', '2019', ('Бум', 'акв'), ('35', '60'), '1'),\n",
       "  'Вёль ле Роз_Отлив_2019_Бум_акв_35х60 (1).webp'),\n",
       " (('Заполярный. Урал. Озеро Хадата',\n",
       "   '2019',\n",
       "   (' Бум', 'акв'),\n",
       "   ('46', '61'),\n",
       "   '1'),\n",
       "  'Заполярный_Урал_Озеро Хадата_2019. Бум_акв_46х61 (1).webp'),\n",
       " (('Мираж над Белым морем мороз дорисовал',\n",
       "   '2006',\n",
       "   ('Бум', 'акв'),\n",
       "   ('61', '86'),\n",
       "   '1'),\n",
       "  'Мираж над Белым морем мороз дорисовал_2006_Бум_акв_61х86 (1).webp'),\n",
       " (('Ямал. Дельта реки Обь', '2009', ('Бум', 'акв'), ('35', '100'), '1'),\n",
       "  'Ямал_Дельта реки Обь_2009_Бум_акв_35х100 (1).webp'),\n",
       " (('Ямал. Декабрь', '2023', ('Бум', 'акв'), ('35', '110'), '2'),\n",
       "  'Ямал_Декабрь_2023_Бум_акв_35х110 (2).webp'),\n",
       " (('Ямал. Река Харбей', '2012', ('Бум', 'акв'), ('70', '100'), '1'),\n",
       "  'Ямал_Река Харбей_2012_Бум_акв_70х100 (1).webp'),\n",
       " (('Диптих. Полярный Урал. Долина реки Собь. правый',\n",
       "   '2012',\n",
       "   ('Бум', 'акв'),\n",
       "   ('70', '100'),\n",
       "   '3'),\n",
       "  'Диптих_Полярный Урал_Долина реки Собь_правый_2012_Бум_акв_70х100 (3).webp'),\n",
       " (('Заполярный Урал. Щучье озеро', '2018', ('Бум', 'акв'), ('27', '39'), '1'),\n",
       "  'Заполярный Урал_Щучье озеро_2018_Бум_акв_27х39 (1).webp'),\n",
       " (('Тучи надвигаются', '2015', ('Бум', 'акв'), ('70', '100'), '2'),\n",
       "  'Тучи надвигаются_2015_Бум_акв_70х100 (2).webp'),\n",
       " (('Ямал. Заросшее озеро', '2006', ('Бум', 'акв'), ('60', '86'), '1'),\n",
       "  'Ямал_Заросшее озеро_2006_Бум_акв_60х86 (1).webp'),\n",
       " (('Байкал. Берега', '2012', ('Бум', 'акв'), ('70', '100'), '3'),\n",
       "  'Байкал_Берега_2012_Бум_акв_70х100 (3).webp'),\n",
       " (('Мамомнты на Ямале', '2020', ('Бум', 'акв'), ('20', '30'), '2'),\n",
       "  'Мамомнты на Ямале_2020_Бум_акв_20х30 (2).webp'),\n",
       " (('Архыз. Софийские водопады', '2023', ('Бум', 'акв'), ('26', '39'), '2'),\n",
       "  'Архыз_Софийские водопады_2023_Бум_акв_26х39 (2).webp'),\n",
       " (('Просторы Белого моря. Кузова',\n",
       "   '2015',\n",
       "   ('Бум', 'акв'),\n",
       "   ('100', '280'),\n",
       "   '4'),\n",
       "  'Просторы Белого моря_Кузова_2015_Бум_акв_100х280 (4).webp'),\n",
       " (('Небо и море', '2013', ('Бум', 'акв'), ('70', '100'), '3'),\n",
       "  'Небо и море_2013_Бум_акв_70х100 (3).webp'),\n",
       " (('Белое море', '2013', (' Бум', 'акв'), ('70', '100'), '2'),\n",
       "  'Белое море_2013. Бум_акв_70х100 (2).webp'),\n",
       " (('Заполярный Урал. Озеро Хадата', '2023', ('Бум', 'акв'), ('34', '94'), '1'),\n",
       "  'Заполярный Урал_Озеро Хадата_2023_Бум_акв_34х94 (1).webp'),\n",
       " (('Здесь начинается река Собь. Полярный Урал',\n",
       "   '2015',\n",
       "   ('Бум', 'акв'),\n",
       "   ('70', '100'),\n",
       "   '1'),\n",
       "  'Здесь начинается река Собь. Полярный Урал_ 2015_Бум_акв_70х100 (1).webp'),\n",
       " (('Водопад в облаках', '2012', ('Бум', 'ак'), ('100', '70'), '1'),\n",
       "  'Водопад в облаках_2012_Бум_ак_100х70 (1).webp'),\n",
       " (('Зима на Рай Из', '2023', ('Бум', 'акв'), ('23', '40'), '1'),\n",
       "  'Зима на Рай Из_2023_Бум_акв_23х40 (1).webp'),\n",
       " (('Белая ночь на Кузовах', '2014', ('Бум', 'акв'), ('70', '100'), '1'),\n",
       "  'Белая ночь на Кузовах_2014_Бум_акв_70х100 (1).webp'),\n",
       " (('Полярный Урал. Горное озеро', '2012', ('Бум', 'акв'), ('70', '100'), '1'),\n",
       "  'Полярный Урал_Горное озеро_2012_Бум_акв_70х100 (1).webp'),\n",
       " (('Ямал. Иванчай отцвёл', '2009', ('Бум', 'акв'), ('70', '100'), '3'),\n",
       "  'Ямал_Иванчай отцвёл_2009_Бум_акв_70х100 (3).webp'),\n",
       " (('Белая ночь на Кузовах', '2014', ('Бум', 'акв'), ('70', '100'), '2'),\n",
       "  'Белая ночь на Кузовах_2014_Бум_акв_70х100 (2).webp'),\n",
       " (('Ямал. Золотая осень', '2009', ('Бум', 'акв'), ('70', '100'), '1'),\n",
       "  'Ямал_Золотая осень_2009_Бум_акв_70х100 (1).webp'),\n",
       " (('Облака над Полярныи Уралом', '2010', ('Бум', 'акв'), ('70', '100'), '1'),\n",
       "  'Облака над Полярныи Уралом_2010_Бум_акв_70х100 (1).webp'),\n",
       " (('Дождливые облака', '2014', ('Бум', 'акв'), ('70', '100'), '3'),\n",
       "  'Дождливые облака_2014_Бум_акв_70х100 (3).webp'),\n",
       " (('Ямал. Осень на реке Собь', '2007', ('Бум', 'акв'), ('60', '86'), '1'),\n",
       "  'Ямал_Осень на реке Собь_2007_Бум_акв_60х86 (1).webp'),\n",
       " (('Осеннее утро. Ямал', '2009', ('Бум', 'акв'), ('50', '70'), '3'),\n",
       "  'Осеннее утро. Ямал_2009_Бум_акв_50х70 (3).webp'),\n",
       " (('Осень. Берег реки', '2023', ('Бум', 'акв'), ('50', '70'), '1'),\n",
       "  'Осень_Берег реки_2023_Бум_акв_50х70 (1).webp'),\n",
       " (('Норвегия. Закат', '2010', ('Бум', 'акв'), ('70', '100'), '1'),\n",
       "  'Норвегия_Закат_2010_Бум_акв_70х100 (1).webp'),\n",
       " (('Диптих. На просторах устья реки Обь.  Ямал. левый',\n",
       "   '2012',\n",
       "   ('Бум', 'акв'),\n",
       "   ('70', '100'),\n",
       "   '3'),\n",
       "  'Диптих_На просторах устья реки Обь_ Ямал_левый_2012_Бум_акв_70х100 (3).webp'),\n",
       " (('Полярный Урал. Снежные вершины',\n",
       "   '2015',\n",
       "   ('Бум', 'акв'),\n",
       "   ('100', '270'),\n",
       "   '1'),\n",
       "  'Полярный Урал_Снежные вершины_2015_Бум_акв_100х270 (1).webp'),\n",
       " (('Белое море', '2013', (' Бум', 'акв'), ('70', '100'), '1'),\n",
       "  'Белое море_2013. Бум_акв_70х100 (1).webp'),\n",
       " (('Полярный Урал. Ущелье Конгор',\n",
       "   '2015',\n",
       "   ('Бум', 'акв'),\n",
       "   ('100', '340'),\n",
       "   '4'),\n",
       "  'Полярный Урал_Ущелье Конгор_2015_Бум_акв_100х340 (4).webp'),\n",
       " (('Водопад. Две сестры. Полярный Урал',\n",
       "   '2015',\n",
       "   ('Бум', 'акв'),\n",
       "   ('70', '100'),\n",
       "   '1'),\n",
       "  'Водопад_Две сестры_Полярный Урал_2015_Бум_акв_70х100 (1).webp'),\n",
       " (('Ямал. Морозный день', '2023', ('Бум', 'акв'), ('25', '40'), '1'),\n",
       "  'Ямал_Морозный день_2023_Бум_акв_25х40 (1).webp'),\n",
       " (('Ямал. Конец августа', '2008', ('Бум', 'акв'), ('59', '100'), '2'),\n",
       "  'Ямал_Конец августа_2008_Бум_акв_59х100 (2).webp'),\n",
       " (('Карелия. Сумской порог', '2010', ('Бум', 'акв'), ('70', '100'), '2'),\n",
       "  'Карелия_Сумской порог_2010_Бум_акв_70х100 (2).webp'),\n",
       " (('Море и небо', '2017', ('Бум', 'акв'), ('70', '100'), '2'),\n",
       "  'Море и небо_2017_Бум_акв_70х100 (2).webp'),\n",
       " (('Золотая осень на Полярном Урале',\n",
       "   '2021',\n",
       "   ('Бум', 'акв'),\n",
       "   ('20', '50'),\n",
       "   '1'),\n",
       "  'Золотая осень на Полярном Урале_2021_Бум_акв_20х50 (1).webp'),\n",
       " (('Нарьян Мар. Река Куя', '2013', ('Бум', 'акв'), ('55', '75'), '1'),\n",
       "  'Нарьян Мар_Река Куя_2013_Бум_акв_55х75 (1).webp'),\n",
       " (('Полярный Урал. Долина реки Собь',\n",
       "   '2009',\n",
       "   ('Бум', 'акв'),\n",
       "   ('70', '100'),\n",
       "   '2'),\n",
       "  'Полярный Урал_Долина реки Собь_2009_Бум_акв_70х100 (2).webp'),\n",
       " (('Франция. Нормандия. Виль ля Роз',\n",
       "   '2019',\n",
       "   ('Бум', 'акв'),\n",
       "   ('40', '60'),\n",
       "   '1'),\n",
       "  'Франция_Нормандия_Виль ля Роз_2019_Бум_акв_40х60 (1).webp'),\n",
       " (('Карелия. Водопад. Куми порог. Пошёл июльский снег',\n",
       "   '2009',\n",
       "   ('Бум', 'акв'),\n",
       "   ('70', '100'),\n",
       "   '1'),\n",
       "  'Карелия. Водопад_Куми порог_Пошёл июльский снег_2009_Бум_акв_70х100 (1).webp'),\n",
       " (('Водопад Куми порог. Карелия', '2009', ('Бум', 'акв'), ('70', '100'), '2'),\n",
       "  'Водопад Куми порог_Карелия_2009_Бум_акв_70х100 (2).webp'),\n",
       " (('Ямал. Иван чай', '2023', ('Бум', 'акв'), ('70', '100'), '3'),\n",
       "  'Ямал_Иван чай_2023_Бум_акв_70х100 (3).webp'),\n",
       " (('Ямал. Осенняя тундра', '2009', ('Бум', 'акв'), ('70', '100'), '2'),\n",
       "  'Ямал_Осенняя тундра_2009_Бум_акв_70х100 (2).webp'),\n",
       " (('Нормандия. Ла Манш', '2019', ('Бум', 'акв'), ('40', '60'), '1'),\n",
       "  'Нормандия_Ла Манш_2019_Бум_акв_40х60 (1).webp'),\n",
       " (('Белая ночь на Белом море', '2007', ('Бум', 'акв'), ('60', '86'), '1'),\n",
       "  'Белая ночь на Белом море_2007_Бум_акв_60х86 (1).webp'),\n",
       " (('Бухта Севастополя', '2019', ('_Бум', 'акв'), ('54', '83'), '3'),\n",
       "  'Бухта Севастополя_2019__Бум_акв_54х83 (3).webp'),\n",
       " (('Салехард. Обдорский острог', '2009', ('Бум', 'акв'), ('20', '86'), '1'),\n",
       "  'Салехард_Обдорский острог_2009_Бум_акв_20х86 (1).webp'),\n",
       " (('Снежные вершины', '2010', ('Бум', 'акв'), ('57', '86'), '1'),\n",
       "  'Снежные вершины_2010_Бум_акв_57х86 (1).webp'),\n",
       " (('Осеннее утро. Ямал', '2009', ('Бум', 'акв'), ('50', '70'), '1'),\n",
       "  'Осеннее утро. Ямал_2009_Бум_акв_50х70 (1).webp'),\n",
       " (('Белое море. Рыбацкий остров', '2006', ('Бум', 'акв'), ('52', '86'), '3'),\n",
       "  'Белое море_Рыбацкий остров_2006_Бум_акв_52х86 (3).webp'),\n",
       " (('Нарьян Мар. Река Куя', '2013', ('Бум', 'акв'), ('55', '75'), '2'),\n",
       "  'Нарьян Мар_Река Куя_2013_Бум_акв_55х75 (2).webp'),\n",
       " (('Заполярный Урал. Озеро Хадата',\n",
       "   '2018',\n",
       "   ('Бум', 'акв'),\n",
       "   ('100', '360'),\n",
       "   '3'),\n",
       "  'Заполярный Урал_Озеро Хадата_2018_Бум_акв_100х360 (3).webp'),\n",
       " (('Ямал. Река Бурхойла. Сентябрь',\n",
       "   '2021',\n",
       "   ('Бум', 'акв'),\n",
       "   ('70', '100'),\n",
       "   '1'),\n",
       "  'Ямал_Река Бурхойла_Сентябрь_2021_Бум_ акв_70х100 (1).webp'),\n",
       " (('Полярный Урал. Гора Рай Из', '2010', ('Бум', 'акв'), ('70', '100'), '3'),\n",
       "  'Полярный Урал. Гора Рай Из_2010_Бум_акв_70х100 (3).webp'),\n",
       " (('Карелия. Песчаное озеро', '2010', ('Бум', 'акв'), ('70', '100'), '1'),\n",
       "  'Карелия_Песчаное озеро_2010_Бум_акв_70х100 (1).webp'),\n",
       " (('Здесь начинается река Собь. Полярный Урал',\n",
       "   '2015',\n",
       "   ('Бум', 'акв'),\n",
       "   ('70', '100'),\n",
       "   '2'),\n",
       "  'Здесь начинается река Собь. Полярный Урал_ 2015_Бум_акв_70х100 (2).webp'),\n",
       " (('Водопад на Полярном Урале', '2022', ('Бум', 'акв'), ('50', '40'), '2'),\n",
       "  'Водопад на Полярном Урале_2022_Бум_акв_50х40 (2).webp'),\n",
       " (('На берегу озера Хадата', '2018', ('Бум', 'акв'), ('100', '360'), '3'),\n",
       "  'На берегу озера Хадата_2018_Бум_акв_100х360 (3).webp'),\n",
       " (('Море и небо', '2017', ('Бум', 'акв'), ('70', '100'), '1'),\n",
       "  'Море и небо_2017_Бум_акв_70х100 (1).webp'),\n",
       " (('Заросшее озеро. Ямал', '2006', ('Бум', 'акв'), ('60', '86'), '2'),\n",
       "  'Заросшее озеро_Ямал_2006_Бум_акв_60х86 (2).webp'),\n",
       " (('Ямал. Туманное утро на реке Харбей',\n",
       "   '2012',\n",
       "   ('Бум', 'акв'),\n",
       "   ('70', '100'),\n",
       "   '2'),\n",
       "  'Ямал_Туманное утро на реке Харбей_2012_Бум_акв_70х100 (2).webp'),\n",
       " (('Полярный Урал. Розовое зимнее утро',\n",
       "   '2023',\n",
       "   ('Бум', 'акв'),\n",
       "   ('50', '100'),\n",
       "   '1'),\n",
       "  'Полярный Урал_Розовое зимнее утро_2023_Бум_акв_50х100 (1).webp'),\n",
       " (('Полярный Урал. Гора Рай Из', '2023', ('Бум', 'акв'), ('100', '170'), '4'),\n",
       "  'Полярный Урал_Гора Рай Из_2023_Бум_акв_100х170 (4).webp'),\n",
       " (('Белое море. Утро на Кузовах', '2013', ('Бум', 'акв'), ('70', '100'), '1'),\n",
       "  'Белое море. Утро на Кузовах_2013_Бум_акв_70х100 (1).webp'),\n",
       " (('Полярный Урал. Озеро Макар-Рузь',\n",
       "   '2015',\n",
       "   ('Бум', 'акв'),\n",
       "   ('100', '340'),\n",
       "   '1'),\n",
       "  'Полярный Урал_Озеро Макар-Рузь_2015_Бум_акв_100х340 (1).webp'),\n",
       " (('Ямал. Хмурый день', '2018', ('Бум', 'акв'), ('60', '100'), '2'),\n",
       "  'Ямал_Хмурый день_2018_Бум_акв_60х100 (2).webp'),\n",
       " (('Ямал. Река Полуй', '2008', ('Бум', 'акв'), ('70', '100'), '2'),\n",
       "  'Ямал_Река Полуй_2008_Бум_акв_70х100 (2).webp'),\n",
       " (('Сумской порог. Карелия', '2009', ('Бум', 'акв'), ('86', '60'), '2'),\n",
       "  'Сумской порог_Карелия_2009_Бум_ акв_86х60 (2).webp'),\n",
       " (('Байкал. Берега', '2012', ('Бум', 'акв'), ('70', '100'), '1'),\n",
       "  'Байкал_Берега_2012_Бум_акв_70х100 (1).webp'),\n",
       " (('Диптих. Полярный Урал. Долина реки Собь. правый',\n",
       "   '2012',\n",
       "   ('Бум', 'акв'),\n",
       "   ('70', '100'),\n",
       "   '1'),\n",
       "  'Диптих_Полярный Урал_Долина реки Собь_правый_2012_Бум_акв_70х100 (1).webp'),\n",
       " (('Полярный Урал. Гора Рай Из', '2023', ('Бум', 'акв'), ('100', '170'), '2'),\n",
       "  'Полярный Урал_Гора Рай Из_2023_Бум_акв_100х170 (2).webp'),\n",
       " (('Водопады на горе Рай Из', '2013', ('Бум', 'акв'), ('70', '100'), '2'),\n",
       "  'Водопады на горе Рай Из_2013_Бум_акв_70х100 (2).webp'),\n",
       " (('На закате', '2009', ('Бум', 'акв'), ('70', '100'), '2'),\n",
       "  'На закате_2009_Бум_акв_70х100 (2).webp'),\n",
       " (('Заполярный Урал. Щучье озеро', '2018', ('Бум', 'акв'), ('41', '100'), '1'),\n",
       "  'Заполярный Урал_Щучье озеро_2018_Бум_акв_41х100 (1).webp'),\n",
       " (('Заполярный Урал. Облака над Щучьем озером',\n",
       "   '2018',\n",
       "   ('Бум', 'акв'),\n",
       "   ('70', '100'),\n",
       "   '1'),\n",
       "  'Заполярный Урал_Облака над Щучьем озером_2018_Бум_акв_70х100 (1).webp'),\n",
       " (('Вёль ле Роз. Отлив', '2019', ('Бум', 'акв'), ('35', '60'), '2'),\n",
       "  'Вёль ле Роз_Отлив_2019_Бум_акв_35х60 (2).webp'),\n",
       " (('Архипелаг. Кузова. на Белом море',\n",
       "   '2006',\n",
       "   ('Бум', 'акв'),\n",
       "   ('35', '86'),\n",
       "   '1'),\n",
       "  'Архипелаг_Кузова_на Белом море_2006_Бум_акв_35х86 (1).webp'),\n",
       " (('Берега озера Хадата', '2018', ('Бум', 'акв'), ('70', '100'), '1'),\n",
       "  'Берега озера Хадата_2018_Бум_акв_70х100 (1).webp'),\n",
       " (('Ямал. Река Кэр Доман-Шор', '2022', ('Бум', 'акв'), ('45', '67'), '2'),\n",
       "  'Ямал_Река Кэр Доман-Шор_2022_Бум_акв_45х67 (2).webp'),\n",
       " (('Заполярный. Урал. Озеро Хадата',\n",
       "   '2019',\n",
       "   (' Бум', 'акв'),\n",
       "   ('46', '61'),\n",
       "   '2'),\n",
       "  'Заполярный_Урал_Озеро Хадата_2019. Бум_акв_46х61 (2).webp'),\n",
       " (('Соловецкий монастырь', '2006', ('Бум', 'акв'), ('61', '86'), '1'),\n",
       "  'Соловецкий монастырь_2006_Бум_акв_61х86 (1).webp'),\n",
       " (('Ямал. Золотая осень', '2009', ('Бум', 'акв'), ('70', '100'), '2'),\n",
       "  'Ямал_Золотая осень_2009_Бум_акв_70х100 (2).webp'),\n",
       " (('Бухта Севастополя', '2019', ('_Бум', 'акв'), ('54', '83'), '2'),\n",
       "  'Бухта Севастополя_2019__Бум_акв_54х83 (2).webp'),\n",
       " (('Перед рассветом. Белое море', '2007', ('Бум', 'акв'), ('70', '100'), '2'),\n",
       "  'Перед рассветом_Белое море_2007_Бум_акв_70х100 (2).webp'),\n",
       " (('Горная река. Полярный Урал', '2019', ('Бум', 'аква'), ('46', '61'), '2'),\n",
       "  'Горная река_Полярный Урал_2019_Бум_аква_46х61 (2).webp'),\n",
       " (('Осень. На лесной поляне', '2023', ('Бум', 'акв'), ('50', '70'), '1'),\n",
       "  'Осень. На лесной поляне_2023_Бум_акв_50х70 (1).webp'),\n",
       " (('Ямал. Лиловый восход', '2023', ('Бум', 'акв'), ('23', '40'), '2'),\n",
       "  'Ямал_Лиловый восход_2023_Бум_акв_23х40 (2).webp'),\n",
       " (('Полярный Урал. Снежные вершины',\n",
       "   '2015',\n",
       "   ('Бум', 'акв'),\n",
       "   ('100', '270'),\n",
       "   '3'),\n",
       "  'Полярный Урал_Снежные вершины_2015_Бум_акв_100х270 (3).webp'),\n",
       " (('Ямал. Август', '2008', ('Бум', 'акв'), ('50', '100'), '2'),\n",
       "  'Ямал_Август_2008_Бум_акв_50х100 (2).webp'),\n",
       " (('Ямал. Сентябрь', '2008', ('Бум', 'акв'), ('52', '100'), '1'),\n",
       "  'Ямал_Сентябрь_2008_Бум_акв_52х100 (1).webp'),\n",
       " (('Осень. На лесной поляне', '2023', ('Бум', 'акв'), ('50', '70'), '2'),\n",
       "  'Осень_На лесной поляне_2023_Бум_акв_50х70 (2).webp'),\n",
       " (('Ямал. Река Бурхойла. Сентябрь',\n",
       "   '2021',\n",
       "   ('Бум', 'акв'),\n",
       "   ('70', '100'),\n",
       "   '2'),\n",
       "  'Ямал_Река Бурхойла_Сентябрь_2021_Бум_ акв_70х100 (2).webp'),\n",
       " (('Тундра', '2009', ('Бум', 'акв'), ('61', '86'), '1'),\n",
       "  'Тундра_2009_Бум_акв_61х86 (1).webp'),\n",
       " (('Полярный Урал. Гора Рай Из', '2023', ('Бум', 'акв'), ('100', '170'), '3'),\n",
       "  'Полярный Урал_Гора Рай Из_2023_Бум_акв_100х170 (3).webp'),\n",
       " (('Белое море. Облака', '2012', ('Бум', 'акв'), ('70', '100'), '1'),\n",
       "  'Белое море_Облака_2012_Бум_акв_70х100 (1).webp'),\n",
       " (('Белое море. Рыбацкие сети', '2007', ('Бум', 'акв'), ('60', '86'), '2'),\n",
       "  'Белое море_Рыбацкие сети_2007_Бум_ акв_60х86  (2).webp')]"
      ]
     },
     "execution_count": 8,
     "metadata": {},
     "output_type": "execute_result"
    }
   ],
   "source": [
    "print(len(valid_data_list))\n",
    "valid_data_list"
   ]
  },
  {
   "cell_type": "code",
   "execution_count": 9,
   "id": "3046e2dc",
   "metadata": {},
   "outputs": [],
   "source": [
    "def materials_to_string(mat :list)->str:\n",
    "    res = \"\"\n",
    "    table_of_materials = {\n",
    "        'бум' : 'бумага',\n",
    "        'акв' : 'акварель'\n",
    "    }\n",
    "    return \", \".join([table_of_materials.get(x.lower(), \"\") for x in mat])"
   ]
  },
  {
   "cell_type": "code",
   "execution_count": 10,
   "id": "0ae9fff2",
   "metadata": {},
   "outputs": [
    {
     "data": {
      "text/plain": [
       "'бумага, акварель'"
      ]
     },
     "execution_count": 10,
     "metadata": {},
     "output_type": "execute_result"
    }
   ],
   "source": [
    "materials_to_string(['Бум', 'акв'])"
   ]
  },
  {
   "cell_type": "code",
   "execution_count": 11,
   "id": "f014521c",
   "metadata": {},
   "outputs": [],
   "source": [
    "parsed_data_dict = {}\n",
    "for x in valid_data_list:\n",
    "    name = x[0][0]\n",
    "    year = x[0][1]\n",
    "    \n",
    "    file_name = x[1]\n",
    "    mat = x[0][2]\n",
    "    size = x[0][3]\n",
    "    pos = x[0][4]\n",
    "    \n",
    "    new_file_name = name.replace('. ', '_') + '_'+ year + '_' + mat[0] + '_' + mat[1] + '_' + size[1] + 'x'+ size[0] +'_' + pos\n",
    "    new_file_name = new_file_name.lower()\n",
    "    new_file_name = cyr_to_lat(new_file_name)\n",
    "    new_file_name = new_file_name.replace(' ', '-')\n",
    "    new_file_name = new_file_name.replace('__', '_')\n",
    "    new_file_name = new_file_name.replace('_-', '-')\n",
    "    new_file_name = new_file_name + '.webp'\n",
    "    \n",
    "    picture_name = name + '. ' + year\n",
    "    key = picture_name + '-' + size[1] + 'x' + size[0]\n",
    "    if key in parsed_data_dict.keys():\n",
    "        parsed_data_dict[key]['File'].append((file_name, new_file_name))\n",
    "    else:\n",
    "        parsed_data_dict[key] = {'Name': picture_name,'File': [(file_name, new_file_name)],\n",
    "                                'Year': year,\n",
    "                                'Width': size[1],\n",
    "                                'Height': size[0],\n",
    "                                'Materials': materials_to_string(mat)}\n",
    "    "
   ]
  },
  {
   "cell_type": "markdown",
   "id": "563673fa",
   "metadata": {},
   "source": [
    "## Пропарсенные файлы"
   ]
  },
  {
   "cell_type": "code",
   "execution_count": 12,
   "id": "1b2f908e",
   "metadata": {},
   "outputs": [
    {
     "data": {
      "text/plain": [
       "{'Полярный Урал. 2010-86x60': {'Name': 'Полярный Урал. 2010',\n",
       "  'File': [('Полярный Урал_2010_Бум_акв_60х86 (1).webp',\n",
       "    'polyarnyy-ural_2010_bum_akv_86x60_1.webp'),\n",
       "   ('Полярный Урал_2010_Бум_акв_60х86 (2).webp',\n",
       "    'polyarnyy-ural_2010_bum_akv_86x60_2.webp')],\n",
       "  'Year': '2010',\n",
       "  'Width': '86',\n",
       "  'Height': '60',\n",
       "  'Materials': 'бумага, акварель'},\n",
       " 'Белое море. Апрель. 2007-86x60': {'Name': 'Белое море. Апрель. 2007',\n",
       "  'File': [('Белое море. Апрель_2007_Бум_акв_60х86  (1).webp',\n",
       "    'beloe-more_aprel_2007_bum_akv_86x60_1.webp'),\n",
       "   ('Белое море. Апрель_2007_Бум_акв_60х86  (2).webp',\n",
       "    'beloe-more_aprel_2007_bum_akv_86x60_2.webp')],\n",
       "  'Year': '2007',\n",
       "  'Width': '86',\n",
       "  'Height': '60',\n",
       "  'Materials': 'бумага, акварель'},\n",
       " 'Белое море. Туманное утро. 2007-80x60': {'Name': 'Белое море. Туманное утро. 2007',\n",
       "  'File': [('Белое море_Туманное утро_2007_Бум_акв_60х80 (2).webp',\n",
       "    'beloe-more_tumannoe-utro_2007_bum_akv_80x60_2.webp'),\n",
       "   ('Белое море_Туманное утро_2007_Бум_акв_60х80 (1).webp',\n",
       "    'beloe-more_tumannoe-utro_2007_bum_akv_80x60_1.webp')],\n",
       "  'Year': '2007',\n",
       "  'Width': '80',\n",
       "  'Height': '60',\n",
       "  'Materials': 'бумага, акварель'},\n",
       " 'Урал. Гора Рай Из. 2012-100x70': {'Name': 'Урал. Гора Рай Из. 2012',\n",
       "  'File': [('Урал_Гора Рай Из_2012_Бум_акв__70х100 (2).webp',\n",
       "    'ural_gora-ray-iz_2012_bum_akv_100x70_2.webp'),\n",
       "   ('Урал_Гора Рай Из_2012_Бум_акв__70х100 (1).webp',\n",
       "    'ural_gora-ray-iz_2012_bum_akv_100x70_1.webp')],\n",
       "  'Year': '2012',\n",
       "  'Width': '100',\n",
       "  'Height': '70',\n",
       "  'Materials': 'бумага, '},\n",
       " 'Морозное осеннее утро. 2008-100x70': {'Name': 'Морозное осеннее утро. 2008',\n",
       "  'File': [('Морозное осеннее утро_2008_Бум_акв_70х100 (3).webp',\n",
       "    'moroznoe-osennee-utro_2008_bum_akv_100x70_3.webp'),\n",
       "   ('Морозное осеннее утро_2008_Бум_акв_70х100 (1).webp',\n",
       "    'moroznoe-osennee-utro_2008_bum_akv_100x70_1.webp'),\n",
       "   ('Морозное осеннее утро_2008_Бум_акв_70х100 (2).webp',\n",
       "    'moroznoe-osennee-utro_2008_bum_akv_100x70_2.webp')],\n",
       "  'Year': '2008',\n",
       "  'Width': '100',\n",
       "  'Height': '70',\n",
       "  'Materials': 'бумага, акварель'},\n",
       " 'Белое море. Рыбацкие сети. 2007-86x60': {'Name': 'Белое море. Рыбацкие сети. 2007',\n",
       "  'File': [('Белое море_Рыбацкие сети_2007_Бум_ акв_60х86  (1).webp',\n",
       "    'beloe-more_rybatskie-seti_2007_bum_akv_86x60_1.webp'),\n",
       "   ('Белое море_Рыбацкие сети_2007_Бум_ акв_60х86  (2).webp',\n",
       "    'beloe-more_rybatskie-seti_2007_bum_akv_86x60_2.webp')],\n",
       "  'Year': '2007',\n",
       "  'Width': '86',\n",
       "  'Height': '60',\n",
       "  'Materials': 'бумага, акварель'},\n",
       " 'Небо. Море. Камни. 2019-100x70': {'Name': 'Небо. Море. Камни. 2019',\n",
       "  'File': [('Небо_Море_Камни_2019_Бум_акв_70х100 (1).webp',\n",
       "    'nebo_more_kamni_2019_bum_akv_100x70_1.webp'),\n",
       "   ('Небо_Море_Камни_2019_Бум_акв_70х100 (2).webp',\n",
       "    'nebo_more_kamni_2019_bum_akv_100x70_2.webp')],\n",
       "  'Year': '2019',\n",
       "  'Width': '100',\n",
       "  'Height': '70',\n",
       "  'Materials': 'бумага, акварель'},\n",
       " 'Уральский водопад. 2015-100x70': {'Name': 'Уральский водопад. 2015',\n",
       "  'File': [('Уральский водопад_2015_Бум_акв_70х100 (1).webp',\n",
       "    'uralskiy-vodopad_2015_bum_akv_100x70_1.webp'),\n",
       "   ('Уральский водопад_2015_Бум_акв_70х100 (2).webp',\n",
       "    'uralskiy-vodopad_2015_bum_akv_100x70_2.webp')],\n",
       "  'Year': '2015',\n",
       "  'Width': '100',\n",
       "  'Height': '70',\n",
       "  'Materials': 'бумага, акварель'},\n",
       " 'Ямал. Туманное утро на реке Харбей. 2012-100x70': {'Name': 'Ямал. Туманное утро на реке Харбей. 2012',\n",
       "  'File': [('Ямал_Туманное утро на реке Харбей_2012_Бум_акв_70х100 (1).webp',\n",
       "    'yamal_tumannoe-utro-na-reke-kharbey_2012_bum_akv_100x70_1.webp'),\n",
       "   ('Ямал_Туманное утро на реке Харбей_2012_Бум_акв_70х100 (2).webp',\n",
       "    'yamal_tumannoe-utro-na-reke-kharbey_2012_bum_akv_100x70_2.webp')],\n",
       "  'Year': '2012',\n",
       "  'Width': '100',\n",
       "  'Height': '70',\n",
       "  'Materials': 'бумага, акварель'},\n",
       " 'Ямал. Ущелье реки Харбей. 2012-150x70': {'Name': 'Ямал. Ущелье реки Харбей. 2012',\n",
       "  'File': [('Ямал_Ущелье реки Харбей_2012_Бум_акв_70х150 (2).webp',\n",
       "    'yamal_ushchele-reki-kharbey_2012_bum_akv_150x70_2.webp'),\n",
       "   ('Ямал_Ущелье реки Харбей_2012_Бум_акв_70х150 (4).webp',\n",
       "    'yamal_ushchele-reki-kharbey_2012_bum_akv_150x70_4.webp'),\n",
       "   ('Ямал_Ущелье реки Харбей_2012_Бум_акв_70х150 (3).webp',\n",
       "    'yamal_ushchele-reki-kharbey_2012_bum_akv_150x70_3.webp'),\n",
       "   ('Ямал_Ущелье реки Харбей_2012_Бум_акв_70х150 (1).webp',\n",
       "    'yamal_ushchele-reki-kharbey_2012_bum_akv_150x70_1.webp')],\n",
       "  'Year': '2012',\n",
       "  'Width': '150',\n",
       "  'Height': '70',\n",
       "  'Materials': 'бумага, акварель'},\n",
       " 'Берег Белого моря. 2007-75x60': {'Name': 'Берег Белого моря. 2007',\n",
       "  'File': [('Берег Белого моря_ 2007_Бум_акв_60х75 (3).webp',\n",
       "    'bereg-belogo-morya_2007_bum_akv_75x60_3.webp'),\n",
       "   ('Берег Белого моря_ 2007_Бум_акв_60х75 (2).webp',\n",
       "    'bereg-belogo-morya_2007_bum_akv_75x60_2.webp'),\n",
       "   ('Берег Белого моря_ 2007_Бум_акв_60х75 (1).webp',\n",
       "    'bereg-belogo-morya_2007_bum_akv_75x60_1.webp')],\n",
       "  'Year': '2007',\n",
       "  'Width': '75',\n",
       "  'Height': '60',\n",
       "  'Materials': 'бумага, акварель'},\n",
       " 'Полярный Урал. Дождь пошёл. 2012-100x70': {'Name': 'Полярный Урал. Дождь пошёл. 2012',\n",
       "  'File': [('Полярный Урал. Дождь пошёл_2012_Бум_акв_70х100 (3).webp',\n",
       "    'polyarnyy-ural_dozhd-poshyol_2012_bum_akv_100x70_3.webp'),\n",
       "   ('Полярный Урал. Дождь пошёл_2012_Бум_акв_70х100 (1).webp',\n",
       "    'polyarnyy-ural_dozhd-poshyol_2012_bum_akv_100x70_1.webp'),\n",
       "   ('Полярный Урал. Дождь пошёл_2012_Бум_акв_70х100 (2).webp',\n",
       "    'polyarnyy-ural_dozhd-poshyol_2012_bum_akv_100x70_2.webp')],\n",
       "  'Year': '2012',\n",
       "  'Width': '100',\n",
       "  'Height': '70',\n",
       "  'Materials': 'бумага, акварель'},\n",
       " 'Осень на Елагином острове. 2014-100x70': {'Name': 'Осень на Елагином острове. 2014',\n",
       "  'File': [('Осень на Елагином острове_2014_Бум_акв_70х100 (2).webp',\n",
       "    'osen-na-elaginom-ostrove_2014_bum_akv_100x70_2.webp'),\n",
       "   ('Осень на Елагином острове_2014_Бум_акв_70х100 (1).webp',\n",
       "    'osen-na-elaginom-ostrove_2014_bum_akv_100x70_1.webp')],\n",
       "  'Year': '2014',\n",
       "  'Width': '100',\n",
       "  'Height': '70',\n",
       "  'Materials': 'бумага, акварель'},\n",
       " 'Речной порт в Салехарде. 2012-86x40': {'Name': 'Речной порт в Салехарде. 2012',\n",
       "  'File': [('Речной порт в Салехарде_2012_Бум_акв_40х86 (2).webp',\n",
       "    'rechnoy-port-v-salekharde_2012_bum_akv_86x40_2.webp'),\n",
       "   ('Речной порт в Салехарде_2012_Бум_акв_40х86 (1).webp',\n",
       "    'rechnoy-port-v-salekharde_2012_bum_akv_86x40_1.webp'),\n",
       "   ('Речной порт в Салехарде_2012_Бум_акв_40х86 (3).webp',\n",
       "    'rechnoy-port-v-salekharde_2012_bum_akv_86x40_3.webp')],\n",
       "  'Year': '2012',\n",
       "  'Width': '86',\n",
       "  'Height': '40',\n",
       "  'Materials': 'бумага, акварель'},\n",
       " 'На закате. 2009-100x70': {'Name': 'На закате. 2009',\n",
       "  'File': [('На закате_2009_Бум_акв_70х100 (1).webp',\n",
       "    'na-zakate_2009_bum_akv_100x70_1.webp'),\n",
       "   ('На закате_2009_Бум_акв_70х100 (2).webp',\n",
       "    'na-zakate_2009_bum_akv_100x70_2.webp')],\n",
       "  'Year': '2009',\n",
       "  'Width': '100',\n",
       "  'Height': '70',\n",
       "  'Materials': 'бумага, акварель'},\n",
       " 'Морской простор. 2020-300x100': {'Name': 'Морской простор. 2020',\n",
       "  'File': [('Морской простор_2020_Бум_акв_100х300 (4).webp',\n",
       "    'morskoy-prostor_2020_bum_akv_300x100_4.webp'),\n",
       "   ('Морской простор_2020_Бум_акв_100х300 (2).webp',\n",
       "    'morskoy-prostor_2020_bum_akv_300x100_2.webp'),\n",
       "   ('Морской простор_2020_Бум_акв_100х300 (1).webp',\n",
       "    'morskoy-prostor_2020_bum_akv_300x100_1.webp'),\n",
       "   ('Морской простор_2020_Бум_акв_100х300 (3).webp',\n",
       "    'morskoy-prostor_2020_bum_akv_300x100_3.webp')],\n",
       "  'Year': '2020',\n",
       "  'Width': '300',\n",
       "  'Height': '100',\n",
       "  'Materials': 'бумага, акварель'},\n",
       " 'Август на Ямале. 2006-86x60': {'Name': 'Август на Ямале. 2006',\n",
       "  'File': [('Август на Ямале_2006_Бум_акв_60х86 (2).webp',\n",
       "    'avgust-na-yamale_2006_bum_akv_86x60_2.webp'),\n",
       "   ('Август на Ямале_2006_Бум_акв_60х86 (1).webp',\n",
       "    'avgust-na-yamale_2006_bum_akv_86x60_1.webp')],\n",
       "  'Year': '2006',\n",
       "  'Width': '86',\n",
       "  'Height': '60',\n",
       "  'Materials': 'бумага, акварель'},\n",
       " 'Заполярный Урал. Озеро Хадата. 2018-360x100': {'Name': 'Заполярный Урал. Озеро Хадата. 2018',\n",
       "  'File': [('Заполярный Урал_Озеро Хадата_2018_Бум_акв_100х360 (1).webp',\n",
       "    'zapolyarnyy-ural_ozero-khadata_2018_bum_akv_360x100_1.webp'),\n",
       "   ('Заполярный Урал_Озеро Хадата_2018_Бум_акв_100х360 (2).webp',\n",
       "    'zapolyarnyy-ural_ozero-khadata_2018_bum_akv_360x100_2.webp'),\n",
       "   ('Заполярный Урал_Озеро Хадата_2018_Бум_акв_100х360 (4).webp',\n",
       "    'zapolyarnyy-ural_ozero-khadata_2018_bum_akv_360x100_4.webp'),\n",
       "   ('Заполярный Урал_Озеро Хадата_2018_Бум_акв_100х360 (3).webp',\n",
       "    'zapolyarnyy-ural_ozero-khadata_2018_bum_akv_360x100_3.webp')],\n",
       "  'Year': '2018',\n",
       "  'Width': '360',\n",
       "  'Height': '100',\n",
       "  'Materials': 'бумага, акварель'},\n",
       " 'Заполярный Урал. Облака над Щучьем озером. 2018-100x70': {'Name': 'Заполярный Урал. Облака над Щучьем озером. 2018',\n",
       "  'File': [('Заполярный Урал_Облака над Щучьем озером_2018_Бум_акв_70х100 (2).webp',\n",
       "    'zapolyarnyy-ural_oblaka-nad-shchuchem-ozerom_2018_bum_akv_100x70_2.webp'),\n",
       "   ('Заполярный Урал_Облака над Щучьем озером_2018_Бум_акв_70х100 (1).webp',\n",
       "    'zapolyarnyy-ural_oblaka-nad-shchuchem-ozerom_2018_bum_akv_100x70_1.webp')],\n",
       "  'Year': '2018',\n",
       "  'Width': '100',\n",
       "  'Height': '70',\n",
       "  'Materials': 'бумага, акварель'},\n",
       " 'Ямал. Река Харбей. 2019-70x50': {'Name': 'Ямал. Река Харбей. 2019',\n",
       "  'File': [('Ямал_Река Харбей_2019_Бум_акв_50х70 (2).webp',\n",
       "    'yamal_reka-kharbey_2019_bum_akv_70x50_2.webp'),\n",
       "   ('Ямал_Река Харбей_2019_Бум_акв_50х70 (1).webp',\n",
       "    'yamal_reka-kharbey_2019_bum_akv_70x50_1.webp')],\n",
       "  'Year': '2019',\n",
       "  'Width': '70',\n",
       "  'Height': '50',\n",
       "  'Materials': 'бумага, акварель'},\n",
       " 'Карелия. Песчаное озеро. 2010-100x70': {'Name': 'Карелия. Песчаное озеро. 2010',\n",
       "  'File': [('Карелия_Песчаное озеро_2010_Бум_акв_70х100 (2).webp',\n",
       "    'kareliya_peschanoe-ozero_2010_bum_akv_100x70_2.webp'),\n",
       "   ('Карелия_Песчаное озеро_2010_Бум_акв_70х100 (1).webp',\n",
       "    'kareliya_peschanoe-ozero_2010_bum_akv_100x70_1.webp')],\n",
       "  'Year': '2010',\n",
       "  'Width': '100',\n",
       "  'Height': '70',\n",
       "  'Materials': 'бумага, акварель'},\n",
       " 'Белое море. Облака. 2012-100x70': {'Name': 'Белое море. Облака. 2012',\n",
       "  'File': [('Белое море_Облака_2012_Бум_акв_70х100 (2).webp',\n",
       "    'beloe-more_oblaka_2012_bum_akv_100x70_2.webp'),\n",
       "   ('Белое море_Облака_2012_Бум_акв_70х100 (1).webp',\n",
       "    'beloe-more_oblaka_2012_bum_akv_100x70_1.webp')],\n",
       "  'Year': '2012',\n",
       "  'Width': '100',\n",
       "  'Height': '70',\n",
       "  'Materials': 'бумага, акварель'},\n",
       " 'Соловецкий монастырь. 2006-86x61': {'Name': 'Соловецкий монастырь. 2006',\n",
       "  'File': [('Соловецкий монастырь_2006_Бум_акв_61х86 (2).webp',\n",
       "    'solovetskiy-monastyr_2006_bum_akv_86x61_2.webp'),\n",
       "   ('Соловецкий монастырь_2006_Бум_акв_61х86 (3).webp',\n",
       "    'solovetskiy-monastyr_2006_bum_akv_86x61_3.webp'),\n",
       "   ('Соловецкий монастырь_2006_Бум_акв_61х86 (1).webp',\n",
       "    'solovetskiy-monastyr_2006_bum_akv_86x61_1.webp')],\n",
       "  'Year': '2006',\n",
       "  'Width': '86',\n",
       "  'Height': '61',\n",
       "  'Materials': 'бумага, акварель'},\n",
       " 'Ямал. Морозный день. 2023-100x50': {'Name': 'Ямал. Морозный день. 2023',\n",
       "  'File': [('Ямал_Морозный день_2023_Бум_акв_50х100 (1).webp',\n",
       "    'yamal_moroznyy-den_2023_bum_akv_100x50_1.webp'),\n",
       "   ('Ямал_Морозный день_2023_Бум_акв_50х100 (2).webp',\n",
       "    'yamal_moroznyy-den_2023_bum_akv_100x50_2.webp'),\n",
       "   ('Ямал_Морозный день_2023_Бум_акв_50х100 (3).webp',\n",
       "    'yamal_moroznyy-den_2023_bum_akv_100x50_3.webp')],\n",
       "  'Year': '2023',\n",
       "  'Width': '100',\n",
       "  'Height': '50',\n",
       "  'Materials': 'бумага, акварель'},\n",
       " 'Осень на Ямале. 2006-70x34': {'Name': 'Осень на Ямале. 2006',\n",
       "  'File': [('Осень на Ямале_2006_Бум_акв_34х70 (2).webp',\n",
       "    'osen-na-yamale_2006_bum_akv_70x34_2.webp'),\n",
       "   ('Осень на Ямале_2006_Бум_акв_34х70 (1).webp',\n",
       "    'osen-na-yamale_2006_bum_akv_70x34_1.webp'),\n",
       "   ('Осень на Ямале_2006_Бум_акв_34х70 (3).webp',\n",
       "    'osen-na-yamale_2006_bum_akv_70x34_3.webp')],\n",
       "  'Year': '2006',\n",
       "  'Width': '70',\n",
       "  'Height': '34',\n",
       "  'Materials': 'бумага, акварель'},\n",
       " 'Салехард. Обдорский острог. 2009-86x20': {'Name': 'Салехард. Обдорский острог. 2009',\n",
       "  'File': [('Салехард_Обдорский острог_2009_Бум_акв_20х86 (3).webp',\n",
       "    'salekhard_obdorskiy-ostrog_2009_bum_akv_86x20_3.webp'),\n",
       "   ('Салехард_Обдорский острог_2009_Бум_акв_20х86 (2).webp',\n",
       "    'salekhard_obdorskiy-ostrog_2009_bum_akv_86x20_2.webp'),\n",
       "   ('Салехард_Обдорский острог_2009_Бум_акв_20х86 (1).webp',\n",
       "    'salekhard_obdorskiy-ostrog_2009_bum_akv_86x20_1.webp')],\n",
       "  'Year': '2009',\n",
       "  'Width': '86',\n",
       "  'Height': '20',\n",
       "  'Materials': 'бумага, акварель'},\n",
       " 'Нормандия. Дождливый день. 2019-60x40': {'Name': 'Нормандия. Дождливый день. 2019',\n",
       "  'File': [('Нормандия_Дождливый день_2019_Бум_акв_40х60 (2).webp',\n",
       "    'normandiya_dozhdlivyy-den_2019_bum_akv_60x40_2.webp'),\n",
       "   ('Нормандия_Дождливый день_2019_Бум_акв_40х60 (1).webp',\n",
       "    'normandiya_dozhdlivyy-den_2019_bum_akv_60x40_1.webp')],\n",
       "  'Year': '2019',\n",
       "  'Width': '60',\n",
       "  'Height': '40',\n",
       "  'Materials': 'бумага, акварель'},\n",
       " 'Буйство красок Севера. 2011-100x70': {'Name': 'Буйство красок Севера. 2011',\n",
       "  'File': [('Буйство красок Севера_2011_Бум_акв_70х100 (1).webp',\n",
       "    'buystvo-krasok-severa_2011_bum_akv_100x70_1.webp'),\n",
       "   ('Буйство красок Севера_2011_Бум_акв_70х100 (2).webp',\n",
       "    'buystvo-krasok-severa_2011_bum_akv_100x70_2.webp')],\n",
       "  'Year': '2011',\n",
       "  'Width': '100',\n",
       "  'Height': '70',\n",
       "  'Materials': 'бумага, акварель'},\n",
       " 'Небо и море. 2013-100x70': {'Name': 'Небо и море. 2013',\n",
       "  'File': [('Небо и море_2013_Бум_акв_70х100 (2).webp',\n",
       "    'nebo-i-more_2013_bum_akv_100x70_2.webp'),\n",
       "   ('Небо и море_2013_Бум_акв_70х100 (1).webp',\n",
       "    'nebo-i-more_2013_bum_akv_100x70_1.webp'),\n",
       "   ('Небо и море_2013_Бум_акв_70х100 (3).webp',\n",
       "    'nebo-i-more_2013_bum_akv_100x70_3.webp')],\n",
       "  'Year': '2013',\n",
       "  'Width': '100',\n",
       "  'Height': '70',\n",
       "  'Materials': 'бумага, акварель'},\n",
       " 'Дождливый день. Карелия. 2009-86x60': {'Name': 'Дождливый день. Карелия. 2009',\n",
       "  'File': [('Дождливый день_Карелия_2009_Бум_акв_60х86 (1).webp',\n",
       "    'dozhdlivyy-den_kareliya_2009_bum_akv_86x60_1.webp'),\n",
       "   ('Дождливый день_Карелия_2009_Бум_акв_60х86 (2).webp',\n",
       "    'dozhdlivyy-den_kareliya_2009_bum_akv_86x60_2.webp'),\n",
       "   ('Дождливый день_Карелия_2009_Бум_акв_60х86 (3).webp',\n",
       "    'dozhdlivyy-den_kareliya_2009_bum_akv_86x60_3.webp')],\n",
       "  'Year': '2009',\n",
       "  'Width': '86',\n",
       "  'Height': '60',\n",
       "  'Materials': 'бумага, акварель'},\n",
       " 'Полярный Урал. Исток реки Собь. 2015-340x100': {'Name': 'Полярный Урал. Исток реки Собь. 2015',\n",
       "  'File': [('Полярный Урал_Исток реки Собь_2015_Бум_акв_100х340 (3).webp',\n",
       "    'polyarnyy-ural_istok-reki-sob_2015_bum_akv_340x100_3.webp'),\n",
       "   ('Полярный Урал_Исток реки Собь_2015_Бум_акв_100х340 (1).webp',\n",
       "    'polyarnyy-ural_istok-reki-sob_2015_bum_akv_340x100_1.webp'),\n",
       "   ('Полярный Урал_Исток реки Собь_2015_Бум_акв_100х340 (2).webp',\n",
       "    'polyarnyy-ural_istok-reki-sob_2015_bum_akv_340x100_2.webp')],\n",
       "  'Year': '2015',\n",
       "  'Width': '340',\n",
       "  'Height': '100',\n",
       "  'Materials': 'бумага, акварель'},\n",
       " 'Ямал. Долина реки Лангота. 2013-150x70': {'Name': 'Ямал. Долина реки Лангота. 2013',\n",
       "  'File': [('Ямал. Долина реки Лангота_2013_Бум_акв_70х150 (2).webp',\n",
       "    'yamal_dolina-reki-langota_2013_bum_akv_150x70_2.webp'),\n",
       "   ('Ямал. Долина реки Лангота_2013_Бум_акв_70х150 (3).webp',\n",
       "    'yamal_dolina-reki-langota_2013_bum_akv_150x70_3.webp'),\n",
       "   ('Ямал. Долина реки Лангота_2013_Бум_акв_70х150 (1).webp',\n",
       "    'yamal_dolina-reki-langota_2013_bum_akv_150x70_1.webp')],\n",
       "  'Year': '2013',\n",
       "  'Width': '150',\n",
       "  'Height': '70',\n",
       "  'Materials': 'бумага, акварель'},\n",
       " 'Полярный Урал. Долина реки Собь. 2013-150x100': {'Name': 'Полярный Урал. Долина реки Собь. 2013',\n",
       "  'File': [('Полярный Урал_Долина реки Собь_ 2013_Бум_акв_100х150 (3).webp',\n",
       "    'polyarnyy-ural_dolina-reki-sob_2013_bum_akv_150x100_3.webp'),\n",
       "   ('Полярный Урал_Долина реки Собь_ 2013_Бум_акв_100х150 (2).webp',\n",
       "    'polyarnyy-ural_dolina-reki-sob_2013_bum_akv_150x100_2.webp'),\n",
       "   ('Полярный Урал_Долина реки Собь_ 2013_Бум_акв_100х150 (1).webp',\n",
       "    'polyarnyy-ural_dolina-reki-sob_2013_bum_akv_150x100_1.webp'),\n",
       "   ('Полярный Урал_Долина реки Собь_ 2013_Бум_акв_100х150 (4).webp',\n",
       "    'polyarnyy-ural_dolina-reki-sob_2013_bum_akv_150x100_4.webp')],\n",
       "  'Year': '2013',\n",
       "  'Width': '150',\n",
       "  'Height': '100',\n",
       "  'Materials': 'бумага, акварель'},\n",
       " 'Норвегия. Лофотены. 2010-100x70': {'Name': 'Норвегия. Лофотены. 2010',\n",
       "  'File': [('Норвегия_Лофотены_2010_Бум_акв_70х100 (2).webp',\n",
       "    'norvegiya_lofoteny_2010_bum_akv_100x70_2.webp'),\n",
       "   ('Норвегия_Лофотены_2010_Бум_акв_70х100 (1).webp',\n",
       "    'norvegiya_lofoteny_2010_bum_akv_100x70_1.webp')],\n",
       "  'Year': '2010',\n",
       "  'Width': '100',\n",
       "  'Height': '70',\n",
       "  'Materials': 'бумага, акварель'},\n",
       " 'Белое море. Рыбацкий остров. 2006-86x52': {'Name': 'Белое море. Рыбацкий остров. 2006',\n",
       "  'File': [('Белое море_Рыбацкий остров_2006_Бум_акв_52х86 (1).webp',\n",
       "    'beloe-more_rybatskiy-ostrov_2006_bum_akv_86x52_1.webp'),\n",
       "   ('Белое море_Рыбацкий остров_2006_Бум_акв_52х86 (2).webp',\n",
       "    'beloe-more_rybatskiy-ostrov_2006_bum_akv_86x52_2.webp'),\n",
       "   ('Белое море_Рыбацкий остров_2006_Бум_акв_52х86 (3).webp',\n",
       "    'beloe-more_rybatskiy-ostrov_2006_bum_akv_86x52_3.webp')],\n",
       "  'Year': '2006',\n",
       "  'Width': '86',\n",
       "  'Height': '52',\n",
       "  'Materials': 'бумага, акварель'},\n",
       " 'Полярный Урал. Ущелье Конгор. 2015-340x100': {'Name': 'Полярный Урал. Ущелье Конгор. 2015',\n",
       "  'File': [('Полярный Урал_Ущелье Конгор_2015_Бум_акв_100х340 (2).webp',\n",
       "    'polyarnyy-ural_ushchele-kongor_2015_bum_akv_340x100_2.webp'),\n",
       "   ('Полярный Урал_Ущелье Конгор_2015_Бум_акв_100х340 (3).webp',\n",
       "    'polyarnyy-ural_ushchele-kongor_2015_bum_akv_340x100_3.webp'),\n",
       "   ('Полярный Урал_Ущелье Конгор_2015_Бум_акв_100х340 (1).webp',\n",
       "    'polyarnyy-ural_ushchele-kongor_2015_bum_akv_340x100_1.webp'),\n",
       "   ('Полярный Урал_Ущелье Конгор_2015_Бум_акв_100х340 (4).webp',\n",
       "    'polyarnyy-ural_ushchele-kongor_2015_bum_akv_340x100_4.webp')],\n",
       "  'Year': '2015',\n",
       "  'Width': '340',\n",
       "  'Height': '100',\n",
       "  'Materials': 'бумага, акварель'},\n",
       " 'Пороги на реке Сума. Карелия. 2009-100x70': {'Name': 'Пороги на реке Сума. Карелия. 2009',\n",
       "  'File': [('Пороги на реке Сума. Карелия_2009_Бум_акв_70х100 (2).webp',\n",
       "    'porogi-na-reke-suma_kareliya_2009_bum_akv_100x70_2.webp'),\n",
       "   ('Пороги на реке Сума. Карелия_2009_Бум_акв_70х100 (1).webp',\n",
       "    'porogi-na-reke-suma_kareliya_2009_bum_akv_100x70_1.webp')],\n",
       "  'Year': '2009',\n",
       "  'Width': '100',\n",
       "  'Height': '70',\n",
       "  'Materials': 'бумага, акварель'},\n",
       " 'Водопад в облаках. 2012-70x100': {'Name': 'Водопад в облаках. 2012',\n",
       "  'File': [('Водопад в облаках_2012_Бум_ак_100х70 (3).webp',\n",
       "    'vodopad-v-oblakakh_2012_bum_ak_70x100_3.webp'),\n",
       "   ('Водопад в облаках_2012_Бум_ак_100х70 (2).webp',\n",
       "    'vodopad-v-oblakakh_2012_bum_ak_70x100_2.webp'),\n",
       "   ('Водопад в облаках_2012_Бум_ак_100х70 (1).webp',\n",
       "    'vodopad-v-oblakakh_2012_bum_ak_70x100_1.webp')],\n",
       "  'Year': '2012',\n",
       "  'Width': '70',\n",
       "  'Height': '100',\n",
       "  'Materials': 'бумага, '},\n",
       " 'На берегу озера Хадата. 2018-360x100': {'Name': 'На берегу озера Хадата. 2018',\n",
       "  'File': [('На берегу озера Хадата_2018_Бум_акв_100х360 (4).webp',\n",
       "    'na-beregu-ozera-khadata_2018_bum_akv_360x100_4.webp'),\n",
       "   ('На берегу озера Хадата_2018_Бум_акв_100х360 (2).webp',\n",
       "    'na-beregu-ozera-khadata_2018_bum_akv_360x100_2.webp'),\n",
       "   ('На берегу озера Хадата_2018_Бум_акв_100х360 (1).webp',\n",
       "    'na-beregu-ozera-khadata_2018_bum_akv_360x100_1.webp'),\n",
       "   ('На берегу озера Хадата_2018_Бум_акв_100х360 (3).webp',\n",
       "    'na-beregu-ozera-khadata_2018_bum_akv_360x100_3.webp')],\n",
       "  'Year': '2018',\n",
       "  'Width': '360',\n",
       "  'Height': '100',\n",
       "  'Materials': 'бумага, акварель'},\n",
       " 'Ямал. Август. 2008-100x50': {'Name': 'Ямал. Август. 2008',\n",
       "  'File': [('Ямал_Август_2008_Бум_акв_50х100 (1).webp',\n",
       "    'yamal_avgust_2008_bum_akv_100x50_1.webp'),\n",
       "   ('Ямал_Август_2008_Бум_акв_50х100 (2).webp',\n",
       "    'yamal_avgust_2008_bum_akv_100x50_2.webp')],\n",
       "  'Year': '2008',\n",
       "  'Width': '100',\n",
       "  'Height': '50',\n",
       "  'Materials': 'бумага, акварель'},\n",
       " 'Карелия. Сумской порог. 2010-100x70': {'Name': 'Карелия. Сумской порог. 2010',\n",
       "  'File': [('Карелия_Сумской порог_2010_Бум_акв_70х100 (1).webp',\n",
       "    'kareliya_sumskoy-porog_2010_bum_akv_100x70_1.webp'),\n",
       "   ('Карелия_Сумской порог_2010_Бум_акв_70х100 (2).webp',\n",
       "    'kareliya_sumskoy-porog_2010_bum_akv_100x70_2.webp')],\n",
       "  'Year': '2010',\n",
       "  'Width': '100',\n",
       "  'Height': '70',\n",
       "  'Materials': 'бумага, акварель'},\n",
       " 'Преображенский собор Соловецкого монастыря. 2007-85x61': {'Name': 'Преображенский собор Соловецкого монастыря. 2007',\n",
       "  'File': [('Преображенский собор Соловецкого монастыря_2007_Бум_акв_61х85 (2).webp',\n",
       "    'preobrazhenskiy-sobor-solovetskogo-monastyrya_2007_bum_akv_85x61_2.webp'),\n",
       "   ('Преображенский собор Соловецкого монастыря_2007_Бум_акв_61х85 (1).webp',\n",
       "    'preobrazhenskiy-sobor-solovetskogo-monastyrya_2007_bum_akv_85x61_1.webp')],\n",
       "  'Year': '2007',\n",
       "  'Width': '85',\n",
       "  'Height': '61',\n",
       "  'Materials': 'бумага, акварель'},\n",
       " 'Баня геологов. 2006-67x50': {'Name': 'Баня геологов. 2006',\n",
       "  'File': [('Баня геологов_2006_Бум_акв_50х67 (1).webp',\n",
       "    'banya-geologov_2006_bum_akv_67x50_1.webp'),\n",
       "   ('Баня геологов_2006_Бум_акв_50х67 (2).webp',\n",
       "    'banya-geologov_2006_bum_akv_67x50_2.webp')],\n",
       "  'Year': '2006',\n",
       "  'Width': '67',\n",
       "  'Height': '50',\n",
       "  'Materials': 'бумага, акварель'},\n",
       " 'Уральские горы. 2006-85x61': {'Name': 'Уральские горы. 2006',\n",
       "  'File': [('Уральские горы_2006_Бум_акв_61х85 (3).webp',\n",
       "    'uralskie-gory_2006_bum_akv_85x61_3.webp'),\n",
       "   ('Уральские горы_2006_Бум_акв_61х85 (2).webp',\n",
       "    'uralskie-gory_2006_bum_akv_85x61_2.webp'),\n",
       "   ('Уральские горы_2006_Бум_акв_61х85 (1).webp',\n",
       "    'uralskie-gory_2006_bum_akv_85x61_1.webp')],\n",
       "  'Year': '2006',\n",
       "  'Width': '85',\n",
       "  'Height': '61',\n",
       "  'Materials': 'бумага, акварель'},\n",
       " 'Облака над Белым морем. 2008-86x60': {'Name': 'Облака над Белым морем. 2008',\n",
       "  'File': [('Облака над Белым морем_2008_Бум_акв_ 60х86 (2).webp',\n",
       "    'oblaka-nad-belym-morem_2008_bum_akv_86x60_2.webp'),\n",
       "   ('Облака над Белым морем_2008_Бум_акв_ 60х86 (1).webp',\n",
       "    'oblaka-nad-belym-morem_2008_bum_akv_86x60_1.webp')],\n",
       "  'Year': '2008',\n",
       "  'Width': '86',\n",
       "  'Height': '60',\n",
       "  'Materials': 'бумага, акварель'},\n",
       " 'Просторы Белого моря. Кузова. 2015-280x100': {'Name': 'Просторы Белого моря. Кузова. 2015',\n",
       "  'File': [('Просторы Белого моря_Кузова_2015_Бум_акв_100х280 (3).webp',\n",
       "    'prostory-belogo-morya_kuzova_2015_bum_akv_280x100_3.webp'),\n",
       "   ('Просторы Белого моря_Кузова_2015_Бум_акв_100х280 (1).webp',\n",
       "    'prostory-belogo-morya_kuzova_2015_bum_akv_280x100_1.webp'),\n",
       "   ('Просторы Белого моря_Кузова_2015_Бум_акв_100х280 (2).webp',\n",
       "    'prostory-belogo-morya_kuzova_2015_bum_akv_280x100_2.webp'),\n",
       "   ('Просторы Белого моря_Кузова_2015_Бум_акв_100х280 (4).webp',\n",
       "    'prostory-belogo-morya_kuzova_2015_bum_akv_280x100_4.webp')],\n",
       "  'Year': '2015',\n",
       "  'Width': '280',\n",
       "  'Height': '100',\n",
       "  'Materials': 'бумага, акварель'},\n",
       " 'Диптих. На просторах устья реки Обь. Ямал. правый. 2012-100x70': {'Name': 'Диптих. На просторах устья реки Обь. Ямал. правый. 2012',\n",
       "  'File': [('Диптих_На просторах устья реки Обь_Ямал_правый_2012_Бум_акв_70х100 (2).webp',\n",
       "    'diptikh_na-prostorakh-ustya-reki-ob_yamal_pravyy_2012_bum_akv_100x70_2.webp'),\n",
       "   ('Диптих_На просторах устья реки Обь_Ямал_правый_2012_Бум_акв_70х100 (1).webp',\n",
       "    'diptikh_na-prostorakh-ustya-reki-ob_yamal_pravyy_2012_bum_akv_100x70_1.webp')],\n",
       "  'Year': '2012',\n",
       "  'Width': '100',\n",
       "  'Height': '70',\n",
       "  'Materials': 'бумага, акварель'},\n",
       " 'Байкал. 2012-50x35': {'Name': 'Байкал. 2012',\n",
       "  'File': [('Байкал_2012_Бум_акв_35х50 (2).webp',\n",
       "    'baykal_2012_bum_akv_50x35_2.webp'),\n",
       "   ('Байкал_2012_Бум_акв_35х50 (1).webp', 'baykal_2012_bum_akv_50x35_1.webp')],\n",
       "  'Year': '2012',\n",
       "  'Width': '50',\n",
       "  'Height': '35',\n",
       "  'Materials': 'бумага, акварель'},\n",
       " 'Карелия. Остров Сосновец. 2007-100x70': {'Name': 'Карелия. Остров Сосновец. 2007',\n",
       "  'File': [('Карелия_Остров Сосновец_2007_Бум_акв_70х100 (1).webp',\n",
       "    'kareliya_ostrov-sosnovets_2007_bum_akv_100x70_1.webp'),\n",
       "   ('Карелия_Остров Сосновец_2007_Бум_акв_70х100 (2).webp',\n",
       "    'kareliya_ostrov-sosnovets_2007_bum_akv_100x70_2.webp')],\n",
       "  'Year': '2007',\n",
       "  'Width': '100',\n",
       "  'Height': '70',\n",
       "  'Materials': 'бумага, акварель'},\n",
       " 'Ямал. Заросшее озеро. 2006-86x60': {'Name': 'Ямал. Заросшее озеро. 2006',\n",
       "  'File': [('Ямал_Заросшее озеро_2006_Бум_акв_60х86 (2).webp',\n",
       "    'yamal_zarosshee-ozero_2006_bum_akv_86x60_2.webp'),\n",
       "   ('Ямал_Заросшее озеро_2006_Бум_акв_60х86 (1).webp',\n",
       "    'yamal_zarosshee-ozero_2006_bum_akv_86x60_1.webp')],\n",
       "  'Year': '2006',\n",
       "  'Width': '86',\n",
       "  'Height': '60',\n",
       "  'Materials': 'бумага, акварель'},\n",
       " 'Ямал. Река Харбей. 2012-100x70': {'Name': 'Ямал. Река Харбей. 2012',\n",
       "  'File': [('Ямал_Река Харбей_2012_Бум_акв_70х100 (3).webp',\n",
       "    'yamal_reka-kharbey_2012_bum_akv_100x70_3.webp'),\n",
       "   ('Ямал_Река Харбей_2012_Бум_акв_70х100 (2).webp',\n",
       "    'yamal_reka-kharbey_2012_bum_akv_100x70_2.webp'),\n",
       "   ('Ямал_Река Харбей_2012_Бум_акв_70х100 (1).webp',\n",
       "    'yamal_reka-kharbey_2012_bum_akv_100x70_1.webp')],\n",
       "  'Year': '2012',\n",
       "  'Width': '100',\n",
       "  'Height': '70',\n",
       "  'Materials': 'бумага, акварель'},\n",
       " 'На Белом море. Зима уходит. 2007-85x61': {'Name': 'На Белом море. Зима уходит. 2007',\n",
       "  'File': [('На Белом море_Зима уходит_2007_Бум_акв_61х85 (1).webp',\n",
       "    'na-belom-more_zima-ukhodit_2007_bum_akv_85x61_1.webp'),\n",
       "   ('На Белом море_Зима уходит_2007_Бум_акв_61х85 (2).webp',\n",
       "    'na-belom-more_zima-ukhodit_2007_bum_akv_85x61_2.webp')],\n",
       "  'Year': '2007',\n",
       "  'Width': '85',\n",
       "  'Height': '61',\n",
       "  'Materials': 'бумага, акварель'},\n",
       " 'Ямал. Осенняя тундра. 2008-86x60': {'Name': 'Ямал. Осенняя тундра. 2008',\n",
       "  'File': [('Ямал_Осенняя тундра_2008_Бум_акв_60х86 (2).webp',\n",
       "    'yamal_osennyaya-tundra_2008_bum_akv_86x60_2.webp'),\n",
       "   ('Ямал_Осенняя тундра_2008_Бум_акв_60х86 (1).webp',\n",
       "    'yamal_osennyaya-tundra_2008_bum_akv_86x60_1.webp'),\n",
       "   ('Ямал_Осенняя тундра_2008_Бум_акв_60х86 (3).webp',\n",
       "    'yamal_osennyaya-tundra_2008_bum_akv_86x60_3.webp')],\n",
       "  'Year': '2008',\n",
       "  'Width': '86',\n",
       "  'Height': '60',\n",
       "  'Materials': 'бумага, акварель'},\n",
       " 'Норвегия. Закат. 2010-100x70': {'Name': 'Норвегия. Закат. 2010',\n",
       "  'File': [('Норвегия_Закат_2010_Бум_акв_70х100 (2).webp',\n",
       "    'norvegiya_zakat_2010_bum_akv_100x70_2.webp'),\n",
       "   ('Норвегия_Закат_2010_Бум_акв_70х100 (1).webp',\n",
       "    'norvegiya_zakat_2010_bum_akv_100x70_1.webp')],\n",
       "  'Year': '2010',\n",
       "  'Width': '100',\n",
       "  'Height': '70',\n",
       "  'Materials': 'бумага, акварель'},\n",
       " 'Бухта Севастополя. 2019-83x54': {'Name': 'Бухта Севастополя. 2019',\n",
       "  'File': [('Бухта Севастополя_2019__Бум_акв_54х83 (1).webp',\n",
       "    'bukhta-sevastopolya_2019_bum_akv_83x54_1.webp'),\n",
       "   ('Бухта Севастополя_2019__Бум_акв_54х83 (3).webp',\n",
       "    'bukhta-sevastopolya_2019_bum_akv_83x54_3.webp'),\n",
       "   ('Бухта Севастополя_2019__Бум_акв_54х83 (2).webp',\n",
       "    'bukhta-sevastopolya_2019_bum_akv_83x54_2.webp')],\n",
       "  'Year': '2019',\n",
       "  'Width': '83',\n",
       "  'Height': '54',\n",
       "  'Materials': ', акварель'},\n",
       " 'Водопад Куми порог. Карелия. 2009-100x70': {'Name': 'Водопад Куми порог. Карелия. 2009',\n",
       "  'File': [('Водопад Куми порог_Карелия_2009_Бум_акв_70х100 (1).webp',\n",
       "    'vodopad-kumi-porog_kareliya_2009_bum_akv_100x70_1.webp'),\n",
       "   ('Водопад Куми порог_Карелия_2009_Бум_акв_70х100 (2).webp',\n",
       "    'vodopad-kumi-porog_kareliya_2009_bum_akv_100x70_2.webp')],\n",
       "  'Year': '2009',\n",
       "  'Width': '100',\n",
       "  'Height': '70',\n",
       "  'Materials': 'бумага, акварель'},\n",
       " 'Байкал. Берега. 2012-100x70': {'Name': 'Байкал. Берега. 2012',\n",
       "  'File': [('Байкал_Берега_2012_Бум_акв_70х100 (2).webp',\n",
       "    'baykal_berega_2012_bum_akv_100x70_2.webp'),\n",
       "   ('Байкал_Берега_2012_Бум_акв_70х100 (3).webp',\n",
       "    'baykal_berega_2012_bum_akv_100x70_3.webp'),\n",
       "   ('Байкал_Берега_2012_Бум_акв_70х100 (1).webp',\n",
       "    'baykal_berega_2012_bum_akv_100x70_1.webp')],\n",
       "  'Year': '2012',\n",
       "  'Width': '100',\n",
       "  'Height': '70',\n",
       "  'Materials': 'бумага, акварель'},\n",
       " 'Ямал. Хмурый день. 2018-100x60': {'Name': 'Ямал. Хмурый день. 2018',\n",
       "  'File': [('Ямал_Хмурый день_2018_Бум_акв_60х100 (1).webp',\n",
       "    'yamal_khmuryy-den_2018_bum_akv_100x60_1.webp'),\n",
       "   ('Ямал_Хмурый день_2018_Бум_акв_60х100 (3).webp',\n",
       "    'yamal_khmuryy-den_2018_bum_akv_100x60_3.webp'),\n",
       "   ('Ямал_Хмурый день_2018_Бум_акв_60х100 (2).webp',\n",
       "    'yamal_khmuryy-den_2018_bum_akv_100x60_2.webp')],\n",
       "  'Year': '2018',\n",
       "  'Width': '100',\n",
       "  'Height': '60',\n",
       "  'Materials': 'бумага, акварель'},\n",
       " 'Тишина. 2012-110x50': {'Name': 'Тишина. 2012',\n",
       "  'File': [('Тишина_2012_Бум_акв_50х110 (1).webp',\n",
       "    'tishina_2012_bum_akv_110x50_1.webp'),\n",
       "   ('Тишина_2012_Бум_акв_50х110 (2).webp',\n",
       "    'tishina_2012_bum_akv_110x50_2.webp')],\n",
       "  'Year': '2012',\n",
       "  'Width': '110',\n",
       "  'Height': '50',\n",
       "  'Materials': 'бумага, акварель'},\n",
       " 'Белое море. 2007-86x61': {'Name': 'Белое море. 2007',\n",
       "  'File': [('Белое море_2007_Бум_акв_ 61х86 (1).webp',\n",
       "    'beloe-more_2007_bum_akv_86x61_1.webp'),\n",
       "   ('Белое море_2007_Бум_акв_ 61х86 (2).webp',\n",
       "    'beloe-more_2007_bum_akv_86x61_2.webp')],\n",
       "  'Year': '2007',\n",
       "  'Width': '86',\n",
       "  'Height': '61',\n",
       "  'Materials': 'бумага, акварель'},\n",
       " 'Дождливые облака. 2014-100x70': {'Name': 'Дождливые облака. 2014',\n",
       "  'File': [('Дождливые облака_2014_Бум_акв_70х100 (2).webp',\n",
       "    'dozhdlivye-oblaka_2014_bum_akv_100x70_2.webp'),\n",
       "   ('Дождливые облака_2014_Бум_акв_70х100 (1).webp',\n",
       "    'dozhdlivye-oblaka_2014_bum_akv_100x70_1.webp'),\n",
       "   ('Дождливые облака_2014_Бум_акв_70х100 (3).webp',\n",
       "    'dozhdlivye-oblaka_2014_bum_akv_100x70_3.webp')],\n",
       "  'Year': '2014',\n",
       "  'Width': '100',\n",
       "  'Height': '70',\n",
       "  'Materials': 'бумага, акварель'},\n",
       " 'Ямал. Иван чай. 2023-100x70': {'Name': 'Ямал. Иван чай. 2023',\n",
       "  'File': [('Ямал_Иван чай_2023_Бум_акв_70х100 (1).webp',\n",
       "    'yamal_ivan-chay_2023_bum_akv_100x70_1.webp'),\n",
       "   ('Ямал_Иван чай_2023_Бум_акв_70х100 (2).webp',\n",
       "    'yamal_ivan-chay_2023_bum_akv_100x70_2.webp'),\n",
       "   ('Ямал_Иван чай_2023_Бум_акв_70х100 (3).webp',\n",
       "    'yamal_ivan-chay_2023_bum_akv_100x70_3.webp')],\n",
       "  'Year': '2023',\n",
       "  'Width': '100',\n",
       "  'Height': '70',\n",
       "  'Materials': 'бумага, акварель'},\n",
       " 'Франция. Нормандия. Виль ля Роз. 2019-60x40': {'Name': 'Франция. Нормандия. Виль ля Роз. 2019',\n",
       "  'File': [('Франция_Нормандия_Виль ля Роз_2019_Бум_акв_40х60 (2).webp',\n",
       "    'frantsiya_normandiya_vil-lya-roz_2019_bum_akv_60x40_2.webp'),\n",
       "   ('Франция_Нормандия_Виль ля Роз_2019_Бум_акв_40х60 (3).webp',\n",
       "    'frantsiya_normandiya_vil-lya-roz_2019_bum_akv_60x40_3.webp'),\n",
       "   ('Франция_Нормандия_Виль ля Роз_2019_Бум_акв_40х60 (1).webp',\n",
       "    'frantsiya_normandiya_vil-lya-roz_2019_bum_akv_60x40_1.webp')],\n",
       "  'Year': '2019',\n",
       "  'Width': '60',\n",
       "  'Height': '40',\n",
       "  'Materials': 'бумага, акварель'},\n",
       " 'Мамомнты на Ямале. 2020-30x20': {'Name': 'Мамомнты на Ямале. 2020',\n",
       "  'File': [('Мамомнты на Ямале_2020_Бум_акв_20х30 (1).webp',\n",
       "    'mamomnty-na-yamale_2020_bum_akv_30x20_1.webp'),\n",
       "   ('Мамомнты на Ямале_2020_Бум_акв_20х30 (2).webp',\n",
       "    'mamomnty-na-yamale_2020_bum_akv_30x20_2.webp')],\n",
       "  'Year': '2020',\n",
       "  'Width': '30',\n",
       "  'Height': '20',\n",
       "  'Materials': 'бумага, акварель'},\n",
       " 'Снежные вершины. 2010-86x57': {'Name': 'Снежные вершины. 2010',\n",
       "  'File': [('Снежные вершины_2010_Бум_акв_57х86 (2).webp',\n",
       "    'snezhnye-vershiny_2010_bum_akv_86x57_2.webp'),\n",
       "   ('Снежные вершины_2010_Бум_акв_57х86 (1).webp',\n",
       "    'snezhnye-vershiny_2010_bum_akv_86x57_1.webp')],\n",
       "  'Year': '2010',\n",
       "  'Width': '86',\n",
       "  'Height': '57',\n",
       "  'Materials': 'бумага, акварель'},\n",
       " 'Здесь начинается река Собь. Полярный Урал. 2015-100x70': {'Name': 'Здесь начинается река Собь. Полярный Урал. 2015',\n",
       "  'File': [('Здесь начинается река Собь. Полярный Урал_ 2015_Бум_акв_70х100 (3).webp',\n",
       "    'zdes-nachinaetsya-reka-sob_polyarnyy-ural_2015_bum_akv_100x70_3.webp'),\n",
       "   ('Здесь начинается река Собь. Полярный Урал_ 2015_Бум_акв_70х100 (1).webp',\n",
       "    'zdes-nachinaetsya-reka-sob_polyarnyy-ural_2015_bum_akv_100x70_1.webp'),\n",
       "   ('Здесь начинается река Собь. Полярный Урал_ 2015_Бум_акв_70х100 (2).webp',\n",
       "    'zdes-nachinaetsya-reka-sob_polyarnyy-ural_2015_bum_akv_100x70_2.webp')],\n",
       "  'Year': '2015',\n",
       "  'Width': '100',\n",
       "  'Height': '70',\n",
       "  'Materials': 'бумага, акварель'},\n",
       " 'Сумской порог. Карелия. 2009-60x86': {'Name': 'Сумской порог. Карелия. 2009',\n",
       "  'File': [('Сумской порог_Карелия_2009_Бум_ акв_86х60 (1).webp',\n",
       "    'sumskoy-porog_kareliya_2009_bum_akv_60x86_1.webp'),\n",
       "   ('Сумской порог_Карелия_2009_Бум_ акв_86х60 (2).webp',\n",
       "    'sumskoy-porog_kareliya_2009_bum_akv_60x86_2.webp')],\n",
       "  'Year': '2009',\n",
       "  'Width': '60',\n",
       "  'Height': '86',\n",
       "  'Materials': 'бумага, акварель'},\n",
       " 'Полярный Урал. Долина реки Собь. 2009-100x70': {'Name': 'Полярный Урал. Долина реки Собь. 2009',\n",
       "  'File': [('Полярный Урал_Долина реки Собь_2009_Бум_акв_70х100 (3).webp',\n",
       "    'polyarnyy-ural_dolina-reki-sob_2009_bum_akv_100x70_3.webp'),\n",
       "   ('Полярный Урал_Долина реки Собь_2009_Бум_акв_70х100 (4).webp',\n",
       "    'polyarnyy-ural_dolina-reki-sob_2009_bum_akv_100x70_4.webp'),\n",
       "   ('Полярный Урал_Долина реки Собь_2009_Бум_акв_70х100 (1).webp',\n",
       "    'polyarnyy-ural_dolina-reki-sob_2009_bum_akv_100x70_1.webp'),\n",
       "   ('Полярный Урал_Долина реки Собь_2009_Бум_акв_70х100 (2).webp',\n",
       "    'polyarnyy-ural_dolina-reki-sob_2009_bum_akv_100x70_2.webp')],\n",
       "  'Year': '2009',\n",
       "  'Width': '100',\n",
       "  'Height': '70',\n",
       "  'Materials': 'бумага, акварель'},\n",
       " 'Байкал. 2012-100x70': {'Name': 'Байкал. 2012',\n",
       "  'File': [('Байкал_2012_Бум_акв_70х100 (1).webp',\n",
       "    'baykal_2012_bum_akv_100x70_1.webp'),\n",
       "   ('Байкал_2012_Бум_акв_70х100 (2).webp',\n",
       "    'baykal_2012_bum_akv_100x70_2.webp')],\n",
       "  'Year': '2012',\n",
       "  'Width': '100',\n",
       "  'Height': '70',\n",
       "  'Materials': 'бумага, акварель'},\n",
       " 'Ямал. Лиловый восход. 2023-40x23': {'Name': 'Ямал. Лиловый восход. 2023',\n",
       "  'File': [('Ямал_Лиловый восход_2023_Бум_акв_23х40 (1).webp',\n",
       "    'yamal_lilovyy-voskhod_2023_bum_akv_40x23_1.webp'),\n",
       "   ('Ямал_Лиловый восход_2023_Бум_акв_23х40 (2).webp',\n",
       "    'yamal_lilovyy-voskhod_2023_bum_akv_40x23_2.webp')],\n",
       "  'Year': '2023',\n",
       "  'Width': '40',\n",
       "  'Height': '23',\n",
       "  'Materials': 'бумага, акварель'},\n",
       " 'Осень. Берег реки. 2023-70x50': {'Name': 'Осень. Берег реки. 2023',\n",
       "  'File': [('Осень_Берег реки_2023_Бум_акв_50х70 (2).webp',\n",
       "    'osen_bereg-reki_2023_bum_akv_70x50_2.webp'),\n",
       "   ('Осень_Берег реки_2023_Бум_акв_50х70 (1).webp',\n",
       "    'osen_bereg-reki_2023_bum_akv_70x50_1.webp')],\n",
       "  'Year': '2023',\n",
       "  'Width': '70',\n",
       "  'Height': '50',\n",
       "  'Materials': 'бумага, акварель'},\n",
       " 'Карелия. Водопад. Куми порог. Пошёл июльский снег. 2009-100x70': {'Name': 'Карелия. Водопад. Куми порог. Пошёл июльский снег. 2009',\n",
       "  'File': [('Карелия. Водопад_Куми порог_Пошёл июльский снег_2009_Бум_акв_70х100 (2).webp',\n",
       "    'kareliya_vodopad_kumi-porog_poshyol-iyulskiy-sneg_2009_bum_akv_100x70_2.webp'),\n",
       "   ('Карелия. Водопад_Куми порог_Пошёл июльский снег_2009_Бум_акв_70х100 (1).webp',\n",
       "    'kareliya_vodopad_kumi-porog_poshyol-iyulskiy-sneg_2009_bum_akv_100x70_1.webp')],\n",
       "  'Year': '2009',\n",
       "  'Width': '100',\n",
       "  'Height': '70',\n",
       "  'Materials': 'бумага, акварель'},\n",
       " 'Гора Чертов палец. Ямал. 2023-40x23': {'Name': 'Гора Чертов палец. Ямал. 2023',\n",
       "  'File': [('Гора Чертов палец_Ямал_2023_Бум_акв_23х40 (1).webp',\n",
       "    'gora-chertov-palets_yamal_2023_bum_akv_40x23_1.webp'),\n",
       "   ('Гора Чертов палец_Ямал_2023_Бум_акв_23х40 (2).webp',\n",
       "    'gora-chertov-palets_yamal_2023_bum_akv_40x23_2.webp')],\n",
       "  'Year': '2023',\n",
       "  'Width': '40',\n",
       "  'Height': '23',\n",
       "  'Materials': 'бумага, акварель'},\n",
       " 'Перед рассветом. Белое море. 2007-100x70': {'Name': 'Перед рассветом. Белое море. 2007',\n",
       "  'File': [('Перед рассветом_Белое море_2007_Бум_акв_70х100 (1).webp',\n",
       "    'pered-rassvetom_beloe-more_2007_bum_akv_100x70_1.webp'),\n",
       "   ('Перед рассветом_Белое море_2007_Бум_акв_70х100 (2).webp',\n",
       "    'pered-rassvetom_beloe-more_2007_bum_akv_100x70_2.webp')],\n",
       "  'Year': '2007',\n",
       "  'Width': '100',\n",
       "  'Height': '70',\n",
       "  'Materials': 'бумага, акварель'},\n",
       " 'Ямал. Декабрь. 2023-110x35': {'Name': 'Ямал. Декабрь. 2023',\n",
       "  'File': [('Ямал_Декабрь_2023_Бум_акв_35х110 (1).webp',\n",
       "    'yamal_dekabr_2023_bum_akv_110x35_1.webp'),\n",
       "   ('Ямал_Декабрь_2023_Бум_акв_35х110 (2).webp',\n",
       "    'yamal_dekabr_2023_bum_akv_110x35_2.webp')],\n",
       "  'Year': '2023',\n",
       "  'Width': '110',\n",
       "  'Height': '35',\n",
       "  'Materials': 'бумага, акварель'},\n",
       " 'Ямал. Река Полуй. 2008-100x70': {'Name': 'Ямал. Река Полуй. 2008',\n",
       "  'File': [('Ямал_Река Полуй_2008_Бум_акв_70х100 (1).webp',\n",
       "    'yamal_reka-poluy_2008_bum_akv_100x70_1.webp'),\n",
       "   ('Ямал_Река Полуй_2008_Бум_акв_70х100 (2).webp',\n",
       "    'yamal_reka-poluy_2008_bum_akv_100x70_2.webp')],\n",
       "  'Year': '2008',\n",
       "  'Width': '100',\n",
       "  'Height': '70',\n",
       "  'Materials': 'бумага, акварель'},\n",
       " 'Ямал. Осень на Оби. 2009-100x35': {'Name': 'Ямал. Осень на Оби. 2009',\n",
       "  'File': [('Ямал_Осень на Оби_2009_Бум_акв_35х100 (1).webp',\n",
       "    'yamal_osen-na-obi_2009_bum_akv_100x35_1.webp'),\n",
       "   ('Ямал_Осень на Оби_2009_Бум_акв_35х100 (2).webp',\n",
       "    'yamal_osen-na-obi_2009_bum_akv_100x35_2.webp')],\n",
       "  'Year': '2009',\n",
       "  'Width': '100',\n",
       "  'Height': '35',\n",
       "  'Materials': 'бумага, акварель'},\n",
       " 'Архыз. Софийские водопады. 2023-39x26': {'Name': 'Архыз. Софийские водопады. 2023',\n",
       "  'File': [('Архыз_Софийские водопады_2023_Бум_акв_26х39 (1).webp',\n",
       "    'arkhyz_sofiyskie-vodopady_2023_bum_akv_39x26_1.webp'),\n",
       "   ('Архыз_Софийские водопады_2023_Бум_акв_26х39 (2).webp',\n",
       "    'arkhyz_sofiyskie-vodopady_2023_bum_akv_39x26_2.webp')],\n",
       "  'Year': '2023',\n",
       "  'Width': '39',\n",
       "  'Height': '26',\n",
       "  'Materials': 'бумага, акварель'},\n",
       " 'Нарьян Мар. Песчаная тундра. 2013-75x56': {'Name': 'Нарьян Мар. Песчаная тундра. 2013',\n",
       "  'File': [('Нарьян Мар. Песчаная тундра_2013_Бум_акв_56х75 (1).webp',\n",
       "    'naryan-mar_peschanaya-tundra_2013_bum_akv_75x56_1.webp')],\n",
       "  'Year': '2013',\n",
       "  'Width': '75',\n",
       "  'Height': '56',\n",
       "  'Materials': 'бумага, акварель'},\n",
       " 'Камни и море. 2019-60x40': {'Name': 'Камни и море. 2019',\n",
       "  'File': [('Камни и море_2019_Бум_акв_40х60 (2).webp',\n",
       "    'kamni-i-more_2019_bum_akv_60x40_2.webp'),\n",
       "   ('Камни и море_2019_Бум_акв_40х60 (1).webp',\n",
       "    'kamni-i-more_2019_bum_akv_60x40_1.webp')],\n",
       "  'Year': '2019',\n",
       "  'Width': '60',\n",
       "  'Height': '40',\n",
       "  'Materials': 'бумага, акварель'},\n",
       " 'Полярный Урал. Ямал. Снежные вершины. 2022-46x35': {'Name': 'Полярный Урал. Ямал. Снежные вершины. 2022',\n",
       "  'File': [('Полярный Урал_Ямал_Снежные вершины_2022_Бум_акв_35х46 (2).webp',\n",
       "    'polyarnyy-ural_yamal_snezhnye-vershiny_2022_bum_akv_46x35_2.webp'),\n",
       "   ('Полярный Урал_Ямал_Снежные вершины_2022_Бум_акв_35х46 (1).webp',\n",
       "    'polyarnyy-ural_yamal_snezhnye-vershiny_2022_bum_akv_46x35_1.webp')],\n",
       "  'Year': '2022',\n",
       "  'Width': '46',\n",
       "  'Height': '35',\n",
       "  'Materials': 'бумага, акварель'},\n",
       " 'Осень в парке. 2023-40x25': {'Name': 'Осень в парке. 2023',\n",
       "  'File': [('Осень в парке_2023_Бум_акв_25х40 (1).webp',\n",
       "    'osen-v-parke_2023_bum_akv_40x25_1.webp'),\n",
       "   ('Осень в парке_2023_Бум_акв_25х40 (2).webp',\n",
       "    'osen-v-parke_2023_bum_akv_40x25_2.webp')],\n",
       "  'Year': '2023',\n",
       "  'Width': '40',\n",
       "  'Height': '25',\n",
       "  'Materials': 'бумага, акварель'},\n",
       " 'Полярный Урал. Гора Сфинкс. 2012-100x70': {'Name': 'Полярный Урал. Гора Сфинкс. 2012',\n",
       "  'File': [('Полярный Урал_Гора Сфинкс_2012_Бум_акв_70х100 (2).webp',\n",
       "    'polyarnyy-ural_gora-sfinks_2012_bum_akv_100x70_2.webp'),\n",
       "   ('Полярный Урал_Гора Сфинкс_2012_Бум_акв_70х100 (1).webp',\n",
       "    'polyarnyy-ural_gora-sfinks_2012_bum_akv_100x70_1.webp')],\n",
       "  'Year': '2012',\n",
       "  'Width': '100',\n",
       "  'Height': '70',\n",
       "  'Materials': 'бумага, акварель'},\n",
       " 'Облака над Полярныи Уралом. 2010-100x70': {'Name': 'Облака над Полярныи Уралом. 2010',\n",
       "  'File': [('Облака над Полярныи Уралом_2010_Бум_акв_70х100 (2).webp',\n",
       "    'oblaka-nad-polyarnyi-uralom_2010_bum_akv_100x70_2.webp'),\n",
       "   ('Облака над Полярныи Уралом_2010_Бум_акв_70х100 (1).webp',\n",
       "    'oblaka-nad-polyarnyi-uralom_2010_bum_akv_100x70_1.webp')],\n",
       "  'Year': '2010',\n",
       "  'Width': '100',\n",
       "  'Height': '70',\n",
       "  'Materials': 'бумага, акварель'},\n",
       " 'Полярный Урал. Снежные вершины. 2015-270x100': {'Name': 'Полярный Урал. Снежные вершины. 2015',\n",
       "  'File': [('Полярный Урал_Снежные вершины_2015_Бум_акв_100х270 (2).webp',\n",
       "    'polyarnyy-ural_snezhnye-vershiny_2015_bum_akv_270x100_2.webp'),\n",
       "   ('Полярный Урал_Снежные вершины_2015_Бум_акв_100х270 (1).webp',\n",
       "    'polyarnyy-ural_snezhnye-vershiny_2015_bum_akv_270x100_1.webp'),\n",
       "   ('Полярный Урал_Снежные вершины_2015_Бум_акв_100х270 (3).webp',\n",
       "    'polyarnyy-ural_snezhnye-vershiny_2015_bum_akv_270x100_3.webp')],\n",
       "  'Year': '2015',\n",
       "  'Width': '270',\n",
       "  'Height': '100',\n",
       "  'Materials': 'бумага, акварель'},\n",
       " 'Ямал. Сентябрь. 2008-100x52': {'Name': 'Ямал. Сентябрь. 2008',\n",
       "  'File': [('Ямал_Сентябрь_2008_Бум_акв_52х100 (2).webp',\n",
       "    'yamal_sentyabr_2008_bum_akv_100x52_2.webp'),\n",
       "   ('Ямал_Сентябрь_2008_Бум_акв_52х100 (3).webp',\n",
       "    'yamal_sentyabr_2008_bum_akv_100x52_3.webp'),\n",
       "   ('Ямал_Сентябрь_2008_Бум_акв_52х100 (1).webp',\n",
       "    'yamal_sentyabr_2008_bum_akv_100x52_1.webp')],\n",
       "  'Year': '2008',\n",
       "  'Width': '100',\n",
       "  'Height': '52',\n",
       "  'Materials': 'бумага, акварель'},\n",
       " 'Водопад. Две сестры. Полярный Урал. 2015-100x70': {'Name': 'Водопад. Две сестры. Полярный Урал. 2015',\n",
       "  'File': [('Водопад_Две сестры_Полярный Урал_2015_Бум_акв_70х100 (2).webp',\n",
       "    'vodopad_dve-sestry_polyarnyy-ural_2015_bum_akv_100x70_2.webp'),\n",
       "   ('Водопад_Две сестры_Полярный Урал_2015_Бум_акв_70х100 (1).webp',\n",
       "    'vodopad_dve-sestry_polyarnyy-ural_2015_bum_akv_100x70_1.webp')],\n",
       "  'Year': '2015',\n",
       "  'Width': '100',\n",
       "  'Height': '70',\n",
       "  'Materials': 'бумага, акварель'},\n",
       " 'Золотая осень на Полярном Урале. 2021-50x20': {'Name': 'Золотая осень на Полярном Урале. 2021',\n",
       "  'File': [('Золотая осень на Полярном Урале_2021_Бум_акв_20х50 (2).webp',\n",
       "    'zolotaya-osen-na-polyarnom-urale_2021_bum_akv_50x20_2.webp'),\n",
       "   ('Золотая осень на Полярном Урале_2021_Бум_акв_20х50 (1).webp',\n",
       "    'zolotaya-osen-na-polyarnom-urale_2021_bum_akv_50x20_1.webp')],\n",
       "  'Year': '2021',\n",
       "  'Width': '50',\n",
       "  'Height': '20',\n",
       "  'Materials': 'бумага, акварель'},\n",
       " 'Капли дождя. 2010-70x50': {'Name': 'Капли дождя. 2010',\n",
       "  'File': [('Капли дождя_2010_Бум_акв_50х70 (3).webp',\n",
       "    'kapli-dozhdya_2010_bum_akv_70x50_3.webp'),\n",
       "   ('Капли дождя_2010_Бум_акв_50х70 (1).webp',\n",
       "    'kapli-dozhdya_2010_bum_akv_70x50_1.webp'),\n",
       "   ('Капли дождя_2010_Бум_акв_50х70 (2).webp',\n",
       "    'kapli-dozhdya_2010_bum_akv_70x50_2.webp')],\n",
       "  'Year': '2010',\n",
       "  'Width': '70',\n",
       "  'Height': '50',\n",
       "  'Materials': 'бумага, акварель'},\n",
       " 'Острова на Белом море. 2007-86x60': {'Name': 'Острова на Белом море. 2007',\n",
       "  'File': [('Острова на Белом море_2007_Бум_акв_ 60х86 (1).webp',\n",
       "    'ostrova-na-belom-more_2007_bum_akv_86x60_1.webp'),\n",
       "   ('Острова на Белом море_2007_Бум_акв_ 60х86 (2).webp',\n",
       "    'ostrova-na-belom-more_2007_bum_akv_86x60_2.webp')],\n",
       "  'Year': '2007',\n",
       "  'Width': '86',\n",
       "  'Height': '60',\n",
       "  'Materials': 'бумага, акварель'},\n",
       " 'Ангара. Иван чай цветет. 2023-70x50': {'Name': 'Ангара. Иван чай цветет. 2023',\n",
       "  'File': [('Ангара_Иван чай цветет_2023_Бум_акв_50х70 (1).webp',\n",
       "    'angara_ivan-chay-tsvetet_2023_bum_akv_70x50_1.webp'),\n",
       "   ('Ангара_Иван чай цветет_2023_Бум_акв_50х70 (2).webp',\n",
       "    'angara_ivan-chay-tsvetet_2023_bum_akv_70x50_2.webp'),\n",
       "   ('Ангара_Иван чай цветет_2023_Бум_акв_50х70 (3).webp',\n",
       "    'angara_ivan-chay-tsvetet_2023_bum_akv_70x50_3.webp')],\n",
       "  'Year': '2023',\n",
       "  'Width': '70',\n",
       "  'Height': '50',\n",
       "  'Materials': 'бумага, акварель'},\n",
       " 'Полярный Урал. Озеро Макар-Рузь. 2015-340x100': {'Name': 'Полярный Урал. Озеро Макар-Рузь. 2015',\n",
       "  'File': [('Полярный Урал_Озеро Макар-Рузь_2015_Бум_акв_100х340 (2).webp',\n",
       "    'polyarnyy-ural_ozero-makar-ruz_2015_bum_akv_340x100_2.webp'),\n",
       "   ('Полярный Урал_Озеро Макар-Рузь_2015_Бум_акв_100х340 (4).webp',\n",
       "    'polyarnyy-ural_ozero-makar-ruz_2015_bum_akv_340x100_4.webp'),\n",
       "   ('Полярный Урал_Озеро Макар-Рузь_2015_Бум_акв_100х340 (3).webp',\n",
       "    'polyarnyy-ural_ozero-makar-ruz_2015_bum_akv_340x100_3.webp'),\n",
       "   ('Полярный Урал_Озеро Макар-Рузь_2015_Бум_акв_100х340 (1).webp',\n",
       "    'polyarnyy-ural_ozero-makar-ruz_2015_bum_akv_340x100_1.webp')],\n",
       "  'Year': '2015',\n",
       "  'Width': '340',\n",
       "  'Height': '100',\n",
       "  'Materials': 'бумага, акварель'},\n",
       " 'Осень. На лесной поляне. 2023-70x50': {'Name': 'Осень. На лесной поляне. 2023',\n",
       "  'File': [('Осень. На лесной поляне_2023_Бум_акв_50х70 (2).webp',\n",
       "    'osen_na-lesnoy-polyane_2023_bum_akv_70x50_2.webp'),\n",
       "   ('Осень. На лесной поляне_2023_Бум_акв_50х70 (1).webp',\n",
       "    'osen_na-lesnoy-polyane_2023_bum_akv_70x50_1.webp'),\n",
       "   ('Осень_На лесной поляне_2023_Бум_акв_50х70 (2).webp',\n",
       "    'osen_na-lesnoy-polyane_2023_bum_akv_70x50_2.webp')],\n",
       "  'Year': '2023',\n",
       "  'Width': '70',\n",
       "  'Height': '50',\n",
       "  'Materials': 'бумага, акварель'},\n",
       " 'Ямал. Золотая осень. 2009-100x70': {'Name': 'Ямал. Золотая осень. 2009',\n",
       "  'File': [('Ямал_Золотая осень_2009_Бум_акв_70х100 (3).webp',\n",
       "    'yamal_zolotaya-osen_2009_bum_akv_100x70_3.webp'),\n",
       "   ('Ямал_Золотая осень_2009_Бум_акв_70х100 (1).webp',\n",
       "    'yamal_zolotaya-osen_2009_bum_akv_100x70_1.webp'),\n",
       "   ('Ямал_Золотая осень_2009_Бум_акв_70х100 (2).webp',\n",
       "    'yamal_zolotaya-osen_2009_bum_akv_100x70_2.webp')],\n",
       "  'Year': '2009',\n",
       "  'Width': '100',\n",
       "  'Height': '70',\n",
       "  'Materials': 'бумага, акварель'},\n",
       " 'Ямал. Иванчай отцвёл. 2009-100x70': {'Name': 'Ямал. Иванчай отцвёл. 2009',\n",
       "  'File': [('Ямал_Иванчай отцвёл_2009_Бум_акв_70х100 (2).webp',\n",
       "    'yamal_ivanchay-ottsvyol_2009_bum_akv_100x70_2.webp'),\n",
       "   ('Ямал_Иванчай отцвёл_2009_Бум_акв_70х100 (1).webp',\n",
       "    'yamal_ivanchay-ottsvyol_2009_bum_akv_100x70_1.webp'),\n",
       "   ('Ямал_Иванчай отцвёл_2009_Бум_акв_70х100 (3).webp',\n",
       "    'yamal_ivanchay-ottsvyol_2009_bum_akv_100x70_3.webp')],\n",
       "  'Year': '2009',\n",
       "  'Width': '100',\n",
       "  'Height': '70',\n",
       "  'Materials': 'бумага, акварель'},\n",
       " 'Полярный Урал. Горное озеро. 2012-100x70': {'Name': 'Полярный Урал. Горное озеро. 2012',\n",
       "  'File': [('Полярный Урал_Горное озеро_2012_Бум_акв_70х100 (2).webp',\n",
       "    'polyarnyy-ural_gornoe-ozero_2012_bum_akv_100x70_2.webp'),\n",
       "   ('Полярный Урал_Горное озеро_2012_Бум_акв_70х100 (1).webp',\n",
       "    'polyarnyy-ural_gornoe-ozero_2012_bum_akv_100x70_1.webp')],\n",
       "  'Year': '2012',\n",
       "  'Width': '100',\n",
       "  'Height': '70',\n",
       "  'Materials': 'бумага, акварель'},\n",
       " 'Шторм на Белом море. 2006-70x50': {'Name': 'Шторм на Белом море. 2006',\n",
       "  'File': [('Шторм на Белом море_2006_Бум_акв_50х70 (2).webp',\n",
       "    'shtorm-na-belom-more_2006_bum_akv_70x50_2.webp'),\n",
       "   ('Шторм на Белом море_2006_Бум_акв_50х70 (1).webp',\n",
       "    'shtorm-na-belom-more_2006_bum_akv_70x50_1.webp')],\n",
       "  'Year': '2006',\n",
       "  'Width': '70',\n",
       "  'Height': '50',\n",
       "  'Materials': 'бумага, акварель'},\n",
       " 'Диптих. Полярный Урал. Долина реки Собь. левый. 2012-100x70': {'Name': 'Диптих. Полярный Урал. Долина реки Собь. левый. 2012',\n",
       "  'File': [('Диптих_Полярный Урал_Долина реки Собь_левый_2012_Бум_акв_70х100 (2).webp',\n",
       "    'diptikh_polyarnyy-ural_dolina-reki-sob_levyy_2012_bum_akv_100x70_2.webp'),\n",
       "   ('Диптих_Полярный Урал_Долина реки Собь_левый_2012_Бум_акв_70х100 (1).webp',\n",
       "    'diptikh_polyarnyy-ural_dolina-reki-sob_levyy_2012_bum_akv_100x70_1.webp')],\n",
       "  'Year': '2012',\n",
       "  'Width': '100',\n",
       "  'Height': '70',\n",
       "  'Materials': 'бумага, акварель'},\n",
       " 'Август на Ямале. 2009-86x61': {'Name': 'Август на Ямале. 2009',\n",
       "  'File': [('Август на Ямале_2009_Бум_акв_61х86 (1).webp',\n",
       "    'avgust-na-yamale_2009_bum_akv_86x61_1.webp'),\n",
       "   ('Август на Ямале_2009_Бум_акв_61х86 (3).webp',\n",
       "    'avgust-na-yamale_2009_bum_akv_86x61_3.webp'),\n",
       "   ('Август на Ямале_2009_Бум_акв_61х86 (2).webp',\n",
       "    'avgust-na-yamale_2009_bum_akv_86x61_2.webp')],\n",
       "  'Year': '2009',\n",
       "  'Width': '86',\n",
       "  'Height': '61',\n",
       "  'Materials': 'бумага, акварель'},\n",
       " 'Норвегия. Лофотенские острова. 2010-100x70': {'Name': 'Норвегия. Лофотенские острова. 2010',\n",
       "  'File': [('Норвегия_Лофотенские острова_2010_Бум_акв_70х100 (2).webp',\n",
       "    'norvegiya_lofotenskie-ostrova_2010_bum_akv_100x70_2.webp'),\n",
       "   ('Норвегия_Лофотенские острова_2010_Бум_акв_70х100 (1).webp',\n",
       "    'norvegiya_lofotenskie-ostrova_2010_bum_akv_100x70_1.webp')],\n",
       "  'Year': '2010',\n",
       "  'Width': '100',\n",
       "  'Height': '70',\n",
       "  'Materials': 'бумага, акварель'},\n",
       " 'Архипелаг. Кузова. на Белом море. 2006-86x35': {'Name': 'Архипелаг. Кузова. на Белом море. 2006',\n",
       "  'File': [('Архипелаг_Кузова_на Белом море_2006_Бум_акв_35х86 (2).webp',\n",
       "    'arkhipelag_kuzova_na-belom-more_2006_bum_akv_86x35_2.webp'),\n",
       "   ('Архипелаг_Кузова_на Белом море_2006_Бум_акв_35х86 (1).webp',\n",
       "    'arkhipelag_kuzova_na-belom-more_2006_bum_akv_86x35_1.webp')],\n",
       "  'Year': '2006',\n",
       "  'Width': '86',\n",
       "  'Height': '35',\n",
       "  'Materials': 'бумага, акварель'},\n",
       " 'Полярный Урал. Гора Рай Из. 2010-100x70': {'Name': 'Полярный Урал. Гора Рай Из. 2010',\n",
       "  'File': [('Полярный Урал. Гора Рай Из_2010_Бум_акв_70х100 (1).webp',\n",
       "    'polyarnyy-ural_gora-ray-iz_2010_bum_akv_100x70_1.webp'),\n",
       "   ('Полярный Урал. Гора Рай Из_2010_Бум_акв_70х100 (2).webp',\n",
       "    'polyarnyy-ural_gora-ray-iz_2010_bum_akv_100x70_2.webp'),\n",
       "   ('Полярный Урал. Гора Рай Из_2010_Бум_акв_70х100 (3).webp',\n",
       "    'polyarnyy-ural_gora-ray-iz_2010_bum_akv_100x70_3.webp')],\n",
       "  'Year': '2010',\n",
       "  'Width': '100',\n",
       "  'Height': '70',\n",
       "  'Materials': 'бумага, акварель'},\n",
       " 'Водопады на горе Рай Из. 2013-100x70': {'Name': 'Водопады на горе Рай Из. 2013',\n",
       "  'File': [('Водопады на горе Рай Из_2013_Бум_акв_70х100 (1).webp',\n",
       "    'vodopady-na-gore-ray-iz_2013_bum_akv_100x70_1.webp'),\n",
       "   ('Водопады на горе Рай Из_2013_Бум_акв_70х100 (3).webp',\n",
       "    'vodopady-na-gore-ray-iz_2013_bum_akv_100x70_3.webp'),\n",
       "   ('Водопады на горе Рай Из_2013_Бум_акв_70х100 (2).webp',\n",
       "    'vodopady-na-gore-ray-iz_2013_bum_akv_100x70_2.webp')],\n",
       "  'Year': '2013',\n",
       "  'Width': '100',\n",
       "  'Height': '70',\n",
       "  'Materials': 'бумага, акварель'},\n",
       " 'Седой Великан Урала. 2018-100x70': {'Name': 'Седой Великан Урала. 2018',\n",
       "  'File': [('Седой Великан Урала_2018_Бум_ акв_70х100 (1).webp',\n",
       "    'sedoy-velikan-urala_2018_bum_akv_100x70_1.webp'),\n",
       "   ('Седой Великан Урала_2018_Бум_ акв_70х100 (2).webp',\n",
       "    'sedoy-velikan-urala_2018_bum_akv_100x70_2.webp')],\n",
       "  'Year': '2018',\n",
       "  'Width': '100',\n",
       "  'Height': '70',\n",
       "  'Materials': 'бумага, акварель'},\n",
       " 'Зима на Рай Из. 2023-40x23': {'Name': 'Зима на Рай Из. 2023',\n",
       "  'File': [('Зима на Рай Из_2023_Бум_акв_23х40 (2).webp',\n",
       "    'zima-na-ray-iz_2023_bum_akv_40x23_2.webp'),\n",
       "   ('Зима на Рай Из_2023_Бум_акв_23х40 (1).webp',\n",
       "    'zima-na-ray-iz_2023_bum_akv_40x23_1.webp')],\n",
       "  'Year': '2023',\n",
       "  'Width': '40',\n",
       "  'Height': '23',\n",
       "  'Materials': 'бумага, акварель'},\n",
       " 'Берега озера Хадата. 2018-100x70': {'Name': 'Берега озера Хадата. 2018',\n",
       "  'File': [('Берега озера Хадата_2018_Бум_акв_70х100 (3).webp',\n",
       "    'berega-ozera-khadata_2018_bum_akv_100x70_3.webp'),\n",
       "   ('Берега озера Хадата_2018_Бум_акв_70х100 (2).webp',\n",
       "    'berega-ozera-khadata_2018_bum_akv_100x70_2.webp'),\n",
       "   ('Берега озера Хадата_2018_Бум_акв_70х100 (1).webp',\n",
       "    'berega-ozera-khadata_2018_bum_akv_100x70_1.webp')],\n",
       "  'Year': '2018',\n",
       "  'Width': '100',\n",
       "  'Height': '70',\n",
       "  'Materials': 'бумага, акварель'},\n",
       " 'Ямал. Золотая осень. 2021-50x20': {'Name': 'Ямал. Золотая осень. 2021',\n",
       "  'File': [('Ямал_Золотая осень_2021_Бум_акв_20х50 (1).webp',\n",
       "    'yamal_zolotaya-osen_2021_bum_akv_50x20_1.webp'),\n",
       "   ('Ямал_Золотая осень_2021_Бум_акв_20х50 (2).webp',\n",
       "    'yamal_zolotaya-osen_2021_bum_akv_50x20_2.webp')],\n",
       "  'Year': '2021',\n",
       "  'Width': '50',\n",
       "  'Height': '20',\n",
       "  'Materials': 'бумага, акварель'},\n",
       " 'Архыз. Солнечный день. 2023-40x23': {'Name': 'Архыз. Солнечный день. 2023',\n",
       "  'File': [('Архыз_Солнечный день_2023_Бум_акв_23х40 (1).webp',\n",
       "    'arkhyz_solnechnyy-den_2023_bum_akv_40x23_1.webp'),\n",
       "   ('Архыз_Солнечный день_2023_Бум_акв_23х40 (3).webp',\n",
       "    'arkhyz_solnechnyy-den_2023_bum_akv_40x23_3.webp'),\n",
       "   ('Архыз_Солнечный день_2023_Бум_акв_23х40 (2).webp',\n",
       "    'arkhyz_solnechnyy-den_2023_bum_akv_40x23_2.webp')],\n",
       "  'Year': '2023',\n",
       "  'Width': '40',\n",
       "  'Height': '23',\n",
       "  'Materials': 'бумага, акварель'},\n",
       " 'Ямал. Осень на реке Собь. 2007-86x60': {'Name': 'Ямал. Осень на реке Собь. 2007',\n",
       "  'File': [('Ямал_Осень на реке Собь_2007_Бум_акв_60х86 (2).webp',\n",
       "    'yamal_osen-na-reke-sob_2007_bum_akv_86x60_2.webp'),\n",
       "   ('Ямал_Осень на реке Собь_2007_Бум_акв_60х86 (1).webp',\n",
       "    'yamal_osen-na-reke-sob_2007_bum_akv_86x60_1.webp')],\n",
       "  'Year': '2007',\n",
       "  'Width': '86',\n",
       "  'Height': '60',\n",
       "  'Materials': 'бумага, акварель'},\n",
       " 'Осеннее утро. Ямал. 2009-70x50': {'Name': 'Осеннее утро. Ямал. 2009',\n",
       "  'File': [('Осеннее утро. Ямал_2009_Бум_акв_50х70 (2).webp',\n",
       "    'osennee-utro_yamal_2009_bum_akv_70x50_2.webp'),\n",
       "   ('Осеннее утро. Ямал_2009_Бум_акв_50х70 (3).webp',\n",
       "    'osennee-utro_yamal_2009_bum_akv_70x50_3.webp'),\n",
       "   ('Осеннее утро. Ямал_2009_Бум_акв_50х70 (1).webp',\n",
       "    'osennee-utro_yamal_2009_bum_akv_70x50_1.webp')],\n",
       "  'Year': '2009',\n",
       "  'Width': '70',\n",
       "  'Height': '50',\n",
       "  'Materials': 'бумага, акварель'},\n",
       " 'Белая ночь на Белом море. 2007-86x60': {'Name': 'Белая ночь на Белом море. 2007',\n",
       "  'File': [('Белая ночь на Белом море_2007_Бум_акв_60х86 (2).webp',\n",
       "    'belaya-noch-na-belom-more_2007_bum_akv_86x60_2.webp'),\n",
       "   ('Белая ночь на Белом море_2007_Бум_акв_60х86 (1).webp',\n",
       "    'belaya-noch-na-belom-more_2007_bum_akv_86x60_1.webp')],\n",
       "  'Year': '2007',\n",
       "  'Width': '86',\n",
       "  'Height': '60',\n",
       "  'Materials': 'бумага, акварель'},\n",
       " 'Полярный Урал. Гора Рай Из. 2023-170x100': {'Name': 'Полярный Урал. Гора Рай Из. 2023',\n",
       "  'File': [('Полярный Урал_Гора Рай Из_2023_Бум_акв_100х170 (5).webp',\n",
       "    'polyarnyy-ural_gora-ray-iz_2023_bum_akv_170x100_5.webp'),\n",
       "   ('Полярный Урал_Гора Рай Из_2023_Бум_акв_100х170 (1).webp',\n",
       "    'polyarnyy-ural_gora-ray-iz_2023_bum_akv_170x100_1.webp'),\n",
       "   ('Полярный Урал_Гора Рай Из_2023_Бум_акв_100х170 (4).webp',\n",
       "    'polyarnyy-ural_gora-ray-iz_2023_bum_akv_170x100_4.webp'),\n",
       "   ('Полярный Урал_Гора Рай Из_2023_Бум_акв_100х170 (2).webp',\n",
       "    'polyarnyy-ural_gora-ray-iz_2023_bum_akv_170x100_2.webp'),\n",
       "   ('Полярный Урал_Гора Рай Из_2023_Бум_акв_100х170 (3).webp',\n",
       "    'polyarnyy-ural_gora-ray-iz_2023_bum_akv_170x100_3.webp')],\n",
       "  'Year': '2023',\n",
       "  'Width': '170',\n",
       "  'Height': '100',\n",
       "  'Materials': 'бумага, акварель'},\n",
       " 'Диптих. Полярный Урал. Долина реки Собь. правый. 2012-100x70': {'Name': 'Диптих. Полярный Урал. Долина реки Собь. правый. 2012',\n",
       "  'File': [('Диптих_Полярный Урал_Долина реки Собь_правый_2012_Бум_акв_70х100 (2).webp',\n",
       "    'diptikh_polyarnyy-ural_dolina-reki-sob_pravyy_2012_bum_akv_100x70_2.webp'),\n",
       "   ('Диптих_Полярный Урал_Долина реки Собь_правый_2012_Бум_акв_70х100 (3).webp',\n",
       "    'diptikh_polyarnyy-ural_dolina-reki-sob_pravyy_2012_bum_akv_100x70_3.webp'),\n",
       "   ('Диптих_Полярный Урал_Долина реки Собь_правый_2012_Бум_акв_70х100 (1).webp',\n",
       "    'diptikh_polyarnyy-ural_dolina-reki-sob_pravyy_2012_bum_akv_100x70_1.webp')],\n",
       "  'Year': '2012',\n",
       "  'Width': '100',\n",
       "  'Height': '70',\n",
       "  'Materials': 'бумага, акварель'},\n",
       " 'Тундра. 2006-85x61': {'Name': 'Тундра. 2006',\n",
       "  'File': [('Тундра_2006_Бум_акв_61х85 (2).webp',\n",
       "    'tundra_2006_bum_akv_85x61_2.webp'),\n",
       "   ('Тундра_2006_Бум_акв_61х85 (1).webp', 'tundra_2006_bum_akv_85x61_1.webp')],\n",
       "  'Year': '2006',\n",
       "  'Width': '85',\n",
       "  'Height': '61',\n",
       "  'Materials': 'бумага, акварель'},\n",
       " 'Мираж над Белым морем мороз дорисовал. 2006-86x61': {'Name': 'Мираж над Белым морем мороз дорисовал. 2006',\n",
       "  'File': [('Мираж над Белым морем мороз дорисовал_2006_Бум_акв_61х86 (2).webp',\n",
       "    'mirazh-nad-belym-morem-moroz-dorisoval_2006_bum_akv_86x61_2.webp'),\n",
       "   ('Мираж над Белым морем мороз дорисовал_2006_Бум_акв_61х86 (1).webp',\n",
       "    'mirazh-nad-belym-morem-moroz-dorisoval_2006_bum_akv_86x61_1.webp')],\n",
       "  'Year': '2006',\n",
       "  'Width': '86',\n",
       "  'Height': '61',\n",
       "  'Materials': 'бумага, акварель'},\n",
       " 'Полярный Урал. Изумрудное озеро. 2015-100x70': {'Name': 'Полярный Урал. Изумрудное озеро. 2015',\n",
       "  'File': [('Полярный Урал_Изумрудное озеро_ 2015_Бум_акв_70х100 (2).webp',\n",
       "    'polyarnyy-ural_izumrudnoe-ozero_2015_bum_akv_100x70_2.webp'),\n",
       "   ('Полярный Урал_Изумрудное озеро_ 2015_Бум_акв_70х100 (1).webp',\n",
       "    'polyarnyy-ural_izumrudnoe-ozero_2015_bum_akv_100x70_1.webp')],\n",
       "  'Year': '2015',\n",
       "  'Width': '100',\n",
       "  'Height': '70',\n",
       "  'Materials': 'бумага, акварель'},\n",
       " 'Заполярный Урал. Щучье озеро. 2012-100x50': {'Name': 'Заполярный Урал. Щучье озеро. 2012',\n",
       "  'File': [('Заполярный Урал_Щучье озеро_2012_Бум_акв_50х100 (1).webp',\n",
       "    'zapolyarnyy-ural_shchuche-ozero_2012_bum_akv_100x50_1.webp'),\n",
       "   ('Заполярный Урал_Щучье озеро_2012_Бум_акв_50х100 (2).webp',\n",
       "    'zapolyarnyy-ural_shchuche-ozero_2012_bum_akv_100x50_2.webp')],\n",
       "  'Year': '2012',\n",
       "  'Width': '100',\n",
       "  'Height': '50',\n",
       "  'Materials': 'бумага, акварель'},\n",
       " 'Тундра. 2009-86x61': {'Name': 'Тундра. 2009',\n",
       "  'File': [('Тундра_2009_Бум_акв_61х86 (2).webp',\n",
       "    'tundra_2009_bum_akv_86x61_2.webp'),\n",
       "   ('Тундра_2009_Бум_акв_61х86 (1).webp', 'tundra_2009_bum_akv_86x61_1.webp')],\n",
       "  'Year': '2009',\n",
       "  'Width': '86',\n",
       "  'Height': '61',\n",
       "  'Materials': 'бумага, акварель'},\n",
       " 'Заросшее озеро. Ямал. 2006-86x60': {'Name': 'Заросшее озеро. Ямал. 2006',\n",
       "  'File': [('Заросшее озеро_Ямал_2006_Бум_акв_60х86 (1).webp',\n",
       "    'zarosshee-ozero_yamal_2006_bum_akv_86x60_1.webp'),\n",
       "   ('Заросшее озеро_Ямал_2006_Бум_акв_60х86 (2).webp',\n",
       "    'zarosshee-ozero_yamal_2006_bum_akv_86x60_2.webp')],\n",
       "  'Year': '2006',\n",
       "  'Width': '86',\n",
       "  'Height': '60',\n",
       "  'Materials': 'бумага, акварель'},\n",
       " 'Полярный Урал. Розовое зимнее утро. 2023-100x50': {'Name': 'Полярный Урал. Розовое зимнее утро. 2023',\n",
       "  'File': [('Полярный Урал_Розовое зимнее утро_2023_Бум_акв_50х100 (2).webp',\n",
       "    'polyarnyy-ural_rozovoe-zimnee-utro_2023_bum_akv_100x50_2.webp'),\n",
       "   ('Полярный Урал_Розовое зимнее утро_2023_Бум_акв_50х100 (1).webp',\n",
       "    'polyarnyy-ural_rozovoe-zimnee-utro_2023_bum_akv_100x50_1.webp')],\n",
       "  'Year': '2023',\n",
       "  'Width': '100',\n",
       "  'Height': '50',\n",
       "  'Materials': 'бумага, акварель'},\n",
       " 'Диптих. На просторах устья реки Обь.  Ямал. левый. 2012-100x70': {'Name': 'Диптих. На просторах устья реки Обь.  Ямал. левый. 2012',\n",
       "  'File': [('Диптих_На просторах устья реки Обь_ Ямал_левый_2012_Бум_акв_70х100 (1).webp',\n",
       "    'diptikh_na-prostorakh-ustya-reki-ob-yamal_levyy_2012_bum_akv_100x70_1.webp'),\n",
       "   ('Диптих_На просторах устья реки Обь_ Ямал_левый_2012_Бум_акв_70х100 (2).webp',\n",
       "    'diptikh_na-prostorakh-ustya-reki-ob-yamal_levyy_2012_bum_akv_100x70_2.webp'),\n",
       "   ('Диптих_На просторах устья реки Обь_ Ямал_левый_2012_Бум_акв_70х100 (3).webp',\n",
       "    'diptikh_na-prostorakh-ustya-reki-ob-yamal_levyy_2012_bum_akv_100x70_3.webp')],\n",
       "  'Year': '2012',\n",
       "  'Width': '100',\n",
       "  'Height': '70',\n",
       "  'Materials': 'бумага, акварель'},\n",
       " 'Ямал. Морозный день. 2023-40x25': {'Name': 'Ямал. Морозный день. 2023',\n",
       "  'File': [('Ямал_Морозный день_2023_Бум_акв_25х40 (2).webp',\n",
       "    'yamal_moroznyy-den_2023_bum_akv_40x25_2.webp'),\n",
       "   ('Ямал_Морозный день_2023_Бум_акв_25х40 (1).webp',\n",
       "    'yamal_moroznyy-den_2023_bum_akv_40x25_1.webp')],\n",
       "  'Year': '2023',\n",
       "  'Width': '40',\n",
       "  'Height': '25',\n",
       "  'Materials': 'бумага, акварель'},\n",
       " 'Ямал. Осенняя тундра. 2009-100x70': {'Name': 'Ямал. Осенняя тундра. 2009',\n",
       "  'File': [('Ямал_Осенняя тундра_2009_Бум_акв_70х100 (3).webp',\n",
       "    'yamal_osennyaya-tundra_2009_bum_akv_100x70_3.webp'),\n",
       "   ('Ямал_Осенняя тундра_2009_Бум_акв_70х100 (1).webp',\n",
       "    'yamal_osennyaya-tundra_2009_bum_akv_100x70_1.webp'),\n",
       "   ('Ямал_Осенняя тундра_2009_Бум_акв_70х100 (2).webp',\n",
       "    'yamal_osennyaya-tundra_2009_bum_akv_100x70_2.webp')],\n",
       "  'Year': '2009',\n",
       "  'Width': '100',\n",
       "  'Height': '70',\n",
       "  'Materials': 'бумага, акварель'},\n",
       " 'Софийский ледник. Архыз. 2023-41x31': {'Name': 'Софийский ледник. Архыз. 2023',\n",
       "  'File': [('Софийский ледник_Архыз_2023_Бум_акв_31х41 (2).webp',\n",
       "    'sofiyskiy-lednik_arkhyz_2023_bum_akv_41x31_2.webp'),\n",
       "   ('Софийский ледник_Архыз_2023_Бум_акв_31х41 (1).webp',\n",
       "    'sofiyskiy-lednik_arkhyz_2023_bum_akv_41x31_1.webp')],\n",
       "  'Year': '2023',\n",
       "  'Width': '41',\n",
       "  'Height': '31',\n",
       "  'Materials': 'бумага, акварель'},\n",
       " 'Тучи надвигаются. 2015-100x70': {'Name': 'Тучи надвигаются. 2015',\n",
       "  'File': [('Тучи надвигаются_2015_Бум_акв_70х100 (1).webp',\n",
       "    'tuchi-nadvigayutsya_2015_bum_akv_100x70_1.webp'),\n",
       "   ('Тучи надвигаются_2015_Бум_акв_70х100 (2).webp',\n",
       "    'tuchi-nadvigayutsya_2015_bum_akv_100x70_2.webp')],\n",
       "  'Year': '2015',\n",
       "  'Width': '100',\n",
       "  'Height': '70',\n",
       "  'Materials': 'бумага, акварель'},\n",
       " 'Ямал. Дельта реки Обь. 2009-100x35': {'Name': 'Ямал. Дельта реки Обь. 2009',\n",
       "  'File': [('Ямал_Дельта реки Обь_2009_Бум_акв_35х100 (2).webp',\n",
       "    'yamal_delta-reki-ob_2009_bum_akv_100x35_2.webp'),\n",
       "   ('Ямал_Дельта реки Обь_2009_Бум_акв_35х100 (1).webp',\n",
       "    'yamal_delta-reki-ob_2009_bum_akv_100x35_1.webp')],\n",
       "  'Year': '2009',\n",
       "  'Width': '100',\n",
       "  'Height': '35',\n",
       "  'Materials': 'бумага, акварель'},\n",
       " 'Заполярный Урал. Щучье озеро. 2018-100x41': {'Name': 'Заполярный Урал. Щучье озеро. 2018',\n",
       "  'File': [('Заполярный Урал_Щучье озеро_2018_Бум_акв_41х100 (2).webp',\n",
       "    'zapolyarnyy-ural_shchuche-ozero_2018_bum_akv_100x41_2.webp'),\n",
       "   ('Заполярный Урал_Щучье озеро_2018_Бум_акв_41х100 (1).webp',\n",
       "    'zapolyarnyy-ural_shchuche-ozero_2018_bum_akv_100x41_1.webp')],\n",
       "  'Year': '2018',\n",
       "  'Width': '100',\n",
       "  'Height': '41',\n",
       "  'Materials': 'бумага, акварель'},\n",
       " 'Заполярный Урал. Озеро Хадата. 2021-70x35': {'Name': 'Заполярный Урал. Озеро Хадата. 2021',\n",
       "  'File': [('Заполярный Урал_Озеро Хадата_2021_Бум_акв_35х70 (1).webp',\n",
       "    'zapolyarnyy-ural_ozero-khadata_2021_bum_akv_70x35_1.webp'),\n",
       "   ('Заполярный Урал_Озеро Хадата_2021_Бум_акв_35х70 (2).webp',\n",
       "    'zapolyarnyy-ural_ozero-khadata_2021_bum_akv_70x35_2.webp')],\n",
       "  'Year': '2021',\n",
       "  'Width': '70',\n",
       "  'Height': '35',\n",
       "  'Materials': 'бумага, акварель'},\n",
       " 'Белая ночь на Белом море. 2008-86x60': {'Name': 'Белая ночь на Белом море. 2008',\n",
       "  'File': [('Белая ночь на Белом море_2008_Бум_акв_60х86 (2).webp',\n",
       "    'belaya-noch-na-belom-more_2008_bum_akv_86x60_2.webp'),\n",
       "   ('Белая ночь на Белом море_2008_Бум_акв_60х86 (1).webp',\n",
       "    'belaya-noch-na-belom-more_2008_bum_akv_86x60_1.webp')],\n",
       "  'Year': '2008',\n",
       "  'Width': '86',\n",
       "  'Height': '60',\n",
       "  'Materials': 'бумага, акварель'},\n",
       " 'Архыз. 2023-100x70': {'Name': 'Архыз. 2023',\n",
       "  'File': [('Архыз_2023_Бум_акв_70х100 (3).webp',\n",
       "    'arkhyz_2023_bum_akv_100x70_3.webp'),\n",
       "   ('Архыз_2023_Бум_акв_70х100 (2).webp', 'arkhyz_2023_bum_akv_100x70_2.webp'),\n",
       "   ('Архыз_2023_Бум_акв_70х100 (1).webp',\n",
       "    'arkhyz_2023_bum_akv_100x70_1.webp')],\n",
       "  'Year': '2023',\n",
       "  'Width': '100',\n",
       "  'Height': '70',\n",
       "  'Materials': 'бумага, акварель'},\n",
       " 'Ямал. Река Кэр Доман-Шор. 2022-67x45': {'Name': 'Ямал. Река Кэр Доман-Шор. 2022',\n",
       "  'File': [('Ямал_Река Кэр Доман-Шор_2022_Бум_акв_45х67 (1).webp',\n",
       "    'yamal_reka-ker-doman-shor_2022_bum_akv_67x45_1.webp'),\n",
       "   ('Ямал_Река Кэр Доман-Шор_2022_Бум_акв_45х67 (2).webp',\n",
       "    'yamal_reka-ker-doman-shor_2022_bum_akv_67x45_2.webp')],\n",
       "  'Year': '2022',\n",
       "  'Width': '67',\n",
       "  'Height': '45',\n",
       "  'Materials': 'бумага, акварель'},\n",
       " 'Водопад на Полярном Урале. 2022-40x50': {'Name': 'Водопад на Полярном Урале. 2022',\n",
       "  'File': [('Водопад на Полярном Урале_2022_Бум_акв_50х40 (1).webp',\n",
       "    'vodopad-na-polyarnom-urale_2022_bum_akv_40x50_1.webp'),\n",
       "   ('Водопад на Полярном Урале_2022_Бум_акв_50х40 (2).webp',\n",
       "    'vodopad-na-polyarnom-urale_2022_bum_akv_40x50_2.webp')],\n",
       "  'Year': '2022',\n",
       "  'Width': '40',\n",
       "  'Height': '50',\n",
       "  'Materials': 'бумага, акварель'},\n",
       " 'Заполярный Урал. Щучье озеро. 2018-39x27': {'Name': 'Заполярный Урал. Щучье озеро. 2018',\n",
       "  'File': [('Заполярный Урал_Щучье озеро_2018_Бум_акв_27х39 (2).webp',\n",
       "    'zapolyarnyy-ural_shchuche-ozero_2018_bum_akv_39x27_2.webp'),\n",
       "   ('Заполярный Урал_Щучье озеро_2018_Бум_акв_27х39 (1).webp',\n",
       "    'zapolyarnyy-ural_shchuche-ozero_2018_bum_akv_39x27_1.webp')],\n",
       "  'Year': '2018',\n",
       "  'Width': '39',\n",
       "  'Height': '27',\n",
       "  'Materials': 'бумага, акварель'},\n",
       " 'Заполярный Урал. Озеро Хадата. 2023-94x34': {'Name': 'Заполярный Урал. Озеро Хадата. 2023',\n",
       "  'File': [('Заполярный Урал_Озеро Хадата_2023_Бум_акв_34х94 (2).webp',\n",
       "    'zapolyarnyy-ural_ozero-khadata_2023_bum_akv_94x34_2.webp'),\n",
       "   ('Заполярный Урал_Озеро Хадата_2023_Бум_акв_34х94 (1).webp',\n",
       "    'zapolyarnyy-ural_ozero-khadata_2023_bum_akv_94x34_1.webp')],\n",
       "  'Year': '2023',\n",
       "  'Width': '94',\n",
       "  'Height': '34',\n",
       "  'Materials': 'бумага, акварель'},\n",
       " 'Нарьян Мар. Река Куя. 2013-75x55': {'Name': 'Нарьян Мар. Река Куя. 2013',\n",
       "  'File': [('Нарьян Мар_Река Куя_2013_Бум_акв_55х75 (3).webp',\n",
       "    'naryan-mar_reka-kuya_2013_bum_akv_75x55_3.webp'),\n",
       "   ('Нарьян Мар_Река Куя_2013_Бум_акв_55х75 (1).webp',\n",
       "    'naryan-mar_reka-kuya_2013_bum_akv_75x55_1.webp'),\n",
       "   ('Нарьян Мар_Река Куя_2013_Бум_акв_55х75 (2).webp',\n",
       "    'naryan-mar_reka-kuya_2013_bum_akv_75x55_2.webp')],\n",
       "  'Year': '2013',\n",
       "  'Width': '75',\n",
       "  'Height': '55',\n",
       "  'Materials': 'бумага, акварель'},\n",
       " 'Ямал. Конец августа. 2008-100x59': {'Name': 'Ямал. Конец августа. 2008',\n",
       "  'File': [('Ямал_Конец августа_2008_Бум_акв_59х100 (1).webp',\n",
       "    'yamal_konets-avgusta_2008_bum_akv_100x59_1.webp'),\n",
       "   ('Ямал_Конец августа_2008_Бум_акв_59х100 (2).webp',\n",
       "    'yamal_konets-avgusta_2008_bum_akv_100x59_2.webp')],\n",
       "  'Year': '2008',\n",
       "  'Width': '100',\n",
       "  'Height': '59',\n",
       "  'Materials': 'бумага, акварель'},\n",
       " 'Нормандия. Ла Манш. 2019-60x40': {'Name': 'Нормандия. Ла Манш. 2019',\n",
       "  'File': [('Нормандия_Ла Манш_2019_Бум_акв_40х60 (2).webp',\n",
       "    'normandiya_la-mansh_2019_bum_akv_60x40_2.webp'),\n",
       "   ('Нормандия_Ла Манш_2019_Бум_акв_40х60 (1).webp',\n",
       "    'normandiya_la-mansh_2019_bum_akv_60x40_1.webp')],\n",
       "  'Year': '2019',\n",
       "  'Width': '60',\n",
       "  'Height': '40',\n",
       "  'Materials': 'бумага, акварель'},\n",
       " 'Горная река. Полярный Урал. 2019-61x46': {'Name': 'Горная река. Полярный Урал. 2019',\n",
       "  'File': [('Горная река_Полярный Урал_2019_Бум_аква_46х61 (1).webp',\n",
       "    'gornaya-reka_polyarnyy-ural_2019_bum_akva_61x46_1.webp'),\n",
       "   ('Горная река_Полярный Урал_2019_Бум_аква_46х61 (2).webp',\n",
       "    'gornaya-reka_polyarnyy-ural_2019_bum_akva_61x46_2.webp')],\n",
       "  'Year': '2019',\n",
       "  'Width': '61',\n",
       "  'Height': '46',\n",
       "  'Materials': 'бумага, '},\n",
       " 'Вёль ле Роз. Отлив. 2019-60x35': {'Name': 'Вёль ле Роз. Отлив. 2019',\n",
       "  'File': [('Вёль ле Роз_Отлив_2019_Бум_акв_35х60 (1).webp',\n",
       "    'vyol-le-roz_otliv_2019_bum_akv_60x35_1.webp'),\n",
       "   ('Вёль ле Роз_Отлив_2019_Бум_акв_35х60 (2).webp',\n",
       "    'vyol-le-roz_otliv_2019_bum_akv_60x35_2.webp')],\n",
       "  'Year': '2019',\n",
       "  'Width': '60',\n",
       "  'Height': '35',\n",
       "  'Materials': 'бумага, акварель'},\n",
       " 'Заполярный. Урал. Озеро Хадата. 2019-61x46': {'Name': 'Заполярный. Урал. Озеро Хадата. 2019',\n",
       "  'File': [('Заполярный_Урал_Озеро Хадата_2019. Бум_акв_46х61 (1).webp',\n",
       "    'zapolyarnyy_ural_ozero-khadata_2019-bum_akv_61x46_1.webp'),\n",
       "   ('Заполярный_Урал_Озеро Хадата_2019. Бум_акв_46х61 (2).webp',\n",
       "    'zapolyarnyy_ural_ozero-khadata_2019-bum_akv_61x46_2.webp')],\n",
       "  'Year': '2019',\n",
       "  'Width': '61',\n",
       "  'Height': '46',\n",
       "  'Materials': ', акварель'},\n",
       " 'Белое море. 2013-100x70': {'Name': 'Белое море. 2013',\n",
       "  'File': [('Белое море_2013. Бум_акв_70х100 (2).webp',\n",
       "    'beloe-more_2013-bum_akv_100x70_2.webp'),\n",
       "   ('Белое море_2013. Бум_акв_70х100 (1).webp',\n",
       "    'beloe-more_2013-bum_akv_100x70_1.webp')],\n",
       "  'Year': '2013',\n",
       "  'Width': '100',\n",
       "  'Height': '70',\n",
       "  'Materials': ', акварель'},\n",
       " 'Белая ночь на Кузовах. 2014-100x70': {'Name': 'Белая ночь на Кузовах. 2014',\n",
       "  'File': [('Белая ночь на Кузовах_2014_Бум_акв_70х100 (1).webp',\n",
       "    'belaya-noch-na-kuzovakh_2014_bum_akv_100x70_1.webp'),\n",
       "   ('Белая ночь на Кузовах_2014_Бум_акв_70х100 (2).webp',\n",
       "    'belaya-noch-na-kuzovakh_2014_bum_akv_100x70_2.webp')],\n",
       "  'Year': '2014',\n",
       "  'Width': '100',\n",
       "  'Height': '70',\n",
       "  'Materials': 'бумага, акварель'},\n",
       " 'Море и небо. 2017-100x70': {'Name': 'Море и небо. 2017',\n",
       "  'File': [('Море и небо_2017_Бум_акв_70х100 (2).webp',\n",
       "    'more-i-nebo_2017_bum_akv_100x70_2.webp'),\n",
       "   ('Море и небо_2017_Бум_акв_70х100 (1).webp',\n",
       "    'more-i-nebo_2017_bum_akv_100x70_1.webp')],\n",
       "  'Year': '2017',\n",
       "  'Width': '100',\n",
       "  'Height': '70',\n",
       "  'Materials': 'бумага, акварель'},\n",
       " 'Ямал. Река Бурхойла. Сентябрь. 2021-100x70': {'Name': 'Ямал. Река Бурхойла. Сентябрь. 2021',\n",
       "  'File': [('Ямал_Река Бурхойла_Сентябрь_2021_Бум_ акв_70х100 (1).webp',\n",
       "    'yamal_reka-burkhoyla_sentyabr_2021_bum_akv_100x70_1.webp'),\n",
       "   ('Ямал_Река Бурхойла_Сентябрь_2021_Бум_ акв_70х100 (2).webp',\n",
       "    'yamal_reka-burkhoyla_sentyabr_2021_bum_akv_100x70_2.webp')],\n",
       "  'Year': '2021',\n",
       "  'Width': '100',\n",
       "  'Height': '70',\n",
       "  'Materials': 'бумага, акварель'},\n",
       " 'Белое море. Утро на Кузовах. 2013-100x70': {'Name': 'Белое море. Утро на Кузовах. 2013',\n",
       "  'File': [('Белое море. Утро на Кузовах_2013_Бум_акв_70х100 (1).webp',\n",
       "    'beloe-more_utro-na-kuzovakh_2013_bum_akv_100x70_1.webp')],\n",
       "  'Year': '2013',\n",
       "  'Width': '100',\n",
       "  'Height': '70',\n",
       "  'Materials': 'бумага, акварель'}}"
      ]
     },
     "execution_count": 12,
     "metadata": {},
     "output_type": "execute_result"
    }
   ],
   "source": [
    "parsed_data_dict"
   ]
  },
  {
   "cell_type": "code",
   "execution_count": 13,
   "id": "2e8d6d19",
   "metadata": {},
   "outputs": [
    {
     "data": {
      "text/plain": [
       "145"
      ]
     },
     "execution_count": 13,
     "metadata": {},
     "output_type": "execute_result"
    }
   ],
   "source": [
    "len(parsed_data_dict)"
   ]
  },
  {
   "cell_type": "markdown",
   "id": "3e473b6e",
   "metadata": {},
   "source": [
    "# Save generated dict to .pickle dump"
   ]
  },
  {
   "cell_type": "code",
   "execution_count": 14,
   "id": "9c20b027",
   "metadata": {},
   "outputs": [],
   "source": [
    "import pickle\n",
    "\n",
    "with open('parsed_data_dict.pickle', 'wb') as handle:\n",
    "    pickle.dump(parsed_data_dict, handle, protocol = pickle.HIGHEST_PROTOCOL)"
   ]
  },
  {
   "cell_type": "markdown",
   "id": "b77b3011",
   "metadata": {},
   "source": [
    "# Load dict from .pickle"
   ]
  },
  {
   "cell_type": "code",
   "execution_count": 15,
   "id": "16ba5d70",
   "metadata": {},
   "outputs": [
    {
     "name": "stdout",
     "output_type": "stream",
     "text": [
      "[('Полярный Урал. 2010-86x60',\n",
      "  {'File': [('Полярный Урал_2010_Бум_акв_60х86 (1).webp',\n",
      "             'polyarnyy-ural_2010_bum_akv_86x60_1.webp'),\n",
      "            ('Полярный Урал_2010_Бум_акв_60х86 (2).webp',\n",
      "             'polyarnyy-ural_2010_bum_akv_86x60_2.webp')],\n",
      "   'Height': '60',\n",
      "   'Materials': 'бумага, акварель',\n",
      "   'Name': 'Полярный Урал. 2010',\n",
      "   'Width': '86',\n",
      "   'Year': '2010'}),\n",
      " ('Белое море. Апрель. 2007-86x60',\n",
      "  {'File': [('Белое море. Апрель_2007_Бум_акв_60х86  (1).webp',\n",
      "             'beloe-more_aprel_2007_bum_akv_86x60_1.webp'),\n",
      "            ('Белое море. Апрель_2007_Бум_акв_60х86  (2).webp',\n",
      "             'beloe-more_aprel_2007_bum_akv_86x60_2.webp')],\n",
      "   'Height': '60',\n",
      "   'Materials': 'бумага, акварель',\n",
      "   'Name': 'Белое море. Апрель. 2007',\n",
      "   'Width': '86',\n",
      "   'Year': '2007'})]\n"
     ]
    }
   ],
   "source": [
    "parsed_data_dict = None\n",
    "with open('parsed_data_dict.pickle', 'rb') as handle:\n",
    "    parsed_data_dict = pickle.load(handle)\n",
    "pprint(list(parsed_data_dict.items())[:2])"
   ]
  },
  {
   "cell_type": "markdown",
   "id": "3a75769a",
   "metadata": {},
   "source": [
    "# Rename file name to lat and save"
   ]
  },
  {
   "cell_type": "code",
   "execution_count": 16,
   "id": "65c554ec",
   "metadata": {},
   "outputs": [
    {
     "name": "stdout",
     "output_type": "stream",
     "text": [
      "351\n"
     ]
    },
    {
     "data": {
      "text/plain": [
       "[('Полярный Урал_2010_Бум_акв_60х86 (1).webp',\n",
       "  'polyarnyy-ural_2010_bum_akv_86x60_1.webp'),\n",
       " ('Полярный Урал_2010_Бум_акв_60х86 (2).webp',\n",
       "  'polyarnyy-ural_2010_bum_akv_86x60_2.webp'),\n",
       " ('Белое море. Апрель_2007_Бум_акв_60х86  (1).webp',\n",
       "  'beloe-more_aprel_2007_bum_akv_86x60_1.webp'),\n",
       " ('Белое море. Апрель_2007_Бум_акв_60х86  (2).webp',\n",
       "  'beloe-more_aprel_2007_bum_akv_86x60_2.webp'),\n",
       " ('Белое море_Туманное утро_2007_Бум_акв_60х80 (2).webp',\n",
       "  'beloe-more_tumannoe-utro_2007_bum_akv_80x60_2.webp'),\n",
       " ('Белое море_Туманное утро_2007_Бум_акв_60х80 (1).webp',\n",
       "  'beloe-more_tumannoe-utro_2007_bum_akv_80x60_1.webp'),\n",
       " ('Урал_Гора Рай Из_2012_Бум_акв__70х100 (2).webp',\n",
       "  'ural_gora-ray-iz_2012_bum_akv_100x70_2.webp'),\n",
       " ('Урал_Гора Рай Из_2012_Бум_акв__70х100 (1).webp',\n",
       "  'ural_gora-ray-iz_2012_bum_akv_100x70_1.webp'),\n",
       " ('Морозное осеннее утро_2008_Бум_акв_70х100 (3).webp',\n",
       "  'moroznoe-osennee-utro_2008_bum_akv_100x70_3.webp'),\n",
       " ('Морозное осеннее утро_2008_Бум_акв_70х100 (1).webp',\n",
       "  'moroznoe-osennee-utro_2008_bum_akv_100x70_1.webp'),\n",
       " ('Морозное осеннее утро_2008_Бум_акв_70х100 (2).webp',\n",
       "  'moroznoe-osennee-utro_2008_bum_akv_100x70_2.webp'),\n",
       " ('Белое море_Рыбацкие сети_2007_Бум_ акв_60х86  (1).webp',\n",
       "  'beloe-more_rybatskie-seti_2007_bum_akv_86x60_1.webp'),\n",
       " ('Белое море_Рыбацкие сети_2007_Бум_ акв_60х86  (2).webp',\n",
       "  'beloe-more_rybatskie-seti_2007_bum_akv_86x60_2.webp'),\n",
       " ('Небо_Море_Камни_2019_Бум_акв_70х100 (1).webp',\n",
       "  'nebo_more_kamni_2019_bum_akv_100x70_1.webp'),\n",
       " ('Небо_Море_Камни_2019_Бум_акв_70х100 (2).webp',\n",
       "  'nebo_more_kamni_2019_bum_akv_100x70_2.webp'),\n",
       " ('Уральский водопад_2015_Бум_акв_70х100 (1).webp',\n",
       "  'uralskiy-vodopad_2015_bum_akv_100x70_1.webp'),\n",
       " ('Уральский водопад_2015_Бум_акв_70х100 (2).webp',\n",
       "  'uralskiy-vodopad_2015_bum_akv_100x70_2.webp'),\n",
       " ('Ямал_Туманное утро на реке Харбей_2012_Бум_акв_70х100 (1).webp',\n",
       "  'yamal_tumannoe-utro-na-reke-kharbey_2012_bum_akv_100x70_1.webp'),\n",
       " ('Ямал_Туманное утро на реке Харбей_2012_Бум_акв_70х100 (2).webp',\n",
       "  'yamal_tumannoe-utro-na-reke-kharbey_2012_bum_akv_100x70_2.webp'),\n",
       " ('Ямал_Ущелье реки Харбей_2012_Бум_акв_70х150 (2).webp',\n",
       "  'yamal_ushchele-reki-kharbey_2012_bum_akv_150x70_2.webp'),\n",
       " ('Ямал_Ущелье реки Харбей_2012_Бум_акв_70х150 (4).webp',\n",
       "  'yamal_ushchele-reki-kharbey_2012_bum_akv_150x70_4.webp'),\n",
       " ('Ямал_Ущелье реки Харбей_2012_Бум_акв_70х150 (3).webp',\n",
       "  'yamal_ushchele-reki-kharbey_2012_bum_akv_150x70_3.webp'),\n",
       " ('Ямал_Ущелье реки Харбей_2012_Бум_акв_70х150 (1).webp',\n",
       "  'yamal_ushchele-reki-kharbey_2012_bum_akv_150x70_1.webp'),\n",
       " ('Берег Белого моря_ 2007_Бум_акв_60х75 (3).webp',\n",
       "  'bereg-belogo-morya_2007_bum_akv_75x60_3.webp'),\n",
       " ('Берег Белого моря_ 2007_Бум_акв_60х75 (2).webp',\n",
       "  'bereg-belogo-morya_2007_bum_akv_75x60_2.webp'),\n",
       " ('Берег Белого моря_ 2007_Бум_акв_60х75 (1).webp',\n",
       "  'bereg-belogo-morya_2007_bum_akv_75x60_1.webp'),\n",
       " ('Полярный Урал. Дождь пошёл_2012_Бум_акв_70х100 (3).webp',\n",
       "  'polyarnyy-ural_dozhd-poshyol_2012_bum_akv_100x70_3.webp'),\n",
       " ('Полярный Урал. Дождь пошёл_2012_Бум_акв_70х100 (1).webp',\n",
       "  'polyarnyy-ural_dozhd-poshyol_2012_bum_akv_100x70_1.webp'),\n",
       " ('Полярный Урал. Дождь пошёл_2012_Бум_акв_70х100 (2).webp',\n",
       "  'polyarnyy-ural_dozhd-poshyol_2012_bum_akv_100x70_2.webp'),\n",
       " ('Осень на Елагином острове_2014_Бум_акв_70х100 (2).webp',\n",
       "  'osen-na-elaginom-ostrove_2014_bum_akv_100x70_2.webp'),\n",
       " ('Осень на Елагином острове_2014_Бум_акв_70х100 (1).webp',\n",
       "  'osen-na-elaginom-ostrove_2014_bum_akv_100x70_1.webp'),\n",
       " ('Речной порт в Салехарде_2012_Бум_акв_40х86 (2).webp',\n",
       "  'rechnoy-port-v-salekharde_2012_bum_akv_86x40_2.webp'),\n",
       " ('Речной порт в Салехарде_2012_Бум_акв_40х86 (1).webp',\n",
       "  'rechnoy-port-v-salekharde_2012_bum_akv_86x40_1.webp'),\n",
       " ('Речной порт в Салехарде_2012_Бум_акв_40х86 (3).webp',\n",
       "  'rechnoy-port-v-salekharde_2012_bum_akv_86x40_3.webp'),\n",
       " ('На закате_2009_Бум_акв_70х100 (1).webp',\n",
       "  'na-zakate_2009_bum_akv_100x70_1.webp'),\n",
       " ('На закате_2009_Бум_акв_70х100 (2).webp',\n",
       "  'na-zakate_2009_bum_akv_100x70_2.webp'),\n",
       " ('Морской простор_2020_Бум_акв_100х300 (4).webp',\n",
       "  'morskoy-prostor_2020_bum_akv_300x100_4.webp'),\n",
       " ('Морской простор_2020_Бум_акв_100х300 (2).webp',\n",
       "  'morskoy-prostor_2020_bum_akv_300x100_2.webp'),\n",
       " ('Морской простор_2020_Бум_акв_100х300 (1).webp',\n",
       "  'morskoy-prostor_2020_bum_akv_300x100_1.webp'),\n",
       " ('Морской простор_2020_Бум_акв_100х300 (3).webp',\n",
       "  'morskoy-prostor_2020_bum_akv_300x100_3.webp'),\n",
       " ('Август на Ямале_2006_Бум_акв_60х86 (2).webp',\n",
       "  'avgust-na-yamale_2006_bum_akv_86x60_2.webp'),\n",
       " ('Август на Ямале_2006_Бум_акв_60х86 (1).webp',\n",
       "  'avgust-na-yamale_2006_bum_akv_86x60_1.webp'),\n",
       " ('Заполярный Урал_Озеро Хадата_2018_Бум_акв_100х360 (1).webp',\n",
       "  'zapolyarnyy-ural_ozero-khadata_2018_bum_akv_360x100_1.webp'),\n",
       " ('Заполярный Урал_Озеро Хадата_2018_Бум_акв_100х360 (2).webp',\n",
       "  'zapolyarnyy-ural_ozero-khadata_2018_bum_akv_360x100_2.webp'),\n",
       " ('Заполярный Урал_Озеро Хадата_2018_Бум_акв_100х360 (4).webp',\n",
       "  'zapolyarnyy-ural_ozero-khadata_2018_bum_akv_360x100_4.webp'),\n",
       " ('Заполярный Урал_Озеро Хадата_2018_Бум_акв_100х360 (3).webp',\n",
       "  'zapolyarnyy-ural_ozero-khadata_2018_bum_akv_360x100_3.webp'),\n",
       " ('Заполярный Урал_Облака над Щучьем озером_2018_Бум_акв_70х100 (2).webp',\n",
       "  'zapolyarnyy-ural_oblaka-nad-shchuchem-ozerom_2018_bum_akv_100x70_2.webp'),\n",
       " ('Заполярный Урал_Облака над Щучьем озером_2018_Бум_акв_70х100 (1).webp',\n",
       "  'zapolyarnyy-ural_oblaka-nad-shchuchem-ozerom_2018_bum_akv_100x70_1.webp'),\n",
       " ('Ямал_Река Харбей_2019_Бум_акв_50х70 (2).webp',\n",
       "  'yamal_reka-kharbey_2019_bum_akv_70x50_2.webp'),\n",
       " ('Ямал_Река Харбей_2019_Бум_акв_50х70 (1).webp',\n",
       "  'yamal_reka-kharbey_2019_bum_akv_70x50_1.webp'),\n",
       " ('Карелия_Песчаное озеро_2010_Бум_акв_70х100 (2).webp',\n",
       "  'kareliya_peschanoe-ozero_2010_bum_akv_100x70_2.webp'),\n",
       " ('Карелия_Песчаное озеро_2010_Бум_акв_70х100 (1).webp',\n",
       "  'kareliya_peschanoe-ozero_2010_bum_akv_100x70_1.webp'),\n",
       " ('Белое море_Облака_2012_Бум_акв_70х100 (2).webp',\n",
       "  'beloe-more_oblaka_2012_bum_akv_100x70_2.webp'),\n",
       " ('Белое море_Облака_2012_Бум_акв_70х100 (1).webp',\n",
       "  'beloe-more_oblaka_2012_bum_akv_100x70_1.webp'),\n",
       " ('Соловецкий монастырь_2006_Бум_акв_61х86 (2).webp',\n",
       "  'solovetskiy-monastyr_2006_bum_akv_86x61_2.webp'),\n",
       " ('Соловецкий монастырь_2006_Бум_акв_61х86 (3).webp',\n",
       "  'solovetskiy-monastyr_2006_bum_akv_86x61_3.webp'),\n",
       " ('Соловецкий монастырь_2006_Бум_акв_61х86 (1).webp',\n",
       "  'solovetskiy-monastyr_2006_bum_akv_86x61_1.webp'),\n",
       " ('Ямал_Морозный день_2023_Бум_акв_50х100 (1).webp',\n",
       "  'yamal_moroznyy-den_2023_bum_akv_100x50_1.webp'),\n",
       " ('Ямал_Морозный день_2023_Бум_акв_50х100 (2).webp',\n",
       "  'yamal_moroznyy-den_2023_bum_akv_100x50_2.webp'),\n",
       " ('Ямал_Морозный день_2023_Бум_акв_50х100 (3).webp',\n",
       "  'yamal_moroznyy-den_2023_bum_akv_100x50_3.webp'),\n",
       " ('Осень на Ямале_2006_Бум_акв_34х70 (2).webp',\n",
       "  'osen-na-yamale_2006_bum_akv_70x34_2.webp'),\n",
       " ('Осень на Ямале_2006_Бум_акв_34х70 (1).webp',\n",
       "  'osen-na-yamale_2006_bum_akv_70x34_1.webp'),\n",
       " ('Осень на Ямале_2006_Бум_акв_34х70 (3).webp',\n",
       "  'osen-na-yamale_2006_bum_akv_70x34_3.webp'),\n",
       " ('Салехард_Обдорский острог_2009_Бум_акв_20х86 (3).webp',\n",
       "  'salekhard_obdorskiy-ostrog_2009_bum_akv_86x20_3.webp'),\n",
       " ('Салехард_Обдорский острог_2009_Бум_акв_20х86 (2).webp',\n",
       "  'salekhard_obdorskiy-ostrog_2009_bum_akv_86x20_2.webp'),\n",
       " ('Салехард_Обдорский острог_2009_Бум_акв_20х86 (1).webp',\n",
       "  'salekhard_obdorskiy-ostrog_2009_bum_akv_86x20_1.webp'),\n",
       " ('Нормандия_Дождливый день_2019_Бум_акв_40х60 (2).webp',\n",
       "  'normandiya_dozhdlivyy-den_2019_bum_akv_60x40_2.webp'),\n",
       " ('Нормандия_Дождливый день_2019_Бум_акв_40х60 (1).webp',\n",
       "  'normandiya_dozhdlivyy-den_2019_bum_akv_60x40_1.webp'),\n",
       " ('Буйство красок Севера_2011_Бум_акв_70х100 (1).webp',\n",
       "  'buystvo-krasok-severa_2011_bum_akv_100x70_1.webp'),\n",
       " ('Буйство красок Севера_2011_Бум_акв_70х100 (2).webp',\n",
       "  'buystvo-krasok-severa_2011_bum_akv_100x70_2.webp'),\n",
       " ('Небо и море_2013_Бум_акв_70х100 (2).webp',\n",
       "  'nebo-i-more_2013_bum_akv_100x70_2.webp'),\n",
       " ('Небо и море_2013_Бум_акв_70х100 (1).webp',\n",
       "  'nebo-i-more_2013_bum_akv_100x70_1.webp'),\n",
       " ('Небо и море_2013_Бум_акв_70х100 (3).webp',\n",
       "  'nebo-i-more_2013_bum_akv_100x70_3.webp'),\n",
       " ('Дождливый день_Карелия_2009_Бум_акв_60х86 (1).webp',\n",
       "  'dozhdlivyy-den_kareliya_2009_bum_akv_86x60_1.webp'),\n",
       " ('Дождливый день_Карелия_2009_Бум_акв_60х86 (2).webp',\n",
       "  'dozhdlivyy-den_kareliya_2009_bum_akv_86x60_2.webp'),\n",
       " ('Дождливый день_Карелия_2009_Бум_акв_60х86 (3).webp',\n",
       "  'dozhdlivyy-den_kareliya_2009_bum_akv_86x60_3.webp'),\n",
       " ('Полярный Урал_Исток реки Собь_2015_Бум_акв_100х340 (3).webp',\n",
       "  'polyarnyy-ural_istok-reki-sob_2015_bum_akv_340x100_3.webp'),\n",
       " ('Полярный Урал_Исток реки Собь_2015_Бум_акв_100х340 (1).webp',\n",
       "  'polyarnyy-ural_istok-reki-sob_2015_bum_akv_340x100_1.webp'),\n",
       " ('Полярный Урал_Исток реки Собь_2015_Бум_акв_100х340 (2).webp',\n",
       "  'polyarnyy-ural_istok-reki-sob_2015_bum_akv_340x100_2.webp'),\n",
       " ('Ямал. Долина реки Лангота_2013_Бум_акв_70х150 (2).webp',\n",
       "  'yamal_dolina-reki-langota_2013_bum_akv_150x70_2.webp'),\n",
       " ('Ямал. Долина реки Лангота_2013_Бум_акв_70х150 (3).webp',\n",
       "  'yamal_dolina-reki-langota_2013_bum_akv_150x70_3.webp'),\n",
       " ('Ямал. Долина реки Лангота_2013_Бум_акв_70х150 (1).webp',\n",
       "  'yamal_dolina-reki-langota_2013_bum_akv_150x70_1.webp'),\n",
       " ('Полярный Урал_Долина реки Собь_ 2013_Бум_акв_100х150 (3).webp',\n",
       "  'polyarnyy-ural_dolina-reki-sob_2013_bum_akv_150x100_3.webp'),\n",
       " ('Полярный Урал_Долина реки Собь_ 2013_Бум_акв_100х150 (2).webp',\n",
       "  'polyarnyy-ural_dolina-reki-sob_2013_bum_akv_150x100_2.webp'),\n",
       " ('Полярный Урал_Долина реки Собь_ 2013_Бум_акв_100х150 (1).webp',\n",
       "  'polyarnyy-ural_dolina-reki-sob_2013_bum_akv_150x100_1.webp'),\n",
       " ('Полярный Урал_Долина реки Собь_ 2013_Бум_акв_100х150 (4).webp',\n",
       "  'polyarnyy-ural_dolina-reki-sob_2013_bum_akv_150x100_4.webp'),\n",
       " ('Норвегия_Лофотены_2010_Бум_акв_70х100 (2).webp',\n",
       "  'norvegiya_lofoteny_2010_bum_akv_100x70_2.webp'),\n",
       " ('Норвегия_Лофотены_2010_Бум_акв_70х100 (1).webp',\n",
       "  'norvegiya_lofoteny_2010_bum_akv_100x70_1.webp'),\n",
       " ('Белое море_Рыбацкий остров_2006_Бум_акв_52х86 (1).webp',\n",
       "  'beloe-more_rybatskiy-ostrov_2006_bum_akv_86x52_1.webp'),\n",
       " ('Белое море_Рыбацкий остров_2006_Бум_акв_52х86 (2).webp',\n",
       "  'beloe-more_rybatskiy-ostrov_2006_bum_akv_86x52_2.webp'),\n",
       " ('Белое море_Рыбацкий остров_2006_Бум_акв_52х86 (3).webp',\n",
       "  'beloe-more_rybatskiy-ostrov_2006_bum_akv_86x52_3.webp'),\n",
       " ('Полярный Урал_Ущелье Конгор_2015_Бум_акв_100х340 (2).webp',\n",
       "  'polyarnyy-ural_ushchele-kongor_2015_bum_akv_340x100_2.webp'),\n",
       " ('Полярный Урал_Ущелье Конгор_2015_Бум_акв_100х340 (3).webp',\n",
       "  'polyarnyy-ural_ushchele-kongor_2015_bum_akv_340x100_3.webp'),\n",
       " ('Полярный Урал_Ущелье Конгор_2015_Бум_акв_100х340 (1).webp',\n",
       "  'polyarnyy-ural_ushchele-kongor_2015_bum_akv_340x100_1.webp'),\n",
       " ('Полярный Урал_Ущелье Конгор_2015_Бум_акв_100х340 (4).webp',\n",
       "  'polyarnyy-ural_ushchele-kongor_2015_bum_akv_340x100_4.webp'),\n",
       " ('Пороги на реке Сума. Карелия_2009_Бум_акв_70х100 (2).webp',\n",
       "  'porogi-na-reke-suma_kareliya_2009_bum_akv_100x70_2.webp'),\n",
       " ('Пороги на реке Сума. Карелия_2009_Бум_акв_70х100 (1).webp',\n",
       "  'porogi-na-reke-suma_kareliya_2009_bum_akv_100x70_1.webp'),\n",
       " ('Водопад в облаках_2012_Бум_ак_100х70 (3).webp',\n",
       "  'vodopad-v-oblakakh_2012_bum_ak_70x100_3.webp'),\n",
       " ('Водопад в облаках_2012_Бум_ак_100х70 (2).webp',\n",
       "  'vodopad-v-oblakakh_2012_bum_ak_70x100_2.webp'),\n",
       " ('Водопад в облаках_2012_Бум_ак_100х70 (1).webp',\n",
       "  'vodopad-v-oblakakh_2012_bum_ak_70x100_1.webp'),\n",
       " ('На берегу озера Хадата_2018_Бум_акв_100х360 (4).webp',\n",
       "  'na-beregu-ozera-khadata_2018_bum_akv_360x100_4.webp'),\n",
       " ('На берегу озера Хадата_2018_Бум_акв_100х360 (2).webp',\n",
       "  'na-beregu-ozera-khadata_2018_bum_akv_360x100_2.webp'),\n",
       " ('На берегу озера Хадата_2018_Бум_акв_100х360 (1).webp',\n",
       "  'na-beregu-ozera-khadata_2018_bum_akv_360x100_1.webp'),\n",
       " ('На берегу озера Хадата_2018_Бум_акв_100х360 (3).webp',\n",
       "  'na-beregu-ozera-khadata_2018_bum_akv_360x100_3.webp'),\n",
       " ('Ямал_Август_2008_Бум_акв_50х100 (1).webp',\n",
       "  'yamal_avgust_2008_bum_akv_100x50_1.webp'),\n",
       " ('Ямал_Август_2008_Бум_акв_50х100 (2).webp',\n",
       "  'yamal_avgust_2008_bum_akv_100x50_2.webp'),\n",
       " ('Карелия_Сумской порог_2010_Бум_акв_70х100 (1).webp',\n",
       "  'kareliya_sumskoy-porog_2010_bum_akv_100x70_1.webp'),\n",
       " ('Карелия_Сумской порог_2010_Бум_акв_70х100 (2).webp',\n",
       "  'kareliya_sumskoy-porog_2010_bum_akv_100x70_2.webp'),\n",
       " ('Преображенский собор Соловецкого монастыря_2007_Бум_акв_61х85 (2).webp',\n",
       "  'preobrazhenskiy-sobor-solovetskogo-monastyrya_2007_bum_akv_85x61_2.webp'),\n",
       " ('Преображенский собор Соловецкого монастыря_2007_Бум_акв_61х85 (1).webp',\n",
       "  'preobrazhenskiy-sobor-solovetskogo-monastyrya_2007_bum_akv_85x61_1.webp'),\n",
       " ('Баня геологов_2006_Бум_акв_50х67 (1).webp',\n",
       "  'banya-geologov_2006_bum_akv_67x50_1.webp'),\n",
       " ('Баня геологов_2006_Бум_акв_50х67 (2).webp',\n",
       "  'banya-geologov_2006_bum_akv_67x50_2.webp'),\n",
       " ('Уральские горы_2006_Бум_акв_61х85 (3).webp',\n",
       "  'uralskie-gory_2006_bum_akv_85x61_3.webp'),\n",
       " ('Уральские горы_2006_Бум_акв_61х85 (2).webp',\n",
       "  'uralskie-gory_2006_bum_akv_85x61_2.webp'),\n",
       " ('Уральские горы_2006_Бум_акв_61х85 (1).webp',\n",
       "  'uralskie-gory_2006_bum_akv_85x61_1.webp'),\n",
       " ('Облака над Белым морем_2008_Бум_акв_ 60х86 (2).webp',\n",
       "  'oblaka-nad-belym-morem_2008_bum_akv_86x60_2.webp'),\n",
       " ('Облака над Белым морем_2008_Бум_акв_ 60х86 (1).webp',\n",
       "  'oblaka-nad-belym-morem_2008_bum_akv_86x60_1.webp'),\n",
       " ('Просторы Белого моря_Кузова_2015_Бум_акв_100х280 (3).webp',\n",
       "  'prostory-belogo-morya_kuzova_2015_bum_akv_280x100_3.webp'),\n",
       " ('Просторы Белого моря_Кузова_2015_Бум_акв_100х280 (1).webp',\n",
       "  'prostory-belogo-morya_kuzova_2015_bum_akv_280x100_1.webp'),\n",
       " ('Просторы Белого моря_Кузова_2015_Бум_акв_100х280 (2).webp',\n",
       "  'prostory-belogo-morya_kuzova_2015_bum_akv_280x100_2.webp'),\n",
       " ('Просторы Белого моря_Кузова_2015_Бум_акв_100х280 (4).webp',\n",
       "  'prostory-belogo-morya_kuzova_2015_bum_akv_280x100_4.webp'),\n",
       " ('Диптих_На просторах устья реки Обь_Ямал_правый_2012_Бум_акв_70х100 (2).webp',\n",
       "  'diptikh_na-prostorakh-ustya-reki-ob_yamal_pravyy_2012_bum_akv_100x70_2.webp'),\n",
       " ('Диптих_На просторах устья реки Обь_Ямал_правый_2012_Бум_акв_70х100 (1).webp',\n",
       "  'diptikh_na-prostorakh-ustya-reki-ob_yamal_pravyy_2012_bum_akv_100x70_1.webp'),\n",
       " ('Байкал_2012_Бум_акв_35х50 (2).webp', 'baykal_2012_bum_akv_50x35_2.webp'),\n",
       " ('Байкал_2012_Бум_акв_35х50 (1).webp', 'baykal_2012_bum_akv_50x35_1.webp'),\n",
       " ('Карелия_Остров Сосновец_2007_Бум_акв_70х100 (1).webp',\n",
       "  'kareliya_ostrov-sosnovets_2007_bum_akv_100x70_1.webp'),\n",
       " ('Карелия_Остров Сосновец_2007_Бум_акв_70х100 (2).webp',\n",
       "  'kareliya_ostrov-sosnovets_2007_bum_akv_100x70_2.webp'),\n",
       " ('Ямал_Заросшее озеро_2006_Бум_акв_60х86 (2).webp',\n",
       "  'yamal_zarosshee-ozero_2006_bum_akv_86x60_2.webp'),\n",
       " ('Ямал_Заросшее озеро_2006_Бум_акв_60х86 (1).webp',\n",
       "  'yamal_zarosshee-ozero_2006_bum_akv_86x60_1.webp'),\n",
       " ('Ямал_Река Харбей_2012_Бум_акв_70х100 (3).webp',\n",
       "  'yamal_reka-kharbey_2012_bum_akv_100x70_3.webp'),\n",
       " ('Ямал_Река Харбей_2012_Бум_акв_70х100 (2).webp',\n",
       "  'yamal_reka-kharbey_2012_bum_akv_100x70_2.webp'),\n",
       " ('Ямал_Река Харбей_2012_Бум_акв_70х100 (1).webp',\n",
       "  'yamal_reka-kharbey_2012_bum_akv_100x70_1.webp'),\n",
       " ('На Белом море_Зима уходит_2007_Бум_акв_61х85 (1).webp',\n",
       "  'na-belom-more_zima-ukhodit_2007_bum_akv_85x61_1.webp'),\n",
       " ('На Белом море_Зима уходит_2007_Бум_акв_61х85 (2).webp',\n",
       "  'na-belom-more_zima-ukhodit_2007_bum_akv_85x61_2.webp'),\n",
       " ('Ямал_Осенняя тундра_2008_Бум_акв_60х86 (2).webp',\n",
       "  'yamal_osennyaya-tundra_2008_bum_akv_86x60_2.webp'),\n",
       " ('Ямал_Осенняя тундра_2008_Бум_акв_60х86 (1).webp',\n",
       "  'yamal_osennyaya-tundra_2008_bum_akv_86x60_1.webp'),\n",
       " ('Ямал_Осенняя тундра_2008_Бум_акв_60х86 (3).webp',\n",
       "  'yamal_osennyaya-tundra_2008_bum_akv_86x60_3.webp'),\n",
       " ('Норвегия_Закат_2010_Бум_акв_70х100 (2).webp',\n",
       "  'norvegiya_zakat_2010_bum_akv_100x70_2.webp'),\n",
       " ('Норвегия_Закат_2010_Бум_акв_70х100 (1).webp',\n",
       "  'norvegiya_zakat_2010_bum_akv_100x70_1.webp'),\n",
       " ('Бухта Севастополя_2019__Бум_акв_54х83 (1).webp',\n",
       "  'bukhta-sevastopolya_2019_bum_akv_83x54_1.webp'),\n",
       " ('Бухта Севастополя_2019__Бум_акв_54х83 (3).webp',\n",
       "  'bukhta-sevastopolya_2019_bum_akv_83x54_3.webp'),\n",
       " ('Бухта Севастополя_2019__Бум_акв_54х83 (2).webp',\n",
       "  'bukhta-sevastopolya_2019_bum_akv_83x54_2.webp'),\n",
       " ('Водопад Куми порог_Карелия_2009_Бум_акв_70х100 (1).webp',\n",
       "  'vodopad-kumi-porog_kareliya_2009_bum_akv_100x70_1.webp'),\n",
       " ('Водопад Куми порог_Карелия_2009_Бум_акв_70х100 (2).webp',\n",
       "  'vodopad-kumi-porog_kareliya_2009_bum_akv_100x70_2.webp'),\n",
       " ('Байкал_Берега_2012_Бум_акв_70х100 (2).webp',\n",
       "  'baykal_berega_2012_bum_akv_100x70_2.webp'),\n",
       " ('Байкал_Берега_2012_Бум_акв_70х100 (3).webp',\n",
       "  'baykal_berega_2012_bum_akv_100x70_3.webp'),\n",
       " ('Байкал_Берега_2012_Бум_акв_70х100 (1).webp',\n",
       "  'baykal_berega_2012_bum_akv_100x70_1.webp'),\n",
       " ('Ямал_Хмурый день_2018_Бум_акв_60х100 (1).webp',\n",
       "  'yamal_khmuryy-den_2018_bum_akv_100x60_1.webp'),\n",
       " ('Ямал_Хмурый день_2018_Бум_акв_60х100 (3).webp',\n",
       "  'yamal_khmuryy-den_2018_bum_akv_100x60_3.webp'),\n",
       " ('Ямал_Хмурый день_2018_Бум_акв_60х100 (2).webp',\n",
       "  'yamal_khmuryy-den_2018_bum_akv_100x60_2.webp'),\n",
       " ('Тишина_2012_Бум_акв_50х110 (1).webp', 'tishina_2012_bum_akv_110x50_1.webp'),\n",
       " ('Тишина_2012_Бум_акв_50х110 (2).webp', 'tishina_2012_bum_akv_110x50_2.webp'),\n",
       " ('Белое море_2007_Бум_акв_ 61х86 (1).webp',\n",
       "  'beloe-more_2007_bum_akv_86x61_1.webp'),\n",
       " ('Белое море_2007_Бум_акв_ 61х86 (2).webp',\n",
       "  'beloe-more_2007_bum_akv_86x61_2.webp'),\n",
       " ('Дождливые облака_2014_Бум_акв_70х100 (2).webp',\n",
       "  'dozhdlivye-oblaka_2014_bum_akv_100x70_2.webp'),\n",
       " ('Дождливые облака_2014_Бум_акв_70х100 (1).webp',\n",
       "  'dozhdlivye-oblaka_2014_bum_akv_100x70_1.webp'),\n",
       " ('Дождливые облака_2014_Бум_акв_70х100 (3).webp',\n",
       "  'dozhdlivye-oblaka_2014_bum_akv_100x70_3.webp'),\n",
       " ('Ямал_Иван чай_2023_Бум_акв_70х100 (1).webp',\n",
       "  'yamal_ivan-chay_2023_bum_akv_100x70_1.webp'),\n",
       " ('Ямал_Иван чай_2023_Бум_акв_70х100 (2).webp',\n",
       "  'yamal_ivan-chay_2023_bum_akv_100x70_2.webp'),\n",
       " ('Ямал_Иван чай_2023_Бум_акв_70х100 (3).webp',\n",
       "  'yamal_ivan-chay_2023_bum_akv_100x70_3.webp'),\n",
       " ('Франция_Нормандия_Виль ля Роз_2019_Бум_акв_40х60 (2).webp',\n",
       "  'frantsiya_normandiya_vil-lya-roz_2019_bum_akv_60x40_2.webp'),\n",
       " ('Франция_Нормандия_Виль ля Роз_2019_Бум_акв_40х60 (3).webp',\n",
       "  'frantsiya_normandiya_vil-lya-roz_2019_bum_akv_60x40_3.webp'),\n",
       " ('Франция_Нормандия_Виль ля Роз_2019_Бум_акв_40х60 (1).webp',\n",
       "  'frantsiya_normandiya_vil-lya-roz_2019_bum_akv_60x40_1.webp'),\n",
       " ('Мамомнты на Ямале_2020_Бум_акв_20х30 (1).webp',\n",
       "  'mamomnty-na-yamale_2020_bum_akv_30x20_1.webp'),\n",
       " ('Мамомнты на Ямале_2020_Бум_акв_20х30 (2).webp',\n",
       "  'mamomnty-na-yamale_2020_bum_akv_30x20_2.webp'),\n",
       " ('Снежные вершины_2010_Бум_акв_57х86 (2).webp',\n",
       "  'snezhnye-vershiny_2010_bum_akv_86x57_2.webp'),\n",
       " ('Снежные вершины_2010_Бум_акв_57х86 (1).webp',\n",
       "  'snezhnye-vershiny_2010_bum_akv_86x57_1.webp'),\n",
       " ('Здесь начинается река Собь. Полярный Урал_ 2015_Бум_акв_70х100 (3).webp',\n",
       "  'zdes-nachinaetsya-reka-sob_polyarnyy-ural_2015_bum_akv_100x70_3.webp'),\n",
       " ('Здесь начинается река Собь. Полярный Урал_ 2015_Бум_акв_70х100 (1).webp',\n",
       "  'zdes-nachinaetsya-reka-sob_polyarnyy-ural_2015_bum_akv_100x70_1.webp'),\n",
       " ('Здесь начинается река Собь. Полярный Урал_ 2015_Бум_акв_70х100 (2).webp',\n",
       "  'zdes-nachinaetsya-reka-sob_polyarnyy-ural_2015_bum_akv_100x70_2.webp'),\n",
       " ('Сумской порог_Карелия_2009_Бум_ акв_86х60 (1).webp',\n",
       "  'sumskoy-porog_kareliya_2009_bum_akv_60x86_1.webp'),\n",
       " ('Сумской порог_Карелия_2009_Бум_ акв_86х60 (2).webp',\n",
       "  'sumskoy-porog_kareliya_2009_bum_akv_60x86_2.webp'),\n",
       " ('Полярный Урал_Долина реки Собь_2009_Бум_акв_70х100 (3).webp',\n",
       "  'polyarnyy-ural_dolina-reki-sob_2009_bum_akv_100x70_3.webp'),\n",
       " ('Полярный Урал_Долина реки Собь_2009_Бум_акв_70х100 (4).webp',\n",
       "  'polyarnyy-ural_dolina-reki-sob_2009_bum_akv_100x70_4.webp'),\n",
       " ('Полярный Урал_Долина реки Собь_2009_Бум_акв_70х100 (1).webp',\n",
       "  'polyarnyy-ural_dolina-reki-sob_2009_bum_akv_100x70_1.webp'),\n",
       " ('Полярный Урал_Долина реки Собь_2009_Бум_акв_70х100 (2).webp',\n",
       "  'polyarnyy-ural_dolina-reki-sob_2009_bum_akv_100x70_2.webp'),\n",
       " ('Байкал_2012_Бум_акв_70х100 (1).webp', 'baykal_2012_bum_akv_100x70_1.webp'),\n",
       " ('Байкал_2012_Бум_акв_70х100 (2).webp', 'baykal_2012_bum_akv_100x70_2.webp'),\n",
       " ('Ямал_Лиловый восход_2023_Бум_акв_23х40 (1).webp',\n",
       "  'yamal_lilovyy-voskhod_2023_bum_akv_40x23_1.webp'),\n",
       " ('Ямал_Лиловый восход_2023_Бум_акв_23х40 (2).webp',\n",
       "  'yamal_lilovyy-voskhod_2023_bum_akv_40x23_2.webp'),\n",
       " ('Осень_Берег реки_2023_Бум_акв_50х70 (2).webp',\n",
       "  'osen_bereg-reki_2023_bum_akv_70x50_2.webp'),\n",
       " ('Осень_Берег реки_2023_Бум_акв_50х70 (1).webp',\n",
       "  'osen_bereg-reki_2023_bum_akv_70x50_1.webp'),\n",
       " ('Карелия. Водопад_Куми порог_Пошёл июльский снег_2009_Бум_акв_70х100 (2).webp',\n",
       "  'kareliya_vodopad_kumi-porog_poshyol-iyulskiy-sneg_2009_bum_akv_100x70_2.webp'),\n",
       " ('Карелия. Водопад_Куми порог_Пошёл июльский снег_2009_Бум_акв_70х100 (1).webp',\n",
       "  'kareliya_vodopad_kumi-porog_poshyol-iyulskiy-sneg_2009_bum_akv_100x70_1.webp'),\n",
       " ('Гора Чертов палец_Ямал_2023_Бум_акв_23х40 (1).webp',\n",
       "  'gora-chertov-palets_yamal_2023_bum_akv_40x23_1.webp'),\n",
       " ('Гора Чертов палец_Ямал_2023_Бум_акв_23х40 (2).webp',\n",
       "  'gora-chertov-palets_yamal_2023_bum_akv_40x23_2.webp'),\n",
       " ('Перед рассветом_Белое море_2007_Бум_акв_70х100 (1).webp',\n",
       "  'pered-rassvetom_beloe-more_2007_bum_akv_100x70_1.webp'),\n",
       " ('Перед рассветом_Белое море_2007_Бум_акв_70х100 (2).webp',\n",
       "  'pered-rassvetom_beloe-more_2007_bum_akv_100x70_2.webp'),\n",
       " ('Ямал_Декабрь_2023_Бум_акв_35х110 (1).webp',\n",
       "  'yamal_dekabr_2023_bum_akv_110x35_1.webp'),\n",
       " ('Ямал_Декабрь_2023_Бум_акв_35х110 (2).webp',\n",
       "  'yamal_dekabr_2023_bum_akv_110x35_2.webp'),\n",
       " ('Ямал_Река Полуй_2008_Бум_акв_70х100 (1).webp',\n",
       "  'yamal_reka-poluy_2008_bum_akv_100x70_1.webp'),\n",
       " ('Ямал_Река Полуй_2008_Бум_акв_70х100 (2).webp',\n",
       "  'yamal_reka-poluy_2008_bum_akv_100x70_2.webp'),\n",
       " ('Ямал_Осень на Оби_2009_Бум_акв_35х100 (1).webp',\n",
       "  'yamal_osen-na-obi_2009_bum_akv_100x35_1.webp'),\n",
       " ('Ямал_Осень на Оби_2009_Бум_акв_35х100 (2).webp',\n",
       "  'yamal_osen-na-obi_2009_bum_akv_100x35_2.webp'),\n",
       " ('Архыз_Софийские водопады_2023_Бум_акв_26х39 (1).webp',\n",
       "  'arkhyz_sofiyskie-vodopady_2023_bum_akv_39x26_1.webp'),\n",
       " ('Архыз_Софийские водопады_2023_Бум_акв_26х39 (2).webp',\n",
       "  'arkhyz_sofiyskie-vodopady_2023_bum_akv_39x26_2.webp'),\n",
       " ('Нарьян Мар. Песчаная тундра_2013_Бум_акв_56х75 (1).webp',\n",
       "  'naryan-mar_peschanaya-tundra_2013_bum_akv_75x56_1.webp'),\n",
       " ('Камни и море_2019_Бум_акв_40х60 (2).webp',\n",
       "  'kamni-i-more_2019_bum_akv_60x40_2.webp'),\n",
       " ('Камни и море_2019_Бум_акв_40х60 (1).webp',\n",
       "  'kamni-i-more_2019_bum_akv_60x40_1.webp'),\n",
       " ('Полярный Урал_Ямал_Снежные вершины_2022_Бум_акв_35х46 (2).webp',\n",
       "  'polyarnyy-ural_yamal_snezhnye-vershiny_2022_bum_akv_46x35_2.webp'),\n",
       " ('Полярный Урал_Ямал_Снежные вершины_2022_Бум_акв_35х46 (1).webp',\n",
       "  'polyarnyy-ural_yamal_snezhnye-vershiny_2022_bum_akv_46x35_1.webp'),\n",
       " ('Осень в парке_2023_Бум_акв_25х40 (1).webp',\n",
       "  'osen-v-parke_2023_bum_akv_40x25_1.webp'),\n",
       " ('Осень в парке_2023_Бум_акв_25х40 (2).webp',\n",
       "  'osen-v-parke_2023_bum_akv_40x25_2.webp'),\n",
       " ('Полярный Урал_Гора Сфинкс_2012_Бум_акв_70х100 (2).webp',\n",
       "  'polyarnyy-ural_gora-sfinks_2012_bum_akv_100x70_2.webp'),\n",
       " ('Полярный Урал_Гора Сфинкс_2012_Бум_акв_70х100 (1).webp',\n",
       "  'polyarnyy-ural_gora-sfinks_2012_bum_akv_100x70_1.webp'),\n",
       " ('Облака над Полярныи Уралом_2010_Бум_акв_70х100 (2).webp',\n",
       "  'oblaka-nad-polyarnyi-uralom_2010_bum_akv_100x70_2.webp'),\n",
       " ('Облака над Полярныи Уралом_2010_Бум_акв_70х100 (1).webp',\n",
       "  'oblaka-nad-polyarnyi-uralom_2010_bum_akv_100x70_1.webp'),\n",
       " ('Полярный Урал_Снежные вершины_2015_Бум_акв_100х270 (2).webp',\n",
       "  'polyarnyy-ural_snezhnye-vershiny_2015_bum_akv_270x100_2.webp'),\n",
       " ('Полярный Урал_Снежные вершины_2015_Бум_акв_100х270 (1).webp',\n",
       "  'polyarnyy-ural_snezhnye-vershiny_2015_bum_akv_270x100_1.webp'),\n",
       " ('Полярный Урал_Снежные вершины_2015_Бум_акв_100х270 (3).webp',\n",
       "  'polyarnyy-ural_snezhnye-vershiny_2015_bum_akv_270x100_3.webp'),\n",
       " ('Ямал_Сентябрь_2008_Бум_акв_52х100 (2).webp',\n",
       "  'yamal_sentyabr_2008_bum_akv_100x52_2.webp'),\n",
       " ('Ямал_Сентябрь_2008_Бум_акв_52х100 (3).webp',\n",
       "  'yamal_sentyabr_2008_bum_akv_100x52_3.webp'),\n",
       " ('Ямал_Сентябрь_2008_Бум_акв_52х100 (1).webp',\n",
       "  'yamal_sentyabr_2008_bum_akv_100x52_1.webp'),\n",
       " ('Водопад_Две сестры_Полярный Урал_2015_Бум_акв_70х100 (2).webp',\n",
       "  'vodopad_dve-sestry_polyarnyy-ural_2015_bum_akv_100x70_2.webp'),\n",
       " ('Водопад_Две сестры_Полярный Урал_2015_Бум_акв_70х100 (1).webp',\n",
       "  'vodopad_dve-sestry_polyarnyy-ural_2015_bum_akv_100x70_1.webp'),\n",
       " ('Золотая осень на Полярном Урале_2021_Бум_акв_20х50 (2).webp',\n",
       "  'zolotaya-osen-na-polyarnom-urale_2021_bum_akv_50x20_2.webp'),\n",
       " ('Золотая осень на Полярном Урале_2021_Бум_акв_20х50 (1).webp',\n",
       "  'zolotaya-osen-na-polyarnom-urale_2021_bum_akv_50x20_1.webp'),\n",
       " ('Капли дождя_2010_Бум_акв_50х70 (3).webp',\n",
       "  'kapli-dozhdya_2010_bum_akv_70x50_3.webp'),\n",
       " ('Капли дождя_2010_Бум_акв_50х70 (1).webp',\n",
       "  'kapli-dozhdya_2010_bum_akv_70x50_1.webp'),\n",
       " ('Капли дождя_2010_Бум_акв_50х70 (2).webp',\n",
       "  'kapli-dozhdya_2010_bum_akv_70x50_2.webp'),\n",
       " ('Острова на Белом море_2007_Бум_акв_ 60х86 (1).webp',\n",
       "  'ostrova-na-belom-more_2007_bum_akv_86x60_1.webp'),\n",
       " ('Острова на Белом море_2007_Бум_акв_ 60х86 (2).webp',\n",
       "  'ostrova-na-belom-more_2007_bum_akv_86x60_2.webp'),\n",
       " ('Ангара_Иван чай цветет_2023_Бум_акв_50х70 (1).webp',\n",
       "  'angara_ivan-chay-tsvetet_2023_bum_akv_70x50_1.webp'),\n",
       " ('Ангара_Иван чай цветет_2023_Бум_акв_50х70 (2).webp',\n",
       "  'angara_ivan-chay-tsvetet_2023_bum_akv_70x50_2.webp'),\n",
       " ('Ангара_Иван чай цветет_2023_Бум_акв_50х70 (3).webp',\n",
       "  'angara_ivan-chay-tsvetet_2023_bum_akv_70x50_3.webp'),\n",
       " ('Полярный Урал_Озеро Макар-Рузь_2015_Бум_акв_100х340 (2).webp',\n",
       "  'polyarnyy-ural_ozero-makar-ruz_2015_bum_akv_340x100_2.webp'),\n",
       " ('Полярный Урал_Озеро Макар-Рузь_2015_Бум_акв_100х340 (4).webp',\n",
       "  'polyarnyy-ural_ozero-makar-ruz_2015_bum_akv_340x100_4.webp'),\n",
       " ('Полярный Урал_Озеро Макар-Рузь_2015_Бум_акв_100х340 (3).webp',\n",
       "  'polyarnyy-ural_ozero-makar-ruz_2015_bum_akv_340x100_3.webp'),\n",
       " ('Полярный Урал_Озеро Макар-Рузь_2015_Бум_акв_100х340 (1).webp',\n",
       "  'polyarnyy-ural_ozero-makar-ruz_2015_bum_akv_340x100_1.webp'),\n",
       " ('Осень. На лесной поляне_2023_Бум_акв_50х70 (2).webp',\n",
       "  'osen_na-lesnoy-polyane_2023_bum_akv_70x50_2.webp'),\n",
       " ('Осень. На лесной поляне_2023_Бум_акв_50х70 (1).webp',\n",
       "  'osen_na-lesnoy-polyane_2023_bum_akv_70x50_1.webp'),\n",
       " ('Осень_На лесной поляне_2023_Бум_акв_50х70 (2).webp',\n",
       "  'osen_na-lesnoy-polyane_2023_bum_akv_70x50_2.webp'),\n",
       " ('Ямал_Золотая осень_2009_Бум_акв_70х100 (3).webp',\n",
       "  'yamal_zolotaya-osen_2009_bum_akv_100x70_3.webp'),\n",
       " ('Ямал_Золотая осень_2009_Бум_акв_70х100 (1).webp',\n",
       "  'yamal_zolotaya-osen_2009_bum_akv_100x70_1.webp'),\n",
       " ('Ямал_Золотая осень_2009_Бум_акв_70х100 (2).webp',\n",
       "  'yamal_zolotaya-osen_2009_bum_akv_100x70_2.webp'),\n",
       " ('Ямал_Иванчай отцвёл_2009_Бум_акв_70х100 (2).webp',\n",
       "  'yamal_ivanchay-ottsvyol_2009_bum_akv_100x70_2.webp'),\n",
       " ('Ямал_Иванчай отцвёл_2009_Бум_акв_70х100 (1).webp',\n",
       "  'yamal_ivanchay-ottsvyol_2009_bum_akv_100x70_1.webp'),\n",
       " ('Ямал_Иванчай отцвёл_2009_Бум_акв_70х100 (3).webp',\n",
       "  'yamal_ivanchay-ottsvyol_2009_bum_akv_100x70_3.webp'),\n",
       " ('Полярный Урал_Горное озеро_2012_Бум_акв_70х100 (2).webp',\n",
       "  'polyarnyy-ural_gornoe-ozero_2012_bum_akv_100x70_2.webp'),\n",
       " ('Полярный Урал_Горное озеро_2012_Бум_акв_70х100 (1).webp',\n",
       "  'polyarnyy-ural_gornoe-ozero_2012_bum_akv_100x70_1.webp'),\n",
       " ('Шторм на Белом море_2006_Бум_акв_50х70 (2).webp',\n",
       "  'shtorm-na-belom-more_2006_bum_akv_70x50_2.webp'),\n",
       " ('Шторм на Белом море_2006_Бум_акв_50х70 (1).webp',\n",
       "  'shtorm-na-belom-more_2006_bum_akv_70x50_1.webp'),\n",
       " ('Диптих_Полярный Урал_Долина реки Собь_левый_2012_Бум_акв_70х100 (2).webp',\n",
       "  'diptikh_polyarnyy-ural_dolina-reki-sob_levyy_2012_bum_akv_100x70_2.webp'),\n",
       " ('Диптих_Полярный Урал_Долина реки Собь_левый_2012_Бум_акв_70х100 (1).webp',\n",
       "  'diptikh_polyarnyy-ural_dolina-reki-sob_levyy_2012_bum_akv_100x70_1.webp'),\n",
       " ('Август на Ямале_2009_Бум_акв_61х86 (1).webp',\n",
       "  'avgust-na-yamale_2009_bum_akv_86x61_1.webp'),\n",
       " ('Август на Ямале_2009_Бум_акв_61х86 (3).webp',\n",
       "  'avgust-na-yamale_2009_bum_akv_86x61_3.webp'),\n",
       " ('Август на Ямале_2009_Бум_акв_61х86 (2).webp',\n",
       "  'avgust-na-yamale_2009_bum_akv_86x61_2.webp'),\n",
       " ('Норвегия_Лофотенские острова_2010_Бум_акв_70х100 (2).webp',\n",
       "  'norvegiya_lofotenskie-ostrova_2010_bum_akv_100x70_2.webp'),\n",
       " ('Норвегия_Лофотенские острова_2010_Бум_акв_70х100 (1).webp',\n",
       "  'norvegiya_lofotenskie-ostrova_2010_bum_akv_100x70_1.webp'),\n",
       " ('Архипелаг_Кузова_на Белом море_2006_Бум_акв_35х86 (2).webp',\n",
       "  'arkhipelag_kuzova_na-belom-more_2006_bum_akv_86x35_2.webp'),\n",
       " ('Архипелаг_Кузова_на Белом море_2006_Бум_акв_35х86 (1).webp',\n",
       "  'arkhipelag_kuzova_na-belom-more_2006_bum_akv_86x35_1.webp'),\n",
       " ('Полярный Урал. Гора Рай Из_2010_Бум_акв_70х100 (1).webp',\n",
       "  'polyarnyy-ural_gora-ray-iz_2010_bum_akv_100x70_1.webp'),\n",
       " ('Полярный Урал. Гора Рай Из_2010_Бум_акв_70х100 (2).webp',\n",
       "  'polyarnyy-ural_gora-ray-iz_2010_bum_akv_100x70_2.webp'),\n",
       " ('Полярный Урал. Гора Рай Из_2010_Бум_акв_70х100 (3).webp',\n",
       "  'polyarnyy-ural_gora-ray-iz_2010_bum_akv_100x70_3.webp'),\n",
       " ('Водопады на горе Рай Из_2013_Бум_акв_70х100 (1).webp',\n",
       "  'vodopady-na-gore-ray-iz_2013_bum_akv_100x70_1.webp'),\n",
       " ('Водопады на горе Рай Из_2013_Бум_акв_70х100 (3).webp',\n",
       "  'vodopady-na-gore-ray-iz_2013_bum_akv_100x70_3.webp'),\n",
       " ('Водопады на горе Рай Из_2013_Бум_акв_70х100 (2).webp',\n",
       "  'vodopady-na-gore-ray-iz_2013_bum_akv_100x70_2.webp'),\n",
       " ('Седой Великан Урала_2018_Бум_ акв_70х100 (1).webp',\n",
       "  'sedoy-velikan-urala_2018_bum_akv_100x70_1.webp'),\n",
       " ('Седой Великан Урала_2018_Бум_ акв_70х100 (2).webp',\n",
       "  'sedoy-velikan-urala_2018_bum_akv_100x70_2.webp'),\n",
       " ('Зима на Рай Из_2023_Бум_акв_23х40 (2).webp',\n",
       "  'zima-na-ray-iz_2023_bum_akv_40x23_2.webp'),\n",
       " ('Зима на Рай Из_2023_Бум_акв_23х40 (1).webp',\n",
       "  'zima-na-ray-iz_2023_bum_akv_40x23_1.webp'),\n",
       " ('Берега озера Хадата_2018_Бум_акв_70х100 (3).webp',\n",
       "  'berega-ozera-khadata_2018_bum_akv_100x70_3.webp'),\n",
       " ('Берега озера Хадата_2018_Бум_акв_70х100 (2).webp',\n",
       "  'berega-ozera-khadata_2018_bum_akv_100x70_2.webp'),\n",
       " ('Берега озера Хадата_2018_Бум_акв_70х100 (1).webp',\n",
       "  'berega-ozera-khadata_2018_bum_akv_100x70_1.webp'),\n",
       " ('Ямал_Золотая осень_2021_Бум_акв_20х50 (1).webp',\n",
       "  'yamal_zolotaya-osen_2021_bum_akv_50x20_1.webp'),\n",
       " ('Ямал_Золотая осень_2021_Бум_акв_20х50 (2).webp',\n",
       "  'yamal_zolotaya-osen_2021_bum_akv_50x20_2.webp'),\n",
       " ('Архыз_Солнечный день_2023_Бум_акв_23х40 (1).webp',\n",
       "  'arkhyz_solnechnyy-den_2023_bum_akv_40x23_1.webp'),\n",
       " ('Архыз_Солнечный день_2023_Бум_акв_23х40 (3).webp',\n",
       "  'arkhyz_solnechnyy-den_2023_bum_akv_40x23_3.webp'),\n",
       " ('Архыз_Солнечный день_2023_Бум_акв_23х40 (2).webp',\n",
       "  'arkhyz_solnechnyy-den_2023_bum_akv_40x23_2.webp'),\n",
       " ('Ямал_Осень на реке Собь_2007_Бум_акв_60х86 (2).webp',\n",
       "  'yamal_osen-na-reke-sob_2007_bum_akv_86x60_2.webp'),\n",
       " ('Ямал_Осень на реке Собь_2007_Бум_акв_60х86 (1).webp',\n",
       "  'yamal_osen-na-reke-sob_2007_bum_akv_86x60_1.webp'),\n",
       " ('Осеннее утро. Ямал_2009_Бум_акв_50х70 (2).webp',\n",
       "  'osennee-utro_yamal_2009_bum_akv_70x50_2.webp'),\n",
       " ('Осеннее утро. Ямал_2009_Бум_акв_50х70 (3).webp',\n",
       "  'osennee-utro_yamal_2009_bum_akv_70x50_3.webp'),\n",
       " ('Осеннее утро. Ямал_2009_Бум_акв_50х70 (1).webp',\n",
       "  'osennee-utro_yamal_2009_bum_akv_70x50_1.webp'),\n",
       " ('Белая ночь на Белом море_2007_Бум_акв_60х86 (2).webp',\n",
       "  'belaya-noch-na-belom-more_2007_bum_akv_86x60_2.webp'),\n",
       " ('Белая ночь на Белом море_2007_Бум_акв_60х86 (1).webp',\n",
       "  'belaya-noch-na-belom-more_2007_bum_akv_86x60_1.webp'),\n",
       " ('Полярный Урал_Гора Рай Из_2023_Бум_акв_100х170 (5).webp',\n",
       "  'polyarnyy-ural_gora-ray-iz_2023_bum_akv_170x100_5.webp'),\n",
       " ('Полярный Урал_Гора Рай Из_2023_Бум_акв_100х170 (1).webp',\n",
       "  'polyarnyy-ural_gora-ray-iz_2023_bum_akv_170x100_1.webp'),\n",
       " ('Полярный Урал_Гора Рай Из_2023_Бум_акв_100х170 (4).webp',\n",
       "  'polyarnyy-ural_gora-ray-iz_2023_bum_akv_170x100_4.webp'),\n",
       " ('Полярный Урал_Гора Рай Из_2023_Бум_акв_100х170 (2).webp',\n",
       "  'polyarnyy-ural_gora-ray-iz_2023_bum_akv_170x100_2.webp'),\n",
       " ('Полярный Урал_Гора Рай Из_2023_Бум_акв_100х170 (3).webp',\n",
       "  'polyarnyy-ural_gora-ray-iz_2023_bum_akv_170x100_3.webp'),\n",
       " ('Диптих_Полярный Урал_Долина реки Собь_правый_2012_Бум_акв_70х100 (2).webp',\n",
       "  'diptikh_polyarnyy-ural_dolina-reki-sob_pravyy_2012_bum_akv_100x70_2.webp'),\n",
       " ('Диптих_Полярный Урал_Долина реки Собь_правый_2012_Бум_акв_70х100 (3).webp',\n",
       "  'diptikh_polyarnyy-ural_dolina-reki-sob_pravyy_2012_bum_akv_100x70_3.webp'),\n",
       " ('Диптих_Полярный Урал_Долина реки Собь_правый_2012_Бум_акв_70х100 (1).webp',\n",
       "  'diptikh_polyarnyy-ural_dolina-reki-sob_pravyy_2012_bum_akv_100x70_1.webp'),\n",
       " ('Тундра_2006_Бум_акв_61х85 (2).webp', 'tundra_2006_bum_akv_85x61_2.webp'),\n",
       " ('Тундра_2006_Бум_акв_61х85 (1).webp', 'tundra_2006_bum_akv_85x61_1.webp'),\n",
       " ('Мираж над Белым морем мороз дорисовал_2006_Бум_акв_61х86 (2).webp',\n",
       "  'mirazh-nad-belym-morem-moroz-dorisoval_2006_bum_akv_86x61_2.webp'),\n",
       " ('Мираж над Белым морем мороз дорисовал_2006_Бум_акв_61х86 (1).webp',\n",
       "  'mirazh-nad-belym-morem-moroz-dorisoval_2006_bum_akv_86x61_1.webp'),\n",
       " ('Полярный Урал_Изумрудное озеро_ 2015_Бум_акв_70х100 (2).webp',\n",
       "  'polyarnyy-ural_izumrudnoe-ozero_2015_bum_akv_100x70_2.webp'),\n",
       " ('Полярный Урал_Изумрудное озеро_ 2015_Бум_акв_70х100 (1).webp',\n",
       "  'polyarnyy-ural_izumrudnoe-ozero_2015_bum_akv_100x70_1.webp'),\n",
       " ('Заполярный Урал_Щучье озеро_2012_Бум_акв_50х100 (1).webp',\n",
       "  'zapolyarnyy-ural_shchuche-ozero_2012_bum_akv_100x50_1.webp'),\n",
       " ('Заполярный Урал_Щучье озеро_2012_Бум_акв_50х100 (2).webp',\n",
       "  'zapolyarnyy-ural_shchuche-ozero_2012_bum_akv_100x50_2.webp'),\n",
       " ('Тундра_2009_Бум_акв_61х86 (2).webp', 'tundra_2009_bum_akv_86x61_2.webp'),\n",
       " ('Тундра_2009_Бум_акв_61х86 (1).webp', 'tundra_2009_bum_akv_86x61_1.webp'),\n",
       " ('Заросшее озеро_Ямал_2006_Бум_акв_60х86 (1).webp',\n",
       "  'zarosshee-ozero_yamal_2006_bum_akv_86x60_1.webp'),\n",
       " ('Заросшее озеро_Ямал_2006_Бум_акв_60х86 (2).webp',\n",
       "  'zarosshee-ozero_yamal_2006_bum_akv_86x60_2.webp'),\n",
       " ('Полярный Урал_Розовое зимнее утро_2023_Бум_акв_50х100 (2).webp',\n",
       "  'polyarnyy-ural_rozovoe-zimnee-utro_2023_bum_akv_100x50_2.webp'),\n",
       " ('Полярный Урал_Розовое зимнее утро_2023_Бум_акв_50х100 (1).webp',\n",
       "  'polyarnyy-ural_rozovoe-zimnee-utro_2023_bum_akv_100x50_1.webp'),\n",
       " ('Диптих_На просторах устья реки Обь_ Ямал_левый_2012_Бум_акв_70х100 (1).webp',\n",
       "  'diptikh_na-prostorakh-ustya-reki-ob-yamal_levyy_2012_bum_akv_100x70_1.webp'),\n",
       " ('Диптих_На просторах устья реки Обь_ Ямал_левый_2012_Бум_акв_70х100 (2).webp',\n",
       "  'diptikh_na-prostorakh-ustya-reki-ob-yamal_levyy_2012_bum_akv_100x70_2.webp'),\n",
       " ('Диптих_На просторах устья реки Обь_ Ямал_левый_2012_Бум_акв_70х100 (3).webp',\n",
       "  'diptikh_na-prostorakh-ustya-reki-ob-yamal_levyy_2012_bum_akv_100x70_3.webp'),\n",
       " ('Ямал_Морозный день_2023_Бум_акв_25х40 (2).webp',\n",
       "  'yamal_moroznyy-den_2023_bum_akv_40x25_2.webp'),\n",
       " ('Ямал_Морозный день_2023_Бум_акв_25х40 (1).webp',\n",
       "  'yamal_moroznyy-den_2023_bum_akv_40x25_1.webp'),\n",
       " ('Ямал_Осенняя тундра_2009_Бум_акв_70х100 (3).webp',\n",
       "  'yamal_osennyaya-tundra_2009_bum_akv_100x70_3.webp'),\n",
       " ('Ямал_Осенняя тундра_2009_Бум_акв_70х100 (1).webp',\n",
       "  'yamal_osennyaya-tundra_2009_bum_akv_100x70_1.webp'),\n",
       " ('Ямал_Осенняя тундра_2009_Бум_акв_70х100 (2).webp',\n",
       "  'yamal_osennyaya-tundra_2009_bum_akv_100x70_2.webp'),\n",
       " ('Софийский ледник_Архыз_2023_Бум_акв_31х41 (2).webp',\n",
       "  'sofiyskiy-lednik_arkhyz_2023_bum_akv_41x31_2.webp'),\n",
       " ('Софийский ледник_Архыз_2023_Бум_акв_31х41 (1).webp',\n",
       "  'sofiyskiy-lednik_arkhyz_2023_bum_akv_41x31_1.webp'),\n",
       " ('Тучи надвигаются_2015_Бум_акв_70х100 (1).webp',\n",
       "  'tuchi-nadvigayutsya_2015_bum_akv_100x70_1.webp'),\n",
       " ('Тучи надвигаются_2015_Бум_акв_70х100 (2).webp',\n",
       "  'tuchi-nadvigayutsya_2015_bum_akv_100x70_2.webp'),\n",
       " ('Ямал_Дельта реки Обь_2009_Бум_акв_35х100 (2).webp',\n",
       "  'yamal_delta-reki-ob_2009_bum_akv_100x35_2.webp'),\n",
       " ('Ямал_Дельта реки Обь_2009_Бум_акв_35х100 (1).webp',\n",
       "  'yamal_delta-reki-ob_2009_bum_akv_100x35_1.webp'),\n",
       " ('Заполярный Урал_Щучье озеро_2018_Бум_акв_41х100 (2).webp',\n",
       "  'zapolyarnyy-ural_shchuche-ozero_2018_bum_akv_100x41_2.webp'),\n",
       " ('Заполярный Урал_Щучье озеро_2018_Бум_акв_41х100 (1).webp',\n",
       "  'zapolyarnyy-ural_shchuche-ozero_2018_bum_akv_100x41_1.webp'),\n",
       " ('Заполярный Урал_Озеро Хадата_2021_Бум_акв_35х70 (1).webp',\n",
       "  'zapolyarnyy-ural_ozero-khadata_2021_bum_akv_70x35_1.webp'),\n",
       " ('Заполярный Урал_Озеро Хадата_2021_Бум_акв_35х70 (2).webp',\n",
       "  'zapolyarnyy-ural_ozero-khadata_2021_bum_akv_70x35_2.webp'),\n",
       " ('Белая ночь на Белом море_2008_Бум_акв_60х86 (2).webp',\n",
       "  'belaya-noch-na-belom-more_2008_bum_akv_86x60_2.webp'),\n",
       " ('Белая ночь на Белом море_2008_Бум_акв_60х86 (1).webp',\n",
       "  'belaya-noch-na-belom-more_2008_bum_akv_86x60_1.webp'),\n",
       " ('Архыз_2023_Бум_акв_70х100 (3).webp', 'arkhyz_2023_bum_akv_100x70_3.webp'),\n",
       " ('Архыз_2023_Бум_акв_70х100 (2).webp', 'arkhyz_2023_bum_akv_100x70_2.webp'),\n",
       " ('Архыз_2023_Бум_акв_70х100 (1).webp', 'arkhyz_2023_bum_akv_100x70_1.webp'),\n",
       " ('Ямал_Река Кэр Доман-Шор_2022_Бум_акв_45х67 (1).webp',\n",
       "  'yamal_reka-ker-doman-shor_2022_bum_akv_67x45_1.webp'),\n",
       " ('Ямал_Река Кэр Доман-Шор_2022_Бум_акв_45х67 (2).webp',\n",
       "  'yamal_reka-ker-doman-shor_2022_bum_akv_67x45_2.webp'),\n",
       " ('Водопад на Полярном Урале_2022_Бум_акв_50х40 (1).webp',\n",
       "  'vodopad-na-polyarnom-urale_2022_bum_akv_40x50_1.webp'),\n",
       " ('Водопад на Полярном Урале_2022_Бум_акв_50х40 (2).webp',\n",
       "  'vodopad-na-polyarnom-urale_2022_bum_akv_40x50_2.webp'),\n",
       " ('Заполярный Урал_Щучье озеро_2018_Бум_акв_27х39 (2).webp',\n",
       "  'zapolyarnyy-ural_shchuche-ozero_2018_bum_akv_39x27_2.webp'),\n",
       " ('Заполярный Урал_Щучье озеро_2018_Бум_акв_27х39 (1).webp',\n",
       "  'zapolyarnyy-ural_shchuche-ozero_2018_bum_akv_39x27_1.webp'),\n",
       " ('Заполярный Урал_Озеро Хадата_2023_Бум_акв_34х94 (2).webp',\n",
       "  'zapolyarnyy-ural_ozero-khadata_2023_bum_akv_94x34_2.webp'),\n",
       " ('Заполярный Урал_Озеро Хадата_2023_Бум_акв_34х94 (1).webp',\n",
       "  'zapolyarnyy-ural_ozero-khadata_2023_bum_akv_94x34_1.webp'),\n",
       " ('Нарьян Мар_Река Куя_2013_Бум_акв_55х75 (3).webp',\n",
       "  'naryan-mar_reka-kuya_2013_bum_akv_75x55_3.webp'),\n",
       " ('Нарьян Мар_Река Куя_2013_Бум_акв_55х75 (1).webp',\n",
       "  'naryan-mar_reka-kuya_2013_bum_akv_75x55_1.webp'),\n",
       " ('Нарьян Мар_Река Куя_2013_Бум_акв_55х75 (2).webp',\n",
       "  'naryan-mar_reka-kuya_2013_bum_akv_75x55_2.webp'),\n",
       " ('Ямал_Конец августа_2008_Бум_акв_59х100 (1).webp',\n",
       "  'yamal_konets-avgusta_2008_bum_akv_100x59_1.webp'),\n",
       " ('Ямал_Конец августа_2008_Бум_акв_59х100 (2).webp',\n",
       "  'yamal_konets-avgusta_2008_bum_akv_100x59_2.webp'),\n",
       " ('Нормандия_Ла Манш_2019_Бум_акв_40х60 (2).webp',\n",
       "  'normandiya_la-mansh_2019_bum_akv_60x40_2.webp'),\n",
       " ('Нормандия_Ла Манш_2019_Бум_акв_40х60 (1).webp',\n",
       "  'normandiya_la-mansh_2019_bum_akv_60x40_1.webp'),\n",
       " ('Горная река_Полярный Урал_2019_Бум_аква_46х61 (1).webp',\n",
       "  'gornaya-reka_polyarnyy-ural_2019_bum_akva_61x46_1.webp'),\n",
       " ('Горная река_Полярный Урал_2019_Бум_аква_46х61 (2).webp',\n",
       "  'gornaya-reka_polyarnyy-ural_2019_bum_akva_61x46_2.webp'),\n",
       " ('Вёль ле Роз_Отлив_2019_Бум_акв_35х60 (1).webp',\n",
       "  'vyol-le-roz_otliv_2019_bum_akv_60x35_1.webp'),\n",
       " ('Вёль ле Роз_Отлив_2019_Бум_акв_35х60 (2).webp',\n",
       "  'vyol-le-roz_otliv_2019_bum_akv_60x35_2.webp'),\n",
       " ('Заполярный_Урал_Озеро Хадата_2019. Бум_акв_46х61 (1).webp',\n",
       "  'zapolyarnyy_ural_ozero-khadata_2019-bum_akv_61x46_1.webp'),\n",
       " ('Заполярный_Урал_Озеро Хадата_2019. Бум_акв_46х61 (2).webp',\n",
       "  'zapolyarnyy_ural_ozero-khadata_2019-bum_akv_61x46_2.webp'),\n",
       " ('Белое море_2013. Бум_акв_70х100 (2).webp',\n",
       "  'beloe-more_2013-bum_akv_100x70_2.webp'),\n",
       " ('Белое море_2013. Бум_акв_70х100 (1).webp',\n",
       "  'beloe-more_2013-bum_akv_100x70_1.webp'),\n",
       " ('Белая ночь на Кузовах_2014_Бум_акв_70х100 (1).webp',\n",
       "  'belaya-noch-na-kuzovakh_2014_bum_akv_100x70_1.webp'),\n",
       " ('Белая ночь на Кузовах_2014_Бум_акв_70х100 (2).webp',\n",
       "  'belaya-noch-na-kuzovakh_2014_bum_akv_100x70_2.webp'),\n",
       " ('Море и небо_2017_Бум_акв_70х100 (2).webp',\n",
       "  'more-i-nebo_2017_bum_akv_100x70_2.webp'),\n",
       " ('Море и небо_2017_Бум_акв_70х100 (1).webp',\n",
       "  'more-i-nebo_2017_bum_akv_100x70_1.webp'),\n",
       " ('Ямал_Река Бурхойла_Сентябрь_2021_Бум_ акв_70х100 (1).webp',\n",
       "  'yamal_reka-burkhoyla_sentyabr_2021_bum_akv_100x70_1.webp'),\n",
       " ('Ямал_Река Бурхойла_Сентябрь_2021_Бум_ акв_70х100 (2).webp',\n",
       "  'yamal_reka-burkhoyla_sentyabr_2021_bum_akv_100x70_2.webp'),\n",
       " ('Белое море. Утро на Кузовах_2013_Бум_акв_70х100 (1).webp',\n",
       "  'beloe-more_utro-na-kuzovakh_2013_bum_akv_100x70_1.webp')]"
      ]
     },
     "execution_count": 16,
     "metadata": {},
     "output_type": "execute_result"
    }
   ],
   "source": [
    "# Get rename list\n",
    "rename_list = []\n",
    "[rename_list.extend(value['File']) for name, value in parsed_data_dict.items()]\n",
    "print(len(rename_list))\n",
    "rename_list"
   ]
  },
  {
   "cell_type": "code",
   "execution_count": 17,
   "id": "fe839215",
   "metadata": {},
   "outputs": [
    {
     "name": "stdout",
     "output_type": "stream",
     "text": [
      "Renamed: Полярный Урал_2010_Бум_акв_60х86 (1).webp -> polyarnyy-ural_2010_bum_akv_86x60_1.webp\n",
      "Renamed: Полярный Урал_2010_Бум_акв_60х86 (2).webp -> polyarnyy-ural_2010_bum_akv_86x60_2.webp\n",
      "Renamed: Белое море. Апрель_2007_Бум_акв_60х86  (1).webp -> beloe-more_aprel_2007_bum_akv_86x60_1.webp\n",
      "Renamed: Белое море. Апрель_2007_Бум_акв_60х86  (2).webp -> beloe-more_aprel_2007_bum_akv_86x60_2.webp\n",
      "Renamed: Белое море_Туманное утро_2007_Бум_акв_60х80 (2).webp -> beloe-more_tumannoe-utro_2007_bum_akv_80x60_2.webp\n",
      "Renamed: Белое море_Туманное утро_2007_Бум_акв_60х80 (1).webp -> beloe-more_tumannoe-utro_2007_bum_akv_80x60_1.webp\n",
      "Renamed: Урал_Гора Рай Из_2012_Бум_акв__70х100 (2).webp -> ural_gora-ray-iz_2012_bum_akv_100x70_2.webp\n",
      "Renamed: Урал_Гора Рай Из_2012_Бум_акв__70х100 (1).webp -> ural_gora-ray-iz_2012_bum_akv_100x70_1.webp\n",
      "Renamed: Морозное осеннее утро_2008_Бум_акв_70х100 (3).webp -> moroznoe-osennee-utro_2008_bum_akv_100x70_3.webp\n",
      "Renamed: Морозное осеннее утро_2008_Бум_акв_70х100 (1).webp -> moroznoe-osennee-utro_2008_bum_akv_100x70_1.webp\n",
      "Renamed: Морозное осеннее утро_2008_Бум_акв_70х100 (2).webp -> moroznoe-osennee-utro_2008_bum_akv_100x70_2.webp\n",
      "Renamed: Белое море_Рыбацкие сети_2007_Бум_ акв_60х86  (1).webp -> beloe-more_rybatskie-seti_2007_bum_akv_86x60_1.webp\n",
      "Renamed: Белое море_Рыбацкие сети_2007_Бум_ акв_60х86  (2).webp -> beloe-more_rybatskie-seti_2007_bum_akv_86x60_2.webp\n",
      "Renamed: Небо_Море_Камни_2019_Бум_акв_70х100 (1).webp -> nebo_more_kamni_2019_bum_akv_100x70_1.webp\n",
      "Renamed: Небо_Море_Камни_2019_Бум_акв_70х100 (2).webp -> nebo_more_kamni_2019_bum_akv_100x70_2.webp\n",
      "Renamed: Уральский водопад_2015_Бум_акв_70х100 (1).webp -> uralskiy-vodopad_2015_bum_akv_100x70_1.webp\n",
      "Renamed: Уральский водопад_2015_Бум_акв_70х100 (2).webp -> uralskiy-vodopad_2015_bum_akv_100x70_2.webp\n",
      "Renamed: Ямал_Туманное утро на реке Харбей_2012_Бум_акв_70х100 (1).webp -> yamal_tumannoe-utro-na-reke-kharbey_2012_bum_akv_100x70_1.webp\n",
      "Renamed: Ямал_Туманное утро на реке Харбей_2012_Бум_акв_70х100 (2).webp -> yamal_tumannoe-utro-na-reke-kharbey_2012_bum_akv_100x70_2.webp\n",
      "Renamed: Ямал_Ущелье реки Харбей_2012_Бум_акв_70х150 (2).webp -> yamal_ushchele-reki-kharbey_2012_bum_akv_150x70_2.webp\n",
      "Renamed: Ямал_Ущелье реки Харбей_2012_Бум_акв_70х150 (4).webp -> yamal_ushchele-reki-kharbey_2012_bum_akv_150x70_4.webp\n",
      "Renamed: Ямал_Ущелье реки Харбей_2012_Бум_акв_70х150 (3).webp -> yamal_ushchele-reki-kharbey_2012_bum_akv_150x70_3.webp\n",
      "Renamed: Ямал_Ущелье реки Харбей_2012_Бум_акв_70х150 (1).webp -> yamal_ushchele-reki-kharbey_2012_bum_akv_150x70_1.webp\n",
      "Renamed: Берег Белого моря_ 2007_Бум_акв_60х75 (3).webp -> bereg-belogo-morya_2007_bum_akv_75x60_3.webp\n",
      "Renamed: Берег Белого моря_ 2007_Бум_акв_60х75 (2).webp -> bereg-belogo-morya_2007_bum_akv_75x60_2.webp\n",
      "Renamed: Берег Белого моря_ 2007_Бум_акв_60х75 (1).webp -> bereg-belogo-morya_2007_bum_akv_75x60_1.webp\n",
      "Renamed: Полярный Урал. Дождь пошёл_2012_Бум_акв_70х100 (3).webp -> polyarnyy-ural_dozhd-poshyol_2012_bum_akv_100x70_3.webp\n",
      "Renamed: Полярный Урал. Дождь пошёл_2012_Бум_акв_70х100 (1).webp -> polyarnyy-ural_dozhd-poshyol_2012_bum_akv_100x70_1.webp\n",
      "Renamed: Полярный Урал. Дождь пошёл_2012_Бум_акв_70х100 (2).webp -> polyarnyy-ural_dozhd-poshyol_2012_bum_akv_100x70_2.webp\n",
      "Renamed: Осень на Елагином острове_2014_Бум_акв_70х100 (2).webp -> osen-na-elaginom-ostrove_2014_bum_akv_100x70_2.webp\n",
      "Renamed: Осень на Елагином острове_2014_Бум_акв_70х100 (1).webp -> osen-na-elaginom-ostrove_2014_bum_akv_100x70_1.webp\n",
      "Renamed: Речной порт в Салехарде_2012_Бум_акв_40х86 (2).webp -> rechnoy-port-v-salekharde_2012_bum_akv_86x40_2.webp\n",
      "Renamed: Речной порт в Салехарде_2012_Бум_акв_40х86 (1).webp -> rechnoy-port-v-salekharde_2012_bum_akv_86x40_1.webp\n",
      "Renamed: Речной порт в Салехарде_2012_Бум_акв_40х86 (3).webp -> rechnoy-port-v-salekharde_2012_bum_akv_86x40_3.webp\n",
      "Renamed: На закате_2009_Бум_акв_70х100 (1).webp -> na-zakate_2009_bum_akv_100x70_1.webp\n",
      "Renamed: На закате_2009_Бум_акв_70х100 (2).webp -> na-zakate_2009_bum_akv_100x70_2.webp\n",
      "Renamed: Морской простор_2020_Бум_акв_100х300 (4).webp -> morskoy-prostor_2020_bum_akv_300x100_4.webp\n",
      "Renamed: Морской простор_2020_Бум_акв_100х300 (2).webp -> morskoy-prostor_2020_bum_akv_300x100_2.webp\n",
      "Renamed: Морской простор_2020_Бум_акв_100х300 (1).webp -> morskoy-prostor_2020_bum_akv_300x100_1.webp\n",
      "Renamed: Морской простор_2020_Бум_акв_100х300 (3).webp -> morskoy-prostor_2020_bum_akv_300x100_3.webp\n",
      "Renamed: Август на Ямале_2006_Бум_акв_60х86 (2).webp -> avgust-na-yamale_2006_bum_akv_86x60_2.webp\n",
      "Renamed: Август на Ямале_2006_Бум_акв_60х86 (1).webp -> avgust-na-yamale_2006_bum_akv_86x60_1.webp\n",
      "Renamed: Заполярный Урал_Озеро Хадата_2018_Бум_акв_100х360 (1).webp -> zapolyarnyy-ural_ozero-khadata_2018_bum_akv_360x100_1.webp\n",
      "Renamed: Заполярный Урал_Озеро Хадата_2018_Бум_акв_100х360 (2).webp -> zapolyarnyy-ural_ozero-khadata_2018_bum_akv_360x100_2.webp\n",
      "Renamed: Заполярный Урал_Озеро Хадата_2018_Бум_акв_100х360 (4).webp -> zapolyarnyy-ural_ozero-khadata_2018_bum_akv_360x100_4.webp\n",
      "Renamed: Заполярный Урал_Озеро Хадата_2018_Бум_акв_100х360 (3).webp -> zapolyarnyy-ural_ozero-khadata_2018_bum_akv_360x100_3.webp\n",
      "Renamed: Заполярный Урал_Облака над Щучьем озером_2018_Бум_акв_70х100 (2).webp -> zapolyarnyy-ural_oblaka-nad-shchuchem-ozerom_2018_bum_akv_100x70_2.webp\n",
      "Renamed: Заполярный Урал_Облака над Щучьем озером_2018_Бум_акв_70х100 (1).webp -> zapolyarnyy-ural_oblaka-nad-shchuchem-ozerom_2018_bum_akv_100x70_1.webp\n",
      "Renamed: Ямал_Река Харбей_2019_Бум_акв_50х70 (2).webp -> yamal_reka-kharbey_2019_bum_akv_70x50_2.webp\n",
      "Renamed: Ямал_Река Харбей_2019_Бум_акв_50х70 (1).webp -> yamal_reka-kharbey_2019_bum_akv_70x50_1.webp\n",
      "Renamed: Карелия_Песчаное озеро_2010_Бум_акв_70х100 (2).webp -> kareliya_peschanoe-ozero_2010_bum_akv_100x70_2.webp\n",
      "Renamed: Карелия_Песчаное озеро_2010_Бум_акв_70х100 (1).webp -> kareliya_peschanoe-ozero_2010_bum_akv_100x70_1.webp\n",
      "Renamed: Белое море_Облака_2012_Бум_акв_70х100 (2).webp -> beloe-more_oblaka_2012_bum_akv_100x70_2.webp\n",
      "Renamed: Белое море_Облака_2012_Бум_акв_70х100 (1).webp -> beloe-more_oblaka_2012_bum_akv_100x70_1.webp\n",
      "Renamed: Соловецкий монастырь_2006_Бум_акв_61х86 (2).webp -> solovetskiy-monastyr_2006_bum_akv_86x61_2.webp\n",
      "Renamed: Соловецкий монастырь_2006_Бум_акв_61х86 (3).webp -> solovetskiy-monastyr_2006_bum_akv_86x61_3.webp\n",
      "Renamed: Соловецкий монастырь_2006_Бум_акв_61х86 (1).webp -> solovetskiy-monastyr_2006_bum_akv_86x61_1.webp\n",
      "Renamed: Ямал_Морозный день_2023_Бум_акв_50х100 (1).webp -> yamal_moroznyy-den_2023_bum_akv_100x50_1.webp\n",
      "Renamed: Ямал_Морозный день_2023_Бум_акв_50х100 (2).webp -> yamal_moroznyy-den_2023_bum_akv_100x50_2.webp\n",
      "Renamed: Ямал_Морозный день_2023_Бум_акв_50х100 (3).webp -> yamal_moroznyy-den_2023_bum_akv_100x50_3.webp\n",
      "Renamed: Осень на Ямале_2006_Бум_акв_34х70 (2).webp -> osen-na-yamale_2006_bum_akv_70x34_2.webp\n",
      "Renamed: Осень на Ямале_2006_Бум_акв_34х70 (1).webp -> osen-na-yamale_2006_bum_akv_70x34_1.webp\n",
      "Renamed: Осень на Ямале_2006_Бум_акв_34х70 (3).webp -> osen-na-yamale_2006_bum_akv_70x34_3.webp\n",
      "Renamed: Салехард_Обдорский острог_2009_Бум_акв_20х86 (3).webp -> salekhard_obdorskiy-ostrog_2009_bum_akv_86x20_3.webp\n",
      "Renamed: Салехард_Обдорский острог_2009_Бум_акв_20х86 (2).webp -> salekhard_obdorskiy-ostrog_2009_bum_akv_86x20_2.webp\n",
      "Renamed: Салехард_Обдорский острог_2009_Бум_акв_20х86 (1).webp -> salekhard_obdorskiy-ostrog_2009_bum_akv_86x20_1.webp\n",
      "Renamed: Нормандия_Дождливый день_2019_Бум_акв_40х60 (2).webp -> normandiya_dozhdlivyy-den_2019_bum_akv_60x40_2.webp\n",
      "Renamed: Нормандия_Дождливый день_2019_Бум_акв_40х60 (1).webp -> normandiya_dozhdlivyy-den_2019_bum_akv_60x40_1.webp\n",
      "Renamed: Буйство красок Севера_2011_Бум_акв_70х100 (1).webp -> buystvo-krasok-severa_2011_bum_akv_100x70_1.webp\n",
      "Renamed: Буйство красок Севера_2011_Бум_акв_70х100 (2).webp -> buystvo-krasok-severa_2011_bum_akv_100x70_2.webp\n",
      "Renamed: Небо и море_2013_Бум_акв_70х100 (2).webp -> nebo-i-more_2013_bum_akv_100x70_2.webp\n",
      "Renamed: Небо и море_2013_Бум_акв_70х100 (1).webp -> nebo-i-more_2013_bum_akv_100x70_1.webp\n",
      "Renamed: Небо и море_2013_Бум_акв_70х100 (3).webp -> nebo-i-more_2013_bum_akv_100x70_3.webp\n",
      "Renamed: Дождливый день_Карелия_2009_Бум_акв_60х86 (1).webp -> dozhdlivyy-den_kareliya_2009_bum_akv_86x60_1.webp\n",
      "Renamed: Дождливый день_Карелия_2009_Бум_акв_60х86 (2).webp -> dozhdlivyy-den_kareliya_2009_bum_akv_86x60_2.webp\n",
      "Renamed: Дождливый день_Карелия_2009_Бум_акв_60х86 (3).webp -> dozhdlivyy-den_kareliya_2009_bum_akv_86x60_3.webp\n",
      "Renamed: Полярный Урал_Исток реки Собь_2015_Бум_акв_100х340 (3).webp -> polyarnyy-ural_istok-reki-sob_2015_bum_akv_340x100_3.webp\n",
      "Renamed: Полярный Урал_Исток реки Собь_2015_Бум_акв_100х340 (1).webp -> polyarnyy-ural_istok-reki-sob_2015_bum_akv_340x100_1.webp\n",
      "Renamed: Полярный Урал_Исток реки Собь_2015_Бум_акв_100х340 (2).webp -> polyarnyy-ural_istok-reki-sob_2015_bum_akv_340x100_2.webp\n",
      "Renamed: Ямал. Долина реки Лангота_2013_Бум_акв_70х150 (2).webp -> yamal_dolina-reki-langota_2013_bum_akv_150x70_2.webp\n",
      "Renamed: Ямал. Долина реки Лангота_2013_Бум_акв_70х150 (3).webp -> yamal_dolina-reki-langota_2013_bum_akv_150x70_3.webp\n",
      "Renamed: Ямал. Долина реки Лангота_2013_Бум_акв_70х150 (1).webp -> yamal_dolina-reki-langota_2013_bum_akv_150x70_1.webp\n",
      "Renamed: Полярный Урал_Долина реки Собь_ 2013_Бум_акв_100х150 (3).webp -> polyarnyy-ural_dolina-reki-sob_2013_bum_akv_150x100_3.webp\n",
      "Renamed: Полярный Урал_Долина реки Собь_ 2013_Бум_акв_100х150 (2).webp -> polyarnyy-ural_dolina-reki-sob_2013_bum_akv_150x100_2.webp\n",
      "Renamed: Полярный Урал_Долина реки Собь_ 2013_Бум_акв_100х150 (1).webp -> polyarnyy-ural_dolina-reki-sob_2013_bum_akv_150x100_1.webp\n",
      "Renamed: Полярный Урал_Долина реки Собь_ 2013_Бум_акв_100х150 (4).webp -> polyarnyy-ural_dolina-reki-sob_2013_bum_akv_150x100_4.webp\n",
      "Renamed: Норвегия_Лофотены_2010_Бум_акв_70х100 (2).webp -> norvegiya_lofoteny_2010_bum_akv_100x70_2.webp\n",
      "Renamed: Норвегия_Лофотены_2010_Бум_акв_70х100 (1).webp -> norvegiya_lofoteny_2010_bum_akv_100x70_1.webp\n",
      "Renamed: Белое море_Рыбацкий остров_2006_Бум_акв_52х86 (1).webp -> beloe-more_rybatskiy-ostrov_2006_bum_akv_86x52_1.webp\n",
      "Renamed: Белое море_Рыбацкий остров_2006_Бум_акв_52х86 (2).webp -> beloe-more_rybatskiy-ostrov_2006_bum_akv_86x52_2.webp\n",
      "Renamed: Белое море_Рыбацкий остров_2006_Бум_акв_52х86 (3).webp -> beloe-more_rybatskiy-ostrov_2006_bum_akv_86x52_3.webp\n",
      "Renamed: Полярный Урал_Ущелье Конгор_2015_Бум_акв_100х340 (2).webp -> polyarnyy-ural_ushchele-kongor_2015_bum_akv_340x100_2.webp\n",
      "Renamed: Полярный Урал_Ущелье Конгор_2015_Бум_акв_100х340 (3).webp -> polyarnyy-ural_ushchele-kongor_2015_bum_akv_340x100_3.webp\n",
      "Renamed: Полярный Урал_Ущелье Конгор_2015_Бум_акв_100х340 (1).webp -> polyarnyy-ural_ushchele-kongor_2015_bum_akv_340x100_1.webp\n",
      "Renamed: Полярный Урал_Ущелье Конгор_2015_Бум_акв_100х340 (4).webp -> polyarnyy-ural_ushchele-kongor_2015_bum_akv_340x100_4.webp\n",
      "Renamed: Пороги на реке Сума. Карелия_2009_Бум_акв_70х100 (2).webp -> porogi-na-reke-suma_kareliya_2009_bum_akv_100x70_2.webp\n",
      "Renamed: Пороги на реке Сума. Карелия_2009_Бум_акв_70х100 (1).webp -> porogi-na-reke-suma_kareliya_2009_bum_akv_100x70_1.webp\n",
      "Renamed: Водопад в облаках_2012_Бум_ак_100х70 (3).webp -> vodopad-v-oblakakh_2012_bum_ak_70x100_3.webp\n",
      "Renamed: Водопад в облаках_2012_Бум_ак_100х70 (2).webp -> vodopad-v-oblakakh_2012_bum_ak_70x100_2.webp\n",
      "Renamed: Водопад в облаках_2012_Бум_ак_100х70 (1).webp -> vodopad-v-oblakakh_2012_bum_ak_70x100_1.webp\n",
      "Renamed: На берегу озера Хадата_2018_Бум_акв_100х360 (4).webp -> na-beregu-ozera-khadata_2018_bum_akv_360x100_4.webp\n",
      "Renamed: На берегу озера Хадата_2018_Бум_акв_100х360 (2).webp -> na-beregu-ozera-khadata_2018_bum_akv_360x100_2.webp\n",
      "Renamed: На берегу озера Хадата_2018_Бум_акв_100х360 (1).webp -> na-beregu-ozera-khadata_2018_bum_akv_360x100_1.webp\n",
      "Renamed: На берегу озера Хадата_2018_Бум_акв_100х360 (3).webp -> na-beregu-ozera-khadata_2018_bum_akv_360x100_3.webp\n",
      "Renamed: Ямал_Август_2008_Бум_акв_50х100 (1).webp -> yamal_avgust_2008_bum_akv_100x50_1.webp\n",
      "Renamed: Ямал_Август_2008_Бум_акв_50х100 (2).webp -> yamal_avgust_2008_bum_akv_100x50_2.webp\n",
      "Renamed: Карелия_Сумской порог_2010_Бум_акв_70х100 (1).webp -> kareliya_sumskoy-porog_2010_bum_akv_100x70_1.webp\n",
      "Renamed: Карелия_Сумской порог_2010_Бум_акв_70х100 (2).webp -> kareliya_sumskoy-porog_2010_bum_akv_100x70_2.webp\n",
      "Renamed: Преображенский собор Соловецкого монастыря_2007_Бум_акв_61х85 (2).webp -> preobrazhenskiy-sobor-solovetskogo-monastyrya_2007_bum_akv_85x61_2.webp\n",
      "Renamed: Преображенский собор Соловецкого монастыря_2007_Бум_акв_61х85 (1).webp -> preobrazhenskiy-sobor-solovetskogo-monastyrya_2007_bum_akv_85x61_1.webp\n",
      "Renamed: Баня геологов_2006_Бум_акв_50х67 (1).webp -> banya-geologov_2006_bum_akv_67x50_1.webp\n",
      "Renamed: Баня геологов_2006_Бум_акв_50х67 (2).webp -> banya-geologov_2006_bum_akv_67x50_2.webp\n",
      "Renamed: Уральские горы_2006_Бум_акв_61х85 (3).webp -> uralskie-gory_2006_bum_akv_85x61_3.webp\n",
      "Renamed: Уральские горы_2006_Бум_акв_61х85 (2).webp -> uralskie-gory_2006_bum_akv_85x61_2.webp\n",
      "Renamed: Уральские горы_2006_Бум_акв_61х85 (1).webp -> uralskie-gory_2006_bum_akv_85x61_1.webp\n",
      "Renamed: Облака над Белым морем_2008_Бум_акв_ 60х86 (2).webp -> oblaka-nad-belym-morem_2008_bum_akv_86x60_2.webp\n",
      "Renamed: Облака над Белым морем_2008_Бум_акв_ 60х86 (1).webp -> oblaka-nad-belym-morem_2008_bum_akv_86x60_1.webp\n",
      "Renamed: Просторы Белого моря_Кузова_2015_Бум_акв_100х280 (3).webp -> prostory-belogo-morya_kuzova_2015_bum_akv_280x100_3.webp\n",
      "Renamed: Просторы Белого моря_Кузова_2015_Бум_акв_100х280 (1).webp -> prostory-belogo-morya_kuzova_2015_bum_akv_280x100_1.webp\n",
      "Renamed: Просторы Белого моря_Кузова_2015_Бум_акв_100х280 (2).webp -> prostory-belogo-morya_kuzova_2015_bum_akv_280x100_2.webp\n",
      "Renamed: Просторы Белого моря_Кузова_2015_Бум_акв_100х280 (4).webp -> prostory-belogo-morya_kuzova_2015_bum_akv_280x100_4.webp\n",
      "Renamed: Диптих_На просторах устья реки Обь_Ямал_правый_2012_Бум_акв_70х100 (2).webp -> diptikh_na-prostorakh-ustya-reki-ob_yamal_pravyy_2012_bum_akv_100x70_2.webp\n",
      "Renamed: Диптих_На просторах устья реки Обь_Ямал_правый_2012_Бум_акв_70х100 (1).webp -> diptikh_na-prostorakh-ustya-reki-ob_yamal_pravyy_2012_bum_akv_100x70_1.webp\n",
      "Renamed: Байкал_2012_Бум_акв_35х50 (2).webp -> baykal_2012_bum_akv_50x35_2.webp\n",
      "Renamed: Байкал_2012_Бум_акв_35х50 (1).webp -> baykal_2012_bum_akv_50x35_1.webp\n",
      "Renamed: Карелия_Остров Сосновец_2007_Бум_акв_70х100 (1).webp -> kareliya_ostrov-sosnovets_2007_bum_akv_100x70_1.webp\n",
      "Renamed: Карелия_Остров Сосновец_2007_Бум_акв_70х100 (2).webp -> kareliya_ostrov-sosnovets_2007_bum_akv_100x70_2.webp\n",
      "Renamed: Ямал_Заросшее озеро_2006_Бум_акв_60х86 (2).webp -> yamal_zarosshee-ozero_2006_bum_akv_86x60_2.webp\n",
      "Renamed: Ямал_Заросшее озеро_2006_Бум_акв_60х86 (1).webp -> yamal_zarosshee-ozero_2006_bum_akv_86x60_1.webp\n",
      "Renamed: Ямал_Река Харбей_2012_Бум_акв_70х100 (3).webp -> yamal_reka-kharbey_2012_bum_akv_100x70_3.webp\n",
      "Renamed: Ямал_Река Харбей_2012_Бум_акв_70х100 (2).webp -> yamal_reka-kharbey_2012_bum_akv_100x70_2.webp\n",
      "Renamed: Ямал_Река Харбей_2012_Бум_акв_70х100 (1).webp -> yamal_reka-kharbey_2012_bum_akv_100x70_1.webp\n",
      "Renamed: На Белом море_Зима уходит_2007_Бум_акв_61х85 (1).webp -> na-belom-more_zima-ukhodit_2007_bum_akv_85x61_1.webp\n",
      "Renamed: На Белом море_Зима уходит_2007_Бум_акв_61х85 (2).webp -> na-belom-more_zima-ukhodit_2007_bum_akv_85x61_2.webp\n",
      "Renamed: Ямал_Осенняя тундра_2008_Бум_акв_60х86 (2).webp -> yamal_osennyaya-tundra_2008_bum_akv_86x60_2.webp\n",
      "Renamed: Ямал_Осенняя тундра_2008_Бум_акв_60х86 (1).webp -> yamal_osennyaya-tundra_2008_bum_akv_86x60_1.webp\n",
      "Renamed: Ямал_Осенняя тундра_2008_Бум_акв_60х86 (3).webp -> yamal_osennyaya-tundra_2008_bum_akv_86x60_3.webp\n",
      "Renamed: Норвегия_Закат_2010_Бум_акв_70х100 (2).webp -> norvegiya_zakat_2010_bum_akv_100x70_2.webp\n",
      "Renamed: Норвегия_Закат_2010_Бум_акв_70х100 (1).webp -> norvegiya_zakat_2010_bum_akv_100x70_1.webp\n",
      "Renamed: Бухта Севастополя_2019__Бум_акв_54х83 (1).webp -> bukhta-sevastopolya_2019_bum_akv_83x54_1.webp\n",
      "Renamed: Бухта Севастополя_2019__Бум_акв_54х83 (3).webp -> bukhta-sevastopolya_2019_bum_akv_83x54_3.webp\n",
      "Renamed: Бухта Севастополя_2019__Бум_акв_54х83 (2).webp -> bukhta-sevastopolya_2019_bum_akv_83x54_2.webp\n",
      "Renamed: Водопад Куми порог_Карелия_2009_Бум_акв_70х100 (1).webp -> vodopad-kumi-porog_kareliya_2009_bum_akv_100x70_1.webp\n",
      "Renamed: Водопад Куми порог_Карелия_2009_Бум_акв_70х100 (2).webp -> vodopad-kumi-porog_kareliya_2009_bum_akv_100x70_2.webp\n",
      "Renamed: Байкал_Берега_2012_Бум_акв_70х100 (2).webp -> baykal_berega_2012_bum_akv_100x70_2.webp\n",
      "Renamed: Байкал_Берега_2012_Бум_акв_70х100 (3).webp -> baykal_berega_2012_bum_akv_100x70_3.webp\n",
      "Renamed: Байкал_Берега_2012_Бум_акв_70х100 (1).webp -> baykal_berega_2012_bum_akv_100x70_1.webp\n",
      "Renamed: Ямал_Хмурый день_2018_Бум_акв_60х100 (1).webp -> yamal_khmuryy-den_2018_bum_akv_100x60_1.webp\n",
      "Renamed: Ямал_Хмурый день_2018_Бум_акв_60х100 (3).webp -> yamal_khmuryy-den_2018_bum_akv_100x60_3.webp\n",
      "Renamed: Ямал_Хмурый день_2018_Бум_акв_60х100 (2).webp -> yamal_khmuryy-den_2018_bum_akv_100x60_2.webp\n",
      "Renamed: Тишина_2012_Бум_акв_50х110 (1).webp -> tishina_2012_bum_akv_110x50_1.webp\n",
      "Renamed: Тишина_2012_Бум_акв_50х110 (2).webp -> tishina_2012_bum_akv_110x50_2.webp\n",
      "Renamed: Белое море_2007_Бум_акв_ 61х86 (1).webp -> beloe-more_2007_bum_akv_86x61_1.webp\n",
      "Renamed: Белое море_2007_Бум_акв_ 61х86 (2).webp -> beloe-more_2007_bum_akv_86x61_2.webp\n",
      "Renamed: Дождливые облака_2014_Бум_акв_70х100 (2).webp -> dozhdlivye-oblaka_2014_bum_akv_100x70_2.webp\n",
      "Renamed: Дождливые облака_2014_Бум_акв_70х100 (1).webp -> dozhdlivye-oblaka_2014_bum_akv_100x70_1.webp\n",
      "Renamed: Дождливые облака_2014_Бум_акв_70х100 (3).webp -> dozhdlivye-oblaka_2014_bum_akv_100x70_3.webp\n",
      "Renamed: Ямал_Иван чай_2023_Бум_акв_70х100 (1).webp -> yamal_ivan-chay_2023_bum_akv_100x70_1.webp\n",
      "Renamed: Ямал_Иван чай_2023_Бум_акв_70х100 (2).webp -> yamal_ivan-chay_2023_bum_akv_100x70_2.webp\n",
      "Renamed: Ямал_Иван чай_2023_Бум_акв_70х100 (3).webp -> yamal_ivan-chay_2023_bum_akv_100x70_3.webp\n",
      "Renamed: Франция_Нормандия_Виль ля Роз_2019_Бум_акв_40х60 (2).webp -> frantsiya_normandiya_vil-lya-roz_2019_bum_akv_60x40_2.webp\n",
      "Renamed: Франция_Нормандия_Виль ля Роз_2019_Бум_акв_40х60 (3).webp -> frantsiya_normandiya_vil-lya-roz_2019_bum_akv_60x40_3.webp\n",
      "Renamed: Франция_Нормандия_Виль ля Роз_2019_Бум_акв_40х60 (1).webp -> frantsiya_normandiya_vil-lya-roz_2019_bum_akv_60x40_1.webp\n",
      "Renamed: Мамомнты на Ямале_2020_Бум_акв_20х30 (1).webp -> mamomnty-na-yamale_2020_bum_akv_30x20_1.webp\n",
      "Renamed: Мамомнты на Ямале_2020_Бум_акв_20х30 (2).webp -> mamomnty-na-yamale_2020_bum_akv_30x20_2.webp\n",
      "Renamed: Снежные вершины_2010_Бум_акв_57х86 (2).webp -> snezhnye-vershiny_2010_bum_akv_86x57_2.webp\n",
      "Renamed: Снежные вершины_2010_Бум_акв_57х86 (1).webp -> snezhnye-vershiny_2010_bum_akv_86x57_1.webp\n",
      "Renamed: Здесь начинается река Собь. Полярный Урал_ 2015_Бум_акв_70х100 (3).webp -> zdes-nachinaetsya-reka-sob_polyarnyy-ural_2015_bum_akv_100x70_3.webp\n",
      "Renamed: Здесь начинается река Собь. Полярный Урал_ 2015_Бум_акв_70х100 (1).webp -> zdes-nachinaetsya-reka-sob_polyarnyy-ural_2015_bum_akv_100x70_1.webp\n",
      "Renamed: Здесь начинается река Собь. Полярный Урал_ 2015_Бум_акв_70х100 (2).webp -> zdes-nachinaetsya-reka-sob_polyarnyy-ural_2015_bum_akv_100x70_2.webp\n",
      "Renamed: Сумской порог_Карелия_2009_Бум_ акв_86х60 (1).webp -> sumskoy-porog_kareliya_2009_bum_akv_60x86_1.webp\n",
      "Renamed: Сумской порог_Карелия_2009_Бум_ акв_86х60 (2).webp -> sumskoy-porog_kareliya_2009_bum_akv_60x86_2.webp\n",
      "Renamed: Полярный Урал_Долина реки Собь_2009_Бум_акв_70х100 (3).webp -> polyarnyy-ural_dolina-reki-sob_2009_bum_akv_100x70_3.webp\n",
      "Renamed: Полярный Урал_Долина реки Собь_2009_Бум_акв_70х100 (4).webp -> polyarnyy-ural_dolina-reki-sob_2009_bum_akv_100x70_4.webp\n",
      "Renamed: Полярный Урал_Долина реки Собь_2009_Бум_акв_70х100 (1).webp -> polyarnyy-ural_dolina-reki-sob_2009_bum_akv_100x70_1.webp\n",
      "Renamed: Полярный Урал_Долина реки Собь_2009_Бум_акв_70х100 (2).webp -> polyarnyy-ural_dolina-reki-sob_2009_bum_akv_100x70_2.webp\n",
      "Renamed: Байкал_2012_Бум_акв_70х100 (1).webp -> baykal_2012_bum_akv_100x70_1.webp\n",
      "Renamed: Байкал_2012_Бум_акв_70х100 (2).webp -> baykal_2012_bum_akv_100x70_2.webp\n",
      "Renamed: Ямал_Лиловый восход_2023_Бум_акв_23х40 (1).webp -> yamal_lilovyy-voskhod_2023_bum_akv_40x23_1.webp\n",
      "Renamed: Ямал_Лиловый восход_2023_Бум_акв_23х40 (2).webp -> yamal_lilovyy-voskhod_2023_bum_akv_40x23_2.webp\n",
      "Renamed: Осень_Берег реки_2023_Бум_акв_50х70 (2).webp -> osen_bereg-reki_2023_bum_akv_70x50_2.webp\n",
      "Renamed: Осень_Берег реки_2023_Бум_акв_50х70 (1).webp -> osen_bereg-reki_2023_bum_akv_70x50_1.webp\n",
      "Renamed: Карелия. Водопад_Куми порог_Пошёл июльский снег_2009_Бум_акв_70х100 (2).webp -> kareliya_vodopad_kumi-porog_poshyol-iyulskiy-sneg_2009_bum_akv_100x70_2.webp\n",
      "Renamed: Карелия. Водопад_Куми порог_Пошёл июльский снег_2009_Бум_акв_70х100 (1).webp -> kareliya_vodopad_kumi-porog_poshyol-iyulskiy-sneg_2009_bum_akv_100x70_1.webp\n",
      "Renamed: Гора Чертов палец_Ямал_2023_Бум_акв_23х40 (1).webp -> gora-chertov-palets_yamal_2023_bum_akv_40x23_1.webp\n",
      "Renamed: Гора Чертов палец_Ямал_2023_Бум_акв_23х40 (2).webp -> gora-chertov-palets_yamal_2023_bum_akv_40x23_2.webp\n",
      "Renamed: Перед рассветом_Белое море_2007_Бум_акв_70х100 (1).webp -> pered-rassvetom_beloe-more_2007_bum_akv_100x70_1.webp\n",
      "Renamed: Перед рассветом_Белое море_2007_Бум_акв_70х100 (2).webp -> pered-rassvetom_beloe-more_2007_bum_akv_100x70_2.webp\n",
      "Renamed: Ямал_Декабрь_2023_Бум_акв_35х110 (1).webp -> yamal_dekabr_2023_bum_akv_110x35_1.webp\n",
      "Renamed: Ямал_Декабрь_2023_Бум_акв_35х110 (2).webp -> yamal_dekabr_2023_bum_akv_110x35_2.webp\n",
      "Renamed: Ямал_Река Полуй_2008_Бум_акв_70х100 (1).webp -> yamal_reka-poluy_2008_bum_akv_100x70_1.webp\n",
      "Renamed: Ямал_Река Полуй_2008_Бум_акв_70х100 (2).webp -> yamal_reka-poluy_2008_bum_akv_100x70_2.webp\n",
      "Renamed: Ямал_Осень на Оби_2009_Бум_акв_35х100 (1).webp -> yamal_osen-na-obi_2009_bum_akv_100x35_1.webp\n",
      "Renamed: Ямал_Осень на Оби_2009_Бум_акв_35х100 (2).webp -> yamal_osen-na-obi_2009_bum_akv_100x35_2.webp\n",
      "Renamed: Архыз_Софийские водопады_2023_Бум_акв_26х39 (1).webp -> arkhyz_sofiyskie-vodopady_2023_bum_akv_39x26_1.webp\n",
      "Renamed: Архыз_Софийские водопады_2023_Бум_акв_26х39 (2).webp -> arkhyz_sofiyskie-vodopady_2023_bum_akv_39x26_2.webp\n",
      "Renamed: Нарьян Мар. Песчаная тундра_2013_Бум_акв_56х75 (1).webp -> naryan-mar_peschanaya-tundra_2013_bum_akv_75x56_1.webp\n",
      "Renamed: Камни и море_2019_Бум_акв_40х60 (2).webp -> kamni-i-more_2019_bum_akv_60x40_2.webp\n",
      "Renamed: Камни и море_2019_Бум_акв_40х60 (1).webp -> kamni-i-more_2019_bum_akv_60x40_1.webp\n",
      "Renamed: Полярный Урал_Ямал_Снежные вершины_2022_Бум_акв_35х46 (2).webp -> polyarnyy-ural_yamal_snezhnye-vershiny_2022_bum_akv_46x35_2.webp\n",
      "Renamed: Полярный Урал_Ямал_Снежные вершины_2022_Бум_акв_35х46 (1).webp -> polyarnyy-ural_yamal_snezhnye-vershiny_2022_bum_akv_46x35_1.webp\n",
      "Renamed: Осень в парке_2023_Бум_акв_25х40 (1).webp -> osen-v-parke_2023_bum_akv_40x25_1.webp\n",
      "Renamed: Осень в парке_2023_Бум_акв_25х40 (2).webp -> osen-v-parke_2023_bum_akv_40x25_2.webp\n",
      "Renamed: Полярный Урал_Гора Сфинкс_2012_Бум_акв_70х100 (2).webp -> polyarnyy-ural_gora-sfinks_2012_bum_akv_100x70_2.webp\n",
      "Renamed: Полярный Урал_Гора Сфинкс_2012_Бум_акв_70х100 (1).webp -> polyarnyy-ural_gora-sfinks_2012_bum_akv_100x70_1.webp\n",
      "Renamed: Облака над Полярныи Уралом_2010_Бум_акв_70х100 (2).webp -> oblaka-nad-polyarnyi-uralom_2010_bum_akv_100x70_2.webp\n",
      "Renamed: Облака над Полярныи Уралом_2010_Бум_акв_70х100 (1).webp -> oblaka-nad-polyarnyi-uralom_2010_bum_akv_100x70_1.webp\n",
      "Renamed: Полярный Урал_Снежные вершины_2015_Бум_акв_100х270 (2).webp -> polyarnyy-ural_snezhnye-vershiny_2015_bum_akv_270x100_2.webp\n",
      "Renamed: Полярный Урал_Снежные вершины_2015_Бум_акв_100х270 (1).webp -> polyarnyy-ural_snezhnye-vershiny_2015_bum_akv_270x100_1.webp\n",
      "Renamed: Полярный Урал_Снежные вершины_2015_Бум_акв_100х270 (3).webp -> polyarnyy-ural_snezhnye-vershiny_2015_bum_akv_270x100_3.webp\n",
      "Renamed: Ямал_Сентябрь_2008_Бум_акв_52х100 (2).webp -> yamal_sentyabr_2008_bum_akv_100x52_2.webp\n"
     ]
    },
    {
     "name": "stdout",
     "output_type": "stream",
     "text": [
      "Renamed: Ямал_Сентябрь_2008_Бум_акв_52х100 (3).webp -> yamal_sentyabr_2008_bum_akv_100x52_3.webp\n",
      "Renamed: Ямал_Сентябрь_2008_Бум_акв_52х100 (1).webp -> yamal_sentyabr_2008_bum_akv_100x52_1.webp\n",
      "Renamed: Водопад_Две сестры_Полярный Урал_2015_Бум_акв_70х100 (2).webp -> vodopad_dve-sestry_polyarnyy-ural_2015_bum_akv_100x70_2.webp\n",
      "Renamed: Водопад_Две сестры_Полярный Урал_2015_Бум_акв_70х100 (1).webp -> vodopad_dve-sestry_polyarnyy-ural_2015_bum_akv_100x70_1.webp\n",
      "Renamed: Золотая осень на Полярном Урале_2021_Бум_акв_20х50 (2).webp -> zolotaya-osen-na-polyarnom-urale_2021_bum_akv_50x20_2.webp\n",
      "Renamed: Золотая осень на Полярном Урале_2021_Бум_акв_20х50 (1).webp -> zolotaya-osen-na-polyarnom-urale_2021_bum_akv_50x20_1.webp\n",
      "Renamed: Капли дождя_2010_Бум_акв_50х70 (3).webp -> kapli-dozhdya_2010_bum_akv_70x50_3.webp\n",
      "Renamed: Капли дождя_2010_Бум_акв_50х70 (1).webp -> kapli-dozhdya_2010_bum_akv_70x50_1.webp\n",
      "Renamed: Капли дождя_2010_Бум_акв_50х70 (2).webp -> kapli-dozhdya_2010_bum_akv_70x50_2.webp\n",
      "Renamed: Острова на Белом море_2007_Бум_акв_ 60х86 (1).webp -> ostrova-na-belom-more_2007_bum_akv_86x60_1.webp\n",
      "Renamed: Острова на Белом море_2007_Бум_акв_ 60х86 (2).webp -> ostrova-na-belom-more_2007_bum_akv_86x60_2.webp\n",
      "Renamed: Ангара_Иван чай цветет_2023_Бум_акв_50х70 (1).webp -> angara_ivan-chay-tsvetet_2023_bum_akv_70x50_1.webp\n",
      "Renamed: Ангара_Иван чай цветет_2023_Бум_акв_50х70 (2).webp -> angara_ivan-chay-tsvetet_2023_bum_akv_70x50_2.webp\n",
      "Renamed: Ангара_Иван чай цветет_2023_Бум_акв_50х70 (3).webp -> angara_ivan-chay-tsvetet_2023_bum_akv_70x50_3.webp\n",
      "Renamed: Полярный Урал_Озеро Макар-Рузь_2015_Бум_акв_100х340 (2).webp -> polyarnyy-ural_ozero-makar-ruz_2015_bum_akv_340x100_2.webp\n",
      "Renamed: Полярный Урал_Озеро Макар-Рузь_2015_Бум_акв_100х340 (4).webp -> polyarnyy-ural_ozero-makar-ruz_2015_bum_akv_340x100_4.webp\n",
      "Renamed: Полярный Урал_Озеро Макар-Рузь_2015_Бум_акв_100х340 (3).webp -> polyarnyy-ural_ozero-makar-ruz_2015_bum_akv_340x100_3.webp\n",
      "Renamed: Полярный Урал_Озеро Макар-Рузь_2015_Бум_акв_100х340 (1).webp -> polyarnyy-ural_ozero-makar-ruz_2015_bum_akv_340x100_1.webp\n",
      "Renamed: Осень. На лесной поляне_2023_Бум_акв_50х70 (2).webp -> osen_na-lesnoy-polyane_2023_bum_akv_70x50_2.webp\n",
      "Renamed: Осень. На лесной поляне_2023_Бум_акв_50х70 (1).webp -> osen_na-lesnoy-polyane_2023_bum_akv_70x50_1.webp\n",
      "Renamed: Осень_На лесной поляне_2023_Бум_акв_50х70 (2).webp -> osen_na-lesnoy-polyane_2023_bum_akv_70x50_2.webp\n",
      "Renamed: Ямал_Золотая осень_2009_Бум_акв_70х100 (3).webp -> yamal_zolotaya-osen_2009_bum_akv_100x70_3.webp\n",
      "Renamed: Ямал_Золотая осень_2009_Бум_акв_70х100 (1).webp -> yamal_zolotaya-osen_2009_bum_akv_100x70_1.webp\n",
      "Renamed: Ямал_Золотая осень_2009_Бум_акв_70х100 (2).webp -> yamal_zolotaya-osen_2009_bum_akv_100x70_2.webp\n",
      "Renamed: Ямал_Иванчай отцвёл_2009_Бум_акв_70х100 (2).webp -> yamal_ivanchay-ottsvyol_2009_bum_akv_100x70_2.webp\n",
      "Renamed: Ямал_Иванчай отцвёл_2009_Бум_акв_70х100 (1).webp -> yamal_ivanchay-ottsvyol_2009_bum_akv_100x70_1.webp\n",
      "Renamed: Ямал_Иванчай отцвёл_2009_Бум_акв_70х100 (3).webp -> yamal_ivanchay-ottsvyol_2009_bum_akv_100x70_3.webp\n",
      "Renamed: Полярный Урал_Горное озеро_2012_Бум_акв_70х100 (2).webp -> polyarnyy-ural_gornoe-ozero_2012_bum_akv_100x70_2.webp\n",
      "Renamed: Полярный Урал_Горное озеро_2012_Бум_акв_70х100 (1).webp -> polyarnyy-ural_gornoe-ozero_2012_bum_akv_100x70_1.webp\n",
      "Renamed: Шторм на Белом море_2006_Бум_акв_50х70 (2).webp -> shtorm-na-belom-more_2006_bum_akv_70x50_2.webp\n",
      "Renamed: Шторм на Белом море_2006_Бум_акв_50х70 (1).webp -> shtorm-na-belom-more_2006_bum_akv_70x50_1.webp\n",
      "Renamed: Диптих_Полярный Урал_Долина реки Собь_левый_2012_Бум_акв_70х100 (2).webp -> diptikh_polyarnyy-ural_dolina-reki-sob_levyy_2012_bum_akv_100x70_2.webp\n",
      "Renamed: Диптих_Полярный Урал_Долина реки Собь_левый_2012_Бум_акв_70х100 (1).webp -> diptikh_polyarnyy-ural_dolina-reki-sob_levyy_2012_bum_akv_100x70_1.webp\n",
      "Renamed: Август на Ямале_2009_Бум_акв_61х86 (1).webp -> avgust-na-yamale_2009_bum_akv_86x61_1.webp\n",
      "Renamed: Август на Ямале_2009_Бум_акв_61х86 (3).webp -> avgust-na-yamale_2009_bum_akv_86x61_3.webp\n",
      "Renamed: Август на Ямале_2009_Бум_акв_61х86 (2).webp -> avgust-na-yamale_2009_bum_akv_86x61_2.webp\n",
      "Renamed: Норвегия_Лофотенские острова_2010_Бум_акв_70х100 (2).webp -> norvegiya_lofotenskie-ostrova_2010_bum_akv_100x70_2.webp\n",
      "Renamed: Норвегия_Лофотенские острова_2010_Бум_акв_70х100 (1).webp -> norvegiya_lofotenskie-ostrova_2010_bum_akv_100x70_1.webp\n",
      "Renamed: Архипелаг_Кузова_на Белом море_2006_Бум_акв_35х86 (2).webp -> arkhipelag_kuzova_na-belom-more_2006_bum_akv_86x35_2.webp\n",
      "Renamed: Архипелаг_Кузова_на Белом море_2006_Бум_акв_35х86 (1).webp -> arkhipelag_kuzova_na-belom-more_2006_bum_akv_86x35_1.webp\n",
      "Renamed: Полярный Урал. Гора Рай Из_2010_Бум_акв_70х100 (1).webp -> polyarnyy-ural_gora-ray-iz_2010_bum_akv_100x70_1.webp\n",
      "Renamed: Полярный Урал. Гора Рай Из_2010_Бум_акв_70х100 (2).webp -> polyarnyy-ural_gora-ray-iz_2010_bum_akv_100x70_2.webp\n",
      "Renamed: Полярный Урал. Гора Рай Из_2010_Бум_акв_70х100 (3).webp -> polyarnyy-ural_gora-ray-iz_2010_bum_akv_100x70_3.webp\n",
      "Renamed: Водопады на горе Рай Из_2013_Бум_акв_70х100 (1).webp -> vodopady-na-gore-ray-iz_2013_bum_akv_100x70_1.webp\n",
      "Renamed: Водопады на горе Рай Из_2013_Бум_акв_70х100 (3).webp -> vodopady-na-gore-ray-iz_2013_bum_akv_100x70_3.webp\n",
      "Renamed: Водопады на горе Рай Из_2013_Бум_акв_70х100 (2).webp -> vodopady-na-gore-ray-iz_2013_bum_akv_100x70_2.webp\n",
      "Renamed: Седой Великан Урала_2018_Бум_ акв_70х100 (1).webp -> sedoy-velikan-urala_2018_bum_akv_100x70_1.webp\n",
      "Renamed: Седой Великан Урала_2018_Бум_ акв_70х100 (2).webp -> sedoy-velikan-urala_2018_bum_akv_100x70_2.webp\n",
      "Renamed: Зима на Рай Из_2023_Бум_акв_23х40 (2).webp -> zima-na-ray-iz_2023_bum_akv_40x23_2.webp\n",
      "Renamed: Зима на Рай Из_2023_Бум_акв_23х40 (1).webp -> zima-na-ray-iz_2023_bum_akv_40x23_1.webp\n",
      "Renamed: Берега озера Хадата_2018_Бум_акв_70х100 (3).webp -> berega-ozera-khadata_2018_bum_akv_100x70_3.webp\n",
      "Renamed: Берега озера Хадата_2018_Бум_акв_70х100 (2).webp -> berega-ozera-khadata_2018_bum_akv_100x70_2.webp\n",
      "Renamed: Берега озера Хадата_2018_Бум_акв_70х100 (1).webp -> berega-ozera-khadata_2018_bum_akv_100x70_1.webp\n",
      "Renamed: Ямал_Золотая осень_2021_Бум_акв_20х50 (1).webp -> yamal_zolotaya-osen_2021_bum_akv_50x20_1.webp\n",
      "Renamed: Ямал_Золотая осень_2021_Бум_акв_20х50 (2).webp -> yamal_zolotaya-osen_2021_bum_akv_50x20_2.webp\n",
      "Renamed: Архыз_Солнечный день_2023_Бум_акв_23х40 (1).webp -> arkhyz_solnechnyy-den_2023_bum_akv_40x23_1.webp\n",
      "Renamed: Архыз_Солнечный день_2023_Бум_акв_23х40 (3).webp -> arkhyz_solnechnyy-den_2023_bum_akv_40x23_3.webp\n",
      "Renamed: Архыз_Солнечный день_2023_Бум_акв_23х40 (2).webp -> arkhyz_solnechnyy-den_2023_bum_akv_40x23_2.webp\n",
      "Renamed: Ямал_Осень на реке Собь_2007_Бум_акв_60х86 (2).webp -> yamal_osen-na-reke-sob_2007_bum_akv_86x60_2.webp\n",
      "Renamed: Ямал_Осень на реке Собь_2007_Бум_акв_60х86 (1).webp -> yamal_osen-na-reke-sob_2007_bum_akv_86x60_1.webp\n",
      "Renamed: Осеннее утро. Ямал_2009_Бум_акв_50х70 (2).webp -> osennee-utro_yamal_2009_bum_akv_70x50_2.webp\n",
      "Renamed: Осеннее утро. Ямал_2009_Бум_акв_50х70 (3).webp -> osennee-utro_yamal_2009_bum_akv_70x50_3.webp\n",
      "Renamed: Осеннее утро. Ямал_2009_Бум_акв_50х70 (1).webp -> osennee-utro_yamal_2009_bum_akv_70x50_1.webp\n",
      "Renamed: Белая ночь на Белом море_2007_Бум_акв_60х86 (2).webp -> belaya-noch-na-belom-more_2007_bum_akv_86x60_2.webp\n",
      "Renamed: Белая ночь на Белом море_2007_Бум_акв_60х86 (1).webp -> belaya-noch-na-belom-more_2007_bum_akv_86x60_1.webp\n",
      "Renamed: Полярный Урал_Гора Рай Из_2023_Бум_акв_100х170 (5).webp -> polyarnyy-ural_gora-ray-iz_2023_bum_akv_170x100_5.webp\n",
      "Renamed: Полярный Урал_Гора Рай Из_2023_Бум_акв_100х170 (1).webp -> polyarnyy-ural_gora-ray-iz_2023_bum_akv_170x100_1.webp\n",
      "Renamed: Полярный Урал_Гора Рай Из_2023_Бум_акв_100х170 (4).webp -> polyarnyy-ural_gora-ray-iz_2023_bum_akv_170x100_4.webp\n",
      "Renamed: Полярный Урал_Гора Рай Из_2023_Бум_акв_100х170 (2).webp -> polyarnyy-ural_gora-ray-iz_2023_bum_akv_170x100_2.webp\n",
      "Renamed: Полярный Урал_Гора Рай Из_2023_Бум_акв_100х170 (3).webp -> polyarnyy-ural_gora-ray-iz_2023_bum_akv_170x100_3.webp\n",
      "Renamed: Диптих_Полярный Урал_Долина реки Собь_правый_2012_Бум_акв_70х100 (2).webp -> diptikh_polyarnyy-ural_dolina-reki-sob_pravyy_2012_bum_akv_100x70_2.webp\n",
      "Renamed: Диптих_Полярный Урал_Долина реки Собь_правый_2012_Бум_акв_70х100 (3).webp -> diptikh_polyarnyy-ural_dolina-reki-sob_pravyy_2012_bum_akv_100x70_3.webp\n",
      "Renamed: Диптих_Полярный Урал_Долина реки Собь_правый_2012_Бум_акв_70х100 (1).webp -> diptikh_polyarnyy-ural_dolina-reki-sob_pravyy_2012_bum_akv_100x70_1.webp\n",
      "Renamed: Тундра_2006_Бум_акв_61х85 (2).webp -> tundra_2006_bum_akv_85x61_2.webp\n",
      "Renamed: Тундра_2006_Бум_акв_61х85 (1).webp -> tundra_2006_bum_akv_85x61_1.webp\n",
      "Renamed: Мираж над Белым морем мороз дорисовал_2006_Бум_акв_61х86 (2).webp -> mirazh-nad-belym-morem-moroz-dorisoval_2006_bum_akv_86x61_2.webp\n",
      "Renamed: Мираж над Белым морем мороз дорисовал_2006_Бум_акв_61х86 (1).webp -> mirazh-nad-belym-morem-moroz-dorisoval_2006_bum_akv_86x61_1.webp\n",
      "Renamed: Полярный Урал_Изумрудное озеро_ 2015_Бум_акв_70х100 (2).webp -> polyarnyy-ural_izumrudnoe-ozero_2015_bum_akv_100x70_2.webp\n",
      "Renamed: Полярный Урал_Изумрудное озеро_ 2015_Бум_акв_70х100 (1).webp -> polyarnyy-ural_izumrudnoe-ozero_2015_bum_akv_100x70_1.webp\n",
      "Renamed: Заполярный Урал_Щучье озеро_2012_Бум_акв_50х100 (1).webp -> zapolyarnyy-ural_shchuche-ozero_2012_bum_akv_100x50_1.webp\n",
      "Renamed: Заполярный Урал_Щучье озеро_2012_Бум_акв_50х100 (2).webp -> zapolyarnyy-ural_shchuche-ozero_2012_bum_akv_100x50_2.webp\n",
      "Renamed: Тундра_2009_Бум_акв_61х86 (2).webp -> tundra_2009_bum_akv_86x61_2.webp\n",
      "Renamed: Тундра_2009_Бум_акв_61х86 (1).webp -> tundra_2009_bum_akv_86x61_1.webp\n",
      "Renamed: Заросшее озеро_Ямал_2006_Бум_акв_60х86 (1).webp -> zarosshee-ozero_yamal_2006_bum_akv_86x60_1.webp\n",
      "Renamed: Заросшее озеро_Ямал_2006_Бум_акв_60х86 (2).webp -> zarosshee-ozero_yamal_2006_bum_akv_86x60_2.webp\n",
      "Renamed: Полярный Урал_Розовое зимнее утро_2023_Бум_акв_50х100 (2).webp -> polyarnyy-ural_rozovoe-zimnee-utro_2023_bum_akv_100x50_2.webp\n",
      "Renamed: Полярный Урал_Розовое зимнее утро_2023_Бум_акв_50х100 (1).webp -> polyarnyy-ural_rozovoe-zimnee-utro_2023_bum_akv_100x50_1.webp\n",
      "Renamed: Диптих_На просторах устья реки Обь_ Ямал_левый_2012_Бум_акв_70х100 (1).webp -> diptikh_na-prostorakh-ustya-reki-ob-yamal_levyy_2012_bum_akv_100x70_1.webp\n",
      "Renamed: Диптих_На просторах устья реки Обь_ Ямал_левый_2012_Бум_акв_70х100 (2).webp -> diptikh_na-prostorakh-ustya-reki-ob-yamal_levyy_2012_bum_akv_100x70_2.webp\n",
      "Renamed: Диптих_На просторах устья реки Обь_ Ямал_левый_2012_Бум_акв_70х100 (3).webp -> diptikh_na-prostorakh-ustya-reki-ob-yamal_levyy_2012_bum_akv_100x70_3.webp\n",
      "Renamed: Ямал_Морозный день_2023_Бум_акв_25х40 (2).webp -> yamal_moroznyy-den_2023_bum_akv_40x25_2.webp\n",
      "Renamed: Ямал_Морозный день_2023_Бум_акв_25х40 (1).webp -> yamal_moroznyy-den_2023_bum_akv_40x25_1.webp\n",
      "Renamed: Ямал_Осенняя тундра_2009_Бум_акв_70х100 (3).webp -> yamal_osennyaya-tundra_2009_bum_akv_100x70_3.webp\n",
      "Renamed: Ямал_Осенняя тундра_2009_Бум_акв_70х100 (1).webp -> yamal_osennyaya-tundra_2009_bum_akv_100x70_1.webp\n",
      "Renamed: Ямал_Осенняя тундра_2009_Бум_акв_70х100 (2).webp -> yamal_osennyaya-tundra_2009_bum_akv_100x70_2.webp\n",
      "Renamed: Софийский ледник_Архыз_2023_Бум_акв_31х41 (2).webp -> sofiyskiy-lednik_arkhyz_2023_bum_akv_41x31_2.webp\n",
      "Renamed: Софийский ледник_Архыз_2023_Бум_акв_31х41 (1).webp -> sofiyskiy-lednik_arkhyz_2023_bum_akv_41x31_1.webp\n",
      "Renamed: Тучи надвигаются_2015_Бум_акв_70х100 (1).webp -> tuchi-nadvigayutsya_2015_bum_akv_100x70_1.webp\n",
      "Renamed: Тучи надвигаются_2015_Бум_акв_70х100 (2).webp -> tuchi-nadvigayutsya_2015_bum_akv_100x70_2.webp\n"
     ]
    },
    {
     "name": "stdout",
     "output_type": "stream",
     "text": [
      "Renamed: Ямал_Дельта реки Обь_2009_Бум_акв_35х100 (2).webp -> yamal_delta-reki-ob_2009_bum_akv_100x35_2.webp\n",
      "Renamed: Ямал_Дельта реки Обь_2009_Бум_акв_35х100 (1).webp -> yamal_delta-reki-ob_2009_bum_akv_100x35_1.webp\n",
      "Renamed: Заполярный Урал_Щучье озеро_2018_Бум_акв_41х100 (2).webp -> zapolyarnyy-ural_shchuche-ozero_2018_bum_akv_100x41_2.webp\n",
      "Renamed: Заполярный Урал_Щучье озеро_2018_Бум_акв_41х100 (1).webp -> zapolyarnyy-ural_shchuche-ozero_2018_bum_akv_100x41_1.webp\n",
      "Renamed: Заполярный Урал_Озеро Хадата_2021_Бум_акв_35х70 (1).webp -> zapolyarnyy-ural_ozero-khadata_2021_bum_akv_70x35_1.webp\n",
      "Renamed: Заполярный Урал_Озеро Хадата_2021_Бум_акв_35х70 (2).webp -> zapolyarnyy-ural_ozero-khadata_2021_bum_akv_70x35_2.webp\n",
      "Renamed: Белая ночь на Белом море_2008_Бум_акв_60х86 (2).webp -> belaya-noch-na-belom-more_2008_bum_akv_86x60_2.webp\n",
      "Renamed: Белая ночь на Белом море_2008_Бум_акв_60х86 (1).webp -> belaya-noch-na-belom-more_2008_bum_akv_86x60_1.webp\n",
      "Renamed: Архыз_2023_Бум_акв_70х100 (3).webp -> arkhyz_2023_bum_akv_100x70_3.webp\n",
      "Renamed: Архыз_2023_Бум_акв_70х100 (2).webp -> arkhyz_2023_bum_akv_100x70_2.webp\n",
      "Renamed: Архыз_2023_Бум_акв_70х100 (1).webp -> arkhyz_2023_bum_akv_100x70_1.webp\n",
      "Renamed: Ямал_Река Кэр Доман-Шор_2022_Бум_акв_45х67 (1).webp -> yamal_reka-ker-doman-shor_2022_bum_akv_67x45_1.webp\n",
      "Renamed: Ямал_Река Кэр Доман-Шор_2022_Бум_акв_45х67 (2).webp -> yamal_reka-ker-doman-shor_2022_bum_akv_67x45_2.webp\n",
      "Renamed: Водопад на Полярном Урале_2022_Бум_акв_50х40 (1).webp -> vodopad-na-polyarnom-urale_2022_bum_akv_40x50_1.webp\n",
      "Renamed: Водопад на Полярном Урале_2022_Бум_акв_50х40 (2).webp -> vodopad-na-polyarnom-urale_2022_bum_akv_40x50_2.webp\n",
      "Renamed: Заполярный Урал_Щучье озеро_2018_Бум_акв_27х39 (2).webp -> zapolyarnyy-ural_shchuche-ozero_2018_bum_akv_39x27_2.webp\n",
      "Renamed: Заполярный Урал_Щучье озеро_2018_Бум_акв_27х39 (1).webp -> zapolyarnyy-ural_shchuche-ozero_2018_bum_akv_39x27_1.webp\n",
      "Renamed: Заполярный Урал_Озеро Хадата_2023_Бум_акв_34х94 (2).webp -> zapolyarnyy-ural_ozero-khadata_2023_bum_akv_94x34_2.webp\n",
      "Renamed: Заполярный Урал_Озеро Хадата_2023_Бум_акв_34х94 (1).webp -> zapolyarnyy-ural_ozero-khadata_2023_bum_akv_94x34_1.webp\n",
      "Renamed: Нарьян Мар_Река Куя_2013_Бум_акв_55х75 (3).webp -> naryan-mar_reka-kuya_2013_bum_akv_75x55_3.webp\n",
      "Renamed: Нарьян Мар_Река Куя_2013_Бум_акв_55х75 (1).webp -> naryan-mar_reka-kuya_2013_bum_akv_75x55_1.webp\n",
      "Renamed: Нарьян Мар_Река Куя_2013_Бум_акв_55х75 (2).webp -> naryan-mar_reka-kuya_2013_bum_akv_75x55_2.webp\n",
      "Renamed: Ямал_Конец августа_2008_Бум_акв_59х100 (1).webp -> yamal_konets-avgusta_2008_bum_akv_100x59_1.webp\n",
      "Renamed: Ямал_Конец августа_2008_Бум_акв_59х100 (2).webp -> yamal_konets-avgusta_2008_bum_akv_100x59_2.webp\n",
      "Renamed: Нормандия_Ла Манш_2019_Бум_акв_40х60 (2).webp -> normandiya_la-mansh_2019_bum_akv_60x40_2.webp\n",
      "Renamed: Нормандия_Ла Манш_2019_Бум_акв_40х60 (1).webp -> normandiya_la-mansh_2019_bum_akv_60x40_1.webp\n",
      "Renamed: Горная река_Полярный Урал_2019_Бум_аква_46х61 (1).webp -> gornaya-reka_polyarnyy-ural_2019_bum_akva_61x46_1.webp\n",
      "Renamed: Горная река_Полярный Урал_2019_Бум_аква_46х61 (2).webp -> gornaya-reka_polyarnyy-ural_2019_bum_akva_61x46_2.webp\n",
      "Renamed: Вёль ле Роз_Отлив_2019_Бум_акв_35х60 (1).webp -> vyol-le-roz_otliv_2019_bum_akv_60x35_1.webp\n",
      "Renamed: Вёль ле Роз_Отлив_2019_Бум_акв_35х60 (2).webp -> vyol-le-roz_otliv_2019_bum_akv_60x35_2.webp\n",
      "Renamed: Заполярный_Урал_Озеро Хадата_2019. Бум_акв_46х61 (1).webp -> zapolyarnyy_ural_ozero-khadata_2019-bum_akv_61x46_1.webp\n",
      "Renamed: Заполярный_Урал_Озеро Хадата_2019. Бум_акв_46х61 (2).webp -> zapolyarnyy_ural_ozero-khadata_2019-bum_akv_61x46_2.webp\n",
      "Renamed: Белое море_2013. Бум_акв_70х100 (2).webp -> beloe-more_2013-bum_akv_100x70_2.webp\n",
      "Renamed: Белое море_2013. Бум_акв_70х100 (1).webp -> beloe-more_2013-bum_akv_100x70_1.webp\n",
      "Renamed: Белая ночь на Кузовах_2014_Бум_акв_70х100 (1).webp -> belaya-noch-na-kuzovakh_2014_bum_akv_100x70_1.webp\n",
      "Renamed: Белая ночь на Кузовах_2014_Бум_акв_70х100 (2).webp -> belaya-noch-na-kuzovakh_2014_bum_akv_100x70_2.webp\n",
      "Renamed: Море и небо_2017_Бум_акв_70х100 (2).webp -> more-i-nebo_2017_bum_akv_100x70_2.webp\n",
      "Renamed: Море и небо_2017_Бум_акв_70х100 (1).webp -> more-i-nebo_2017_bum_akv_100x70_1.webp\n",
      "Renamed: Ямал_Река Бурхойла_Сентябрь_2021_Бум_ акв_70х100 (1).webp -> yamal_reka-burkhoyla_sentyabr_2021_bum_akv_100x70_1.webp\n",
      "Renamed: Ямал_Река Бурхойла_Сентябрь_2021_Бум_ акв_70х100 (2).webp -> yamal_reka-burkhoyla_sentyabr_2021_bum_akv_100x70_2.webp\n",
      "Renamed: Белое море. Утро на Кузовах_2013_Бум_акв_70х100 (1).webp -> beloe-more_utro-na-kuzovakh_2013_bum_akv_100x70_1.webp\n"
     ]
    }
   ],
   "source": [
    "import os\n",
    "\n",
    "def rename_files_in_dir(directory, rename_list):\n",
    "    \"\"\"\n",
    "    Renames files in the specified directory according to the rename list.\n",
    "\n",
    "    :param directory: Path to the directory containing files to be renamed.\n",
    "    :param rename_list: List of tuples with (old_name, new_name).\n",
    "    \"\"\"\n",
    "    for old_name, new_name in rename_list:\n",
    "        old_path = os.path.join(directory, old_name)\n",
    "        new_path = os.path.join(directory, new_name)\n",
    "        try:\n",
    "            if os.path.exists(old_path):\n",
    "                os.rename(old_path, new_path)\n",
    "                print(f\"Renamed: {old_name} -> {new_name}\")\n",
    "            else:\n",
    "                print(f\"File not found: {old_name}\")\n",
    "        except Exception as e:\n",
    "            print(f\"Error renaming {old_name} to {new_name}: {e}\")\n",
    "\n",
    "# Example usage\n",
    "directory_path = \"./webp/\"\n",
    "rename_files_in_dir(directory_path, rename_list)"
   ]
  },
  {
   "cell_type": "markdown",
   "id": "48b89466",
   "metadata": {},
   "source": [
    "# Get categories"
   ]
  },
  {
   "cell_type": "code",
   "execution_count": 18,
   "id": "20b1df7a",
   "metadata": {},
   "outputs": [],
   "source": [
    "categories = []\n",
    "for value in parsed_data_dict.items():\n",
    "    categories.extend(map(str.strip, value[0].split('.')[:-1]))\n",
    "    categories.extend([w.strip().split(' ') for w in value[0].split('.')[:-1]][0])\n",
    "categories = list(map(str.lower, categories))"
   ]
  },
  {
   "cell_type": "code",
   "execution_count": 19,
   "id": "5b0ad6fe",
   "metadata": {},
   "outputs": [
    {
     "data": {
      "text/plain": [
       "Counter({'ямал': 58,\n",
       "         'урал': 25,\n",
       "         'полярный урал': 20,\n",
       "         'на': 18,\n",
       "         'море': 17,\n",
       "         'полярный': 15,\n",
       "         'карелия': 12,\n",
       "         'белое море': 9,\n",
       "         'заполярный': 9,\n",
       "         'белое': 8,\n",
       "         'осень': 8,\n",
       "         'диптих': 8,\n",
       "         'водопад': 7,\n",
       "         'заполярный урал': 7,\n",
       "         'архыз': 7,\n",
       "         'норвегия': 6,\n",
       "         'байкал': 6,\n",
       "         'нормандия': 5,\n",
       "         'белом': 5,\n",
       "         'небо': 4,\n",
       "         'ямале': 4,\n",
       "         'озеро хадата': 4,\n",
       "         'облака': 4,\n",
       "         'долина реки собь': 4,\n",
       "         'тундра': 4,\n",
       "         'гора рай из': 3,\n",
       "         'в': 3,\n",
       "         'август': 3,\n",
       "         'и': 3,\n",
       "         'над': 3,\n",
       "         'снежные вершины': 3,\n",
       "         'белая': 3,\n",
       "         'ночь': 3,\n",
       "         'щучье озеро': 3,\n",
       "         'осеннее': 2,\n",
       "         'утро': 2,\n",
       "         'камни': 2,\n",
       "         'белого': 2,\n",
       "         'моря': 2,\n",
       "         'август на ямале': 2,\n",
       "         'река харбей': 2,\n",
       "         'морозный день': 2,\n",
       "         'салехард': 2,\n",
       "         'дождливый день': 2,\n",
       "         'озера': 2,\n",
       "         'хадата': 2,\n",
       "         'сумской порог': 2,\n",
       "         'белым': 2,\n",
       "         'морем': 2,\n",
       "         'кузова': 2,\n",
       "         'на просторах устья реки обь': 2,\n",
       "         'правый': 2,\n",
       "         'заросшее озеро': 2,\n",
       "         'на белом море': 2,\n",
       "         'осенняя тундра': 2,\n",
       "         'порог': 2,\n",
       "         'берега': 2,\n",
       "         'тишина': 2,\n",
       "         'франция': 2,\n",
       "         'река': 2,\n",
       "         'нарьян мар': 2,\n",
       "         'нарьян': 2,\n",
       "         'мар': 2,\n",
       "         'сентябрь': 2,\n",
       "         'полярном': 2,\n",
       "         'урале': 2,\n",
       "         'ангара': 2,\n",
       "         'золотая осень': 2,\n",
       "         'левый': 2,\n",
       "         'архипелаг': 2,\n",
       "         'рай': 2,\n",
       "         'из': 2,\n",
       "         'белая ночь на белом море': 2,\n",
       "         'апрель': 1,\n",
       "         'туманное утро': 1,\n",
       "         'морозное осеннее утро': 1,\n",
       "         'морозное': 1,\n",
       "         'рыбацкие сети': 1,\n",
       "         'уральский водопад': 1,\n",
       "         'уральский': 1,\n",
       "         'туманное утро на реке харбей': 1,\n",
       "         'ущелье реки харбей': 1,\n",
       "         'берег белого моря': 1,\n",
       "         'берег': 1,\n",
       "         'дождь пошёл': 1,\n",
       "         'осень на елагином острове': 1,\n",
       "         'елагином': 1,\n",
       "         'острове': 1,\n",
       "         'речной порт в салехарде': 1,\n",
       "         'речной': 1,\n",
       "         'порт': 1,\n",
       "         'салехарде': 1,\n",
       "         'на закате': 1,\n",
       "         'закате': 1,\n",
       "         'морской простор': 1,\n",
       "         'морской': 1,\n",
       "         'простор': 1,\n",
       "         'облака над щучьем озером': 1,\n",
       "         'песчаное озеро': 1,\n",
       "         'соловецкий монастырь': 1,\n",
       "         'соловецкий': 1,\n",
       "         'монастырь': 1,\n",
       "         'осень на ямале': 1,\n",
       "         'обдорский острог': 1,\n",
       "         'буйство красок севера': 1,\n",
       "         'буйство': 1,\n",
       "         'красок': 1,\n",
       "         'севера': 1,\n",
       "         'небо и море': 1,\n",
       "         'дождливый': 1,\n",
       "         'день': 1,\n",
       "         'исток реки собь': 1,\n",
       "         'долина реки лангота': 1,\n",
       "         'лофотены': 1,\n",
       "         'рыбацкий остров': 1,\n",
       "         'ущелье конгор': 1,\n",
       "         'пороги на реке сума': 1,\n",
       "         'пороги': 1,\n",
       "         'реке': 1,\n",
       "         'сума': 1,\n",
       "         'водопад в облаках': 1,\n",
       "         'облаках': 1,\n",
       "         'на берегу озера хадата': 1,\n",
       "         'берегу': 1,\n",
       "         'преображенский собор соловецкого монастыря': 1,\n",
       "         'преображенский': 1,\n",
       "         'собор': 1,\n",
       "         'соловецкого': 1,\n",
       "         'монастыря': 1,\n",
       "         'баня геологов': 1,\n",
       "         'баня': 1,\n",
       "         'геологов': 1,\n",
       "         'уральские горы': 1,\n",
       "         'уральские': 1,\n",
       "         'горы': 1,\n",
       "         'облака над белым морем': 1,\n",
       "         'просторы белого моря': 1,\n",
       "         'просторы': 1,\n",
       "         'остров сосновец': 1,\n",
       "         'зима уходит': 1,\n",
       "         'закат': 1,\n",
       "         'бухта севастополя': 1,\n",
       "         'бухта': 1,\n",
       "         'севастополя': 1,\n",
       "         'водопад куми порог': 1,\n",
       "         'куми': 1,\n",
       "         'хмурый день': 1,\n",
       "         'дождливые облака': 1,\n",
       "         'дождливые': 1,\n",
       "         'иван чай': 1,\n",
       "         'виль ля роз': 1,\n",
       "         'мамомнты на ямале': 1,\n",
       "         'мамомнты': 1,\n",
       "         'снежные': 1,\n",
       "         'вершины': 1,\n",
       "         'здесь начинается река собь': 1,\n",
       "         'здесь': 1,\n",
       "         'начинается': 1,\n",
       "         'собь': 1,\n",
       "         'сумской': 1,\n",
       "         'лиловый восход': 1,\n",
       "         'берег реки': 1,\n",
       "         'куми порог': 1,\n",
       "         'пошёл июльский снег': 1,\n",
       "         'гора чертов палец': 1,\n",
       "         'гора': 1,\n",
       "         'чертов': 1,\n",
       "         'палец': 1,\n",
       "         'перед рассветом': 1,\n",
       "         'перед': 1,\n",
       "         'рассветом': 1,\n",
       "         'декабрь': 1,\n",
       "         'река полуй': 1,\n",
       "         'осень на оби': 1,\n",
       "         'софийские водопады': 1,\n",
       "         'песчаная тундра': 1,\n",
       "         'камни и море': 1,\n",
       "         'осень в парке': 1,\n",
       "         'парке': 1,\n",
       "         'гора сфинкс': 1,\n",
       "         'облака над полярныи уралом': 1,\n",
       "         'полярныи': 1,\n",
       "         'уралом': 1,\n",
       "         'две сестры': 1,\n",
       "         'золотая осень на полярном урале': 1,\n",
       "         'золотая': 1,\n",
       "         'капли дождя': 1,\n",
       "         'капли': 1,\n",
       "         'дождя': 1,\n",
       "         'острова на белом море': 1,\n",
       "         'острова': 1,\n",
       "         'иван чай цветет': 1,\n",
       "         'озеро макар-рузь': 1,\n",
       "         'на лесной поляне': 1,\n",
       "         'иванчай отцвёл': 1,\n",
       "         'горное озеро': 1,\n",
       "         'шторм на белом море': 1,\n",
       "         'шторм': 1,\n",
       "         'лофотенские острова': 1,\n",
       "         'водопады на горе рай из': 1,\n",
       "         'водопады': 1,\n",
       "         'горе': 1,\n",
       "         'седой великан урала': 1,\n",
       "         'седой': 1,\n",
       "         'великан': 1,\n",
       "         'урала': 1,\n",
       "         'зима на рай из': 1,\n",
       "         'зима': 1,\n",
       "         'берега озера хадата': 1,\n",
       "         'солнечный день': 1,\n",
       "         'осень на реке собь': 1,\n",
       "         'осеннее утро': 1,\n",
       "         'мираж над белым морем мороз дорисовал': 1,\n",
       "         'мираж': 1,\n",
       "         'мороз': 1,\n",
       "         'дорисовал': 1,\n",
       "         'изумрудное озеро': 1,\n",
       "         'заросшее': 1,\n",
       "         'озеро': 1,\n",
       "         'розовое зимнее утро': 1,\n",
       "         'софийский ледник': 1,\n",
       "         'софийский': 1,\n",
       "         'ледник': 1,\n",
       "         'тучи надвигаются': 1,\n",
       "         'тучи': 1,\n",
       "         'надвигаются': 1,\n",
       "         'дельта реки обь': 1,\n",
       "         'река кэр доман-шор': 1,\n",
       "         'водопад на полярном урале': 1,\n",
       "         'река куя': 1,\n",
       "         'конец августа': 1,\n",
       "         'ла манш': 1,\n",
       "         'горная река': 1,\n",
       "         'горная': 1,\n",
       "         'вёль ле роз': 1,\n",
       "         'отлив': 1,\n",
       "         'вёль': 1,\n",
       "         'ле': 1,\n",
       "         'роз': 1,\n",
       "         'белая ночь на кузовах': 1,\n",
       "         'кузовах': 1,\n",
       "         'море и небо': 1,\n",
       "         'река бурхойла': 1,\n",
       "         'утро на кузовах': 1})"
      ]
     },
     "execution_count": 19,
     "metadata": {},
     "output_type": "execute_result"
    }
   ],
   "source": [
    "from collections import Counter\n",
    "result = Counter(categories)\n",
    "result"
   ]
  },
  {
   "cell_type": "code",
   "execution_count": 20,
   "id": "7d27c45d",
   "metadata": {
    "scrolled": true
   },
   "outputs": [
    {
     "data": {
      "text/plain": [
       "['полярный урал',\n",
       " 'полярный',\n",
       " 'урал',\n",
       " 'белое море',\n",
       " 'белое',\n",
       " 'море',\n",
       " 'гора рай из',\n",
       " 'небо',\n",
       " 'водопад',\n",
       " 'ямал',\n",
       " 'осень',\n",
       " 'на',\n",
       " 'в',\n",
       " 'август',\n",
       " 'ямале',\n",
       " 'заполярный урал',\n",
       " 'озеро хадата',\n",
       " 'заполярный',\n",
       " 'карелия',\n",
       " 'облака',\n",
       " 'нормандия',\n",
       " 'и',\n",
       " 'долина реки собь',\n",
       " 'норвегия',\n",
       " 'над',\n",
       " 'диптих',\n",
       " 'байкал',\n",
       " 'белом',\n",
       " 'снежные вершины',\n",
       " 'архыз',\n",
       " 'белая',\n",
       " 'ночь',\n",
       " 'тундра',\n",
       " 'щучье озеро']"
      ]
     },
     "execution_count": 20,
     "metadata": {},
     "output_type": "execute_result"
    }
   ],
   "source": [
    "categories = {k: c for k, c in result.items() if c >=3}\n",
    "list(categories.keys())"
   ]
  },
  {
   "cell_type": "code",
   "execution_count": 21,
   "id": "21d219ef",
   "metadata": {},
   "outputs": [],
   "source": [
    "cats_manual = ['полярный урал',\n",
    " 'урал',\n",
    " 'белое море',\n",
    " 'море',\n",
    " 'небо',\n",
    " 'водопад',\n",
    " 'ямал',\n",
    " 'осень',\n",
    " 'август',\n",
    " 'заполярный урал',\n",
    " 'озеро хадата',\n",
    " 'карелия',\n",
    " 'облака',\n",
    " 'нормандия',\n",
    " 'долина реки собь',\n",
    " 'норвегия',\n",
    " 'диптих',\n",
    " 'байкал',\n",
    " 'снежные вершины',\n",
    " 'архыз',\n",
    " 'ночь',\n",
    " 'тундра',\n",
    " 'щучье озеро', 'озеро', 'утро']"
   ]
  },
  {
   "cell_type": "markdown",
   "id": "f8da00f0",
   "metadata": {},
   "source": [
    "# Save data to Woo's product.csv "
   ]
  },
  {
   "cell_type": "code",
   "execution_count": 22,
   "id": "a99e1691",
   "metadata": {},
   "outputs": [
    {
     "name": "stdout",
     "output_type": "stream",
     "text": [
      "Header is read\n",
      "Row added successfully to ./products.csv\n"
     ]
    }
   ],
   "source": [
    "output_file = './products.csv'\n",
    "URL = 'http://localhost:10044/wp-content/uploads/'\n",
    "\n",
    "try:\n",
    "    \n",
    "    with open(output_file, mode='r', encoding='utf-8-sig') as file:        \n",
    "        for row in csv.reader(file,  delimiter=',') :\n",
    "            header = {v: k for k, v in enumerate(row)}\n",
    "            print(f\"Header is read\")\n",
    "            break\n",
    "            \n",
    "    \n",
    "    updated_rows = []\n",
    "    path = os.getcwd()\n",
    "      \n",
    "    for i , value in enumerate(parsed_data_dict.items()):\n",
    "        #     data in a row\n",
    "        row = [None] * len(header)\n",
    "        \n",
    "        row[header['Name']] = value[1]['Name']\n",
    "               \n",
    "        row[header['Width']] = value[1]['Width']\n",
    "        row[header['Height']] = value[1]['Height']\n",
    "        images = sorted([URL + x[1]  for x in value[1]['File']])\n",
    "        row[header['Images']] = ', '.join(images)\n",
    "        row[header['Categories']] = 'Картины'\n",
    "        row[header['Short description']] = value[0].split('.')[0]\n",
    "        row[header['Description']] = '. '.join(value[0].split('.')[:-1])\n",
    "        row[header['Regular price']] = 10000 + i * 5000\n",
    "        row[header['Tags']] = value[1]['Year']\n",
    "        \n",
    "        for cat in cats_manual:\n",
    "            if (value[0].lower().find(cat) >= 0):\n",
    "                row[header['Tags']] += ', ' + cat.capitalize()\n",
    "\n",
    "        #     standard data in a row\n",
    "        row[header['Type']] = 'simple'\n",
    "        row[header['Published']] = '1'\n",
    "        row[header['Is featured?']] = '0'\n",
    "        row[header['Visibility in catalog']] = 'visible'\n",
    "        row[header['In stock?']] = '1'\n",
    "        row[header['Stock']] = '1'\n",
    "        row[header['Allow customer reviews?']] = '1'\n",
    "        row[header['Tax status']] = 'taxable'\n",
    "        \n",
    "        updated_rows.append(row)        \n",
    "    \n",
    "    \n",
    "    \n",
    "    with open(output_file, mode='a', encoding='utf-8-sig') as file:\n",
    "        writer = csv.writer(file)\n",
    "        for x in updated_rows:\n",
    "            writer.writerow(x)\n",
    "        #    print(x)\n",
    "        print(f\"Row added successfully to {output_file}\")\n",
    "            \n",
    "\n",
    "except Exception as e:\n",
    "    print(f\"An error occurred: {e}\")"
   ]
  },
  {
   "cell_type": "code",
   "execution_count": null,
   "id": "1fa3b3b6",
   "metadata": {},
   "outputs": [],
   "source": []
  }
 ],
 "metadata": {
  "kernelspec": {
   "display_name": "Python 3 (ipykernel)",
   "language": "python",
   "name": "python3"
  },
  "language_info": {
   "codemirror_mode": {
    "name": "ipython",
    "version": 3
   },
   "file_extension": ".py",
   "mimetype": "text/x-python",
   "name": "python",
   "nbconvert_exporter": "python",
   "pygments_lexer": "ipython3",
   "version": "3.11.4"
  },
  "toc": {
   "base_numbering": 1,
   "nav_menu": {},
   "number_sections": true,
   "sideBar": true,
   "skip_h1_title": false,
   "title_cell": "Table of Contents",
   "title_sidebar": "Contents",
   "toc_cell": false,
   "toc_position": {},
   "toc_section_display": true,
   "toc_window_display": false
  }
 },
 "nbformat": 4,
 "nbformat_minor": 5
}
